{
  "nbformat": 4,
  "nbformat_minor": 0,
  "metadata": {
    "colab": {
      "provenance": [],
      "collapsed_sections": [],
      "include_colab_link": true
    },
    "kernelspec": {
      "name": "python3",
      "display_name": "Python 3"
    },
    "language_info": {
      "name": "python"
    }
  },
  "cells": [
    {
      "cell_type": "markdown",
      "metadata": {
        "id": "view-in-github",
        "colab_type": "text"
      },
      "source": [
        "<a href=\"https://colab.research.google.com/github/AnLuu2506/AppleStore.Dataquest/blob/master/Compensation_Xu.ipynb\" target=\"_parent\"><img src=\"https://colab.research.google.com/assets/colab-badge.svg\" alt=\"Open In Colab\"/></a>"
      ]
    },
    {
      "cell_type": "code",
      "metadata": {
        "id": "A5DWqTshuZUO",
        "colab": {
          "base_uri": "https://localhost:8080/"
        },
        "outputId": "113fb772-78d6-427b-a041-b6da07052d9b"
      },
      "source": [
        "from google.colab import drive\n",
        "drive.mount('/content/drive')"
      ],
      "execution_count": null,
      "outputs": [
        {
          "output_type": "stream",
          "name": "stdout",
          "text": [
            "Drive already mounted at /content/drive; to attempt to forcibly remount, call drive.mount(\"/content/drive\", force_remount=True).\n"
          ]
        }
      ]
    },
    {
      "cell_type": "code",
      "source": [
        "from google.colab import auth\n",
        "auth.authenticate_user()\n",
        "import gspread\n",
        "from google.auth import default\n",
        "creds, _ = default()\n",
        "\n",
        "gc = gspread.authorize(creds)\n",
        "import warnings\n",
        "warnings.filterwarnings('ignore')"
      ],
      "metadata": {
        "id": "-hxtDGwpr3Gu"
      },
      "execution_count": null,
      "outputs": []
    },
    {
      "cell_type": "code",
      "source": [
        "wb=gc.open_by_url(\"https://docs.google.com/spreadsheets/d/1FWedlbrUFmgwJtOxHGTu91zsgSfMSEzBTfsvu_2VhbM\")"
      ],
      "metadata": {
        "id": "OV1eUac5zkH3"
      },
      "execution_count": null,
      "outputs": []
    },
    {
      "cell_type": "code",
      "source": [
        "import pandas as pd\n",
        "import numpy as np\n",
        "import os\n",
        "import datetime\n",
        "import calendar"
      ],
      "metadata": {
        "id": "GbIsMQzY4JlI"
      },
      "execution_count": null,
      "outputs": []
    },
    {
      "cell_type": "code",
      "metadata": {
        "id": "BRKjyKas_8a-"
      },
      "source": [
        "  listofFrame=[]\n",
        "  sheets = wb.worksheets()\n",
        "  for ws in sheets:\n",
        "    if ws.title == 'DATA_blend':\n",
        "      rows=ws.get_all_values()\n",
        "      df=pd.DataFrame.from_records(rows[1:],columns=rows[0])\n",
        "      listofFrame.append(df)"
      ],
      "execution_count": null,
      "outputs": []
    },
    {
      "cell_type": "code",
      "source": [
        "data=listofFrame[-1]\n",
        "for i in range(2,len(listofFrame)+1):\n",
        "  listofFrame[-i] = listofFrame[-i].reset_index(drop=True)\n",
        "  data=data.append(listofFrame[-i])"
      ],
      "metadata": {
        "id": "nK-f3Cy_cpx2"
      },
      "execution_count": null,
      "outputs": []
    },
    {
      "cell_type": "code",
      "source": [
        "data = data[1:]"
      ],
      "metadata": {
        "id": "VoOVGW9T6a8C"
      },
      "execution_count": null,
      "outputs": []
    },
    {
      "cell_type": "code",
      "source": [
        "data.head()"
      ],
      "metadata": {
        "colab": {
          "base_uri": "https://localhost:8080/",
          "height": 366
        },
        "id": "HhZBUH7PNezy",
        "outputId": "8fb410f6-e0c4-4243-e700-41832cdcf220"
      },
      "execution_count": null,
      "outputs": [
        {
          "output_type": "execute_result",
          "data": {
            "text/plain": [
              "  No Quarter Month Week  Team                              PIC   Client  \\\n",
              "1  1       3     9   37   SME    3008953 phạm thị phương trinh  2656891   \n",
              "2  2       3     9   37  VVIP        3015387 - Hoàng Ngọc Diệp  1155792   \n",
              "3  3       3     9   37   SME    3008953 phạm thị phương trinh  3253614   \n",
              "4  4       3     9   37  VVIP    3004168 - Từ Nguyễn Hoàng Mai  3050381   \n",
              "5  5       3     9   37  VVIP  2031646 - Huỳnh Thị Thanh Tuyền  1015913   \n",
              "\n",
              "  Account AccountNumber Bank  ...       Damage  \\\n",
              "1                             ...                \n",
              "2                             ...                \n",
              "3                             ...                \n",
              "4                             ...                \n",
              "5                             ...                \n",
              "\n",
              "                                             Content               Policy  \\\n",
              "1                               NN đã trả 30k cho nv  Theo chính sách GHN   \n",
              "2     GHN đền bù cước phí giao lại đơn hàng GAKVHM43        Theo hợp đồng   \n",
              "3                                  NN đã trả 30 000đ  Theo chính sách GHN   \n",
              "4  Đơn hàng bưu tá thu dư tiền của Người Nhận , k...  Theo chính sách GHN   \n",
              "5                                  CB thu NN 30,000đ        Theo hợp đồng   \n",
              "\n",
              "         PickWH      DeliverWH TransferDate ResponsibleWH Region  Year  \\\n",
              "1                                  9/6/2022                       2022   \n",
              "2                                  9/6/2022                       2022   \n",
              "3                                  9/6/2022                       2022   \n",
              "4                                  9/6/2022                       2022   \n",
              "5                                  9/6/2022                       2022   \n",
              "\n",
              "      Time  \n",
              "1  09/2022  \n",
              "2  09/2022  \n",
              "3  09/2022  \n",
              "4  09/2022  \n",
              "5  09/2022  \n",
              "\n",
              "[5 rows x 36 columns]"
            ],
            "text/html": [
              "\n",
              "  <div id=\"df-907e80b8-4a0f-4a33-addd-9c7131bb092d\">\n",
              "    <div class=\"colab-df-container\">\n",
              "      <div>\n",
              "<style scoped>\n",
              "    .dataframe tbody tr th:only-of-type {\n",
              "        vertical-align: middle;\n",
              "    }\n",
              "\n",
              "    .dataframe tbody tr th {\n",
              "        vertical-align: top;\n",
              "    }\n",
              "\n",
              "    .dataframe thead th {\n",
              "        text-align: right;\n",
              "    }\n",
              "</style>\n",
              "<table border=\"1\" class=\"dataframe\">\n",
              "  <thead>\n",
              "    <tr style=\"text-align: right;\">\n",
              "      <th></th>\n",
              "      <th>No</th>\n",
              "      <th>Quarter</th>\n",
              "      <th>Month</th>\n",
              "      <th>Week</th>\n",
              "      <th>Team</th>\n",
              "      <th>PIC</th>\n",
              "      <th>Client</th>\n",
              "      <th>Account</th>\n",
              "      <th>AccountNumber</th>\n",
              "      <th>Bank</th>\n",
              "      <th>...</th>\n",
              "      <th>Damage</th>\n",
              "      <th>Content</th>\n",
              "      <th>Policy</th>\n",
              "      <th>PickWH</th>\n",
              "      <th>DeliverWH</th>\n",
              "      <th>TransferDate</th>\n",
              "      <th>ResponsibleWH</th>\n",
              "      <th>Region</th>\n",
              "      <th>Year</th>\n",
              "      <th>Time</th>\n",
              "    </tr>\n",
              "  </thead>\n",
              "  <tbody>\n",
              "    <tr>\n",
              "      <th>1</th>\n",
              "      <td>1</td>\n",
              "      <td>3</td>\n",
              "      <td>9</td>\n",
              "      <td>37</td>\n",
              "      <td>SME</td>\n",
              "      <td>3008953 phạm thị phương trinh</td>\n",
              "      <td>2656891</td>\n",
              "      <td></td>\n",
              "      <td></td>\n",
              "      <td></td>\n",
              "      <td>...</td>\n",
              "      <td></td>\n",
              "      <td>NN đã trả 30k cho nv</td>\n",
              "      <td>Theo chính sách GHN</td>\n",
              "      <td></td>\n",
              "      <td></td>\n",
              "      <td>9/6/2022</td>\n",
              "      <td></td>\n",
              "      <td></td>\n",
              "      <td>2022</td>\n",
              "      <td>09/2022</td>\n",
              "    </tr>\n",
              "    <tr>\n",
              "      <th>2</th>\n",
              "      <td>2</td>\n",
              "      <td>3</td>\n",
              "      <td>9</td>\n",
              "      <td>37</td>\n",
              "      <td>VVIP</td>\n",
              "      <td>3015387 - Hoàng Ngọc Diệp</td>\n",
              "      <td>1155792</td>\n",
              "      <td></td>\n",
              "      <td></td>\n",
              "      <td></td>\n",
              "      <td>...</td>\n",
              "      <td></td>\n",
              "      <td>GHN đền bù cước phí giao lại đơn hàng GAKVHM43</td>\n",
              "      <td>Theo hợp đồng</td>\n",
              "      <td></td>\n",
              "      <td></td>\n",
              "      <td>9/6/2022</td>\n",
              "      <td></td>\n",
              "      <td></td>\n",
              "      <td>2022</td>\n",
              "      <td>09/2022</td>\n",
              "    </tr>\n",
              "    <tr>\n",
              "      <th>3</th>\n",
              "      <td>3</td>\n",
              "      <td>3</td>\n",
              "      <td>9</td>\n",
              "      <td>37</td>\n",
              "      <td>SME</td>\n",
              "      <td>3008953 phạm thị phương trinh</td>\n",
              "      <td>3253614</td>\n",
              "      <td></td>\n",
              "      <td></td>\n",
              "      <td></td>\n",
              "      <td>...</td>\n",
              "      <td></td>\n",
              "      <td>NN đã trả 30 000đ</td>\n",
              "      <td>Theo chính sách GHN</td>\n",
              "      <td></td>\n",
              "      <td></td>\n",
              "      <td>9/6/2022</td>\n",
              "      <td></td>\n",
              "      <td></td>\n",
              "      <td>2022</td>\n",
              "      <td>09/2022</td>\n",
              "    </tr>\n",
              "    <tr>\n",
              "      <th>4</th>\n",
              "      <td>4</td>\n",
              "      <td>3</td>\n",
              "      <td>9</td>\n",
              "      <td>37</td>\n",
              "      <td>VVIP</td>\n",
              "      <td>3004168 - Từ Nguyễn Hoàng Mai</td>\n",
              "      <td>3050381</td>\n",
              "      <td></td>\n",
              "      <td></td>\n",
              "      <td></td>\n",
              "      <td>...</td>\n",
              "      <td></td>\n",
              "      <td>Đơn hàng bưu tá thu dư tiền của Người Nhận , k...</td>\n",
              "      <td>Theo chính sách GHN</td>\n",
              "      <td></td>\n",
              "      <td></td>\n",
              "      <td>9/6/2022</td>\n",
              "      <td></td>\n",
              "      <td></td>\n",
              "      <td>2022</td>\n",
              "      <td>09/2022</td>\n",
              "    </tr>\n",
              "    <tr>\n",
              "      <th>5</th>\n",
              "      <td>5</td>\n",
              "      <td>3</td>\n",
              "      <td>9</td>\n",
              "      <td>37</td>\n",
              "      <td>VVIP</td>\n",
              "      <td>2031646 - Huỳnh Thị Thanh Tuyền</td>\n",
              "      <td>1015913</td>\n",
              "      <td></td>\n",
              "      <td></td>\n",
              "      <td></td>\n",
              "      <td>...</td>\n",
              "      <td></td>\n",
              "      <td>CB thu NN 30,000đ</td>\n",
              "      <td>Theo hợp đồng</td>\n",
              "      <td></td>\n",
              "      <td></td>\n",
              "      <td>9/6/2022</td>\n",
              "      <td></td>\n",
              "      <td></td>\n",
              "      <td>2022</td>\n",
              "      <td>09/2022</td>\n",
              "    </tr>\n",
              "  </tbody>\n",
              "</table>\n",
              "<p>5 rows × 36 columns</p>\n",
              "</div>\n",
              "      <button class=\"colab-df-convert\" onclick=\"convertToInteractive('df-907e80b8-4a0f-4a33-addd-9c7131bb092d')\"\n",
              "              title=\"Convert this dataframe to an interactive table.\"\n",
              "              style=\"display:none;\">\n",
              "        \n",
              "  <svg xmlns=\"http://www.w3.org/2000/svg\" height=\"24px\"viewBox=\"0 0 24 24\"\n",
              "       width=\"24px\">\n",
              "    <path d=\"M0 0h24v24H0V0z\" fill=\"none\"/>\n",
              "    <path d=\"M18.56 5.44l.94 2.06.94-2.06 2.06-.94-2.06-.94-.94-2.06-.94 2.06-2.06.94zm-11 1L8.5 8.5l.94-2.06 2.06-.94-2.06-.94L8.5 2.5l-.94 2.06-2.06.94zm10 10l.94 2.06.94-2.06 2.06-.94-2.06-.94-.94-2.06-.94 2.06-2.06.94z\"/><path d=\"M17.41 7.96l-1.37-1.37c-.4-.4-.92-.59-1.43-.59-.52 0-1.04.2-1.43.59L10.3 9.45l-7.72 7.72c-.78.78-.78 2.05 0 2.83L4 21.41c.39.39.9.59 1.41.59.51 0 1.02-.2 1.41-.59l7.78-7.78 2.81-2.81c.8-.78.8-2.07 0-2.86zM5.41 20L4 18.59l7.72-7.72 1.47 1.35L5.41 20z\"/>\n",
              "  </svg>\n",
              "      </button>\n",
              "      \n",
              "  <style>\n",
              "    .colab-df-container {\n",
              "      display:flex;\n",
              "      flex-wrap:wrap;\n",
              "      gap: 12px;\n",
              "    }\n",
              "\n",
              "    .colab-df-convert {\n",
              "      background-color: #E8F0FE;\n",
              "      border: none;\n",
              "      border-radius: 50%;\n",
              "      cursor: pointer;\n",
              "      display: none;\n",
              "      fill: #1967D2;\n",
              "      height: 32px;\n",
              "      padding: 0 0 0 0;\n",
              "      width: 32px;\n",
              "    }\n",
              "\n",
              "    .colab-df-convert:hover {\n",
              "      background-color: #E2EBFA;\n",
              "      box-shadow: 0px 1px 2px rgba(60, 64, 67, 0.3), 0px 1px 3px 1px rgba(60, 64, 67, 0.15);\n",
              "      fill: #174EA6;\n",
              "    }\n",
              "\n",
              "    [theme=dark] .colab-df-convert {\n",
              "      background-color: #3B4455;\n",
              "      fill: #D2E3FC;\n",
              "    }\n",
              "\n",
              "    [theme=dark] .colab-df-convert:hover {\n",
              "      background-color: #434B5C;\n",
              "      box-shadow: 0px 1px 3px 1px rgba(0, 0, 0, 0.15);\n",
              "      filter: drop-shadow(0px 1px 2px rgba(0, 0, 0, 0.3));\n",
              "      fill: #FFFFFF;\n",
              "    }\n",
              "  </style>\n",
              "\n",
              "      <script>\n",
              "        const buttonEl =\n",
              "          document.querySelector('#df-907e80b8-4a0f-4a33-addd-9c7131bb092d button.colab-df-convert');\n",
              "        buttonEl.style.display =\n",
              "          google.colab.kernel.accessAllowed ? 'block' : 'none';\n",
              "\n",
              "        async function convertToInteractive(key) {\n",
              "          const element = document.querySelector('#df-907e80b8-4a0f-4a33-addd-9c7131bb092d');\n",
              "          const dataTable =\n",
              "            await google.colab.kernel.invokeFunction('convertToInteractive',\n",
              "                                                     [key], {});\n",
              "          if (!dataTable) return;\n",
              "\n",
              "          const docLinkHtml = 'Like what you see? Visit the ' +\n",
              "            '<a target=\"_blank\" href=https://colab.research.google.com/notebooks/data_table.ipynb>data table notebook</a>'\n",
              "            + ' to learn more about interactive tables.';\n",
              "          element.innerHTML = '';\n",
              "          dataTable['output_type'] = 'display_data';\n",
              "          await google.colab.output.renderOutput(dataTable, element);\n",
              "          const docLink = document.createElement('div');\n",
              "          docLink.innerHTML = docLinkHtml;\n",
              "          element.appendChild(docLink);\n",
              "        }\n",
              "      </script>\n",
              "    </div>\n",
              "  </div>\n",
              "  "
            ]
          },
          "metadata": {},
          "execution_count": 236
        }
      ]
    },
    {
      "cell_type": "code",
      "source": [
        "data = data.reset_index(drop=True)"
      ],
      "metadata": {
        "id": "3cNfyKd3NBxM"
      },
      "execution_count": null,
      "outputs": []
    },
    {
      "cell_type": "code",
      "source": [
        "data.head()"
      ],
      "metadata": {
        "colab": {
          "base_uri": "https://localhost:8080/",
          "height": 366
        },
        "id": "F2d1yfnB6iLO",
        "outputId": "1f3d4013-893b-43dd-b852-e7055e2b3b10"
      },
      "execution_count": null,
      "outputs": [
        {
          "output_type": "execute_result",
          "data": {
            "text/plain": [
              "  No Quarter Month Week  Team                              PIC   Client  \\\n",
              "0  1       3     9   37   SME    3008953 phạm thị phương trinh  2656891   \n",
              "1  2       3     9   37  VVIP        3015387 - Hoàng Ngọc Diệp  1155792   \n",
              "2  3       3     9   37   SME    3008953 phạm thị phương trinh  3253614   \n",
              "3  4       3     9   37  VVIP    3004168 - Từ Nguyễn Hoàng Mai  3050381   \n",
              "4  5       3     9   37  VVIP  2031646 - Huỳnh Thị Thanh Tuyền  1015913   \n",
              "\n",
              "  Account AccountNumber Bank  ...       Damage  \\\n",
              "0                             ...                \n",
              "1                             ...                \n",
              "2                             ...                \n",
              "3                             ...                \n",
              "4                             ...                \n",
              "\n",
              "                                             Content               Policy  \\\n",
              "0                               NN đã trả 30k cho nv  Theo chính sách GHN   \n",
              "1     GHN đền bù cước phí giao lại đơn hàng GAKVHM43        Theo hợp đồng   \n",
              "2                                  NN đã trả 30 000đ  Theo chính sách GHN   \n",
              "3  Đơn hàng bưu tá thu dư tiền của Người Nhận , k...  Theo chính sách GHN   \n",
              "4                                  CB thu NN 30,000đ        Theo hợp đồng   \n",
              "\n",
              "         PickWH      DeliverWH TransferDate ResponsibleWH Region  Year  \\\n",
              "0                                  9/6/2022                       2022   \n",
              "1                                  9/6/2022                       2022   \n",
              "2                                  9/6/2022                       2022   \n",
              "3                                  9/6/2022                       2022   \n",
              "4                                  9/6/2022                       2022   \n",
              "\n",
              "      Time  \n",
              "0  09/2022  \n",
              "1  09/2022  \n",
              "2  09/2022  \n",
              "3  09/2022  \n",
              "4  09/2022  \n",
              "\n",
              "[5 rows x 36 columns]"
            ],
            "text/html": [
              "\n",
              "  <div id=\"df-8f6d469b-e925-4711-b1e8-a1b60524de92\">\n",
              "    <div class=\"colab-df-container\">\n",
              "      <div>\n",
              "<style scoped>\n",
              "    .dataframe tbody tr th:only-of-type {\n",
              "        vertical-align: middle;\n",
              "    }\n",
              "\n",
              "    .dataframe tbody tr th {\n",
              "        vertical-align: top;\n",
              "    }\n",
              "\n",
              "    .dataframe thead th {\n",
              "        text-align: right;\n",
              "    }\n",
              "</style>\n",
              "<table border=\"1\" class=\"dataframe\">\n",
              "  <thead>\n",
              "    <tr style=\"text-align: right;\">\n",
              "      <th></th>\n",
              "      <th>No</th>\n",
              "      <th>Quarter</th>\n",
              "      <th>Month</th>\n",
              "      <th>Week</th>\n",
              "      <th>Team</th>\n",
              "      <th>PIC</th>\n",
              "      <th>Client</th>\n",
              "      <th>Account</th>\n",
              "      <th>AccountNumber</th>\n",
              "      <th>Bank</th>\n",
              "      <th>...</th>\n",
              "      <th>Damage</th>\n",
              "      <th>Content</th>\n",
              "      <th>Policy</th>\n",
              "      <th>PickWH</th>\n",
              "      <th>DeliverWH</th>\n",
              "      <th>TransferDate</th>\n",
              "      <th>ResponsibleWH</th>\n",
              "      <th>Region</th>\n",
              "      <th>Year</th>\n",
              "      <th>Time</th>\n",
              "    </tr>\n",
              "  </thead>\n",
              "  <tbody>\n",
              "    <tr>\n",
              "      <th>0</th>\n",
              "      <td>1</td>\n",
              "      <td>3</td>\n",
              "      <td>9</td>\n",
              "      <td>37</td>\n",
              "      <td>SME</td>\n",
              "      <td>3008953 phạm thị phương trinh</td>\n",
              "      <td>2656891</td>\n",
              "      <td></td>\n",
              "      <td></td>\n",
              "      <td></td>\n",
              "      <td>...</td>\n",
              "      <td></td>\n",
              "      <td>NN đã trả 30k cho nv</td>\n",
              "      <td>Theo chính sách GHN</td>\n",
              "      <td></td>\n",
              "      <td></td>\n",
              "      <td>9/6/2022</td>\n",
              "      <td></td>\n",
              "      <td></td>\n",
              "      <td>2022</td>\n",
              "      <td>09/2022</td>\n",
              "    </tr>\n",
              "    <tr>\n",
              "      <th>1</th>\n",
              "      <td>2</td>\n",
              "      <td>3</td>\n",
              "      <td>9</td>\n",
              "      <td>37</td>\n",
              "      <td>VVIP</td>\n",
              "      <td>3015387 - Hoàng Ngọc Diệp</td>\n",
              "      <td>1155792</td>\n",
              "      <td></td>\n",
              "      <td></td>\n",
              "      <td></td>\n",
              "      <td>...</td>\n",
              "      <td></td>\n",
              "      <td>GHN đền bù cước phí giao lại đơn hàng GAKVHM43</td>\n",
              "      <td>Theo hợp đồng</td>\n",
              "      <td></td>\n",
              "      <td></td>\n",
              "      <td>9/6/2022</td>\n",
              "      <td></td>\n",
              "      <td></td>\n",
              "      <td>2022</td>\n",
              "      <td>09/2022</td>\n",
              "    </tr>\n",
              "    <tr>\n",
              "      <th>2</th>\n",
              "      <td>3</td>\n",
              "      <td>3</td>\n",
              "      <td>9</td>\n",
              "      <td>37</td>\n",
              "      <td>SME</td>\n",
              "      <td>3008953 phạm thị phương trinh</td>\n",
              "      <td>3253614</td>\n",
              "      <td></td>\n",
              "      <td></td>\n",
              "      <td></td>\n",
              "      <td>...</td>\n",
              "      <td></td>\n",
              "      <td>NN đã trả 30 000đ</td>\n",
              "      <td>Theo chính sách GHN</td>\n",
              "      <td></td>\n",
              "      <td></td>\n",
              "      <td>9/6/2022</td>\n",
              "      <td></td>\n",
              "      <td></td>\n",
              "      <td>2022</td>\n",
              "      <td>09/2022</td>\n",
              "    </tr>\n",
              "    <tr>\n",
              "      <th>3</th>\n",
              "      <td>4</td>\n",
              "      <td>3</td>\n",
              "      <td>9</td>\n",
              "      <td>37</td>\n",
              "      <td>VVIP</td>\n",
              "      <td>3004168 - Từ Nguyễn Hoàng Mai</td>\n",
              "      <td>3050381</td>\n",
              "      <td></td>\n",
              "      <td></td>\n",
              "      <td></td>\n",
              "      <td>...</td>\n",
              "      <td></td>\n",
              "      <td>Đơn hàng bưu tá thu dư tiền của Người Nhận , k...</td>\n",
              "      <td>Theo chính sách GHN</td>\n",
              "      <td></td>\n",
              "      <td></td>\n",
              "      <td>9/6/2022</td>\n",
              "      <td></td>\n",
              "      <td></td>\n",
              "      <td>2022</td>\n",
              "      <td>09/2022</td>\n",
              "    </tr>\n",
              "    <tr>\n",
              "      <th>4</th>\n",
              "      <td>5</td>\n",
              "      <td>3</td>\n",
              "      <td>9</td>\n",
              "      <td>37</td>\n",
              "      <td>VVIP</td>\n",
              "      <td>2031646 - Huỳnh Thị Thanh Tuyền</td>\n",
              "      <td>1015913</td>\n",
              "      <td></td>\n",
              "      <td></td>\n",
              "      <td></td>\n",
              "      <td>...</td>\n",
              "      <td></td>\n",
              "      <td>CB thu NN 30,000đ</td>\n",
              "      <td>Theo hợp đồng</td>\n",
              "      <td></td>\n",
              "      <td></td>\n",
              "      <td>9/6/2022</td>\n",
              "      <td></td>\n",
              "      <td></td>\n",
              "      <td>2022</td>\n",
              "      <td>09/2022</td>\n",
              "    </tr>\n",
              "  </tbody>\n",
              "</table>\n",
              "<p>5 rows × 36 columns</p>\n",
              "</div>\n",
              "      <button class=\"colab-df-convert\" onclick=\"convertToInteractive('df-8f6d469b-e925-4711-b1e8-a1b60524de92')\"\n",
              "              title=\"Convert this dataframe to an interactive table.\"\n",
              "              style=\"display:none;\">\n",
              "        \n",
              "  <svg xmlns=\"http://www.w3.org/2000/svg\" height=\"24px\"viewBox=\"0 0 24 24\"\n",
              "       width=\"24px\">\n",
              "    <path d=\"M0 0h24v24H0V0z\" fill=\"none\"/>\n",
              "    <path d=\"M18.56 5.44l.94 2.06.94-2.06 2.06-.94-2.06-.94-.94-2.06-.94 2.06-2.06.94zm-11 1L8.5 8.5l.94-2.06 2.06-.94-2.06-.94L8.5 2.5l-.94 2.06-2.06.94zm10 10l.94 2.06.94-2.06 2.06-.94-2.06-.94-.94-2.06-.94 2.06-2.06.94z\"/><path d=\"M17.41 7.96l-1.37-1.37c-.4-.4-.92-.59-1.43-.59-.52 0-1.04.2-1.43.59L10.3 9.45l-7.72 7.72c-.78.78-.78 2.05 0 2.83L4 21.41c.39.39.9.59 1.41.59.51 0 1.02-.2 1.41-.59l7.78-7.78 2.81-2.81c.8-.78.8-2.07 0-2.86zM5.41 20L4 18.59l7.72-7.72 1.47 1.35L5.41 20z\"/>\n",
              "  </svg>\n",
              "      </button>\n",
              "      \n",
              "  <style>\n",
              "    .colab-df-container {\n",
              "      display:flex;\n",
              "      flex-wrap:wrap;\n",
              "      gap: 12px;\n",
              "    }\n",
              "\n",
              "    .colab-df-convert {\n",
              "      background-color: #E8F0FE;\n",
              "      border: none;\n",
              "      border-radius: 50%;\n",
              "      cursor: pointer;\n",
              "      display: none;\n",
              "      fill: #1967D2;\n",
              "      height: 32px;\n",
              "      padding: 0 0 0 0;\n",
              "      width: 32px;\n",
              "    }\n",
              "\n",
              "    .colab-df-convert:hover {\n",
              "      background-color: #E2EBFA;\n",
              "      box-shadow: 0px 1px 2px rgba(60, 64, 67, 0.3), 0px 1px 3px 1px rgba(60, 64, 67, 0.15);\n",
              "      fill: #174EA6;\n",
              "    }\n",
              "\n",
              "    [theme=dark] .colab-df-convert {\n",
              "      background-color: #3B4455;\n",
              "      fill: #D2E3FC;\n",
              "    }\n",
              "\n",
              "    [theme=dark] .colab-df-convert:hover {\n",
              "      background-color: #434B5C;\n",
              "      box-shadow: 0px 1px 3px 1px rgba(0, 0, 0, 0.15);\n",
              "      filter: drop-shadow(0px 1px 2px rgba(0, 0, 0, 0.3));\n",
              "      fill: #FFFFFF;\n",
              "    }\n",
              "  </style>\n",
              "\n",
              "      <script>\n",
              "        const buttonEl =\n",
              "          document.querySelector('#df-8f6d469b-e925-4711-b1e8-a1b60524de92 button.colab-df-convert');\n",
              "        buttonEl.style.display =\n",
              "          google.colab.kernel.accessAllowed ? 'block' : 'none';\n",
              "\n",
              "        async function convertToInteractive(key) {\n",
              "          const element = document.querySelector('#df-8f6d469b-e925-4711-b1e8-a1b60524de92');\n",
              "          const dataTable =\n",
              "            await google.colab.kernel.invokeFunction('convertToInteractive',\n",
              "                                                     [key], {});\n",
              "          if (!dataTable) return;\n",
              "\n",
              "          const docLinkHtml = 'Like what you see? Visit the ' +\n",
              "            '<a target=\"_blank\" href=https://colab.research.google.com/notebooks/data_table.ipynb>data table notebook</a>'\n",
              "            + ' to learn more about interactive tables.';\n",
              "          element.innerHTML = '';\n",
              "          dataTable['output_type'] = 'display_data';\n",
              "          await google.colab.output.renderOutput(dataTable, element);\n",
              "          const docLink = document.createElement('div');\n",
              "          docLink.innerHTML = docLinkHtml;\n",
              "          element.appendChild(docLink);\n",
              "        }\n",
              "      </script>\n",
              "    </div>\n",
              "  </div>\n",
              "  "
            ]
          },
          "metadata": {},
          "execution_count": 238
        }
      ]
    },
    {
      "cell_type": "code",
      "source": [
        "data.columns"
      ],
      "metadata": {
        "colab": {
          "base_uri": "https://localhost:8080/"
        },
        "id": "cyvLWsmchFj3",
        "outputId": "b17bd75d-2b09-4a7f-e0a7-ef2a482708c6"
      },
      "execution_count": null,
      "outputs": [
        {
          "output_type": "execute_result",
          "data": {
            "text/plain": [
              "Index(['No', 'Quarter', 'Month', 'Week', 'Team', 'PIC', 'Client', 'Account',\n",
              "       'AccountNumber', 'Bank', 'Branch', 'RequestType', 'CreateDate',\n",
              "       'OrderCode', 'Reason', 'Link', 'Compensation', 'Fee', 'COD', 'Fine',\n",
              "       'Leader', 'Claim', 'Manager', 'Price', 'Contract', 'DetailedReason',\n",
              "       'Damage', 'Content', 'Policy', 'PickWH', 'DeliverWH', 'TransferDate',\n",
              "       'ResponsibleWH', 'Region', 'Year', 'Time'],\n",
              "      dtype='object')"
            ]
          },
          "metadata": {},
          "execution_count": 239
        }
      ]
    },
    {
      "cell_type": "code",
      "source": [
        "data.head()"
      ],
      "metadata": {
        "colab": {
          "base_uri": "https://localhost:8080/",
          "height": 366
        },
        "id": "LBCuIs8q44pR",
        "outputId": "840c4aeb-cc2d-400a-dfda-dc7d6c405b40"
      },
      "execution_count": null,
      "outputs": [
        {
          "output_type": "execute_result",
          "data": {
            "text/plain": [
              "  No Quarter Month Week  Team                              PIC   Client  \\\n",
              "0  1       3     9   37   SME    3008953 phạm thị phương trinh  2656891   \n",
              "1  2       3     9   37  VVIP        3015387 - Hoàng Ngọc Diệp  1155792   \n",
              "2  3       3     9   37   SME    3008953 phạm thị phương trinh  3253614   \n",
              "3  4       3     9   37  VVIP    3004168 - Từ Nguyễn Hoàng Mai  3050381   \n",
              "4  5       3     9   37  VVIP  2031646 - Huỳnh Thị Thanh Tuyền  1015913   \n",
              "\n",
              "  Account AccountNumber Bank  ...       Damage  \\\n",
              "0                             ...                \n",
              "1                             ...                \n",
              "2                             ...                \n",
              "3                             ...                \n",
              "4                             ...                \n",
              "\n",
              "                                             Content               Policy  \\\n",
              "0                               NN đã trả 30k cho nv  Theo chính sách GHN   \n",
              "1     GHN đền bù cước phí giao lại đơn hàng GAKVHM43        Theo hợp đồng   \n",
              "2                                  NN đã trả 30 000đ  Theo chính sách GHN   \n",
              "3  Đơn hàng bưu tá thu dư tiền của Người Nhận , k...  Theo chính sách GHN   \n",
              "4                                  CB thu NN 30,000đ        Theo hợp đồng   \n",
              "\n",
              "         PickWH      DeliverWH TransferDate ResponsibleWH Region  Year  \\\n",
              "0                                  9/6/2022                       2022   \n",
              "1                                  9/6/2022                       2022   \n",
              "2                                  9/6/2022                       2022   \n",
              "3                                  9/6/2022                       2022   \n",
              "4                                  9/6/2022                       2022   \n",
              "\n",
              "      Time  \n",
              "0  09/2022  \n",
              "1  09/2022  \n",
              "2  09/2022  \n",
              "3  09/2022  \n",
              "4  09/2022  \n",
              "\n",
              "[5 rows x 36 columns]"
            ],
            "text/html": [
              "\n",
              "  <div id=\"df-b6de8f11-08ea-430c-9c1e-b1997d015583\">\n",
              "    <div class=\"colab-df-container\">\n",
              "      <div>\n",
              "<style scoped>\n",
              "    .dataframe tbody tr th:only-of-type {\n",
              "        vertical-align: middle;\n",
              "    }\n",
              "\n",
              "    .dataframe tbody tr th {\n",
              "        vertical-align: top;\n",
              "    }\n",
              "\n",
              "    .dataframe thead th {\n",
              "        text-align: right;\n",
              "    }\n",
              "</style>\n",
              "<table border=\"1\" class=\"dataframe\">\n",
              "  <thead>\n",
              "    <tr style=\"text-align: right;\">\n",
              "      <th></th>\n",
              "      <th>No</th>\n",
              "      <th>Quarter</th>\n",
              "      <th>Month</th>\n",
              "      <th>Week</th>\n",
              "      <th>Team</th>\n",
              "      <th>PIC</th>\n",
              "      <th>Client</th>\n",
              "      <th>Account</th>\n",
              "      <th>AccountNumber</th>\n",
              "      <th>Bank</th>\n",
              "      <th>...</th>\n",
              "      <th>Damage</th>\n",
              "      <th>Content</th>\n",
              "      <th>Policy</th>\n",
              "      <th>PickWH</th>\n",
              "      <th>DeliverWH</th>\n",
              "      <th>TransferDate</th>\n",
              "      <th>ResponsibleWH</th>\n",
              "      <th>Region</th>\n",
              "      <th>Year</th>\n",
              "      <th>Time</th>\n",
              "    </tr>\n",
              "  </thead>\n",
              "  <tbody>\n",
              "    <tr>\n",
              "      <th>0</th>\n",
              "      <td>1</td>\n",
              "      <td>3</td>\n",
              "      <td>9</td>\n",
              "      <td>37</td>\n",
              "      <td>SME</td>\n",
              "      <td>3008953 phạm thị phương trinh</td>\n",
              "      <td>2656891</td>\n",
              "      <td></td>\n",
              "      <td></td>\n",
              "      <td></td>\n",
              "      <td>...</td>\n",
              "      <td></td>\n",
              "      <td>NN đã trả 30k cho nv</td>\n",
              "      <td>Theo chính sách GHN</td>\n",
              "      <td></td>\n",
              "      <td></td>\n",
              "      <td>9/6/2022</td>\n",
              "      <td></td>\n",
              "      <td></td>\n",
              "      <td>2022</td>\n",
              "      <td>09/2022</td>\n",
              "    </tr>\n",
              "    <tr>\n",
              "      <th>1</th>\n",
              "      <td>2</td>\n",
              "      <td>3</td>\n",
              "      <td>9</td>\n",
              "      <td>37</td>\n",
              "      <td>VVIP</td>\n",
              "      <td>3015387 - Hoàng Ngọc Diệp</td>\n",
              "      <td>1155792</td>\n",
              "      <td></td>\n",
              "      <td></td>\n",
              "      <td></td>\n",
              "      <td>...</td>\n",
              "      <td></td>\n",
              "      <td>GHN đền bù cước phí giao lại đơn hàng GAKVHM43</td>\n",
              "      <td>Theo hợp đồng</td>\n",
              "      <td></td>\n",
              "      <td></td>\n",
              "      <td>9/6/2022</td>\n",
              "      <td></td>\n",
              "      <td></td>\n",
              "      <td>2022</td>\n",
              "      <td>09/2022</td>\n",
              "    </tr>\n",
              "    <tr>\n",
              "      <th>2</th>\n",
              "      <td>3</td>\n",
              "      <td>3</td>\n",
              "      <td>9</td>\n",
              "      <td>37</td>\n",
              "      <td>SME</td>\n",
              "      <td>3008953 phạm thị phương trinh</td>\n",
              "      <td>3253614</td>\n",
              "      <td></td>\n",
              "      <td></td>\n",
              "      <td></td>\n",
              "      <td>...</td>\n",
              "      <td></td>\n",
              "      <td>NN đã trả 30 000đ</td>\n",
              "      <td>Theo chính sách GHN</td>\n",
              "      <td></td>\n",
              "      <td></td>\n",
              "      <td>9/6/2022</td>\n",
              "      <td></td>\n",
              "      <td></td>\n",
              "      <td>2022</td>\n",
              "      <td>09/2022</td>\n",
              "    </tr>\n",
              "    <tr>\n",
              "      <th>3</th>\n",
              "      <td>4</td>\n",
              "      <td>3</td>\n",
              "      <td>9</td>\n",
              "      <td>37</td>\n",
              "      <td>VVIP</td>\n",
              "      <td>3004168 - Từ Nguyễn Hoàng Mai</td>\n",
              "      <td>3050381</td>\n",
              "      <td></td>\n",
              "      <td></td>\n",
              "      <td></td>\n",
              "      <td>...</td>\n",
              "      <td></td>\n",
              "      <td>Đơn hàng bưu tá thu dư tiền của Người Nhận , k...</td>\n",
              "      <td>Theo chính sách GHN</td>\n",
              "      <td></td>\n",
              "      <td></td>\n",
              "      <td>9/6/2022</td>\n",
              "      <td></td>\n",
              "      <td></td>\n",
              "      <td>2022</td>\n",
              "      <td>09/2022</td>\n",
              "    </tr>\n",
              "    <tr>\n",
              "      <th>4</th>\n",
              "      <td>5</td>\n",
              "      <td>3</td>\n",
              "      <td>9</td>\n",
              "      <td>37</td>\n",
              "      <td>VVIP</td>\n",
              "      <td>2031646 - Huỳnh Thị Thanh Tuyền</td>\n",
              "      <td>1015913</td>\n",
              "      <td></td>\n",
              "      <td></td>\n",
              "      <td></td>\n",
              "      <td>...</td>\n",
              "      <td></td>\n",
              "      <td>CB thu NN 30,000đ</td>\n",
              "      <td>Theo hợp đồng</td>\n",
              "      <td></td>\n",
              "      <td></td>\n",
              "      <td>9/6/2022</td>\n",
              "      <td></td>\n",
              "      <td></td>\n",
              "      <td>2022</td>\n",
              "      <td>09/2022</td>\n",
              "    </tr>\n",
              "  </tbody>\n",
              "</table>\n",
              "<p>5 rows × 36 columns</p>\n",
              "</div>\n",
              "      <button class=\"colab-df-convert\" onclick=\"convertToInteractive('df-b6de8f11-08ea-430c-9c1e-b1997d015583')\"\n",
              "              title=\"Convert this dataframe to an interactive table.\"\n",
              "              style=\"display:none;\">\n",
              "        \n",
              "  <svg xmlns=\"http://www.w3.org/2000/svg\" height=\"24px\"viewBox=\"0 0 24 24\"\n",
              "       width=\"24px\">\n",
              "    <path d=\"M0 0h24v24H0V0z\" fill=\"none\"/>\n",
              "    <path d=\"M18.56 5.44l.94 2.06.94-2.06 2.06-.94-2.06-.94-.94-2.06-.94 2.06-2.06.94zm-11 1L8.5 8.5l.94-2.06 2.06-.94-2.06-.94L8.5 2.5l-.94 2.06-2.06.94zm10 10l.94 2.06.94-2.06 2.06-.94-2.06-.94-.94-2.06-.94 2.06-2.06.94z\"/><path d=\"M17.41 7.96l-1.37-1.37c-.4-.4-.92-.59-1.43-.59-.52 0-1.04.2-1.43.59L10.3 9.45l-7.72 7.72c-.78.78-.78 2.05 0 2.83L4 21.41c.39.39.9.59 1.41.59.51 0 1.02-.2 1.41-.59l7.78-7.78 2.81-2.81c.8-.78.8-2.07 0-2.86zM5.41 20L4 18.59l7.72-7.72 1.47 1.35L5.41 20z\"/>\n",
              "  </svg>\n",
              "      </button>\n",
              "      \n",
              "  <style>\n",
              "    .colab-df-container {\n",
              "      display:flex;\n",
              "      flex-wrap:wrap;\n",
              "      gap: 12px;\n",
              "    }\n",
              "\n",
              "    .colab-df-convert {\n",
              "      background-color: #E8F0FE;\n",
              "      border: none;\n",
              "      border-radius: 50%;\n",
              "      cursor: pointer;\n",
              "      display: none;\n",
              "      fill: #1967D2;\n",
              "      height: 32px;\n",
              "      padding: 0 0 0 0;\n",
              "      width: 32px;\n",
              "    }\n",
              "\n",
              "    .colab-df-convert:hover {\n",
              "      background-color: #E2EBFA;\n",
              "      box-shadow: 0px 1px 2px rgba(60, 64, 67, 0.3), 0px 1px 3px 1px rgba(60, 64, 67, 0.15);\n",
              "      fill: #174EA6;\n",
              "    }\n",
              "\n",
              "    [theme=dark] .colab-df-convert {\n",
              "      background-color: #3B4455;\n",
              "      fill: #D2E3FC;\n",
              "    }\n",
              "\n",
              "    [theme=dark] .colab-df-convert:hover {\n",
              "      background-color: #434B5C;\n",
              "      box-shadow: 0px 1px 3px 1px rgba(0, 0, 0, 0.15);\n",
              "      filter: drop-shadow(0px 1px 2px rgba(0, 0, 0, 0.3));\n",
              "      fill: #FFFFFF;\n",
              "    }\n",
              "  </style>\n",
              "\n",
              "      <script>\n",
              "        const buttonEl =\n",
              "          document.querySelector('#df-b6de8f11-08ea-430c-9c1e-b1997d015583 button.colab-df-convert');\n",
              "        buttonEl.style.display =\n",
              "          google.colab.kernel.accessAllowed ? 'block' : 'none';\n",
              "\n",
              "        async function convertToInteractive(key) {\n",
              "          const element = document.querySelector('#df-b6de8f11-08ea-430c-9c1e-b1997d015583');\n",
              "          const dataTable =\n",
              "            await google.colab.kernel.invokeFunction('convertToInteractive',\n",
              "                                                     [key], {});\n",
              "          if (!dataTable) return;\n",
              "\n",
              "          const docLinkHtml = 'Like what you see? Visit the ' +\n",
              "            '<a target=\"_blank\" href=https://colab.research.google.com/notebooks/data_table.ipynb>data table notebook</a>'\n",
              "            + ' to learn more about interactive tables.';\n",
              "          element.innerHTML = '';\n",
              "          dataTable['output_type'] = 'display_data';\n",
              "          await google.colab.output.renderOutput(dataTable, element);\n",
              "          const docLink = document.createElement('div');\n",
              "          docLink.innerHTML = docLinkHtml;\n",
              "          element.appendChild(docLink);\n",
              "        }\n",
              "      </script>\n",
              "    </div>\n",
              "  </div>\n",
              "  "
            ]
          },
          "metadata": {},
          "execution_count": 240
        }
      ]
    },
    {
      "cell_type": "code",
      "source": [
        "data.tail()"
      ],
      "metadata": {
        "colab": {
          "base_uri": "https://localhost:8080/",
          "height": 236
        },
        "id": "9EHAaPDS46cz",
        "outputId": "4f0b8868-7118-4d72-bc12-89075f839623"
      },
      "execution_count": null,
      "outputs": [
        {
          "output_type": "execute_result",
          "data": {
            "text/plain": [
              "      No Quarter Month Week  Team                           PIC   Client  \\\n",
              "868  869       3     9   38  VVIP  207074 - Lê Hoàng Quỳnh Nghi  3165593   \n",
              "869  870       3     9   38  VVIP  207074 - Lê Hoàng Quỳnh Nghi  3165593   \n",
              "870  871       3     9   38  VVIP  207074 - Lê Hoàng Quỳnh Nghi  2779762   \n",
              "871  872       3     9   38  VVIP  207074 - Lê Hoàng Quỳnh Nghi  2779762   \n",
              "872  873       3     9   38  VVIP  207074 - Lê Hoàng Quỳnh Nghi  2779762   \n",
              "\n",
              "    Account AccountNumber Bank  ...       Damage         Content  \\\n",
              "868                             ...               CH060920220197   \n",
              "869                             ...               CH060920220197   \n",
              "870                             ...               CH060920220197   \n",
              "871                             ...               CH060920220197   \n",
              "872                             ...               CH060920220197   \n",
              "\n",
              "              Policy        PickWH      DeliverWH TransferDate ResponsibleWH  \\\n",
              "868  Ngoài quy trình                                 9/13/2022                 \n",
              "869  Ngoài quy trình                                 9/13/2022                 \n",
              "870  Ngoài quy trình                                 9/13/2022                 \n",
              "871  Ngoài quy trình                                 9/13/2022                 \n",
              "872  Ngoài quy trình                                 9/13/2022                 \n",
              "\n",
              "    Region  Year     Time  \n",
              "868         2022  09/2022  \n",
              "869         2022  09/2022  \n",
              "870         2022  09/2022  \n",
              "871         2022  09/2022  \n",
              "872         2022  09/2022  \n",
              "\n",
              "[5 rows x 36 columns]"
            ],
            "text/html": [
              "\n",
              "  <div id=\"df-6d34b829-63ac-47b4-a86a-edb60d664a72\">\n",
              "    <div class=\"colab-df-container\">\n",
              "      <div>\n",
              "<style scoped>\n",
              "    .dataframe tbody tr th:only-of-type {\n",
              "        vertical-align: middle;\n",
              "    }\n",
              "\n",
              "    .dataframe tbody tr th {\n",
              "        vertical-align: top;\n",
              "    }\n",
              "\n",
              "    .dataframe thead th {\n",
              "        text-align: right;\n",
              "    }\n",
              "</style>\n",
              "<table border=\"1\" class=\"dataframe\">\n",
              "  <thead>\n",
              "    <tr style=\"text-align: right;\">\n",
              "      <th></th>\n",
              "      <th>No</th>\n",
              "      <th>Quarter</th>\n",
              "      <th>Month</th>\n",
              "      <th>Week</th>\n",
              "      <th>Team</th>\n",
              "      <th>PIC</th>\n",
              "      <th>Client</th>\n",
              "      <th>Account</th>\n",
              "      <th>AccountNumber</th>\n",
              "      <th>Bank</th>\n",
              "      <th>...</th>\n",
              "      <th>Damage</th>\n",
              "      <th>Content</th>\n",
              "      <th>Policy</th>\n",
              "      <th>PickWH</th>\n",
              "      <th>DeliverWH</th>\n",
              "      <th>TransferDate</th>\n",
              "      <th>ResponsibleWH</th>\n",
              "      <th>Region</th>\n",
              "      <th>Year</th>\n",
              "      <th>Time</th>\n",
              "    </tr>\n",
              "  </thead>\n",
              "  <tbody>\n",
              "    <tr>\n",
              "      <th>868</th>\n",
              "      <td>869</td>\n",
              "      <td>3</td>\n",
              "      <td>9</td>\n",
              "      <td>38</td>\n",
              "      <td>VVIP</td>\n",
              "      <td>207074 - Lê Hoàng Quỳnh Nghi</td>\n",
              "      <td>3165593</td>\n",
              "      <td></td>\n",
              "      <td></td>\n",
              "      <td></td>\n",
              "      <td>...</td>\n",
              "      <td></td>\n",
              "      <td>CH060920220197</td>\n",
              "      <td>Ngoài quy trình</td>\n",
              "      <td></td>\n",
              "      <td></td>\n",
              "      <td>9/13/2022</td>\n",
              "      <td></td>\n",
              "      <td></td>\n",
              "      <td>2022</td>\n",
              "      <td>09/2022</td>\n",
              "    </tr>\n",
              "    <tr>\n",
              "      <th>869</th>\n",
              "      <td>870</td>\n",
              "      <td>3</td>\n",
              "      <td>9</td>\n",
              "      <td>38</td>\n",
              "      <td>VVIP</td>\n",
              "      <td>207074 - Lê Hoàng Quỳnh Nghi</td>\n",
              "      <td>3165593</td>\n",
              "      <td></td>\n",
              "      <td></td>\n",
              "      <td></td>\n",
              "      <td>...</td>\n",
              "      <td></td>\n",
              "      <td>CH060920220197</td>\n",
              "      <td>Ngoài quy trình</td>\n",
              "      <td></td>\n",
              "      <td></td>\n",
              "      <td>9/13/2022</td>\n",
              "      <td></td>\n",
              "      <td></td>\n",
              "      <td>2022</td>\n",
              "      <td>09/2022</td>\n",
              "    </tr>\n",
              "    <tr>\n",
              "      <th>870</th>\n",
              "      <td>871</td>\n",
              "      <td>3</td>\n",
              "      <td>9</td>\n",
              "      <td>38</td>\n",
              "      <td>VVIP</td>\n",
              "      <td>207074 - Lê Hoàng Quỳnh Nghi</td>\n",
              "      <td>2779762</td>\n",
              "      <td></td>\n",
              "      <td></td>\n",
              "      <td></td>\n",
              "      <td>...</td>\n",
              "      <td></td>\n",
              "      <td>CH060920220197</td>\n",
              "      <td>Ngoài quy trình</td>\n",
              "      <td></td>\n",
              "      <td></td>\n",
              "      <td>9/13/2022</td>\n",
              "      <td></td>\n",
              "      <td></td>\n",
              "      <td>2022</td>\n",
              "      <td>09/2022</td>\n",
              "    </tr>\n",
              "    <tr>\n",
              "      <th>871</th>\n",
              "      <td>872</td>\n",
              "      <td>3</td>\n",
              "      <td>9</td>\n",
              "      <td>38</td>\n",
              "      <td>VVIP</td>\n",
              "      <td>207074 - Lê Hoàng Quỳnh Nghi</td>\n",
              "      <td>2779762</td>\n",
              "      <td></td>\n",
              "      <td></td>\n",
              "      <td></td>\n",
              "      <td>...</td>\n",
              "      <td></td>\n",
              "      <td>CH060920220197</td>\n",
              "      <td>Ngoài quy trình</td>\n",
              "      <td></td>\n",
              "      <td></td>\n",
              "      <td>9/13/2022</td>\n",
              "      <td></td>\n",
              "      <td></td>\n",
              "      <td>2022</td>\n",
              "      <td>09/2022</td>\n",
              "    </tr>\n",
              "    <tr>\n",
              "      <th>872</th>\n",
              "      <td>873</td>\n",
              "      <td>3</td>\n",
              "      <td>9</td>\n",
              "      <td>38</td>\n",
              "      <td>VVIP</td>\n",
              "      <td>207074 - Lê Hoàng Quỳnh Nghi</td>\n",
              "      <td>2779762</td>\n",
              "      <td></td>\n",
              "      <td></td>\n",
              "      <td></td>\n",
              "      <td>...</td>\n",
              "      <td></td>\n",
              "      <td>CH060920220197</td>\n",
              "      <td>Ngoài quy trình</td>\n",
              "      <td></td>\n",
              "      <td></td>\n",
              "      <td>9/13/2022</td>\n",
              "      <td></td>\n",
              "      <td></td>\n",
              "      <td>2022</td>\n",
              "      <td>09/2022</td>\n",
              "    </tr>\n",
              "  </tbody>\n",
              "</table>\n",
              "<p>5 rows × 36 columns</p>\n",
              "</div>\n",
              "      <button class=\"colab-df-convert\" onclick=\"convertToInteractive('df-6d34b829-63ac-47b4-a86a-edb60d664a72')\"\n",
              "              title=\"Convert this dataframe to an interactive table.\"\n",
              "              style=\"display:none;\">\n",
              "        \n",
              "  <svg xmlns=\"http://www.w3.org/2000/svg\" height=\"24px\"viewBox=\"0 0 24 24\"\n",
              "       width=\"24px\">\n",
              "    <path d=\"M0 0h24v24H0V0z\" fill=\"none\"/>\n",
              "    <path d=\"M18.56 5.44l.94 2.06.94-2.06 2.06-.94-2.06-.94-.94-2.06-.94 2.06-2.06.94zm-11 1L8.5 8.5l.94-2.06 2.06-.94-2.06-.94L8.5 2.5l-.94 2.06-2.06.94zm10 10l.94 2.06.94-2.06 2.06-.94-2.06-.94-.94-2.06-.94 2.06-2.06.94z\"/><path d=\"M17.41 7.96l-1.37-1.37c-.4-.4-.92-.59-1.43-.59-.52 0-1.04.2-1.43.59L10.3 9.45l-7.72 7.72c-.78.78-.78 2.05 0 2.83L4 21.41c.39.39.9.59 1.41.59.51 0 1.02-.2 1.41-.59l7.78-7.78 2.81-2.81c.8-.78.8-2.07 0-2.86zM5.41 20L4 18.59l7.72-7.72 1.47 1.35L5.41 20z\"/>\n",
              "  </svg>\n",
              "      </button>\n",
              "      \n",
              "  <style>\n",
              "    .colab-df-container {\n",
              "      display:flex;\n",
              "      flex-wrap:wrap;\n",
              "      gap: 12px;\n",
              "    }\n",
              "\n",
              "    .colab-df-convert {\n",
              "      background-color: #E8F0FE;\n",
              "      border: none;\n",
              "      border-radius: 50%;\n",
              "      cursor: pointer;\n",
              "      display: none;\n",
              "      fill: #1967D2;\n",
              "      height: 32px;\n",
              "      padding: 0 0 0 0;\n",
              "      width: 32px;\n",
              "    }\n",
              "\n",
              "    .colab-df-convert:hover {\n",
              "      background-color: #E2EBFA;\n",
              "      box-shadow: 0px 1px 2px rgba(60, 64, 67, 0.3), 0px 1px 3px 1px rgba(60, 64, 67, 0.15);\n",
              "      fill: #174EA6;\n",
              "    }\n",
              "\n",
              "    [theme=dark] .colab-df-convert {\n",
              "      background-color: #3B4455;\n",
              "      fill: #D2E3FC;\n",
              "    }\n",
              "\n",
              "    [theme=dark] .colab-df-convert:hover {\n",
              "      background-color: #434B5C;\n",
              "      box-shadow: 0px 1px 3px 1px rgba(0, 0, 0, 0.15);\n",
              "      filter: drop-shadow(0px 1px 2px rgba(0, 0, 0, 0.3));\n",
              "      fill: #FFFFFF;\n",
              "    }\n",
              "  </style>\n",
              "\n",
              "      <script>\n",
              "        const buttonEl =\n",
              "          document.querySelector('#df-6d34b829-63ac-47b4-a86a-edb60d664a72 button.colab-df-convert');\n",
              "        buttonEl.style.display =\n",
              "          google.colab.kernel.accessAllowed ? 'block' : 'none';\n",
              "\n",
              "        async function convertToInteractive(key) {\n",
              "          const element = document.querySelector('#df-6d34b829-63ac-47b4-a86a-edb60d664a72');\n",
              "          const dataTable =\n",
              "            await google.colab.kernel.invokeFunction('convertToInteractive',\n",
              "                                                     [key], {});\n",
              "          if (!dataTable) return;\n",
              "\n",
              "          const docLinkHtml = 'Like what you see? Visit the ' +\n",
              "            '<a target=\"_blank\" href=https://colab.research.google.com/notebooks/data_table.ipynb>data table notebook</a>'\n",
              "            + ' to learn more about interactive tables.';\n",
              "          element.innerHTML = '';\n",
              "          dataTable['output_type'] = 'display_data';\n",
              "          await google.colab.output.renderOutput(dataTable, element);\n",
              "          const docLink = document.createElement('div');\n",
              "          docLink.innerHTML = docLinkHtml;\n",
              "          element.appendChild(docLink);\n",
              "        }\n",
              "      </script>\n",
              "    </div>\n",
              "  </div>\n",
              "  "
            ]
          },
          "metadata": {},
          "execution_count": 241
        }
      ]
    },
    {
      "cell_type": "code",
      "source": [
        "data.describe()"
      ],
      "metadata": {
        "colab": {
          "base_uri": "https://localhost:8080/",
          "height": 204
        },
        "id": "uKNS-3Ut48cT",
        "outputId": "e6247e64-1207-4f3c-a244-db6594f48310"
      },
      "execution_count": null,
      "outputs": [
        {
          "output_type": "execute_result",
          "data": {
            "text/plain": [
              "         No Quarter Month Week  Team                        PIC   Client  \\\n",
              "count   873     873   873  873   873                        873      873   \n",
              "unique  873       1     1    2     5                        110      474   \n",
              "top       1       3     9   37  VVIP  207949 - Lê Thị Yến Quyên  3050381   \n",
              "freq      1     873   873  519   422                        100       41   \n",
              "\n",
              "       Account AccountNumber Bank  ...       Damage                   Content  \\\n",
              "count      873           873  873  ...          873                       873   \n",
              "unique       1             1    1  ...            1                       558   \n",
              "top                                ...               đền bù đơn hàng thất lạc   \n",
              "freq       873           873  873  ...          873                        24   \n",
              "\n",
              "                     Policy        PickWH      DeliverWH TransferDate  \\\n",
              "count                   873           873            873          873   \n",
              "unique                    4             1              1            3   \n",
              "top     Theo chính sách GHN                                 9/13/2022   \n",
              "freq                    514           873            873          354   \n",
              "\n",
              "       ResponsibleWH Region  Year     Time  \n",
              "count            873    873   873      873  \n",
              "unique             1      1     1        1  \n",
              "top                          2022  09/2022  \n",
              "freq             873    873   873      873  \n",
              "\n",
              "[4 rows x 36 columns]"
            ],
            "text/html": [
              "\n",
              "  <div id=\"df-75e2b622-70dd-4e6c-99d2-f18f41615f65\">\n",
              "    <div class=\"colab-df-container\">\n",
              "      <div>\n",
              "<style scoped>\n",
              "    .dataframe tbody tr th:only-of-type {\n",
              "        vertical-align: middle;\n",
              "    }\n",
              "\n",
              "    .dataframe tbody tr th {\n",
              "        vertical-align: top;\n",
              "    }\n",
              "\n",
              "    .dataframe thead th {\n",
              "        text-align: right;\n",
              "    }\n",
              "</style>\n",
              "<table border=\"1\" class=\"dataframe\">\n",
              "  <thead>\n",
              "    <tr style=\"text-align: right;\">\n",
              "      <th></th>\n",
              "      <th>No</th>\n",
              "      <th>Quarter</th>\n",
              "      <th>Month</th>\n",
              "      <th>Week</th>\n",
              "      <th>Team</th>\n",
              "      <th>PIC</th>\n",
              "      <th>Client</th>\n",
              "      <th>Account</th>\n",
              "      <th>AccountNumber</th>\n",
              "      <th>Bank</th>\n",
              "      <th>...</th>\n",
              "      <th>Damage</th>\n",
              "      <th>Content</th>\n",
              "      <th>Policy</th>\n",
              "      <th>PickWH</th>\n",
              "      <th>DeliverWH</th>\n",
              "      <th>TransferDate</th>\n",
              "      <th>ResponsibleWH</th>\n",
              "      <th>Region</th>\n",
              "      <th>Year</th>\n",
              "      <th>Time</th>\n",
              "    </tr>\n",
              "  </thead>\n",
              "  <tbody>\n",
              "    <tr>\n",
              "      <th>count</th>\n",
              "      <td>873</td>\n",
              "      <td>873</td>\n",
              "      <td>873</td>\n",
              "      <td>873</td>\n",
              "      <td>873</td>\n",
              "      <td>873</td>\n",
              "      <td>873</td>\n",
              "      <td>873</td>\n",
              "      <td>873</td>\n",
              "      <td>873</td>\n",
              "      <td>...</td>\n",
              "      <td>873</td>\n",
              "      <td>873</td>\n",
              "      <td>873</td>\n",
              "      <td>873</td>\n",
              "      <td>873</td>\n",
              "      <td>873</td>\n",
              "      <td>873</td>\n",
              "      <td>873</td>\n",
              "      <td>873</td>\n",
              "      <td>873</td>\n",
              "    </tr>\n",
              "    <tr>\n",
              "      <th>unique</th>\n",
              "      <td>873</td>\n",
              "      <td>1</td>\n",
              "      <td>1</td>\n",
              "      <td>2</td>\n",
              "      <td>5</td>\n",
              "      <td>110</td>\n",
              "      <td>474</td>\n",
              "      <td>1</td>\n",
              "      <td>1</td>\n",
              "      <td>1</td>\n",
              "      <td>...</td>\n",
              "      <td>1</td>\n",
              "      <td>558</td>\n",
              "      <td>4</td>\n",
              "      <td>1</td>\n",
              "      <td>1</td>\n",
              "      <td>3</td>\n",
              "      <td>1</td>\n",
              "      <td>1</td>\n",
              "      <td>1</td>\n",
              "      <td>1</td>\n",
              "    </tr>\n",
              "    <tr>\n",
              "      <th>top</th>\n",
              "      <td>1</td>\n",
              "      <td>3</td>\n",
              "      <td>9</td>\n",
              "      <td>37</td>\n",
              "      <td>VVIP</td>\n",
              "      <td>207949 - Lê Thị Yến Quyên</td>\n",
              "      <td>3050381</td>\n",
              "      <td></td>\n",
              "      <td></td>\n",
              "      <td></td>\n",
              "      <td>...</td>\n",
              "      <td></td>\n",
              "      <td>đền bù đơn hàng thất lạc</td>\n",
              "      <td>Theo chính sách GHN</td>\n",
              "      <td></td>\n",
              "      <td></td>\n",
              "      <td>9/13/2022</td>\n",
              "      <td></td>\n",
              "      <td></td>\n",
              "      <td>2022</td>\n",
              "      <td>09/2022</td>\n",
              "    </tr>\n",
              "    <tr>\n",
              "      <th>freq</th>\n",
              "      <td>1</td>\n",
              "      <td>873</td>\n",
              "      <td>873</td>\n",
              "      <td>519</td>\n",
              "      <td>422</td>\n",
              "      <td>100</td>\n",
              "      <td>41</td>\n",
              "      <td>873</td>\n",
              "      <td>873</td>\n",
              "      <td>873</td>\n",
              "      <td>...</td>\n",
              "      <td>873</td>\n",
              "      <td>24</td>\n",
              "      <td>514</td>\n",
              "      <td>873</td>\n",
              "      <td>873</td>\n",
              "      <td>354</td>\n",
              "      <td>873</td>\n",
              "      <td>873</td>\n",
              "      <td>873</td>\n",
              "      <td>873</td>\n",
              "    </tr>\n",
              "  </tbody>\n",
              "</table>\n",
              "<p>4 rows × 36 columns</p>\n",
              "</div>\n",
              "      <button class=\"colab-df-convert\" onclick=\"convertToInteractive('df-75e2b622-70dd-4e6c-99d2-f18f41615f65')\"\n",
              "              title=\"Convert this dataframe to an interactive table.\"\n",
              "              style=\"display:none;\">\n",
              "        \n",
              "  <svg xmlns=\"http://www.w3.org/2000/svg\" height=\"24px\"viewBox=\"0 0 24 24\"\n",
              "       width=\"24px\">\n",
              "    <path d=\"M0 0h24v24H0V0z\" fill=\"none\"/>\n",
              "    <path d=\"M18.56 5.44l.94 2.06.94-2.06 2.06-.94-2.06-.94-.94-2.06-.94 2.06-2.06.94zm-11 1L8.5 8.5l.94-2.06 2.06-.94-2.06-.94L8.5 2.5l-.94 2.06-2.06.94zm10 10l.94 2.06.94-2.06 2.06-.94-2.06-.94-.94-2.06-.94 2.06-2.06.94z\"/><path d=\"M17.41 7.96l-1.37-1.37c-.4-.4-.92-.59-1.43-.59-.52 0-1.04.2-1.43.59L10.3 9.45l-7.72 7.72c-.78.78-.78 2.05 0 2.83L4 21.41c.39.39.9.59 1.41.59.51 0 1.02-.2 1.41-.59l7.78-7.78 2.81-2.81c.8-.78.8-2.07 0-2.86zM5.41 20L4 18.59l7.72-7.72 1.47 1.35L5.41 20z\"/>\n",
              "  </svg>\n",
              "      </button>\n",
              "      \n",
              "  <style>\n",
              "    .colab-df-container {\n",
              "      display:flex;\n",
              "      flex-wrap:wrap;\n",
              "      gap: 12px;\n",
              "    }\n",
              "\n",
              "    .colab-df-convert {\n",
              "      background-color: #E8F0FE;\n",
              "      border: none;\n",
              "      border-radius: 50%;\n",
              "      cursor: pointer;\n",
              "      display: none;\n",
              "      fill: #1967D2;\n",
              "      height: 32px;\n",
              "      padding: 0 0 0 0;\n",
              "      width: 32px;\n",
              "    }\n",
              "\n",
              "    .colab-df-convert:hover {\n",
              "      background-color: #E2EBFA;\n",
              "      box-shadow: 0px 1px 2px rgba(60, 64, 67, 0.3), 0px 1px 3px 1px rgba(60, 64, 67, 0.15);\n",
              "      fill: #174EA6;\n",
              "    }\n",
              "\n",
              "    [theme=dark] .colab-df-convert {\n",
              "      background-color: #3B4455;\n",
              "      fill: #D2E3FC;\n",
              "    }\n",
              "\n",
              "    [theme=dark] .colab-df-convert:hover {\n",
              "      background-color: #434B5C;\n",
              "      box-shadow: 0px 1px 3px 1px rgba(0, 0, 0, 0.15);\n",
              "      filter: drop-shadow(0px 1px 2px rgba(0, 0, 0, 0.3));\n",
              "      fill: #FFFFFF;\n",
              "    }\n",
              "  </style>\n",
              "\n",
              "      <script>\n",
              "        const buttonEl =\n",
              "          document.querySelector('#df-75e2b622-70dd-4e6c-99d2-f18f41615f65 button.colab-df-convert');\n",
              "        buttonEl.style.display =\n",
              "          google.colab.kernel.accessAllowed ? 'block' : 'none';\n",
              "\n",
              "        async function convertToInteractive(key) {\n",
              "          const element = document.querySelector('#df-75e2b622-70dd-4e6c-99d2-f18f41615f65');\n",
              "          const dataTable =\n",
              "            await google.colab.kernel.invokeFunction('convertToInteractive',\n",
              "                                                     [key], {});\n",
              "          if (!dataTable) return;\n",
              "\n",
              "          const docLinkHtml = 'Like what you see? Visit the ' +\n",
              "            '<a target=\"_blank\" href=https://colab.research.google.com/notebooks/data_table.ipynb>data table notebook</a>'\n",
              "            + ' to learn more about interactive tables.';\n",
              "          element.innerHTML = '';\n",
              "          dataTable['output_type'] = 'display_data';\n",
              "          await google.colab.output.renderOutput(dataTable, element);\n",
              "          const docLink = document.createElement('div');\n",
              "          docLink.innerHTML = docLinkHtml;\n",
              "          element.appendChild(docLink);\n",
              "        }\n",
              "      </script>\n",
              "    </div>\n",
              "  </div>\n",
              "  "
            ]
          },
          "metadata": {},
          "execution_count": 242
        }
      ]
    },
    {
      "cell_type": "code",
      "source": [
        "#data.drop('Month',axis=1,inplace=True)"
      ],
      "metadata": {
        "id": "vJedMCAmY0cp"
      },
      "execution_count": null,
      "outputs": []
    },
    {
      "cell_type": "code",
      "source": [
        "data['TransferDate'].unique()"
      ],
      "metadata": {
        "colab": {
          "base_uri": "https://localhost:8080/"
        },
        "id": "aab80NLwMdg1",
        "outputId": "c7915a3a-7182-486f-af39-b54f62095545"
      },
      "execution_count": null,
      "outputs": [
        {
          "output_type": "execute_result",
          "data": {
            "text/plain": [
              "array(['9/6/2022', '9/9/2022', '9/13/2022'], dtype=object)"
            ]
          },
          "metadata": {},
          "execution_count": 244
        }
      ]
    },
    {
      "cell_type": "code",
      "source": [
        "len(data['TransferDate'])"
      ],
      "metadata": {
        "colab": {
          "base_uri": "https://localhost:8080/"
        },
        "id": "rFj4Kbo1Mm_P",
        "outputId": "aca7cc39-81db-475b-ba4d-f678f75647d3"
      },
      "execution_count": null,
      "outputs": [
        {
          "output_type": "execute_result",
          "data": {
            "text/plain": [
              "873"
            ]
          },
          "metadata": {},
          "execution_count": 245
        }
      ]
    },
    {
      "cell_type": "code",
      "source": [
        "trans = data['TransferDate'][0]"
      ],
      "metadata": {
        "id": "4SkwvGPIM1Jf"
      },
      "execution_count": null,
      "outputs": []
    },
    {
      "cell_type": "code",
      "source": [
        "trans"
      ],
      "metadata": {
        "colab": {
          "base_uri": "https://localhost:8080/",
          "height": 35
        },
        "id": "7cgNMh_mM9Wf",
        "outputId": "8afa6901-fda1-4c06-b8d7-4e7a9c0db835"
      },
      "execution_count": null,
      "outputs": [
        {
          "output_type": "execute_result",
          "data": {
            "text/plain": [
              "'9/6/2022'"
            ],
            "application/vnd.google.colaboratory.intrinsic+json": {
              "type": "string"
            }
          },
          "metadata": {},
          "execution_count": 247
        }
      ]
    },
    {
      "cell_type": "code",
      "source": [
        "a= []\n",
        "b= []\n",
        "data['TransferDate'].unique()\n",
        "for i in range(0,len(data['TransferDate'])):\n",
        "  #print(i)\n",
        "  trans = data['TransferDate'][i]\n",
        "  mon = int(data['Time'][i][:2])\n",
        "  yea = int(data['Year'][i])\n",
        "  try:\n",
        "    if trans.month == mon: a.append(trans)\n",
        "    elif trans.day == mon: \n",
        "      trans_re = datetime.datetime(trans.year,trans.day,trans.month)\n",
        "      a.append(trans_re)    \n",
        "  except:\n",
        "    try:\n",
        "      trans_rev = datetime.datetime(int(trans[-4:]),mon,int(trans[:2]))\n",
        "      a.append(trans_rev)\n",
        "    except:\n",
        "      eom = datetime.datetime(yea,mon,calendar.monthrange(yea,mon)[1])\n",
        "      a.append(eom)\n",
        "      b.append(trans)"
      ],
      "metadata": {
        "id": "w5mJq2ewkomP"
      },
      "execution_count": null,
      "outputs": []
    },
    {
      "cell_type": "code",
      "source": [
        "data['Month']= a"
      ],
      "metadata": {
        "id": "IKc8PBiJZA9E"
      },
      "execution_count": null,
      "outputs": []
    },
    {
      "cell_type": "code",
      "source": [
        "data['Month'].tail()"
      ],
      "metadata": {
        "colab": {
          "base_uri": "https://localhost:8080/"
        },
        "id": "_SPcm38aeewd",
        "outputId": "cc48e858-f39d-4add-eded-751a2e748d9a"
      },
      "execution_count": null,
      "outputs": [
        {
          "output_type": "execute_result",
          "data": {
            "text/plain": [
              "868   2022-09-30\n",
              "869   2022-09-30\n",
              "870   2022-09-30\n",
              "871   2022-09-30\n",
              "872   2022-09-30\n",
              "Name: Month, dtype: datetime64[ns]"
            ]
          },
          "metadata": {},
          "execution_count": 250
        }
      ]
    },
    {
      "cell_type": "code",
      "source": [
        "columns = ['No', 'Quarter', 'Month', 'Week', 'Team', 'PIC', 'Client', 'Account',\n",
        "            'AccountNumber', 'Bank', 'Branch', 'RequestType', 'CreateDate',\n",
        "            'OrderCode', 'Reason', 'Link', 'Compensation', 'Fee', 'COD', 'Fine',\n",
        "            'Leader', 'Claim', 'Manager', 'Price', 'Contract', 'DetailedReason',\n",
        "            'Damage', 'Content', 'Policy', 'PickWH', 'DeliverWH', 'TransferDate',\n",
        "            'ResponsibleWH', 'Region', 'Year', 'Time']\n",
        "template = pd.DataFrame(columns=columns)"
      ],
      "metadata": {
        "id": "IPK94lrOZaqg"
      },
      "execution_count": null,
      "outputs": []
    },
    {
      "cell_type": "code",
      "source": [
        "full = template.append(data)"
      ],
      "metadata": {
        "id": "2Zzd_tlyZilT"
      },
      "execution_count": null,
      "outputs": []
    },
    {
      "cell_type": "code",
      "source": [
        "full['Compensation'].tail(10)"
      ],
      "metadata": {
        "colab": {
          "base_uri": "https://localhost:8080/"
        },
        "id": "dsRJz_gGMpO9",
        "outputId": "adf6de9f-2455-498f-b8b5-c4d6eda39b4d"
      },
      "execution_count": null,
      "outputs": [
        {
          "output_type": "execute_result",
          "data": {
            "text/plain": [
              "863    134,000\n",
              "864    250,000\n",
              "865    200,000\n",
              "866    267,000\n",
              "867    134,000\n",
              "868    290,000\n",
              "869    228,000\n",
              "870    170,000\n",
              "871    200,000\n",
              "872    170,000\n",
              "Name: Compensation, dtype: object"
            ]
          },
          "metadata": {},
          "execution_count": 253
        }
      ]
    },
    {
      "cell_type": "code",
      "source": [
        "full['Fee'].tail(10)"
      ],
      "metadata": {
        "colab": {
          "base_uri": "https://localhost:8080/"
        },
        "id": "RKAssONGMq6t",
        "outputId": "852a4f60-302b-4bab-d216-3ec5992ebb0f"
      },
      "execution_count": null,
      "outputs": [
        {
          "output_type": "execute_result",
          "data": {
            "text/plain": [
              "863    \n",
              "864    \n",
              "865    \n",
              "866    \n",
              "867    \n",
              "868    \n",
              "869    \n",
              "870    \n",
              "871    \n",
              "872    \n",
              "Name: Fee, dtype: object"
            ]
          },
          "metadata": {},
          "execution_count": 254
        }
      ]
    },
    {
      "cell_type": "code",
      "source": [
        "full['COD'].tail(10)"
      ],
      "metadata": {
        "colab": {
          "base_uri": "https://localhost:8080/"
        },
        "id": "sNXBkAkzMsWd",
        "outputId": "c863277e-2cd1-455e-d4e2-503dac868c55"
      },
      "execution_count": null,
      "outputs": [
        {
          "output_type": "execute_result",
          "data": {
            "text/plain": [
              "863    134,000\n",
              "864    250,000\n",
              "865    200,000\n",
              "866    300,000\n",
              "867    134,000\n",
              "868    290,000\n",
              "869    228,000\n",
              "870    170,000\n",
              "871    200,000\n",
              "872    170,000\n",
              "Name: COD, dtype: object"
            ]
          },
          "metadata": {},
          "execution_count": 255
        }
      ]
    },
    {
      "cell_type": "code",
      "source": [
        "full['Price'].tail(10)"
      ],
      "metadata": {
        "colab": {
          "base_uri": "https://localhost:8080/"
        },
        "id": "4VlxlXFlCDMd",
        "outputId": "c6a7bf35-e64e-4a2b-a1ff-f7755c67386a"
      },
      "execution_count": null,
      "outputs": [
        {
          "output_type": "execute_result",
          "data": {
            "text/plain": [
              "863    134,000\n",
              "864    250,000\n",
              "865    200,000\n",
              "866    300,000\n",
              "867    134,000\n",
              "868    290,000\n",
              "869    228,000\n",
              "870    170,000\n",
              "871    200,000\n",
              "872    170,000\n",
              "Name: Price, dtype: object"
            ]
          },
          "metadata": {},
          "execution_count": 256
        }
      ]
    },
    {
      "cell_type": "code",
      "source": [
        "full[\"Fee\"] = full[\"Fee\"].apply(lambda x: x.replace(\",\", \"\"))\n",
        "full[\"Compensation\"] = full[\"Compensation\"].apply(lambda x: x.replace(\",\", \"\"))\n",
        "full[\"COD\"] = full[\"COD\"].apply(lambda x: x.replace(\",\", \"\"))\n",
        "full[\"Price\"]= full[\"Price\"].apply(lambda x: x.replace(\",\", \"\"))"
      ],
      "metadata": {
        "id": "u-rI2-sJEVb0"
      },
      "execution_count": null,
      "outputs": []
    },
    {
      "cell_type": "code",
      "source": [
        "full['Compensation'].tail(10)"
      ],
      "metadata": {
        "colab": {
          "base_uri": "https://localhost:8080/"
        },
        "id": "1wsGs7iqHq2P",
        "outputId": "28eaf130-0a78-4937-e2c9-6340eab558b9"
      },
      "execution_count": null,
      "outputs": [
        {
          "output_type": "execute_result",
          "data": {
            "text/plain": [
              "863    134000\n",
              "864    250000\n",
              "865    200000\n",
              "866    267000\n",
              "867    134000\n",
              "868    290000\n",
              "869    228000\n",
              "870    170000\n",
              "871    200000\n",
              "872    170000\n",
              "Name: Compensation, dtype: object"
            ]
          },
          "metadata": {},
          "execution_count": 258
        }
      ]
    },
    {
      "cell_type": "code",
      "source": [
        "full[\"Fee\"] = full[\"Fee\"].apply(lambda x: x.replace(\" \", \"\"))\n",
        "full[\"Compensation\"] = full[\"Compensation\"].apply(lambda x: x.replace(\" \", \"\"))\n",
        "full[\"COD\"] = full[\"COD\"].apply(lambda x: x.replace(\" \", \"\"))\n",
        "full[\"Price\"]= full[\"Price\"].apply(lambda x: x.replace(\" \", \"\"))"
      ],
      "metadata": {
        "id": "OJuLhR7sGS71"
      },
      "execution_count": null,
      "outputs": []
    },
    {
      "cell_type": "code",
      "source": [
        "full_01 = full[['OrderCode','Compensation','Fee','COD','Price']]\n",
        "full_01.tail(10)"
      ],
      "metadata": {
        "colab": {
          "base_uri": "https://localhost:8080/",
          "height": 363
        },
        "id": "xM0vOFfKFC6K",
        "outputId": "7ef5c02a-fe9d-4f0f-83df-bca8cc99c4e2"
      },
      "execution_count": null,
      "outputs": [
        {
          "output_type": "execute_result",
          "data": {
            "text/plain": [
              "    OrderCode Compensation Fee     COD   Price\n",
              "863  GABMLRWE       134000      134000  134000\n",
              "864  GABHX4G3       250000      250000  250000\n",
              "865  GAB3EN7P       200000      200000  200000\n",
              "866  GAB9CA6E       267000      300000  300000\n",
              "867  GAPX8N9B       134000      134000  134000\n",
              "868  GAPPR4BN       290000      290000  290000\n",
              "869  GAPDRNQC       228000      228000  228000\n",
              "870  GA37FQ4A       170000      170000  170000\n",
              "871  GA3LFYRY       200000      200000  200000\n",
              "872  GAB4KNY7       170000      170000  170000"
            ],
            "text/html": [
              "\n",
              "  <div id=\"df-3d18a874-988e-4714-a559-1ea974a981ab\">\n",
              "    <div class=\"colab-df-container\">\n",
              "      <div>\n",
              "<style scoped>\n",
              "    .dataframe tbody tr th:only-of-type {\n",
              "        vertical-align: middle;\n",
              "    }\n",
              "\n",
              "    .dataframe tbody tr th {\n",
              "        vertical-align: top;\n",
              "    }\n",
              "\n",
              "    .dataframe thead th {\n",
              "        text-align: right;\n",
              "    }\n",
              "</style>\n",
              "<table border=\"1\" class=\"dataframe\">\n",
              "  <thead>\n",
              "    <tr style=\"text-align: right;\">\n",
              "      <th></th>\n",
              "      <th>OrderCode</th>\n",
              "      <th>Compensation</th>\n",
              "      <th>Fee</th>\n",
              "      <th>COD</th>\n",
              "      <th>Price</th>\n",
              "    </tr>\n",
              "  </thead>\n",
              "  <tbody>\n",
              "    <tr>\n",
              "      <th>863</th>\n",
              "      <td>GABMLRWE</td>\n",
              "      <td>134000</td>\n",
              "      <td></td>\n",
              "      <td>134000</td>\n",
              "      <td>134000</td>\n",
              "    </tr>\n",
              "    <tr>\n",
              "      <th>864</th>\n",
              "      <td>GABHX4G3</td>\n",
              "      <td>250000</td>\n",
              "      <td></td>\n",
              "      <td>250000</td>\n",
              "      <td>250000</td>\n",
              "    </tr>\n",
              "    <tr>\n",
              "      <th>865</th>\n",
              "      <td>GAB3EN7P</td>\n",
              "      <td>200000</td>\n",
              "      <td></td>\n",
              "      <td>200000</td>\n",
              "      <td>200000</td>\n",
              "    </tr>\n",
              "    <tr>\n",
              "      <th>866</th>\n",
              "      <td>GAB9CA6E</td>\n",
              "      <td>267000</td>\n",
              "      <td></td>\n",
              "      <td>300000</td>\n",
              "      <td>300000</td>\n",
              "    </tr>\n",
              "    <tr>\n",
              "      <th>867</th>\n",
              "      <td>GAPX8N9B</td>\n",
              "      <td>134000</td>\n",
              "      <td></td>\n",
              "      <td>134000</td>\n",
              "      <td>134000</td>\n",
              "    </tr>\n",
              "    <tr>\n",
              "      <th>868</th>\n",
              "      <td>GAPPR4BN</td>\n",
              "      <td>290000</td>\n",
              "      <td></td>\n",
              "      <td>290000</td>\n",
              "      <td>290000</td>\n",
              "    </tr>\n",
              "    <tr>\n",
              "      <th>869</th>\n",
              "      <td>GAPDRNQC</td>\n",
              "      <td>228000</td>\n",
              "      <td></td>\n",
              "      <td>228000</td>\n",
              "      <td>228000</td>\n",
              "    </tr>\n",
              "    <tr>\n",
              "      <th>870</th>\n",
              "      <td>GA37FQ4A</td>\n",
              "      <td>170000</td>\n",
              "      <td></td>\n",
              "      <td>170000</td>\n",
              "      <td>170000</td>\n",
              "    </tr>\n",
              "    <tr>\n",
              "      <th>871</th>\n",
              "      <td>GA3LFYRY</td>\n",
              "      <td>200000</td>\n",
              "      <td></td>\n",
              "      <td>200000</td>\n",
              "      <td>200000</td>\n",
              "    </tr>\n",
              "    <tr>\n",
              "      <th>872</th>\n",
              "      <td>GAB4KNY7</td>\n",
              "      <td>170000</td>\n",
              "      <td></td>\n",
              "      <td>170000</td>\n",
              "      <td>170000</td>\n",
              "    </tr>\n",
              "  </tbody>\n",
              "</table>\n",
              "</div>\n",
              "      <button class=\"colab-df-convert\" onclick=\"convertToInteractive('df-3d18a874-988e-4714-a559-1ea974a981ab')\"\n",
              "              title=\"Convert this dataframe to an interactive table.\"\n",
              "              style=\"display:none;\">\n",
              "        \n",
              "  <svg xmlns=\"http://www.w3.org/2000/svg\" height=\"24px\"viewBox=\"0 0 24 24\"\n",
              "       width=\"24px\">\n",
              "    <path d=\"M0 0h24v24H0V0z\" fill=\"none\"/>\n",
              "    <path d=\"M18.56 5.44l.94 2.06.94-2.06 2.06-.94-2.06-.94-.94-2.06-.94 2.06-2.06.94zm-11 1L8.5 8.5l.94-2.06 2.06-.94-2.06-.94L8.5 2.5l-.94 2.06-2.06.94zm10 10l.94 2.06.94-2.06 2.06-.94-2.06-.94-.94-2.06-.94 2.06-2.06.94z\"/><path d=\"M17.41 7.96l-1.37-1.37c-.4-.4-.92-.59-1.43-.59-.52 0-1.04.2-1.43.59L10.3 9.45l-7.72 7.72c-.78.78-.78 2.05 0 2.83L4 21.41c.39.39.9.59 1.41.59.51 0 1.02-.2 1.41-.59l7.78-7.78 2.81-2.81c.8-.78.8-2.07 0-2.86zM5.41 20L4 18.59l7.72-7.72 1.47 1.35L5.41 20z\"/>\n",
              "  </svg>\n",
              "      </button>\n",
              "      \n",
              "  <style>\n",
              "    .colab-df-container {\n",
              "      display:flex;\n",
              "      flex-wrap:wrap;\n",
              "      gap: 12px;\n",
              "    }\n",
              "\n",
              "    .colab-df-convert {\n",
              "      background-color: #E8F0FE;\n",
              "      border: none;\n",
              "      border-radius: 50%;\n",
              "      cursor: pointer;\n",
              "      display: none;\n",
              "      fill: #1967D2;\n",
              "      height: 32px;\n",
              "      padding: 0 0 0 0;\n",
              "      width: 32px;\n",
              "    }\n",
              "\n",
              "    .colab-df-convert:hover {\n",
              "      background-color: #E2EBFA;\n",
              "      box-shadow: 0px 1px 2px rgba(60, 64, 67, 0.3), 0px 1px 3px 1px rgba(60, 64, 67, 0.15);\n",
              "      fill: #174EA6;\n",
              "    }\n",
              "\n",
              "    [theme=dark] .colab-df-convert {\n",
              "      background-color: #3B4455;\n",
              "      fill: #D2E3FC;\n",
              "    }\n",
              "\n",
              "    [theme=dark] .colab-df-convert:hover {\n",
              "      background-color: #434B5C;\n",
              "      box-shadow: 0px 1px 3px 1px rgba(0, 0, 0, 0.15);\n",
              "      filter: drop-shadow(0px 1px 2px rgba(0, 0, 0, 0.3));\n",
              "      fill: #FFFFFF;\n",
              "    }\n",
              "  </style>\n",
              "\n",
              "      <script>\n",
              "        const buttonEl =\n",
              "          document.querySelector('#df-3d18a874-988e-4714-a559-1ea974a981ab button.colab-df-convert');\n",
              "        buttonEl.style.display =\n",
              "          google.colab.kernel.accessAllowed ? 'block' : 'none';\n",
              "\n",
              "        async function convertToInteractive(key) {\n",
              "          const element = document.querySelector('#df-3d18a874-988e-4714-a559-1ea974a981ab');\n",
              "          const dataTable =\n",
              "            await google.colab.kernel.invokeFunction('convertToInteractive',\n",
              "                                                     [key], {});\n",
              "          if (!dataTable) return;\n",
              "\n",
              "          const docLinkHtml = 'Like what you see? Visit the ' +\n",
              "            '<a target=\"_blank\" href=https://colab.research.google.com/notebooks/data_table.ipynb>data table notebook</a>'\n",
              "            + ' to learn more about interactive tables.';\n",
              "          element.innerHTML = '';\n",
              "          dataTable['output_type'] = 'display_data';\n",
              "          await google.colab.output.renderOutput(dataTable, element);\n",
              "          const docLink = document.createElement('div');\n",
              "          docLink.innerHTML = docLinkHtml;\n",
              "          element.appendChild(docLink);\n",
              "        }\n",
              "      </script>\n",
              "    </div>\n",
              "  </div>\n",
              "  "
            ]
          },
          "metadata": {},
          "execution_count": 260
        }
      ]
    },
    {
      "cell_type": "code",
      "source": [
        "full[['OrderCode','Compensation','Fee','COD','Price']] = full[['OrderCode','Compensation','Fee','COD','Price']].apply(lambda x: x.str.strip()).replace('', np.nan)\n",
        "full[\"Fee\"].fillna(0,inplace=True)\n",
        "full[\"Price\"].fillna(0,inplace=True)\n",
        "full[\"COD\"].fillna(0,inplace=True)"
      ],
      "metadata": {
        "id": "kaGgmMKFP2Cn"
      },
      "execution_count": null,
      "outputs": []
    },
    {
      "cell_type": "code",
      "source": [
        "full[\"Fee\"]=full[\"Fee\"].values.astype('float')"
      ],
      "metadata": {
        "id": "VOHNoi7-7Kkl"
      },
      "execution_count": null,
      "outputs": []
    },
    {
      "cell_type": "code",
      "source": [
        "full[\"Compensation\"]=full[\"Compensation\"].values.astype('float')"
      ],
      "metadata": {
        "id": "vGd_mwSbF-Oe"
      },
      "execution_count": null,
      "outputs": []
    },
    {
      "cell_type": "code",
      "source": [
        "full[\"Compensation\"].tail(10)"
      ],
      "metadata": {
        "colab": {
          "base_uri": "https://localhost:8080/"
        },
        "id": "9_PmQoOLIWO8",
        "outputId": "b8adef67-6f74-41f5-cb20-466ba92dde02"
      },
      "execution_count": null,
      "outputs": [
        {
          "output_type": "execute_result",
          "data": {
            "text/plain": [
              "863    134000.0\n",
              "864    250000.0\n",
              "865    200000.0\n",
              "866    267000.0\n",
              "867    134000.0\n",
              "868    290000.0\n",
              "869    228000.0\n",
              "870    170000.0\n",
              "871    200000.0\n",
              "872    170000.0\n",
              "Name: Compensation, dtype: float64"
            ]
          },
          "metadata": {},
          "execution_count": 264
        }
      ]
    },
    {
      "cell_type": "code",
      "source": [
        "full[\"COD\"]=full[\"COD\"].astype('float')"
      ],
      "metadata": {
        "id": "30Oz-7n2F_j-"
      },
      "execution_count": null,
      "outputs": []
    },
    {
      "cell_type": "code",
      "source": [
        "full[\"Price\"]=full[\"Price\"].values.astype('float')"
      ],
      "metadata": {
        "id": "go8g1IIGEUU2"
      },
      "execution_count": null,
      "outputs": []
    },
    {
      "cell_type": "code",
      "source": [
        "data_category_range = full['Time'].unique()\n",
        "data_category_range = data_category_range.tolist()"
      ],
      "metadata": {
        "id": "cNdL_P_yhKT0"
      },
      "execution_count": null,
      "outputs": []
    },
    {
      "cell_type": "code",
      "source": [
        "data_category_range"
      ],
      "metadata": {
        "colab": {
          "base_uri": "https://localhost:8080/"
        },
        "id": "NinWDT007ks9",
        "outputId": "442ec288-2d97-45d8-d928-455f68586146"
      },
      "execution_count": null,
      "outputs": [
        {
          "output_type": "execute_result",
          "data": {
            "text/plain": [
              "['09/2022']"
            ]
          },
          "metadata": {},
          "execution_count": 268
        }
      ]
    },
    {
      "cell_type": "code",
      "source": [
        "# os.mkdir(\"/content/drive/MyDrive/Test/Combine/\"+'Compensation')"
      ],
      "metadata": {
        "id": "r9-GT8Atkqtm"
      },
      "execution_count": null,
      "outputs": []
    },
    {
      "cell_type": "code",
      "source": [
        "full['Quarter'].replace({'Quý 01':'Quý 1', 'Quý 02':'Quý 2',4:'Quý 4'}, inplace=True)"
      ],
      "metadata": {
        "id": "XoM-mUN-nzDw"
      },
      "execution_count": null,
      "outputs": []
    },
    {
      "cell_type": "code",
      "source": [
        "# for i, value in enumerate(data_category_range):\n",
        "#   print(value[3:]+'-'+value[:2]+'-01')"
      ],
      "metadata": {
        "id": "6bFSRHCUlQ8e"
      },
      "execution_count": null,
      "outputs": []
    },
    {
      "cell_type": "code",
      "source": [
        "project_id = 'ghn-cxcscc'\n",
        "!gcloud config set project {project_id}\n",
        "!gsutil ls"
      ],
      "metadata": {
        "colab": {
          "base_uri": "https://localhost:8080/"
        },
        "id": "ajOUNyfRdVOE",
        "outputId": "0223f3cc-5891-49fc-eadd-4737da396648"
      },
      "execution_count": null,
      "outputs": [
        {
          "output_type": "stream",
          "name": "stdout",
          "text": [
            "Updated property [core/project].\n",
            "gs://cs_compensation/\n",
            "gs://cs_fine/\n",
            "gs://cs_qc/\n",
            "gs://cx_gtb_data/\n",
            "gs://cx_gtc_data/\n",
            "gs://cx_juno/\n",
            "gs://cx_lazada/\n",
            "gs://cx_sme_ng_dgdv/\n",
            "gs://cx_vvip_data/\n"
          ]
        }
      ]
    },
    {
      "cell_type": "code",
      "source": [
        "bucket_name = 'cs_compensation'"
      ],
      "metadata": {
        "id": "LUnmOQBEdVqD"
      },
      "execution_count": null,
      "outputs": []
    },
    {
      "cell_type": "code",
      "source": [
        "for i,value in enumerate(data_category_range):\n",
        "    value_str = value[3:]+'-'+value[:2]+'-28'\n",
        "    print(value_str)\n",
        "    path_new=\"/content/drive/MyDrive/Buckets/Compensation_Coin/\"+'Time='+value_str\n",
        "    try:\n",
        "      os.mkdir(path_new)\n",
        "    except:\n",
        "      pass\n",
        "    full[full['Time'] == value].drop('Time',axis=1).to_csv(path_new+'/'+'data-00'+r'.csv',index=False,na_rep='N/A')\n",
        "    !gsutil -m cp -r {path_new}* gs://{bucket_name}/"
      ],
      "metadata": {
        "id": "bSPm7N1TlBXI",
        "colab": {
          "base_uri": "https://localhost:8080/"
        },
        "outputId": "9375081c-3820-4ccf-9c10-e041e5305cbf"
      },
      "execution_count": null,
      "outputs": [
        {
          "output_type": "stream",
          "name": "stdout",
          "text": [
            "2022-09-28\n",
            "Copying file:///content/drive/MyDrive/Buckets/Compensation_Coin/Time=2022-09-28/data-00.csv [Content-Type=text/csv]...\n",
            "/ [1/1 files][391.8 KiB/391.8 KiB] 100% Done                                    \n",
            "Operation completed over 1 objects/391.8 KiB.                                    \n"
          ]
        }
      ]
    },
    {
      "cell_type": "code",
      "source": [
        "c = set(a)\n",
        "c"
      ],
      "metadata": {
        "id": "qMw-Eh6emlk3"
      },
      "execution_count": null,
      "outputs": []
    },
    {
      "cell_type": "code",
      "source": [
        "value_str"
      ],
      "metadata": {
        "id": "bXemrDOUPB0N"
      },
      "execution_count": null,
      "outputs": []
    },
    {
      "cell_type": "code",
      "source": [],
      "metadata": {
        "id": "ybtg58DUcvDw"
      },
      "execution_count": null,
      "outputs": []
    }
  ]
}