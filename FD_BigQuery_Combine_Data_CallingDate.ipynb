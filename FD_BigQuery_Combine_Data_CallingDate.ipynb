{
  "cells": [
    {
      "cell_type": "markdown",
      "metadata": {
        "id": "view-in-github",
        "colab_type": "text"
      },
      "source": [
        "<a href=\"https://colab.research.google.com/github/AnLuu2506/AppleStore.Dataquest/blob/Data-visualization/FD_BigQuery_Combine_Data_CallingDate.ipynb\" target=\"_parent\"><img src=\"https://colab.research.google.com/assets/colab-badge.svg\" alt=\"Open In Colab\"/></a>"
      ]
    },
    {
      "cell_type": "code",
      "execution_count": null,
      "metadata": {
        "id": "CFaJ6poQSZh5"
      },
      "outputs": [],
      "source": [
        "from google.colab import auth\n",
        "auth.authenticate_user()\n",
        "import gspread\n",
        "from google.auth import default\n",
        "creds, _ = default()\n",
        "\n",
        "gc = gspread.authorize(creds)\n",
        "import warnings\n",
        "warnings.filterwarnings('ignore')"
      ]
    },
    {
      "cell_type": "code",
      "source": [
        "from google.colab import drive\n",
        "drive.mount('/content/drive')"
      ],
      "metadata": {
        "colab": {
          "base_uri": "https://localhost:8080/"
        },
        "id": "sk3aCypNB4mn",
        "outputId": "30d2e652-fdc6-4517-8049-f9aa09537670"
      },
      "execution_count": null,
      "outputs": [
        {
          "output_type": "stream",
          "name": "stdout",
          "text": [
            "Drive already mounted at /content/drive; to attempt to forcibly remount, call drive.mount(\"/content/drive\", force_remount=True).\n"
          ]
        }
      ]
    },
    {
      "cell_type": "code",
      "source": [
        "%cd \"/content/drive/MyDrive/Buckets/call_check/FD_2/\""
      ],
      "metadata": {
        "colab": {
          "base_uri": "https://localhost:8080/"
        },
        "id": "Qnk7nlAHVi09",
        "outputId": "77441371-91a2-4670-fd19-e4b23b5093ab"
      },
      "execution_count": null,
      "outputs": [
        {
          "output_type": "stream",
          "name": "stdout",
          "text": [
            "/content/drive/MyDrive/Buckets/call_check/FD_2\n"
          ]
        }
      ]
    },
    {
      "cell_type": "code",
      "execution_count": null,
      "metadata": {
        "id": "OJriaBZDtQqj"
      },
      "outputs": [],
      "source": [
        "import pandas as pd\n",
        "import numpy as np\n",
        "import re\n",
        "import os"
      ]
    },
    {
      "cell_type": "code",
      "source": [
        "import datetime as dt"
      ],
      "metadata": {
        "id": "Th9plzPkuEUG"
      },
      "execution_count": null,
      "outputs": []
    },
    {
      "cell_type": "code",
      "execution_count": null,
      "metadata": {
        "id": "BfMNzurasIRD"
      },
      "outputs": [],
      "source": [
        "def convert_list(wb,pattern):\n",
        "  listofFrame=[]\n",
        "  sheets = wb.worksheets()\n",
        "  for ws in sheets:\n",
        "    if re.match(pattern,ws.title):\n",
        "      rows=ws.get_all_values()\n",
        "      df=pd.DataFrame.from_records(rows[1:],columns=rows[0])\n",
        "      listofFrame.append(df)\n",
        "  return listofFrame"
      ]
    },
    {
      "cell_type": "code",
      "execution_count": null,
      "metadata": {
        "id": "-GQ1PP-DUx4J"
      },
      "outputs": [],
      "source": [
        "def convert_list_2 (wb,pattern_2):\n",
        "  listofFrame=[]\n",
        "  sheets = wb.worksheets()\n",
        "  for ws in sheets:\n",
        "    if re.match(pattern,ws.title):\n",
        "      rows=ws.get_all_values()\n",
        "      df=pd.DataFrame.from_records(rows[1:],columns=rows[0])\n",
        "      listofFrame.append(df)\n",
        "  return listofFrame"
      ]
    },
    {
      "cell_type": "code",
      "execution_count": null,
      "metadata": {
        "id": "inJicJBqLGiI"
      },
      "outputs": [],
      "source": [
        "def convert_date(col):\n",
        "  range1=[]\n",
        "  # range2=[]\n",
        "  for c in col.replace({np.nan:''}).str.replace('\\s{2,}', ' '):\n",
        "    if (c != ' ')&(c != ''):\n",
        "      fmt_date=[\"%Y-%m-%d %H:%M:%S\",\" %Y-%m-%d %H:%M:%S\",\"%Y-%m-%d %H:%M:%S.%f\",\"%Y-%m-%d %I:%M:%S %p\",\"%m/%d/%Y %H:%M:%S\",\"%m/%d/%Y %H:%M\",\"%m/%d/%Y %I:%M:%S %p\",\"%m/%d/%Y\"]\n",
        "      for fmt in fmt_date:\n",
        "        try:\n",
        "          a = datetime.strptime(c, fmt)\n",
        "          b = datetime.strftime(a, '%Y-%m-%d %H:%M:%S') \n",
        "          range1.append(b)\n",
        "          break\n",
        "        except ValueError:\n",
        "          # if fmt == \"%m/%d/%Y\": range2.append(c)\n",
        "          continue\n",
        "    else: range1.append('')\n",
        "  return range1"
      ]
    },
    {
      "cell_type": "code",
      "execution_count": null,
      "metadata": {
        "id": "eTsa4H-eIZjq"
      },
      "outputs": [],
      "source": [
        "def convert_short_date(col):\n",
        "  range1=[]\n",
        "  #range2=[]\n",
        "  for c in col.replace({np.nan:''}).str.replace('\\s{2,}', ' '):\n",
        "    if (c != ' ')&(c != ''):\n",
        "      for fmt in [\"%Y-%m-%d\",\"%m/%d/%Y\",\"%Y-%m-%d %H:%M:%S\"]:\n",
        "        try:\n",
        "          a = datetime.strptime(c, fmt)\n",
        "          b = datetime.strftime(a, '%Y-%m-%d') \n",
        "          range1.append(b)\n",
        "          break\n",
        "        except ValueError:\n",
        "          #if fmt == \"%m/%d/%Y\": range2.append(c)\n",
        "          continue\n",
        "    else: range1.append('')\n",
        "  return range1"
      ]
    },
    {
      "cell_type": "code",
      "execution_count": null,
      "metadata": {
        "id": "X5gL51l9tFdz"
      },
      "outputs": [],
      "source": [
        "pattern = \"[0-9]{2}.[0-9]{2}$\""
      ]
    },
    {
      "cell_type": "code",
      "execution_count": null,
      "metadata": {
        "id": "D31zv-yPWveK"
      },
      "outputs": [],
      "source": [
        "# wb1 =gc.open_by_url(\"https://docs.google.com/spreadsheets/d/1BObQ_lmfeBP83kr3qGQPQb76aLwPBiiiXZ-e6pf6qjY/\")\n",
        "# listFrame1 = convert_list(wb1,pattern)"
      ]
    },
    {
      "cell_type": "code",
      "execution_count": null,
      "metadata": {
        "id": "e4UgmsWYXCsS"
      },
      "outputs": [],
      "source": [
        "# wb2 =gc.open_by_url(\"https://docs.google.com/spreadsheets/d/1NmM_09a6i4ENQ4QHhCiZmRnYzYHd-7_iLc77-11zBzI/\")\n",
        "# listFrame2 = convert_list(wb2,pattern)"
      ]
    },
    {
      "cell_type": "code",
      "execution_count": null,
      "metadata": {
        "id": "Su6f53XH004X"
      },
      "outputs": [],
      "source": [
        "# wb3 =gc.open_by_url(\"https://docs.google.com/spreadsheets/d/1c6jmQXM-30Tc1z1fknRKd7nuNj4f668rTDt66hJSOKA/\")\n",
        "# listFrame3 = convert_list(wb3,pattern)"
      ]
    },
    {
      "cell_type": "code",
      "execution_count": null,
      "metadata": {
        "id": "K_R7-_xYzTOW"
      },
      "outputs": [],
      "source": [
        "# wb4 =gc.open_by_url(\"https://docs.google.com/spreadsheets/d/1lr7kt7-VwyPwbLPND58-M7hxUJhlhnR9Ory2FyJVyrc\")\n",
        "# listFrame4 = convert_list(wb4,pattern)"
      ]
    },
    {
      "cell_type": "code",
      "execution_count": null,
      "metadata": {
        "id": "3Cy_ZpeWzVBc"
      },
      "outputs": [],
      "source": [
        "# wb5 =gc.open_by_url(\"https://docs.google.com/spreadsheets/d/1wITjcRBx36euS9mlEBB0B9dLGgRl3_SyO6J9H1EVHwI\")\n",
        "# listFrame5 = convert_list(wb5,pattern)"
      ]
    },
    {
      "cell_type": "code",
      "execution_count": null,
      "metadata": {
        "id": "uRk8PMfDrEV0"
      },
      "outputs": [],
      "source": [
        "# wb6=gc.open_by_url(\"https://docs.google.com/spreadsheets/d/1B6vogSOMnQxapJ3d_ilsUzelNBTTjMqWyeMj4EUS1YI\")\n",
        "# listFrame6 = convert_list(wb6,pattern)"
      ]
    },
    {
      "cell_type": "code",
      "execution_count": null,
      "metadata": {
        "id": "nGwFL6A4qPX8"
      },
      "outputs": [],
      "source": [
        "# wb7=gc.open_by_url(\"https://docs.google.com/spreadsheets/d/1-Two7VJ6HOB2MIxiChKzQ4AcCIcsGEvd4NechdoG-C0\")\n",
        "# listFrame7 = convert_list(wb7,pattern)"
      ]
    },
    {
      "cell_type": "code",
      "execution_count": null,
      "metadata": {
        "id": "seqvvzv8sgaV"
      },
      "outputs": [],
      "source": [
        "#wb8=gc.open_by_url(\"https://docs.google.com/spreadsheets/d/1DNrhYKcPcsefTlI806K7O2tPONTbsZgLXOmKRWDPssc\")\n",
        "#listFrame8 = convert_list(wb8,pattern)"
      ]
    },
    {
      "cell_type": "code",
      "execution_count": null,
      "metadata": {
        "id": "xzahKgnAefbR"
      },
      "outputs": [],
      "source": [
        "def replace_values(list_to_replace, item_to_replace, item_to_replace_with):\n",
        "    return [item_to_replace_with if item == item_to_replace else item for item in list_to_replace]"
      ]
    },
    {
      "cell_type": "code",
      "execution_count": null,
      "metadata": {
        "id": "GTt5eISuV7sS"
      },
      "outputs": [],
      "source": [
        "#listFrame8[1:]"
      ]
    },
    {
      "cell_type": "code",
      "execution_count": null,
      "metadata": {
        "id": "TBQMRKJRV1RM"
      },
      "outputs": [],
      "source": [
        "#listFrame8.columns"
      ]
    },
    {
      "cell_type": "code",
      "execution_count": null,
      "metadata": {
        "id": "6uFWs763nnZm"
      },
      "outputs": [],
      "source": [
        "wb1=gc.open_by_url(\"https://docs.google.com/spreadsheets/d/1C9qlD_KAOFmGsF-kAURn8M6yCxj-h5wkBr8fJl9-w7c/\")\n",
        "listFrame1 = convert_list(wb1,pattern)"
      ]
    },
    {
      "cell_type": "code",
      "execution_count": null,
      "metadata": {
        "id": "bQPv-UFWvUK8"
      },
      "outputs": [],
      "source": [
        "wb2=gc.open_by_url(\"https://docs.google.com/spreadsheets/d/1HdkUQdbHsYIJ3mUiN-5OSUvISYZZ3kdsHcqS2I6Ipiw/\")\n",
        "listFrame2 = convert_list(wb2,pattern)"
      ]
    },
    {
      "cell_type": "code",
      "source": [
        "wb3=gc.open_by_url(\"https://docs.google.com/spreadsheets/d/1KoOe3_FbWr7Nkhyk0dA7L3Kedqbr69HsjYE1L2CZJYM/\")\n",
        "listFrame3 = convert_list(wb3,pattern)"
      ],
      "metadata": {
        "id": "TMrU5DoMNvkO"
      },
      "execution_count": null,
      "outputs": []
    },
    {
      "cell_type": "code",
      "source": [
        "wb4=gc.open_by_url(\"https://docs.google.com/spreadsheets/d/1NQAnMAaZHSHY-eJqFo6XyFmGkTsL4QtoXtwCsBhE1dw/\")\n",
        "listFrame4 = convert_list(wb4,pattern)"
      ],
      "metadata": {
        "id": "4FCkSg1wNvvO"
      },
      "execution_count": null,
      "outputs": []
    },
    {
      "cell_type": "code",
      "source": [
        "#listFrame = listFrame8 + listFrame9\n",
        "#listFrame = listFrame4 + listFrame3 + listFrame2 + listFrame1\n",
        "#listFrame = listFrame4 + listFrame1"
      ],
      "metadata": {
        "id": "uk6WdV5opdLp"
      },
      "execution_count": null,
      "outputs": []
    },
    {
      "cell_type": "code",
      "source": [
        "#'Lí do đơn hàng thất bại 1', 'Lí do đơn hàng thất bại 2',\n",
        "#       'Lí do đơn hàng thất bại 2\\n(KO ĐIỀN'\n",
        "#       'Lí do đơn hàng thất bại chi tiết 1',\n",
        "#       'Lí do đơn hàng thất bại 1\\n(KO ĐIÊN)',\n",
        "#       'Q3: Bên em xác nhận sẽ giao lại cho anh/chị đơn hàng này.  Anh/chị muốn nhận đơn hàng vào thời gian nào để NV giao hàng gọi đến cho bên Mình ạ?',\n",
        "#       'Kiểm tra lí do Shipper', 'Call Center Note',\n",
        "#       'Lí do đơn hàng thất bại chi tiết 2',\n",
        "#       'Lí do đơn hàng thất bại 2\\n(KO ĐIỀN)'"
      ],
      "metadata": {
        "id": "Uw_c9vcfC_Vr"
      },
      "execution_count": null,
      "outputs": []
    },
    {
      "cell_type": "code",
      "source": [
        "#for i in range(2,len(listFrame)+1):\n",
        "#  replace(r'\\s+|\\\\n', ' ', regex=True)\n",
        "#  replaced_list = replace_values(listFrame[-i], f'Lí do đơn hàng thất bại 1\\n(KO ĐIÊN)', 'Lí do đơn hàng thất bại 1')\n",
        "#  replaced_list = replace_values(listFrame[-i], f'Lí do đơn hàng thất bại 2 (KO ĐIỀN', 'Lí do đơn hàng thất bại 2')\n",
        "#  replaced_list = replace_values(listFrame[-i], f'Lí do đơn hàng thất bại 2\\n(KO ĐIỀN)', 'Lí do đơn hàng thất bại 2')"
      ],
      "metadata": {
        "id": "BDzFpqaZpyZe"
      },
      "execution_count": null,
      "outputs": []
    },
    {
      "cell_type": "code",
      "source": [
        "#for i in range(2,len(listFrame2)+1):\n",
        "#  replaced_list = replace_values(listFrame2[-i], 'Lí do đơn hàng thất bại 2 (KO ĐIỀN', 'Lí do đơn hàng thất bại 2 (KO ĐIỀN)')\n",
        "#  replaced_list = replace_values(listFrame2[-i], 'Lí do đơn hàng thất bại 1', 'Lí do đơn hàng thất bại 1 (KO ĐIÊN)')\n",
        "#  replaced_list = replace_values(listFrame2[-i], 'Lí do đơn hàng thất bại 2', 'Lí do đơn hàng thất bại 2 (KO ĐIỀN)')"
      ],
      "metadata": {
        "id": "qkz1g1XrpQ5D"
      },
      "execution_count": null,
      "outputs": []
    },
    {
      "cell_type": "code",
      "source": [
        "#for i in range(2,len(listFrame3)+1):\n",
        "#  replaced_list = replace_values(listFrame3[-i], 'Lí do đơn hàng thất bại 2 (KO ĐIỀN', 'Lí do đơn hàng thất bại 2 (KO ĐIỀN)')\n",
        "#  replaced_list = replace_values(listFrame3[-i], 'Lí do đơn hàng thất bại 1', 'Lí do đơn hàng thất bại 1 (KO ĐIÊN)')\n",
        "#  replaced_list = replace_values(listFrame3[-i], 'Lí do đơn hàng thất bại 2', 'Lí do đơn hàng thất bại 2 (KO ĐIỀN)')"
      ],
      "metadata": {
        "id": "oRWGLJD-qSFJ"
      },
      "execution_count": null,
      "outputs": []
    },
    {
      "cell_type": "code",
      "source": [
        "#for i in range(2,len(listFrame4)+1):\n",
        "#  replaced_list = replace_values(listFrame4[-i], 'Lí do đơn hàng thất bại 2 (KO ĐIỀN', 'Lí do đơn hàng thất bại 2\\n(KO ĐIỀN)')\n",
        "#  replaced_list = replace_values(listFrame4[-i], 'Lí do đơn hàng thất bại 1', 'Lí do đơn hàng thất bại 1\\n(KO ĐIÊN)')\n",
        "#  replaced_list = replace_values(listFrame4[-1], 'Lí do đơn hàng thất bại 2', 'Lí do đơn hàng thất bại 2\\n(KO ĐIỀN)')"
      ],
      "metadata": {
        "id": "to9w3j_CqSS0"
      },
      "execution_count": null,
      "outputs": []
    },
    {
      "cell_type": "code",
      "execution_count": null,
      "metadata": {
        "id": "JMQz5696YMJZ"
      },
      "outputs": [],
      "source": [
        "data_01=listFrame1[-1] #Xóa ngày 03.07 vì ko có data\n",
        "for i in range(2,len(listFrame1)+1):\n",
        "  listFrame1[-i] = listFrame1[-i].reset_index(drop=True)\n",
        "  data_01=data_01.append(listFrame1[-i])"
      ]
    },
    {
      "cell_type": "code",
      "source": [
        "data_01.head()"
      ],
      "metadata": {
        "colab": {
          "base_uri": "https://localhost:8080/",
          "height": 647
        },
        "id": "mF9ugP6jtBSU",
        "outputId": "fb3831a9-5498-44ca-9fd2-543f2257d287"
      },
      "execution_count": null,
      "outputs": [
        {
          "output_type": "execute_result",
          "data": {
            "text/plain": [
              "    FirstDeliveredTime            OrderCode CustomerName CustomerPhone  \\\n",
              "0  2022-10-01 10:04:22  EKW2022092700548690          Sơn    0359873889   \n",
              "1  2022-10-01 10:18:19             GAWKUHKM    Xuân Tiến    0987631229   \n",
              "2  2022-10-01 10:19:11             GAWKNXAY     Tâm Thii   84793418825   \n",
              "3  2022-10-01 10:19:41   GHNMP0022860673VNA   tuyết hồng    0814655601   \n",
              "4  2022-10-01 10:55:38             GAWK9LU4  Phuong Linh    0888675543   \n",
              "\n",
              "  ClientID             ClientContactName  \\\n",
              "0   796163                   HCM Quận 12   \n",
              "1  3347095                    đỗ phương    \n",
              "2    18692  Công ty Huy Tuấn (Chuyên sỉ)   \n",
              "3     9794                          none   \n",
              "4    13745  Boxme Tan Binh - Ho Chi Minh   \n",
              "\n",
              "                                             Content CurrentStatus ReturnInfo  \\\n",
              "0              Testoherb 1 Hour [G000048395] [5 cái]       storing              \n",
              "1                 điện thoạii 110i- [đt110i] [1 cái]       storing              \n",
              "2  Túi thơm thảo mộc treo phòng, treo tủ quần áo ...       storing              \n",
              "3  Áo Thun Nam Nữ Form Rộng Hàn Quốc In Hình Thiê...       storing              \n",
              "4  Kem Dưỡng Làm Mờ Vết Thâm Nám AHC Peony Bright...       storing              \n",
              "\n",
              "  DeliveryWarehouseID  ... Tình trạng ĐH  Link vé Tình trạng ticket lần 1  \\\n",
              "0            20821000  ...                                                  \n",
              "1            20648000  ...                                                  \n",
              "2            20648000  ...                                                  \n",
              "3            20648000  ...                                                  \n",
              "4            20648000  ...                                                  \n",
              "\n",
              "  Tình trạng ticket lần 2 Tình trạng ticket lần 3 Tình trạng ticket final  \\\n",
              "0                                                                           \n",
              "1                                                                           \n",
              "2                                                                           \n",
              "3                                                                           \n",
              "4                                                                           \n",
              "\n",
              "  Trạng thái ĐH Giao Lần 1 Trạng thái ĐH Giao Lần 2 Trạng thái ĐH Giao Lần 3  \\\n",
              "0                                                                              \n",
              "1                                                                              \n",
              "2                                                                              \n",
              "3                                                                              \n",
              "4                                                                              \n",
              "\n",
              "  Trạng thái ĐH Giao Lần 4  \n",
              "0                           \n",
              "1                           \n",
              "2                           \n",
              "3                           \n",
              "4                           \n",
              "\n",
              "[5 rows x 43 columns]"
            ],
            "text/html": [
              "\n",
              "  <div id=\"df-26157aba-568e-45e2-b88d-d486090aba1b\">\n",
              "    <div class=\"colab-df-container\">\n",
              "      <div>\n",
              "<style scoped>\n",
              "    .dataframe tbody tr th:only-of-type {\n",
              "        vertical-align: middle;\n",
              "    }\n",
              "\n",
              "    .dataframe tbody tr th {\n",
              "        vertical-align: top;\n",
              "    }\n",
              "\n",
              "    .dataframe thead th {\n",
              "        text-align: right;\n",
              "    }\n",
              "</style>\n",
              "<table border=\"1\" class=\"dataframe\">\n",
              "  <thead>\n",
              "    <tr style=\"text-align: right;\">\n",
              "      <th></th>\n",
              "      <th>FirstDeliveredTime</th>\n",
              "      <th>OrderCode</th>\n",
              "      <th>CustomerName</th>\n",
              "      <th>CustomerPhone</th>\n",
              "      <th>ClientID</th>\n",
              "      <th>ClientContactName</th>\n",
              "      <th>Content</th>\n",
              "      <th>CurrentStatus</th>\n",
              "      <th>ReturnInfo</th>\n",
              "      <th>DeliveryWarehouseID</th>\n",
              "      <th>...</th>\n",
              "      <th>Tình trạng ĐH</th>\n",
              "      <th>Link vé</th>\n",
              "      <th>Tình trạng ticket lần 1</th>\n",
              "      <th>Tình trạng ticket lần 2</th>\n",
              "      <th>Tình trạng ticket lần 3</th>\n",
              "      <th>Tình trạng ticket final</th>\n",
              "      <th>Trạng thái ĐH Giao Lần 1</th>\n",
              "      <th>Trạng thái ĐH Giao Lần 2</th>\n",
              "      <th>Trạng thái ĐH Giao Lần 3</th>\n",
              "      <th>Trạng thái ĐH Giao Lần 4</th>\n",
              "    </tr>\n",
              "  </thead>\n",
              "  <tbody>\n",
              "    <tr>\n",
              "      <th>0</th>\n",
              "      <td>2022-10-01 10:04:22</td>\n",
              "      <td>EKW2022092700548690</td>\n",
              "      <td>Sơn</td>\n",
              "      <td>0359873889</td>\n",
              "      <td>796163</td>\n",
              "      <td>HCM Quận 12</td>\n",
              "      <td>Testoherb 1 Hour [G000048395] [5 cái]</td>\n",
              "      <td>storing</td>\n",
              "      <td></td>\n",
              "      <td>20821000</td>\n",
              "      <td>...</td>\n",
              "      <td></td>\n",
              "      <td></td>\n",
              "      <td></td>\n",
              "      <td></td>\n",
              "      <td></td>\n",
              "      <td></td>\n",
              "      <td></td>\n",
              "      <td></td>\n",
              "      <td></td>\n",
              "      <td></td>\n",
              "    </tr>\n",
              "    <tr>\n",
              "      <th>1</th>\n",
              "      <td>2022-10-01 10:18:19</td>\n",
              "      <td>GAWKUHKM</td>\n",
              "      <td>Xuân Tiến</td>\n",
              "      <td>0987631229</td>\n",
              "      <td>3347095</td>\n",
              "      <td>đỗ phương</td>\n",
              "      <td>điện thoạii 110i- [đt110i] [1 cái]</td>\n",
              "      <td>storing</td>\n",
              "      <td></td>\n",
              "      <td>20648000</td>\n",
              "      <td>...</td>\n",
              "      <td></td>\n",
              "      <td></td>\n",
              "      <td></td>\n",
              "      <td></td>\n",
              "      <td></td>\n",
              "      <td></td>\n",
              "      <td></td>\n",
              "      <td></td>\n",
              "      <td></td>\n",
              "      <td></td>\n",
              "    </tr>\n",
              "    <tr>\n",
              "      <th>2</th>\n",
              "      <td>2022-10-01 10:19:11</td>\n",
              "      <td>GAWKNXAY</td>\n",
              "      <td>Tâm Thii</td>\n",
              "      <td>84793418825</td>\n",
              "      <td>18692</td>\n",
              "      <td>Công ty Huy Tuấn (Chuyên sỉ)</td>\n",
              "      <td>Túi thơm thảo mộc treo phòng, treo tủ quần áo ...</td>\n",
              "      <td>storing</td>\n",
              "      <td></td>\n",
              "      <td>20648000</td>\n",
              "      <td>...</td>\n",
              "      <td></td>\n",
              "      <td></td>\n",
              "      <td></td>\n",
              "      <td></td>\n",
              "      <td></td>\n",
              "      <td></td>\n",
              "      <td></td>\n",
              "      <td></td>\n",
              "      <td></td>\n",
              "      <td></td>\n",
              "    </tr>\n",
              "    <tr>\n",
              "      <th>3</th>\n",
              "      <td>2022-10-01 10:19:41</td>\n",
              "      <td>GHNMP0022860673VNA</td>\n",
              "      <td>tuyết hồng</td>\n",
              "      <td>0814655601</td>\n",
              "      <td>9794</td>\n",
              "      <td>none</td>\n",
              "      <td>Áo Thun Nam Nữ Form Rộng Hàn Quốc In Hình Thiê...</td>\n",
              "      <td>storing</td>\n",
              "      <td></td>\n",
              "      <td>20648000</td>\n",
              "      <td>...</td>\n",
              "      <td></td>\n",
              "      <td></td>\n",
              "      <td></td>\n",
              "      <td></td>\n",
              "      <td></td>\n",
              "      <td></td>\n",
              "      <td></td>\n",
              "      <td></td>\n",
              "      <td></td>\n",
              "      <td></td>\n",
              "    </tr>\n",
              "    <tr>\n",
              "      <th>4</th>\n",
              "      <td>2022-10-01 10:55:38</td>\n",
              "      <td>GAWK9LU4</td>\n",
              "      <td>Phuong Linh</td>\n",
              "      <td>0888675543</td>\n",
              "      <td>13745</td>\n",
              "      <td>Boxme Tan Binh - Ho Chi Minh</td>\n",
              "      <td>Kem Dưỡng Làm Mờ Vết Thâm Nám AHC Peony Bright...</td>\n",
              "      <td>storing</td>\n",
              "      <td></td>\n",
              "      <td>20648000</td>\n",
              "      <td>...</td>\n",
              "      <td></td>\n",
              "      <td></td>\n",
              "      <td></td>\n",
              "      <td></td>\n",
              "      <td></td>\n",
              "      <td></td>\n",
              "      <td></td>\n",
              "      <td></td>\n",
              "      <td></td>\n",
              "      <td></td>\n",
              "    </tr>\n",
              "  </tbody>\n",
              "</table>\n",
              "<p>5 rows × 43 columns</p>\n",
              "</div>\n",
              "      <button class=\"colab-df-convert\" onclick=\"convertToInteractive('df-26157aba-568e-45e2-b88d-d486090aba1b')\"\n",
              "              title=\"Convert this dataframe to an interactive table.\"\n",
              "              style=\"display:none;\">\n",
              "        \n",
              "  <svg xmlns=\"http://www.w3.org/2000/svg\" height=\"24px\"viewBox=\"0 0 24 24\"\n",
              "       width=\"24px\">\n",
              "    <path d=\"M0 0h24v24H0V0z\" fill=\"none\"/>\n",
              "    <path d=\"M18.56 5.44l.94 2.06.94-2.06 2.06-.94-2.06-.94-.94-2.06-.94 2.06-2.06.94zm-11 1L8.5 8.5l.94-2.06 2.06-.94-2.06-.94L8.5 2.5l-.94 2.06-2.06.94zm10 10l.94 2.06.94-2.06 2.06-.94-2.06-.94-.94-2.06-.94 2.06-2.06.94z\"/><path d=\"M17.41 7.96l-1.37-1.37c-.4-.4-.92-.59-1.43-.59-.52 0-1.04.2-1.43.59L10.3 9.45l-7.72 7.72c-.78.78-.78 2.05 0 2.83L4 21.41c.39.39.9.59 1.41.59.51 0 1.02-.2 1.41-.59l7.78-7.78 2.81-2.81c.8-.78.8-2.07 0-2.86zM5.41 20L4 18.59l7.72-7.72 1.47 1.35L5.41 20z\"/>\n",
              "  </svg>\n",
              "      </button>\n",
              "      \n",
              "  <style>\n",
              "    .colab-df-container {\n",
              "      display:flex;\n",
              "      flex-wrap:wrap;\n",
              "      gap: 12px;\n",
              "    }\n",
              "\n",
              "    .colab-df-convert {\n",
              "      background-color: #E8F0FE;\n",
              "      border: none;\n",
              "      border-radius: 50%;\n",
              "      cursor: pointer;\n",
              "      display: none;\n",
              "      fill: #1967D2;\n",
              "      height: 32px;\n",
              "      padding: 0 0 0 0;\n",
              "      width: 32px;\n",
              "    }\n",
              "\n",
              "    .colab-df-convert:hover {\n",
              "      background-color: #E2EBFA;\n",
              "      box-shadow: 0px 1px 2px rgba(60, 64, 67, 0.3), 0px 1px 3px 1px rgba(60, 64, 67, 0.15);\n",
              "      fill: #174EA6;\n",
              "    }\n",
              "\n",
              "    [theme=dark] .colab-df-convert {\n",
              "      background-color: #3B4455;\n",
              "      fill: #D2E3FC;\n",
              "    }\n",
              "\n",
              "    [theme=dark] .colab-df-convert:hover {\n",
              "      background-color: #434B5C;\n",
              "      box-shadow: 0px 1px 3px 1px rgba(0, 0, 0, 0.15);\n",
              "      filter: drop-shadow(0px 1px 2px rgba(0, 0, 0, 0.3));\n",
              "      fill: #FFFFFF;\n",
              "    }\n",
              "  </style>\n",
              "\n",
              "      <script>\n",
              "        const buttonEl =\n",
              "          document.querySelector('#df-26157aba-568e-45e2-b88d-d486090aba1b button.colab-df-convert');\n",
              "        buttonEl.style.display =\n",
              "          google.colab.kernel.accessAllowed ? 'block' : 'none';\n",
              "\n",
              "        async function convertToInteractive(key) {\n",
              "          const element = document.querySelector('#df-26157aba-568e-45e2-b88d-d486090aba1b');\n",
              "          const dataTable =\n",
              "            await google.colab.kernel.invokeFunction('convertToInteractive',\n",
              "                                                     [key], {});\n",
              "          if (!dataTable) return;\n",
              "\n",
              "          const docLinkHtml = 'Like what you see? Visit the ' +\n",
              "            '<a target=\"_blank\" href=https://colab.research.google.com/notebooks/data_table.ipynb>data table notebook</a>'\n",
              "            + ' to learn more about interactive tables.';\n",
              "          element.innerHTML = '';\n",
              "          dataTable['output_type'] = 'display_data';\n",
              "          await google.colab.output.renderOutput(dataTable, element);\n",
              "          const docLink = document.createElement('div');\n",
              "          docLink.innerHTML = docLinkHtml;\n",
              "          element.appendChild(docLink);\n",
              "        }\n",
              "      </script>\n",
              "    </div>\n",
              "  </div>\n",
              "  "
            ]
          },
          "metadata": {},
          "execution_count": 285
        }
      ]
    },
    {
      "cell_type": "code",
      "source": [
        "data_01['month']='2022-10-01'"
      ],
      "metadata": {
        "id": "dT9N0FB4pjto"
      },
      "execution_count": null,
      "outputs": []
    },
    {
      "cell_type": "code",
      "source": [
        "data_01.columns"
      ],
      "metadata": {
        "colab": {
          "base_uri": "https://localhost:8080/"
        },
        "id": "uOlh0_TJQzog",
        "outputId": "161e9bac-a987-4f32-f663-8baf6776cdd4"
      },
      "execution_count": null,
      "outputs": [
        {
          "output_type": "execute_result",
          "data": {
            "text/plain": [
              "Index(['FirstDeliveredTime', 'OrderCode', 'CustomerName', 'CustomerPhone',\n",
              "       'ClientID', 'ClientContactName', 'Content', 'CurrentStatus',\n",
              "       'ReturnInfo', 'DeliveryWarehouseID', 'DeliveryWarehouse', 'NumDeliver',\n",
              "       'DriverID', 'DriverName', 'FirstFailDeliveryNote', 'TripCode',\n",
              "       'TimeLog', 'Calling Date\\n(Ngày/Tháng/Năm', 'PIC', 'Thành công',\n",
              "       'Lý do cuộc gọi thất bại',\n",
              "       'Q1. Đối với sản phẩm này, Anh/chị cho em hỏi là NV giao hàng của bên em có gọi điện thoại cho mình trước khi giao không ạ? (Có thể cung cấp thời gian giao hàng)\\n',\n",
              "       'Q1a. Anh chị có nhận được tin nhắn từ nhân viên giao hàng không?',\n",
              "       'Q2: Anh/chị vui lòng cho em hỏi lý do đơn hàng giao không thành công là gì vậy ạ?',\n",
              "       'Lí do đơn hàng thất bại chi tiết 1',\n",
              "       'Lí do đơn hàng thất bại 1\\n(KO ĐIÊN)',\n",
              "       'Q3: Bên em xác nhận sẽ giao lại cho anh/chị đơn hàng này.  Anh/chị muốn nhận đơn hàng vào thời gian nào để NV giao hàng gọi đến cho bên Mình ạ?',\n",
              "       'Kiểm tra lí do Shipper', 'Call Center Note',\n",
              "       'Lí do đơn hàng thất bại chi tiết 2',\n",
              "       'Lí do đơn hàng thất bại 2\\n(KO ĐIỀN)', 'CX Note (Past)',\n",
              "       'Hướng xử lý Bưu cục', 'Tình trạng ĐH ', 'Link vé',\n",
              "       'Tình trạng ticket lần 1', 'Tình trạng ticket lần 2',\n",
              "       'Tình trạng ticket lần 3', 'Tình trạng ticket final',\n",
              "       'Trạng thái ĐH Giao Lần 1', 'Trạng thái ĐH Giao Lần 2',\n",
              "       'Trạng thái ĐH Giao Lần 3', 'Trạng thái ĐH Giao Lần 4', 'month'],\n",
              "      dtype='object')"
            ]
          },
          "metadata": {},
          "execution_count": 287
        }
      ]
    },
    {
      "cell_type": "code",
      "source": [
        "data_01 = data_01[data_01['OrderCode'].notna()]\n",
        "data_01 = data_01[data_01['OrderCode']!='']\n",
        "data_01 = data_01[data_01['OrderCode']!='#N/A']\n",
        "#data_01 = data_01[data_01['Thành công'].notna()]\n",
        "#data_01 = data_01[data_01['Thành công']!='']\n",
        "data_01 = data_01[data_01['Thành công']!='#N/A']\n",
        "data_01['Q2: Anh/chị vui lòng cho em hỏi lý do đơn hàng giao không thành công là gì vậy ạ?'] = data_01['Q2: Anh/chị vui lòng cho em hỏi lý do đơn hàng giao không thành công là gì vậy ạ?'].apply(lambda x: x.replace(\"  \",\"\"))\n",
        "data_01['Q2: Anh/chị vui lòng cho em hỏi lý do đơn hàng giao không thành công là gì vậy ạ?'] = data_01['Q2: Anh/chị vui lòng cho em hỏi lý do đơn hàng giao không thành công là gì vậy ạ?'].apply(lambda x: x.replace(\"\\r\",\"\"))\n",
        "data_01['Q3: Bên em xác nhận sẽ giao lại cho anh/chị đơn hàng này.  Anh/chị muốn nhận đơn hàng vào thời gian nào để NV giao hàng gọi đến cho bên Mình ạ?'] = data_01['Q3: Bên em xác nhận sẽ giao lại cho anh/chị đơn hàng này.  Anh/chị muốn nhận đơn hàng vào thời gian nào để NV giao hàng gọi đến cho bên Mình ạ?'].apply(lambda x: x.replace(\"  \",\"\"))\n",
        "data_01['Q3: Bên em xác nhận sẽ giao lại cho anh/chị đơn hàng này.  Anh/chị muốn nhận đơn hàng vào thời gian nào để NV giao hàng gọi đến cho bên Mình ạ?'] = data_01['Q3: Bên em xác nhận sẽ giao lại cho anh/chị đơn hàng này.  Anh/chị muốn nhận đơn hàng vào thời gian nào để NV giao hàng gọi đến cho bên Mình ạ?'].apply(lambda x: x.replace(\"\\r\",\"\"))\n",
        "data_01.drop_duplicates(subset=['OrderCode'],keep='first', inplace=True, ignore_index=False)"
      ],
      "metadata": {
        "id": "a2WLQO7UzPT8"
      },
      "execution_count": null,
      "outputs": []
    },
    {
      "cell_type": "code",
      "source": [
        "data_01['Q2: Anh/chị vui lòng cho em hỏi lý do đơn hàng giao không thành công là gì vậy ạ?'][data_01['OrderCode']=='GAWH7FGE_PR']"
      ],
      "metadata": {
        "colab": {
          "base_uri": "https://localhost:8080/"
        },
        "id": "X4r3NG--XzEs",
        "outputId": "1482d177-c213-4f0b-b576-98714b2c305e"
      },
      "execution_count": null,
      "outputs": [
        {
          "output_type": "execute_result",
          "data": {
            "text/plain": [
              "542     khách hẹn \n",
              "Name: Q2: Anh/chị vui lòng cho em hỏi lý do đơn hàng giao không thành công là gì vậy ạ?, dtype: object"
            ]
          },
          "metadata": {},
          "execution_count": 395
        }
      ]
    },
    {
      "cell_type": "code",
      "source": [
        "data_02=listFrame2[-1] #Xóa ngày 04.07 vì ko có data\n",
        "for i in range(2,len(listFrame2)+1):\n",
        "  listFrame2[-i] = listFrame2[-i].reset_index(drop=True)\n",
        "  data_02=data_02.append(listFrame2[-i])"
      ],
      "metadata": {
        "id": "ENniqxxnHxRK"
      },
      "execution_count": null,
      "outputs": []
    },
    {
      "cell_type": "code",
      "source": [
        "data_02['month']='2022-09-01'"
      ],
      "metadata": {
        "id": "EKIaair_prkQ"
      },
      "execution_count": null,
      "outputs": []
    },
    {
      "cell_type": "code",
      "source": [
        "data_02 = data_02[data_02['OrderCode'].notna()]\n",
        "data_02 = data_02[data_02['OrderCode']!='']\n",
        "data_02 = data_02[data_02['OrderCode']!='#N/A']\n",
        "#data_02 = data_02[data_02['Thành công'].notna()]\n",
        "#data_02 = data_02[data_02['Thành công']!='']\n",
        "data_02 = data_02[data_02['Thành công']!='#N/A']\n",
        "data_02['Q2: Anh/chị vui lòng cho em hỏi lý do đơn hàng giao không thành công là gì vậy ạ?'] = data_02['Q2: Anh/chị vui lòng cho em hỏi lý do đơn hàng giao không thành công là gì vậy ạ?'].apply(lambda x: x.replace(\"  \",\"\"))\n",
        "data_02['Q2: Anh/chị vui lòng cho em hỏi lý do đơn hàng giao không thành công là gì vậy ạ?'] = data_02['Q2: Anh/chị vui lòng cho em hỏi lý do đơn hàng giao không thành công là gì vậy ạ?'].apply(lambda x: x.replace(\"\\r\",\"\"))\n",
        "data_02['Q3: Bên em xác nhận sẽ giao lại cho anh/chị đơn hàng này.  Anh/chị muốn nhận đơn hàng vào thời gian nào để NV giao hàng gọi đến cho bên Mình ạ?'] = data_02['Q3: Bên em xác nhận sẽ giao lại cho anh/chị đơn hàng này.  Anh/chị muốn nhận đơn hàng vào thời gian nào để NV giao hàng gọi đến cho bên Mình ạ?'].apply(lambda x: x.replace(\"  \",\"\"))\n",
        "data_02['Q3: Bên em xác nhận sẽ giao lại cho anh/chị đơn hàng này.  Anh/chị muốn nhận đơn hàng vào thời gian nào để NV giao hàng gọi đến cho bên Mình ạ?'] = data_02['Q3: Bên em xác nhận sẽ giao lại cho anh/chị đơn hàng này.  Anh/chị muốn nhận đơn hàng vào thời gian nào để NV giao hàng gọi đến cho bên Mình ạ?'].apply(lambda x: x.replace(\"\\r\",\"\"))\n",
        "data_02.drop_duplicates(subset=['OrderCode'],keep='first', inplace=True, ignore_index=False)"
      ],
      "metadata": {
        "id": "eQqda61hzI38"
      },
      "execution_count": null,
      "outputs": []
    },
    {
      "cell_type": "code",
      "source": [
        "data_03=listFrame3[-1] #Xóa ngày 03.07 vì ko có data\n",
        "for i in range(2,len(listFrame3)+1):\n",
        "  listFrame3[-i] = listFrame3[-i].reset_index(drop=True)\n",
        "  data_03=data_03.append(listFrame3[-i])"
      ],
      "metadata": {
        "id": "dU8VUhaVH315"
      },
      "execution_count": null,
      "outputs": []
    },
    {
      "cell_type": "code",
      "source": [
        "data_03['month']='2022-08-01'"
      ],
      "metadata": {
        "id": "svU9r1SopuJf"
      },
      "execution_count": null,
      "outputs": []
    },
    {
      "cell_type": "code",
      "source": [
        "data_03 = data_03[data_03['OrderCode'].notna()]\n",
        "data_03 = data_03[data_03['OrderCode']!='']\n",
        "data_03 = data_03[data_03['OrderCode']!='#N/A']\n",
        "#data_03 = data_03[data_03['Thành công'].notna()]\n",
        "#data_03 = data_03[data_03['Thành công']!='']\n",
        "data_03 = data_03[data_03['Thành công']!='#N/A']\n",
        "data_03['Q2: Anh/chị vui lòng cho em hỏi lý do đơn hàng giao không thành công là gì vậy ạ?'] = data_03['Q2: Anh/chị vui lòng cho em hỏi lý do đơn hàng giao không thành công là gì vậy ạ?'].apply(lambda x: x.replace(\"  \",\"\"))\n",
        "data_03['Q2: Anh/chị vui lòng cho em hỏi lý do đơn hàng giao không thành công là gì vậy ạ?'] = data_03['Q2: Anh/chị vui lòng cho em hỏi lý do đơn hàng giao không thành công là gì vậy ạ?'].apply(lambda x: x.replace(\"\\r\",\"\"))\n",
        "data_03['Q3: Bên em xác nhận sẽ giao lại cho anh/chị đơn hàng này.  Anh/chị muốn nhận đơn hàng vào thời gian nào để NV giao hàng gọi đến cho bên Mình ạ?'] = data_03['Q3: Bên em xác nhận sẽ giao lại cho anh/chị đơn hàng này.  Anh/chị muốn nhận đơn hàng vào thời gian nào để NV giao hàng gọi đến cho bên Mình ạ?'].apply(lambda x: x.replace(\"  \",\"\"))\n",
        "data_03['Q3: Bên em xác nhận sẽ giao lại cho anh/chị đơn hàng này.  Anh/chị muốn nhận đơn hàng vào thời gian nào để NV giao hàng gọi đến cho bên Mình ạ?'] = data_03['Q3: Bên em xác nhận sẽ giao lại cho anh/chị đơn hàng này.  Anh/chị muốn nhận đơn hàng vào thời gian nào để NV giao hàng gọi đến cho bên Mình ạ?'].apply(lambda x: x.replace(\"\\r\",\"\"))\n",
        "data_03.drop_duplicates(subset=['OrderCode'],keep='first', inplace=True, ignore_index=False)"
      ],
      "metadata": {
        "id": "s0yJfZOAzTZk"
      },
      "execution_count": null,
      "outputs": []
    },
    {
      "cell_type": "code",
      "source": [
        "data_04=listFrame4[-1] #Xóa ngày 03.07 vì ko có data\n",
        "for i in range(2,len(listFrame4)+1):\n",
        "  listFrame4[-i] = listFrame4[-i].reset_index(drop=True)\n",
        "  data_04=data_04.append(listFrame4[-i])"
      ],
      "metadata": {
        "id": "9sgbYdjDH415"
      },
      "execution_count": null,
      "outputs": []
    },
    {
      "cell_type": "code",
      "source": [
        "data_04['month']='2022-07-01'"
      ],
      "metadata": {
        "id": "F8-f91ZspxJ_"
      },
      "execution_count": null,
      "outputs": []
    },
    {
      "cell_type": "code",
      "source": [
        "data_04 = data_04[data_04['OrderCode'].notna()]\n",
        "data_04 = data_04[data_04['OrderCode']!='']\n",
        "data_04 = data_04[data_04['OrderCode']!='#N/A']\n",
        "#data_04 = data_04[data_04['Thành công'].notna()]\n",
        "#data_04 = data_04[data_04['Thành công']!='']\n",
        "data_04 = data_04[data_04['Thành công']!='#N/A']\n",
        "data_04['Q2: Anh/chị vui lòng cho em hỏi lý do đơn hàng giao không thành công là gì vậy ạ?'] = data_04['Q2: Anh/chị vui lòng cho em hỏi lý do đơn hàng giao không thành công là gì vậy ạ?'].apply(lambda x: x.replace(\"  \",\"\"))\n",
        "data_04['Q2: Anh/chị vui lòng cho em hỏi lý do đơn hàng giao không thành công là gì vậy ạ?'] = data_04['Q2: Anh/chị vui lòng cho em hỏi lý do đơn hàng giao không thành công là gì vậy ạ?'].apply(lambda x: x.replace(\"\\r\",\"\"))\n",
        "data_04['Q3: Bên em xác nhận sẽ giao lại cho anh/chị đơn hàng này.  Anh/chị muốn nhận đơn hàng vào thời gian nào để NV giao hàng gọi đến cho bên Mình ạ?'] = data_04['Q3: Bên em xác nhận sẽ giao lại cho anh/chị đơn hàng này.  Anh/chị muốn nhận đơn hàng vào thời gian nào để NV giao hàng gọi đến cho bên Mình ạ?'].apply(lambda x: x.replace(\"  \",\"\"))\n",
        "data_04['Q3: Bên em xác nhận sẽ giao lại cho anh/chị đơn hàng này.  Anh/chị muốn nhận đơn hàng vào thời gian nào để NV giao hàng gọi đến cho bên Mình ạ?'] = data_04['Q3: Bên em xác nhận sẽ giao lại cho anh/chị đơn hàng này.  Anh/chị muốn nhận đơn hàng vào thời gian nào để NV giao hàng gọi đến cho bên Mình ạ?'].apply(lambda x: x.replace(\"\\r\",\"\"))\n",
        "data_04.drop_duplicates(subset=['OrderCode'],keep='first', inplace=True, ignore_index=False)"
      ],
      "metadata": {
        "id": "SDJfCa80zV68"
      },
      "execution_count": null,
      "outputs": []
    },
    {
      "cell_type": "code",
      "source": [
        "data_01.columns"
      ],
      "metadata": {
        "colab": {
          "base_uri": "https://localhost:8080/"
        },
        "id": "Iu_QYq74IthY",
        "outputId": "fc8ae7f3-3683-4ab2-d390-6254d71b88b8"
      },
      "execution_count": null,
      "outputs": [
        {
          "output_type": "execute_result",
          "data": {
            "text/plain": [
              "Index(['FirstDeliveredTime', 'OrderCode', 'CustomerName', 'CustomerPhone',\n",
              "       'ClientID', 'ClientContactName', 'Content', 'CurrentStatus',\n",
              "       'ReturnInfo', 'DeliveryWarehouseID', 'DeliveryWarehouse', 'NumDeliver',\n",
              "       'DriverID', 'DriverName', 'FirstFailDeliveryNote', 'TripCode',\n",
              "       'TimeLog', 'Calling Date', 'PIC', 'Thành công',\n",
              "       'Lý do cuộc gọi thất bại',\n",
              "       'Q1. Đối với sản phẩm này, Anh/chị cho em hỏi là NV giao hàng của bên em có gọi điện thoại cho mình trước khi giao không ạ? (Có thể cung cấp thời gian giao hàng)\\n',\n",
              "       'Q1a. Anh chị có nhận được tin nhắn từ nhân viên giao hàng không?',\n",
              "       'Q2: Anh/chị vui lòng cho em hỏi lý do đơn hàng giao không thành công là gì vậy ạ?',\n",
              "       'Lí do đơn hàng thất bại chi tiết 1', 'Lí do đơn hàng thất bại 1',\n",
              "       'Q3: Bên em xác nhận sẽ giao lại cho anh/chị đơn hàng này.  Anh/chị muốn nhận đơn hàng vào thời gian nào để NV giao hàng gọi đến cho bên Mình ạ?',\n",
              "       'Kiểm tra lí do Shipper', 'Call Center Note',\n",
              "       'Lí do đơn hàng thất bại chi tiết 2', 'Lí do đơn hàng thất bại 2',\n",
              "       'CX Note (Past)', 'Hướng xử lý Bưu cục', 'Tình trạng ĐH ', 'Link vé',\n",
              "       'Tình trạng ticket lần 1', 'Tình trạng ticket lần 2',\n",
              "       'Tình trạng ticket lần 3', 'Tình trạng ticket final',\n",
              "       'Trạng thái ĐH Giao Lần 1', 'Trạng thái ĐH Giao Lần 2',\n",
              "       'Trạng thái ĐH Giao Lần 3', 'Trạng thái ĐH Giao Lần 4', 'month'],\n",
              "      dtype='object')"
            ]
          },
          "metadata": {},
          "execution_count": 405
        }
      ]
    },
    {
      "cell_type": "code",
      "source": [
        "data_02.columns"
      ],
      "metadata": {
        "colab": {
          "base_uri": "https://localhost:8080/"
        },
        "id": "vF2P97INIwF4",
        "outputId": "99cab9fa-47a5-4339-e3b5-44f1a048b077"
      },
      "execution_count": null,
      "outputs": [
        {
          "output_type": "execute_result",
          "data": {
            "text/plain": [
              "Index(['FirstDeliveredTime', 'OrderCode', 'CustomerName', 'CustomerPhone',\n",
              "       'ClientID', 'ClientContactName', 'Content', 'CurrentStatus',\n",
              "       'ReturnInfo', 'DeliveryWarehouseID', 'DeliveryWarehouse', 'NumDeliver',\n",
              "       'DriverID', 'DriverName', 'FirstFailDeliveryNote', 'TripCode',\n",
              "       'TimeLog', 'Calling Date\\n(Ngày/Tháng/Năm', 'PIC', 'Thành công',\n",
              "       'Lý do cuộc gọi thất bại',\n",
              "       'Q1. Đối với sản phẩm này, Anh/chị cho em hỏi là NV giao hàng của bên em có gọi điện thoại cho mình trước khi giao không ạ? (Có thể cung cấp thời gian giao hàng)\\n',\n",
              "       'Q1a. Anh chị có nhận được tin nhắn từ nhân viên giao hàng không?',\n",
              "       'Q2: Anh/chị vui lòng cho em hỏi lý do đơn hàng giao không thành công là gì vậy ạ?',\n",
              "       'Lí do đơn hàng thất bại chi tiết 1',\n",
              "       'Lí do đơn hàng thất bại 1\\n(KO ĐIÊN)',\n",
              "       'Q3: Bên em xác nhận sẽ giao lại cho anh/chị đơn hàng này.  Anh/chị muốn nhận đơn hàng vào thời gian nào để NV giao hàng gọi đến cho bên Mình ạ?',\n",
              "       'Kiểm tra lí do Shipper', 'Call Center Note',\n",
              "       'Lí do đơn hàng thất bại chi tiết 2',\n",
              "       'Lí do đơn hàng thất bại 2\\n(KO ĐIỀN)', 'CX Note (Past)',\n",
              "       'Hướng xử lý Bưu cục', 'Tình trạng ĐH ', 'Link vé',\n",
              "       'Tình trạng ticket lần 1', 'Tình trạng ticket lần 2',\n",
              "       'Tình trạng ticket lần 3', 'Tình trạng ticket final',\n",
              "       'Trạng thái ĐH Giao Lần 1', 'Trạng thái ĐH Giao Lần 2',\n",
              "       'Trạng thái ĐH Giao Lần 3', 'Trạng thái ĐH Giao Lần 4', 'month'],\n",
              "      dtype='object')"
            ]
          },
          "metadata": {},
          "execution_count": 406
        }
      ]
    },
    {
      "cell_type": "code",
      "source": [
        "data_03.columns"
      ],
      "metadata": {
        "colab": {
          "base_uri": "https://localhost:8080/"
        },
        "id": "hbk3MPRZIwP5",
        "outputId": "cd7cf647-fc95-4c76-8941-9dbf00a61626"
      },
      "execution_count": null,
      "outputs": [
        {
          "output_type": "execute_result",
          "data": {
            "text/plain": [
              "Index(['FirstDeliveredTime', 'OrderCode', 'CustomerName', 'CustomerPhone',\n",
              "       'ClientID', 'ClientContactName', 'Content', 'CurrentStatus',\n",
              "       'ReturnInfo', 'DeliveryWarehouseID', 'DeliveryWarehouse', 'NumDeliver',\n",
              "       'DriverID', 'DriverName', 'FirstFailDeliveryNote', 'TripCode',\n",
              "       'TimeLog', 'Calling Date\\n(Ngày/Tháng/Năm', 'PIC', 'Thành công',\n",
              "       'Lý do cuộc gọi thất bại',\n",
              "       'Q1. Đối với sản phẩm này, Anh/chị cho em hỏi là NV giao hàng của bên em có gọi điện thoại cho mình trước khi giao không ạ? (Có thể cung cấp thời gian giao hàng)\\n',\n",
              "       'Q1a. Anh chị có nhận được tin nhắn từ nhân viên giao hàng không?',\n",
              "       'Q2: Anh/chị vui lòng cho em hỏi lý do đơn hàng giao không thành công là gì vậy ạ?',\n",
              "       'Lí do đơn hàng thất bại chi tiết 1',\n",
              "       'Lí do đơn hàng thất bại 1\\n(KO ĐIÊN)',\n",
              "       'Q3: Bên em xác nhận sẽ giao lại cho anh/chị đơn hàng này.  Anh/chị muốn nhận đơn hàng vào thời gian nào để NV giao hàng gọi đến cho bên Mình ạ?',\n",
              "       'Kiểm tra lí do Shipper', 'Call Center Note',\n",
              "       'Lí do đơn hàng thất bại chi tiết 2',\n",
              "       'Lí do đơn hàng thất bại 2\\n(KO ĐIỀN)', 'CX Note (Past)',\n",
              "       'Hướng xử lý Bưu cục', 'Tình trạng ĐH ', 'Link vé',\n",
              "       'Tình trạng ticket lần 1', 'Tình trạng ticket lần 2',\n",
              "       'Tình trạng ticket lần 3', 'Tình trạng ticket final',\n",
              "       'Trạng thái ĐH Giao Lần 1', 'Trạng thái ĐH Giao Lần 2',\n",
              "       'Trạng thái ĐH Giao Lần 3', 'Trạng thái ĐH Giao Lần 4', 'month'],\n",
              "      dtype='object')"
            ]
          },
          "metadata": {},
          "execution_count": 407
        }
      ]
    },
    {
      "cell_type": "code",
      "source": [
        "data_04.columns"
      ],
      "metadata": {
        "colab": {
          "base_uri": "https://localhost:8080/"
        },
        "id": "cRR90mb5IwbA",
        "outputId": "bea20ab7-3845-42bb-bac1-8908cd8123d5"
      },
      "execution_count": null,
      "outputs": [
        {
          "output_type": "execute_result",
          "data": {
            "text/plain": [
              "Index(['FirstDeliveredTime', 'OrderCode', 'CustomerName', 'CustomerPhone',\n",
              "       'ClientID', 'ClientContactName', 'Content', 'CurrentStatus',\n",
              "       'ReturnInfo', 'DeliveryWarehouseID', 'DeliveryWarehouse', 'NumDeliver',\n",
              "       'DriverID', 'DriverName', 'FirstFailDeliveryNote', 'TripCode',\n",
              "       'TimeLog', 'Calling Date\\n(Ngày/Tháng/Năm', 'PIC', 'Thành công',\n",
              "       'Lý do cuộc gọi thất bại',\n",
              "       'Q1. Đối với sản phẩm này, Anh/chị cho em hỏi là NV giao hàng của bên em có gọi điện thoại cho mình trước khi giao không ạ? (Có thể cung cấp thời gian giao hàng)\\n',\n",
              "       'Q1a. Anh chị có nhận được tin nhắn từ nhân viên giao hàng không?',\n",
              "       'Q2: Anh/chị vui lòng cho em hỏi lý do đơn hàng giao không thành công là gì vậy ạ?',\n",
              "       'Lí do đơn hàng thất bại chi tiết 1',\n",
              "       'Lí do đơn hàng thất bại 1\\n(KO ĐIÊN)',\n",
              "       'Q3: Bên em xác nhận sẽ giao lại cho anh/chị đơn hàng này.  Anh/chị muốn nhận đơn hàng vào thời gian nào để NV giao hàng gọi đến cho bên Mình ạ?',\n",
              "       'Kiểm tra lí do Shipper', 'Call Center Note',\n",
              "       'Lí do đơn hàng thất bại chi tiết 2',\n",
              "       'Lí do đơn hàng thất bại 2\\n(KO ĐIỀN)', 'CX Note (Past)',\n",
              "       'Hướng xử lý Bưu cục', 'Tình trạng ĐH ', 'Link vé',\n",
              "       'Tình trạng ticket lần 1', 'Tình trạng ticket lần 2',\n",
              "       'Tình trạng ticket lần 3', 'Tình trạng ticket final',\n",
              "       'Trạng thái ĐH Giao Lần 1', 'Trạng thái ĐH Giao Lần 2',\n",
              "       'Trạng thái ĐH Giao Lần 3', 'Trạng thái ĐH Giao Lần 4', 'month'],\n",
              "      dtype='object')"
            ]
          },
          "metadata": {},
          "execution_count": 408
        }
      ]
    },
    {
      "cell_type": "code",
      "source": [
        "data_01.rename(columns ={'Calling Date\\n(Ngày/Tháng/Năm':'Calling Date','Lí do đơn hàng thất bại 1\\n(KO ĐIÊN)':'Lí do đơn hàng thất bại 1','Lí do đơn hàng thất bại 2\\n(KO ĐIỀN)':'Lí do đơn hàng thất bại 2'}, inplace = True)"
      ],
      "metadata": {
        "id": "idMWOvaoPm0I"
      },
      "execution_count": null,
      "outputs": []
    },
    {
      "cell_type": "code",
      "source": [
        "data_02.columns"
      ],
      "metadata": {
        "colab": {
          "base_uri": "https://localhost:8080/"
        },
        "id": "Lcb7KYoUJhmi",
        "outputId": "8e30d74f-81dc-4b75-d877-7dc5fec8d929"
      },
      "execution_count": null,
      "outputs": [
        {
          "output_type": "execute_result",
          "data": {
            "text/plain": [
              "Index(['FirstDeliveredTime', 'OrderCode', 'CustomerName', 'CustomerPhone',\n",
              "       'ClientID', 'ClientContactName', 'Content', 'CurrentStatus',\n",
              "       'ReturnInfo', 'DeliveryWarehouseID', 'DeliveryWarehouse', 'NumDeliver',\n",
              "       'DriverID', 'DriverName', 'FirstFailDeliveryNote', 'TripCode',\n",
              "       'TimeLog', 'Calling Date\\n(Ngày/Tháng/Năm', 'PIC', 'Thành công',\n",
              "       'Lý do cuộc gọi thất bại',\n",
              "       'Q1. Đối với sản phẩm này, Anh/chị cho em hỏi là NV giao hàng của bên em có gọi điện thoại cho mình trước khi giao không ạ? (Có thể cung cấp thời gian giao hàng)\\n',\n",
              "       'Q1a. Anh chị có nhận được tin nhắn từ nhân viên giao hàng không?',\n",
              "       'Q2: Anh/chị vui lòng cho em hỏi lý do đơn hàng giao không thành công là gì vậy ạ?',\n",
              "       'Lí do đơn hàng thất bại chi tiết 1',\n",
              "       'Lí do đơn hàng thất bại 1\\n(KO ĐIÊN)',\n",
              "       'Q3: Bên em xác nhận sẽ giao lại cho anh/chị đơn hàng này.  Anh/chị muốn nhận đơn hàng vào thời gian nào để NV giao hàng gọi đến cho bên Mình ạ?',\n",
              "       'Kiểm tra lí do Shipper', 'Call Center Note',\n",
              "       'Lí do đơn hàng thất bại chi tiết 2',\n",
              "       'Lí do đơn hàng thất bại 2\\n(KO ĐIỀN)', 'CX Note (Past)',\n",
              "       'Hướng xử lý Bưu cục', 'Tình trạng ĐH ', 'Link vé',\n",
              "       'Tình trạng ticket lần 1', 'Tình trạng ticket lần 2',\n",
              "       'Tình trạng ticket lần 3', 'Tình trạng ticket final',\n",
              "       'Trạng thái ĐH Giao Lần 1', 'Trạng thái ĐH Giao Lần 2',\n",
              "       'Trạng thái ĐH Giao Lần 3', 'Trạng thái ĐH Giao Lần 4', 'month'],\n",
              "      dtype='object')"
            ]
          },
          "metadata": {},
          "execution_count": 410
        }
      ]
    },
    {
      "cell_type": "code",
      "source": [
        "data_02.rename(columns ={'Calling Date\\n(Ngày/Tháng/Năm':'Calling Date','Lí do đơn hàng thất bại 1\\n(KO ĐIÊN)':'Lí do đơn hàng thất bại 1','Lí do đơn hàng thất bại 2\\n(KO ĐIỀN)':'Lí do đơn hàng thất bại 2'}, inplace = True)"
      ],
      "metadata": {
        "id": "59UpwhrhJqZZ"
      },
      "execution_count": null,
      "outputs": []
    },
    {
      "cell_type": "code",
      "source": [
        "data_03.columns"
      ],
      "metadata": {
        "colab": {
          "base_uri": "https://localhost:8080/"
        },
        "id": "F45lom7nJuIp",
        "outputId": "64056941-672b-428f-aa1b-0f021eab55de"
      },
      "execution_count": null,
      "outputs": [
        {
          "output_type": "execute_result",
          "data": {
            "text/plain": [
              "Index(['FirstDeliveredTime', 'OrderCode', 'CustomerName', 'CustomerPhone',\n",
              "       'ClientID', 'ClientContactName', 'Content', 'CurrentStatus',\n",
              "       'ReturnInfo', 'DeliveryWarehouseID', 'DeliveryWarehouse', 'NumDeliver',\n",
              "       'DriverID', 'DriverName', 'FirstFailDeliveryNote', 'TripCode',\n",
              "       'TimeLog', 'Calling Date\\n(Ngày/Tháng/Năm', 'PIC', 'Thành công',\n",
              "       'Lý do cuộc gọi thất bại',\n",
              "       'Q1. Đối với sản phẩm này, Anh/chị cho em hỏi là NV giao hàng của bên em có gọi điện thoại cho mình trước khi giao không ạ? (Có thể cung cấp thời gian giao hàng)\\n',\n",
              "       'Q1a. Anh chị có nhận được tin nhắn từ nhân viên giao hàng không?',\n",
              "       'Q2: Anh/chị vui lòng cho em hỏi lý do đơn hàng giao không thành công là gì vậy ạ?',\n",
              "       'Lí do đơn hàng thất bại chi tiết 1',\n",
              "       'Lí do đơn hàng thất bại 1\\n(KO ĐIÊN)',\n",
              "       'Q3: Bên em xác nhận sẽ giao lại cho anh/chị đơn hàng này.  Anh/chị muốn nhận đơn hàng vào thời gian nào để NV giao hàng gọi đến cho bên Mình ạ?',\n",
              "       'Kiểm tra lí do Shipper', 'Call Center Note',\n",
              "       'Lí do đơn hàng thất bại chi tiết 2',\n",
              "       'Lí do đơn hàng thất bại 2\\n(KO ĐIỀN)', 'CX Note (Past)',\n",
              "       'Hướng xử lý Bưu cục', 'Tình trạng ĐH ', 'Link vé',\n",
              "       'Tình trạng ticket lần 1', 'Tình trạng ticket lần 2',\n",
              "       'Tình trạng ticket lần 3', 'Tình trạng ticket final',\n",
              "       'Trạng thái ĐH Giao Lần 1', 'Trạng thái ĐH Giao Lần 2',\n",
              "       'Trạng thái ĐH Giao Lần 3', 'Trạng thái ĐH Giao Lần 4', 'month'],\n",
              "      dtype='object')"
            ]
          },
          "metadata": {},
          "execution_count": 412
        }
      ]
    },
    {
      "cell_type": "code",
      "source": [
        "data_03.rename(columns ={'Calling Date\\n(Ngày/Tháng/Năm':'Calling Date','Lí do đơn hàng thất bại 1\\n(KO ĐIÊN)':'Lí do đơn hàng thất bại 1','Lí do đơn hàng thất bại 2\\n(KO ĐIỀN)':'Lí do đơn hàng thất bại 2'}, inplace = True)"
      ],
      "metadata": {
        "id": "--oCJpG6JypB"
      },
      "execution_count": null,
      "outputs": []
    },
    {
      "cell_type": "code",
      "source": [
        "data_04.columns"
      ],
      "metadata": {
        "colab": {
          "base_uri": "https://localhost:8080/"
        },
        "id": "pr9cc9wMMQ3Q",
        "outputId": "41c6ae62-63d2-4a41-831a-c25b9612477f"
      },
      "execution_count": null,
      "outputs": [
        {
          "output_type": "execute_result",
          "data": {
            "text/plain": [
              "Index(['FirstDeliveredTime', 'OrderCode', 'CustomerName', 'CustomerPhone',\n",
              "       'ClientID', 'ClientContactName', 'Content', 'CurrentStatus',\n",
              "       'ReturnInfo', 'DeliveryWarehouseID', 'DeliveryWarehouse', 'NumDeliver',\n",
              "       'DriverID', 'DriverName', 'FirstFailDeliveryNote', 'TripCode',\n",
              "       'TimeLog', 'Calling Date\\n(Ngày/Tháng/Năm', 'PIC', 'Thành công',\n",
              "       'Lý do cuộc gọi thất bại',\n",
              "       'Q1. Đối với sản phẩm này, Anh/chị cho em hỏi là NV giao hàng của bên em có gọi điện thoại cho mình trước khi giao không ạ? (Có thể cung cấp thời gian giao hàng)\\n',\n",
              "       'Q1a. Anh chị có nhận được tin nhắn từ nhân viên giao hàng không?',\n",
              "       'Q2: Anh/chị vui lòng cho em hỏi lý do đơn hàng giao không thành công là gì vậy ạ?',\n",
              "       'Lí do đơn hàng thất bại chi tiết 1',\n",
              "       'Lí do đơn hàng thất bại 1\\n(KO ĐIÊN)',\n",
              "       'Q3: Bên em xác nhận sẽ giao lại cho anh/chị đơn hàng này.  Anh/chị muốn nhận đơn hàng vào thời gian nào để NV giao hàng gọi đến cho bên Mình ạ?',\n",
              "       'Kiểm tra lí do Shipper', 'Call Center Note',\n",
              "       'Lí do đơn hàng thất bại chi tiết 2',\n",
              "       'Lí do đơn hàng thất bại 2\\n(KO ĐIỀN)', 'CX Note (Past)',\n",
              "       'Hướng xử lý Bưu cục', 'Tình trạng ĐH ', 'Link vé',\n",
              "       'Tình trạng ticket lần 1', 'Tình trạng ticket lần 2',\n",
              "       'Tình trạng ticket lần 3', 'Tình trạng ticket final',\n",
              "       'Trạng thái ĐH Giao Lần 1', 'Trạng thái ĐH Giao Lần 2',\n",
              "       'Trạng thái ĐH Giao Lần 3', 'Trạng thái ĐH Giao Lần 4', 'month'],\n",
              "      dtype='object')"
            ]
          },
          "metadata": {},
          "execution_count": 414
        }
      ]
    },
    {
      "cell_type": "code",
      "source": [
        "data_04.rename(columns ={'Calling Date\\n(Ngày/Tháng/Năm':'Calling Date','Lí do đơn hàng thất bại 1\\n(KO ĐIÊN)':'Lí do đơn hàng thất bại 1','Lí do đơn hàng thất bại 2\\n(KO ĐIỀN)':'Lí do đơn hàng thất bại 2'}, inplace = True)"
      ],
      "metadata": {
        "id": "c0Ooy4jsMZ5g"
      },
      "execution_count": null,
      "outputs": []
    },
    {
      "cell_type": "code",
      "source": [
        "data_04.columns"
      ],
      "metadata": {
        "colab": {
          "base_uri": "https://localhost:8080/"
        },
        "id": "bkPV8TjDMdaA",
        "outputId": "465da6d2-a9f5-4484-d5ee-90165dabcd31"
      },
      "execution_count": null,
      "outputs": [
        {
          "output_type": "execute_result",
          "data": {
            "text/plain": [
              "Index(['FirstDeliveredTime', 'OrderCode', 'CustomerName', 'CustomerPhone',\n",
              "       'ClientID', 'ClientContactName', 'Content', 'CurrentStatus',\n",
              "       'ReturnInfo', 'DeliveryWarehouseID', 'DeliveryWarehouse', 'NumDeliver',\n",
              "       'DriverID', 'DriverName', 'FirstFailDeliveryNote', 'TripCode',\n",
              "       'TimeLog', 'Calling Date', 'PIC', 'Thành công',\n",
              "       'Lý do cuộc gọi thất bại',\n",
              "       'Q1. Đối với sản phẩm này, Anh/chị cho em hỏi là NV giao hàng của bên em có gọi điện thoại cho mình trước khi giao không ạ? (Có thể cung cấp thời gian giao hàng)\\n',\n",
              "       'Q1a. Anh chị có nhận được tin nhắn từ nhân viên giao hàng không?',\n",
              "       'Q2: Anh/chị vui lòng cho em hỏi lý do đơn hàng giao không thành công là gì vậy ạ?',\n",
              "       'Lí do đơn hàng thất bại chi tiết 1', 'Lí do đơn hàng thất bại 1',\n",
              "       'Q3: Bên em xác nhận sẽ giao lại cho anh/chị đơn hàng này.  Anh/chị muốn nhận đơn hàng vào thời gian nào để NV giao hàng gọi đến cho bên Mình ạ?',\n",
              "       'Kiểm tra lí do Shipper', 'Call Center Note',\n",
              "       'Lí do đơn hàng thất bại chi tiết 2', 'Lí do đơn hàng thất bại 2',\n",
              "       'CX Note (Past)', 'Hướng xử lý Bưu cục', 'Tình trạng ĐH ', 'Link vé',\n",
              "       'Tình trạng ticket lần 1', 'Tình trạng ticket lần 2',\n",
              "       'Tình trạng ticket lần 3', 'Tình trạng ticket final',\n",
              "       'Trạng thái ĐH Giao Lần 1', 'Trạng thái ĐH Giao Lần 2',\n",
              "       'Trạng thái ĐH Giao Lần 3', 'Trạng thái ĐH Giao Lần 4', 'month'],\n",
              "      dtype='object')"
            ]
          },
          "metadata": {},
          "execution_count": 416
        }
      ]
    },
    {
      "cell_type": "code",
      "source": [
        "#data_new = pd.concat([data_01,data_02,data_03,data_04],ignore_index=True)"
      ],
      "metadata": {
        "id": "lLOIy_FDMgrA"
      },
      "execution_count": null,
      "outputs": []
    },
    {
      "cell_type": "markdown",
      "source": [
        "# Merge Data"
      ],
      "metadata": {
        "id": "GTP2mNyWDwdv"
      }
    },
    {
      "cell_type": "code",
      "source": [
        "#data_new = pd.concat([data_01,data_02,data_03,data_04],ignore_index=True)\n",
        "data_new = pd.concat([data_01],ignore_index=True)"
      ],
      "metadata": {
        "id": "CZC3OcP4PmQ1"
      },
      "execution_count": null,
      "outputs": []
    },
    {
      "cell_type": "code",
      "source": [
        "data_new.dropna(how='all')"
      ],
      "metadata": {
        "id": "OY-2vgCv6iQi",
        "colab": {
          "base_uri": "https://localhost:8080/",
          "height": 1000
        },
        "outputId": "d1afe71a-5b5b-49b4-f65b-01ad66cc898f"
      },
      "execution_count": null,
      "outputs": [
        {
          "output_type": "execute_result",
          "data": {
            "text/plain": [
              "         FirstDeliveredTime           OrderCode  CustomerName CustomerPhone  \\\n",
              "0       2022-10-01 10:18:19            GAWKUHKM     Xuân Tiến    0987631229   \n",
              "1       2022-10-01 10:19:11            GAWKNXAY      Tâm Thii   84793418825   \n",
              "2       2022-10-01 10:19:41  GHNMP0022860673VNA    tuyết hồng    0814655601   \n",
              "3       2022-10-01 10:55:38            GAWK9LU4   Phuong Linh    0888675543   \n",
              "4       2022-10-01 11:03:44            GAWWBCYQ    Chị Quang     0342700310   \n",
              "...                     ...                 ...           ...           ...   \n",
              "178628  2022-07-31 17:15:23            GA437H9E         Tinna    0797439105   \n",
              "178629  2022-07-31 17:15:23            GA44R86G   252Thuý Cần    0862887326   \n",
              "178630  2022-07-31 17:15:24            GA4KGW9G     Mèo cocca    0343294748   \n",
              "178631  2022-07-31 17:15:24            GA43XWG7     Nguyễn Vy    0383035252   \n",
              "178632  2022-07-31 17:15:25            GA44TBTU  Betty Nguyen    0906965377   \n",
              "\n",
              "       ClientID             ClientContactName  \\\n",
              "0       3347095                    đỗ phương    \n",
              "1         18692  Công ty Huy Tuấn (Chuyên sỉ)   \n",
              "2          9794                          none   \n",
              "3         13745  Boxme Tan Binh - Ho Chi Minh   \n",
              "4       2649381                     Ngọc Minh   \n",
              "...         ...                           ...   \n",
              "178628  1137202                     Ngọc bích   \n",
              "178629  3050381              shop Thu Hương 4   \n",
              "178630  1224219                      Cuc kin    \n",
              "178631  1072079              Ăn Vặt Toàn Quốc   \n",
              "178632  2854605       MÁI EM - FASHION BIG VN   \n",
              "\n",
              "                                                  Content CurrentStatus  \\\n",
              "0                      điện thoạii 110i- [đt110i] [1 cái]       storing   \n",
              "1       Túi thơm thảo mộc treo phòng, treo tủ quần áo ...       storing   \n",
              "2       Áo Thun Nam Nữ Form Rộng Hàn Quốc In Hình Thiê...       storing   \n",
              "3       Kem Dưỡng Làm Mờ Vết Thâm Nám AHC Peony Bright...       storing   \n",
              "4                          Combo 3 món kone thái  [1 cái]       storing   \n",
              "...                                                   ...           ...   \n",
              "178628                                          5 [1 cái]       storing   \n",
              "178629       Áo Đá Cao 1,53m nặng 56kg2 cái mã 12 [1 cái]    delivering   \n",
              "178630                                 200L nini  [1 cái]    delivering   \n",
              "178631                    Rong Sụn Biển [PVN1746] [1 cái]    delivering   \n",
              "178632                          S6107 [S6107-XXL] [1 cái]    delivering   \n",
              "\n",
              "       ReturnInfo DeliveryWarehouseID  ... Link vé Tình trạng ticket lần 1  \\\n",
              "0                            20648000  ...                                   \n",
              "1                            20648000  ...                                   \n",
              "2                            20648000  ...                                   \n",
              "3                            20648000  ...                                   \n",
              "4                                2393  ...                                   \n",
              "...           ...                 ...  ...     ...                     ...   \n",
              "178628                       20476000  ...                                   \n",
              "178629                       20343000  ...                                   \n",
              "178630                       20393000  ...                                   \n",
              "178631                       20143000  ...                                   \n",
              "178632                       20005000  ...                                   \n",
              "\n",
              "       Tình trạng ticket lần 2 Tình trạng ticket lần 3  \\\n",
              "0                                                        \n",
              "1                                                        \n",
              "2                                                        \n",
              "3                                                        \n",
              "4                                                        \n",
              "...                        ...                     ...   \n",
              "178628                                                   \n",
              "178629                                                   \n",
              "178630                                                   \n",
              "178631                                                   \n",
              "178632                                                   \n",
              "\n",
              "       Tình trạng ticket final Trạng thái ĐH Giao Lần 1  \\\n",
              "0                                                         \n",
              "1                                                         \n",
              "2                                                         \n",
              "3                                                         \n",
              "4                                                         \n",
              "...                        ...                      ...   \n",
              "178628                                                    \n",
              "178629                                                    \n",
              "178630                                                    \n",
              "178631                                                    \n",
              "178632                                                    \n",
              "\n",
              "       Trạng thái ĐH Giao Lần 2 Trạng thái ĐH Giao Lần 3  \\\n",
              "0                                                          \n",
              "1                                                          \n",
              "2                                                          \n",
              "3                                                          \n",
              "4                                                          \n",
              "...                         ...                      ...   \n",
              "178628                                                     \n",
              "178629                                                     \n",
              "178630                                                     \n",
              "178631                                                     \n",
              "178632                                                     \n",
              "\n",
              "       Trạng thái ĐH Giao Lần 4       month  \n",
              "0                                2022-10-01  \n",
              "1                                2022-10-01  \n",
              "2                                2022-10-01  \n",
              "3                                2022-10-01  \n",
              "4                                2022-10-01  \n",
              "...                         ...         ...  \n",
              "178628                           2022-07-01  \n",
              "178629                           2022-07-01  \n",
              "178630                           2022-07-01  \n",
              "178631                           2022-07-01  \n",
              "178632                           2022-07-01  \n",
              "\n",
              "[178633 rows x 44 columns]"
            ],
            "text/html": [
              "\n",
              "  <div id=\"df-5dc8b7d2-df55-4c10-a8b3-73da6fed156c\">\n",
              "    <div class=\"colab-df-container\">\n",
              "      <div>\n",
              "<style scoped>\n",
              "    .dataframe tbody tr th:only-of-type {\n",
              "        vertical-align: middle;\n",
              "    }\n",
              "\n",
              "    .dataframe tbody tr th {\n",
              "        vertical-align: top;\n",
              "    }\n",
              "\n",
              "    .dataframe thead th {\n",
              "        text-align: right;\n",
              "    }\n",
              "</style>\n",
              "<table border=\"1\" class=\"dataframe\">\n",
              "  <thead>\n",
              "    <tr style=\"text-align: right;\">\n",
              "      <th></th>\n",
              "      <th>FirstDeliveredTime</th>\n",
              "      <th>OrderCode</th>\n",
              "      <th>CustomerName</th>\n",
              "      <th>CustomerPhone</th>\n",
              "      <th>ClientID</th>\n",
              "      <th>ClientContactName</th>\n",
              "      <th>Content</th>\n",
              "      <th>CurrentStatus</th>\n",
              "      <th>ReturnInfo</th>\n",
              "      <th>DeliveryWarehouseID</th>\n",
              "      <th>...</th>\n",
              "      <th>Link vé</th>\n",
              "      <th>Tình trạng ticket lần 1</th>\n",
              "      <th>Tình trạng ticket lần 2</th>\n",
              "      <th>Tình trạng ticket lần 3</th>\n",
              "      <th>Tình trạng ticket final</th>\n",
              "      <th>Trạng thái ĐH Giao Lần 1</th>\n",
              "      <th>Trạng thái ĐH Giao Lần 2</th>\n",
              "      <th>Trạng thái ĐH Giao Lần 3</th>\n",
              "      <th>Trạng thái ĐH Giao Lần 4</th>\n",
              "      <th>month</th>\n",
              "    </tr>\n",
              "  </thead>\n",
              "  <tbody>\n",
              "    <tr>\n",
              "      <th>0</th>\n",
              "      <td>2022-10-01 10:18:19</td>\n",
              "      <td>GAWKUHKM</td>\n",
              "      <td>Xuân Tiến</td>\n",
              "      <td>0987631229</td>\n",
              "      <td>3347095</td>\n",
              "      <td>đỗ phương</td>\n",
              "      <td>điện thoạii 110i- [đt110i] [1 cái]</td>\n",
              "      <td>storing</td>\n",
              "      <td></td>\n",
              "      <td>20648000</td>\n",
              "      <td>...</td>\n",
              "      <td></td>\n",
              "      <td></td>\n",
              "      <td></td>\n",
              "      <td></td>\n",
              "      <td></td>\n",
              "      <td></td>\n",
              "      <td></td>\n",
              "      <td></td>\n",
              "      <td></td>\n",
              "      <td>2022-10-01</td>\n",
              "    </tr>\n",
              "    <tr>\n",
              "      <th>1</th>\n",
              "      <td>2022-10-01 10:19:11</td>\n",
              "      <td>GAWKNXAY</td>\n",
              "      <td>Tâm Thii</td>\n",
              "      <td>84793418825</td>\n",
              "      <td>18692</td>\n",
              "      <td>Công ty Huy Tuấn (Chuyên sỉ)</td>\n",
              "      <td>Túi thơm thảo mộc treo phòng, treo tủ quần áo ...</td>\n",
              "      <td>storing</td>\n",
              "      <td></td>\n",
              "      <td>20648000</td>\n",
              "      <td>...</td>\n",
              "      <td></td>\n",
              "      <td></td>\n",
              "      <td></td>\n",
              "      <td></td>\n",
              "      <td></td>\n",
              "      <td></td>\n",
              "      <td></td>\n",
              "      <td></td>\n",
              "      <td></td>\n",
              "      <td>2022-10-01</td>\n",
              "    </tr>\n",
              "    <tr>\n",
              "      <th>2</th>\n",
              "      <td>2022-10-01 10:19:41</td>\n",
              "      <td>GHNMP0022860673VNA</td>\n",
              "      <td>tuyết hồng</td>\n",
              "      <td>0814655601</td>\n",
              "      <td>9794</td>\n",
              "      <td>none</td>\n",
              "      <td>Áo Thun Nam Nữ Form Rộng Hàn Quốc In Hình Thiê...</td>\n",
              "      <td>storing</td>\n",
              "      <td></td>\n",
              "      <td>20648000</td>\n",
              "      <td>...</td>\n",
              "      <td></td>\n",
              "      <td></td>\n",
              "      <td></td>\n",
              "      <td></td>\n",
              "      <td></td>\n",
              "      <td></td>\n",
              "      <td></td>\n",
              "      <td></td>\n",
              "      <td></td>\n",
              "      <td>2022-10-01</td>\n",
              "    </tr>\n",
              "    <tr>\n",
              "      <th>3</th>\n",
              "      <td>2022-10-01 10:55:38</td>\n",
              "      <td>GAWK9LU4</td>\n",
              "      <td>Phuong Linh</td>\n",
              "      <td>0888675543</td>\n",
              "      <td>13745</td>\n",
              "      <td>Boxme Tan Binh - Ho Chi Minh</td>\n",
              "      <td>Kem Dưỡng Làm Mờ Vết Thâm Nám AHC Peony Bright...</td>\n",
              "      <td>storing</td>\n",
              "      <td></td>\n",
              "      <td>20648000</td>\n",
              "      <td>...</td>\n",
              "      <td></td>\n",
              "      <td></td>\n",
              "      <td></td>\n",
              "      <td></td>\n",
              "      <td></td>\n",
              "      <td></td>\n",
              "      <td></td>\n",
              "      <td></td>\n",
              "      <td></td>\n",
              "      <td>2022-10-01</td>\n",
              "    </tr>\n",
              "    <tr>\n",
              "      <th>4</th>\n",
              "      <td>2022-10-01 11:03:44</td>\n",
              "      <td>GAWWBCYQ</td>\n",
              "      <td>Chị Quang</td>\n",
              "      <td>0342700310</td>\n",
              "      <td>2649381</td>\n",
              "      <td>Ngọc Minh</td>\n",
              "      <td>Combo 3 món kone thái  [1 cái]</td>\n",
              "      <td>storing</td>\n",
              "      <td></td>\n",
              "      <td>2393</td>\n",
              "      <td>...</td>\n",
              "      <td></td>\n",
              "      <td></td>\n",
              "      <td></td>\n",
              "      <td></td>\n",
              "      <td></td>\n",
              "      <td></td>\n",
              "      <td></td>\n",
              "      <td></td>\n",
              "      <td></td>\n",
              "      <td>2022-10-01</td>\n",
              "    </tr>\n",
              "    <tr>\n",
              "      <th>...</th>\n",
              "      <td>...</td>\n",
              "      <td>...</td>\n",
              "      <td>...</td>\n",
              "      <td>...</td>\n",
              "      <td>...</td>\n",
              "      <td>...</td>\n",
              "      <td>...</td>\n",
              "      <td>...</td>\n",
              "      <td>...</td>\n",
              "      <td>...</td>\n",
              "      <td>...</td>\n",
              "      <td>...</td>\n",
              "      <td>...</td>\n",
              "      <td>...</td>\n",
              "      <td>...</td>\n",
              "      <td>...</td>\n",
              "      <td>...</td>\n",
              "      <td>...</td>\n",
              "      <td>...</td>\n",
              "      <td>...</td>\n",
              "      <td>...</td>\n",
              "    </tr>\n",
              "    <tr>\n",
              "      <th>178628</th>\n",
              "      <td>2022-07-31 17:15:23</td>\n",
              "      <td>GA437H9E</td>\n",
              "      <td>Tinna</td>\n",
              "      <td>0797439105</td>\n",
              "      <td>1137202</td>\n",
              "      <td>Ngọc bích</td>\n",
              "      <td>5 [1 cái]</td>\n",
              "      <td>storing</td>\n",
              "      <td></td>\n",
              "      <td>20476000</td>\n",
              "      <td>...</td>\n",
              "      <td></td>\n",
              "      <td></td>\n",
              "      <td></td>\n",
              "      <td></td>\n",
              "      <td></td>\n",
              "      <td></td>\n",
              "      <td></td>\n",
              "      <td></td>\n",
              "      <td></td>\n",
              "      <td>2022-07-01</td>\n",
              "    </tr>\n",
              "    <tr>\n",
              "      <th>178629</th>\n",
              "      <td>2022-07-31 17:15:23</td>\n",
              "      <td>GA44R86G</td>\n",
              "      <td>252Thuý Cần</td>\n",
              "      <td>0862887326</td>\n",
              "      <td>3050381</td>\n",
              "      <td>shop Thu Hương 4</td>\n",
              "      <td>Áo Đá Cao 1,53m nặng 56kg2 cái mã 12 [1 cái]</td>\n",
              "      <td>delivering</td>\n",
              "      <td></td>\n",
              "      <td>20343000</td>\n",
              "      <td>...</td>\n",
              "      <td></td>\n",
              "      <td></td>\n",
              "      <td></td>\n",
              "      <td></td>\n",
              "      <td></td>\n",
              "      <td></td>\n",
              "      <td></td>\n",
              "      <td></td>\n",
              "      <td></td>\n",
              "      <td>2022-07-01</td>\n",
              "    </tr>\n",
              "    <tr>\n",
              "      <th>178630</th>\n",
              "      <td>2022-07-31 17:15:24</td>\n",
              "      <td>GA4KGW9G</td>\n",
              "      <td>Mèo cocca</td>\n",
              "      <td>0343294748</td>\n",
              "      <td>1224219</td>\n",
              "      <td>Cuc kin</td>\n",
              "      <td>200L nini  [1 cái]</td>\n",
              "      <td>delivering</td>\n",
              "      <td></td>\n",
              "      <td>20393000</td>\n",
              "      <td>...</td>\n",
              "      <td></td>\n",
              "      <td></td>\n",
              "      <td></td>\n",
              "      <td></td>\n",
              "      <td></td>\n",
              "      <td></td>\n",
              "      <td></td>\n",
              "      <td></td>\n",
              "      <td></td>\n",
              "      <td>2022-07-01</td>\n",
              "    </tr>\n",
              "    <tr>\n",
              "      <th>178631</th>\n",
              "      <td>2022-07-31 17:15:24</td>\n",
              "      <td>GA43XWG7</td>\n",
              "      <td>Nguyễn Vy</td>\n",
              "      <td>0383035252</td>\n",
              "      <td>1072079</td>\n",
              "      <td>Ăn Vặt Toàn Quốc</td>\n",
              "      <td>Rong Sụn Biển [PVN1746] [1 cái]</td>\n",
              "      <td>delivering</td>\n",
              "      <td></td>\n",
              "      <td>20143000</td>\n",
              "      <td>...</td>\n",
              "      <td></td>\n",
              "      <td></td>\n",
              "      <td></td>\n",
              "      <td></td>\n",
              "      <td></td>\n",
              "      <td></td>\n",
              "      <td></td>\n",
              "      <td></td>\n",
              "      <td></td>\n",
              "      <td>2022-07-01</td>\n",
              "    </tr>\n",
              "    <tr>\n",
              "      <th>178632</th>\n",
              "      <td>2022-07-31 17:15:25</td>\n",
              "      <td>GA44TBTU</td>\n",
              "      <td>Betty Nguyen</td>\n",
              "      <td>0906965377</td>\n",
              "      <td>2854605</td>\n",
              "      <td>MÁI EM - FASHION BIG VN</td>\n",
              "      <td>S6107 [S6107-XXL] [1 cái]</td>\n",
              "      <td>delivering</td>\n",
              "      <td></td>\n",
              "      <td>20005000</td>\n",
              "      <td>...</td>\n",
              "      <td></td>\n",
              "      <td></td>\n",
              "      <td></td>\n",
              "      <td></td>\n",
              "      <td></td>\n",
              "      <td></td>\n",
              "      <td></td>\n",
              "      <td></td>\n",
              "      <td></td>\n",
              "      <td>2022-07-01</td>\n",
              "    </tr>\n",
              "  </tbody>\n",
              "</table>\n",
              "<p>178633 rows × 44 columns</p>\n",
              "</div>\n",
              "      <button class=\"colab-df-convert\" onclick=\"convertToInteractive('df-5dc8b7d2-df55-4c10-a8b3-73da6fed156c')\"\n",
              "              title=\"Convert this dataframe to an interactive table.\"\n",
              "              style=\"display:none;\">\n",
              "        \n",
              "  <svg xmlns=\"http://www.w3.org/2000/svg\" height=\"24px\"viewBox=\"0 0 24 24\"\n",
              "       width=\"24px\">\n",
              "    <path d=\"M0 0h24v24H0V0z\" fill=\"none\"/>\n",
              "    <path d=\"M18.56 5.44l.94 2.06.94-2.06 2.06-.94-2.06-.94-.94-2.06-.94 2.06-2.06.94zm-11 1L8.5 8.5l.94-2.06 2.06-.94-2.06-.94L8.5 2.5l-.94 2.06-2.06.94zm10 10l.94 2.06.94-2.06 2.06-.94-2.06-.94-.94-2.06-.94 2.06-2.06.94z\"/><path d=\"M17.41 7.96l-1.37-1.37c-.4-.4-.92-.59-1.43-.59-.52 0-1.04.2-1.43.59L10.3 9.45l-7.72 7.72c-.78.78-.78 2.05 0 2.83L4 21.41c.39.39.9.59 1.41.59.51 0 1.02-.2 1.41-.59l7.78-7.78 2.81-2.81c.8-.78.8-2.07 0-2.86zM5.41 20L4 18.59l7.72-7.72 1.47 1.35L5.41 20z\"/>\n",
              "  </svg>\n",
              "      </button>\n",
              "      \n",
              "  <style>\n",
              "    .colab-df-container {\n",
              "      display:flex;\n",
              "      flex-wrap:wrap;\n",
              "      gap: 12px;\n",
              "    }\n",
              "\n",
              "    .colab-df-convert {\n",
              "      background-color: #E8F0FE;\n",
              "      border: none;\n",
              "      border-radius: 50%;\n",
              "      cursor: pointer;\n",
              "      display: none;\n",
              "      fill: #1967D2;\n",
              "      height: 32px;\n",
              "      padding: 0 0 0 0;\n",
              "      width: 32px;\n",
              "    }\n",
              "\n",
              "    .colab-df-convert:hover {\n",
              "      background-color: #E2EBFA;\n",
              "      box-shadow: 0px 1px 2px rgba(60, 64, 67, 0.3), 0px 1px 3px 1px rgba(60, 64, 67, 0.15);\n",
              "      fill: #174EA6;\n",
              "    }\n",
              "\n",
              "    [theme=dark] .colab-df-convert {\n",
              "      background-color: #3B4455;\n",
              "      fill: #D2E3FC;\n",
              "    }\n",
              "\n",
              "    [theme=dark] .colab-df-convert:hover {\n",
              "      background-color: #434B5C;\n",
              "      box-shadow: 0px 1px 3px 1px rgba(0, 0, 0, 0.15);\n",
              "      filter: drop-shadow(0px 1px 2px rgba(0, 0, 0, 0.3));\n",
              "      fill: #FFFFFF;\n",
              "    }\n",
              "  </style>\n",
              "\n",
              "      <script>\n",
              "        const buttonEl =\n",
              "          document.querySelector('#df-5dc8b7d2-df55-4c10-a8b3-73da6fed156c button.colab-df-convert');\n",
              "        buttonEl.style.display =\n",
              "          google.colab.kernel.accessAllowed ? 'block' : 'none';\n",
              "\n",
              "        async function convertToInteractive(key) {\n",
              "          const element = document.querySelector('#df-5dc8b7d2-df55-4c10-a8b3-73da6fed156c');\n",
              "          const dataTable =\n",
              "            await google.colab.kernel.invokeFunction('convertToInteractive',\n",
              "                                                     [key], {});\n",
              "          if (!dataTable) return;\n",
              "\n",
              "          const docLinkHtml = 'Like what you see? Visit the ' +\n",
              "            '<a target=\"_blank\" href=https://colab.research.google.com/notebooks/data_table.ipynb>data table notebook</a>'\n",
              "            + ' to learn more about interactive tables.';\n",
              "          element.innerHTML = '';\n",
              "          dataTable['output_type'] = 'display_data';\n",
              "          await google.colab.output.renderOutput(dataTable, element);\n",
              "          const docLink = document.createElement('div');\n",
              "          docLink.innerHTML = docLinkHtml;\n",
              "          element.appendChild(docLink);\n",
              "        }\n",
              "      </script>\n",
              "    </div>\n",
              "  </div>\n",
              "  "
            ]
          },
          "metadata": {},
          "execution_count": 419
        }
      ]
    },
    {
      "cell_type": "code",
      "source": [
        "data_new[data_new['OrderCode'].isnull()]"
      ],
      "metadata": {
        "colab": {
          "base_uri": "https://localhost:8080/",
          "height": 212
        },
        "id": "WFIJtZPK0vD8",
        "outputId": "a700f13e-0a07-4596-a955-c8174dd7ff90"
      },
      "execution_count": null,
      "outputs": [
        {
          "output_type": "execute_result",
          "data": {
            "text/plain": [
              "Empty DataFrame\n",
              "Columns: [FirstDeliveredTime, OrderCode, CustomerName, CustomerPhone, ClientID, ClientContactName, Content, CurrentStatus, ReturnInfo, DeliveryWarehouseID, DeliveryWarehouse, NumDeliver, DriverID, DriverName, FirstFailDeliveryNote, TripCode, TimeLog, Calling Date, PIC, Thành công, Lý do cuộc gọi thất bại, Q1. Đối với sản phẩm này, Anh/chị cho em hỏi là NV giao hàng của bên em có gọi điện thoại cho mình trước khi giao không ạ? (Có thể cung cấp thời gian giao hàng)\n",
              ", Q1a. Anh chị có nhận được tin nhắn từ nhân viên giao hàng không?, Q2: Anh/chị vui lòng cho em hỏi lý do đơn hàng giao không thành công là gì vậy ạ?, Lí do đơn hàng thất bại chi tiết 1, Lí do đơn hàng thất bại 1, Q3: Bên em xác nhận sẽ giao lại cho anh/chị đơn hàng này.  Anh/chị muốn nhận đơn hàng vào thời gian nào để NV giao hàng gọi đến cho bên Mình ạ?, Kiểm tra lí do Shipper, Call Center Note, Lí do đơn hàng thất bại chi tiết 2, Lí do đơn hàng thất bại 2, CX Note (Past), Hướng xử lý Bưu cục, Tình trạng ĐH , Link vé, Tình trạng ticket lần 1, Tình trạng ticket lần 2, Tình trạng ticket lần 3, Tình trạng ticket final, Trạng thái ĐH Giao Lần 1, Trạng thái ĐH Giao Lần 2, Trạng thái ĐH Giao Lần 3, Trạng thái ĐH Giao Lần 4, month]\n",
              "Index: []\n",
              "\n",
              "[0 rows x 44 columns]"
            ],
            "text/html": [
              "\n",
              "  <div id=\"df-4b6839e0-08d4-43aa-baba-d2d9f2e815f4\">\n",
              "    <div class=\"colab-df-container\">\n",
              "      <div>\n",
              "<style scoped>\n",
              "    .dataframe tbody tr th:only-of-type {\n",
              "        vertical-align: middle;\n",
              "    }\n",
              "\n",
              "    .dataframe tbody tr th {\n",
              "        vertical-align: top;\n",
              "    }\n",
              "\n",
              "    .dataframe thead th {\n",
              "        text-align: right;\n",
              "    }\n",
              "</style>\n",
              "<table border=\"1\" class=\"dataframe\">\n",
              "  <thead>\n",
              "    <tr style=\"text-align: right;\">\n",
              "      <th></th>\n",
              "      <th>FirstDeliveredTime</th>\n",
              "      <th>OrderCode</th>\n",
              "      <th>CustomerName</th>\n",
              "      <th>CustomerPhone</th>\n",
              "      <th>ClientID</th>\n",
              "      <th>ClientContactName</th>\n",
              "      <th>Content</th>\n",
              "      <th>CurrentStatus</th>\n",
              "      <th>ReturnInfo</th>\n",
              "      <th>DeliveryWarehouseID</th>\n",
              "      <th>...</th>\n",
              "      <th>Link vé</th>\n",
              "      <th>Tình trạng ticket lần 1</th>\n",
              "      <th>Tình trạng ticket lần 2</th>\n",
              "      <th>Tình trạng ticket lần 3</th>\n",
              "      <th>Tình trạng ticket final</th>\n",
              "      <th>Trạng thái ĐH Giao Lần 1</th>\n",
              "      <th>Trạng thái ĐH Giao Lần 2</th>\n",
              "      <th>Trạng thái ĐH Giao Lần 3</th>\n",
              "      <th>Trạng thái ĐH Giao Lần 4</th>\n",
              "      <th>month</th>\n",
              "    </tr>\n",
              "  </thead>\n",
              "  <tbody>\n",
              "  </tbody>\n",
              "</table>\n",
              "<p>0 rows × 44 columns</p>\n",
              "</div>\n",
              "      <button class=\"colab-df-convert\" onclick=\"convertToInteractive('df-4b6839e0-08d4-43aa-baba-d2d9f2e815f4')\"\n",
              "              title=\"Convert this dataframe to an interactive table.\"\n",
              "              style=\"display:none;\">\n",
              "        \n",
              "  <svg xmlns=\"http://www.w3.org/2000/svg\" height=\"24px\"viewBox=\"0 0 24 24\"\n",
              "       width=\"24px\">\n",
              "    <path d=\"M0 0h24v24H0V0z\" fill=\"none\"/>\n",
              "    <path d=\"M18.56 5.44l.94 2.06.94-2.06 2.06-.94-2.06-.94-.94-2.06-.94 2.06-2.06.94zm-11 1L8.5 8.5l.94-2.06 2.06-.94-2.06-.94L8.5 2.5l-.94 2.06-2.06.94zm10 10l.94 2.06.94-2.06 2.06-.94-2.06-.94-.94-2.06-.94 2.06-2.06.94z\"/><path d=\"M17.41 7.96l-1.37-1.37c-.4-.4-.92-.59-1.43-.59-.52 0-1.04.2-1.43.59L10.3 9.45l-7.72 7.72c-.78.78-.78 2.05 0 2.83L4 21.41c.39.39.9.59 1.41.59.51 0 1.02-.2 1.41-.59l7.78-7.78 2.81-2.81c.8-.78.8-2.07 0-2.86zM5.41 20L4 18.59l7.72-7.72 1.47 1.35L5.41 20z\"/>\n",
              "  </svg>\n",
              "      </button>\n",
              "      \n",
              "  <style>\n",
              "    .colab-df-container {\n",
              "      display:flex;\n",
              "      flex-wrap:wrap;\n",
              "      gap: 12px;\n",
              "    }\n",
              "\n",
              "    .colab-df-convert {\n",
              "      background-color: #E8F0FE;\n",
              "      border: none;\n",
              "      border-radius: 50%;\n",
              "      cursor: pointer;\n",
              "      display: none;\n",
              "      fill: #1967D2;\n",
              "      height: 32px;\n",
              "      padding: 0 0 0 0;\n",
              "      width: 32px;\n",
              "    }\n",
              "\n",
              "    .colab-df-convert:hover {\n",
              "      background-color: #E2EBFA;\n",
              "      box-shadow: 0px 1px 2px rgba(60, 64, 67, 0.3), 0px 1px 3px 1px rgba(60, 64, 67, 0.15);\n",
              "      fill: #174EA6;\n",
              "    }\n",
              "\n",
              "    [theme=dark] .colab-df-convert {\n",
              "      background-color: #3B4455;\n",
              "      fill: #D2E3FC;\n",
              "    }\n",
              "\n",
              "    [theme=dark] .colab-df-convert:hover {\n",
              "      background-color: #434B5C;\n",
              "      box-shadow: 0px 1px 3px 1px rgba(0, 0, 0, 0.15);\n",
              "      filter: drop-shadow(0px 1px 2px rgba(0, 0, 0, 0.3));\n",
              "      fill: #FFFFFF;\n",
              "    }\n",
              "  </style>\n",
              "\n",
              "      <script>\n",
              "        const buttonEl =\n",
              "          document.querySelector('#df-4b6839e0-08d4-43aa-baba-d2d9f2e815f4 button.colab-df-convert');\n",
              "        buttonEl.style.display =\n",
              "          google.colab.kernel.accessAllowed ? 'block' : 'none';\n",
              "\n",
              "        async function convertToInteractive(key) {\n",
              "          const element = document.querySelector('#df-4b6839e0-08d4-43aa-baba-d2d9f2e815f4');\n",
              "          const dataTable =\n",
              "            await google.colab.kernel.invokeFunction('convertToInteractive',\n",
              "                                                     [key], {});\n",
              "          if (!dataTable) return;\n",
              "\n",
              "          const docLinkHtml = 'Like what you see? Visit the ' +\n",
              "            '<a target=\"_blank\" href=https://colab.research.google.com/notebooks/data_table.ipynb>data table notebook</a>'\n",
              "            + ' to learn more about interactive tables.';\n",
              "          element.innerHTML = '';\n",
              "          dataTable['output_type'] = 'display_data';\n",
              "          await google.colab.output.renderOutput(dataTable, element);\n",
              "          const docLink = document.createElement('div');\n",
              "          docLink.innerHTML = docLinkHtml;\n",
              "          element.appendChild(docLink);\n",
              "        }\n",
              "      </script>\n",
              "    </div>\n",
              "  </div>\n",
              "  "
            ]
          },
          "metadata": {},
          "execution_count": 420
        }
      ]
    },
    {
      "cell_type": "code",
      "execution_count": null,
      "metadata": {
        "id": "mYx69hqMPG4F"
      },
      "outputs": [],
      "source": [
        "data_new=data_new.replace('',np.nan)"
      ]
    },
    {
      "cell_type": "code",
      "execution_count": null,
      "metadata": {
        "colab": {
          "base_uri": "https://localhost:8080/"
        },
        "id": "c1eMZFHtEX95",
        "outputId": "55af9634-ed47-43d9-b53e-9286e36790a9"
      },
      "outputs": [
        {
          "output_type": "execute_result",
          "data": {
            "text/plain": [
              "Index(['FirstDeliveredTime', 'OrderCode', 'CustomerName', 'CustomerPhone',\n",
              "       'ClientID', 'ClientContactName', 'Content', 'CurrentStatus',\n",
              "       'ReturnInfo', 'DeliveryWarehouseID', 'DeliveryWarehouse', 'NumDeliver',\n",
              "       'DriverID', 'DriverName', 'FirstFailDeliveryNote', 'TripCode',\n",
              "       'TimeLog', 'Calling Date', 'PIC', 'Thành công',\n",
              "       'Lý do cuộc gọi thất bại',\n",
              "       'Q1. Đối với sản phẩm này, Anh/chị cho em hỏi là NV giao hàng của bên em có gọi điện thoại cho mình trước khi giao không ạ? (Có thể cung cấp thời gian giao hàng)\\n',\n",
              "       'Q1a. Anh chị có nhận được tin nhắn từ nhân viên giao hàng không?',\n",
              "       'Q2: Anh/chị vui lòng cho em hỏi lý do đơn hàng giao không thành công là gì vậy ạ?',\n",
              "       'Lí do đơn hàng thất bại chi tiết 1', 'Lí do đơn hàng thất bại 1',\n",
              "       'Q3: Bên em xác nhận sẽ giao lại cho anh/chị đơn hàng này.  Anh/chị muốn nhận đơn hàng vào thời gian nào để NV giao hàng gọi đến cho bên Mình ạ?',\n",
              "       'Kiểm tra lí do Shipper', 'Call Center Note',\n",
              "       'Lí do đơn hàng thất bại chi tiết 2', 'Lí do đơn hàng thất bại 2',\n",
              "       'CX Note (Past)', 'Hướng xử lý Bưu cục', 'Tình trạng ĐH ', 'Link vé',\n",
              "       'Tình trạng ticket lần 1', 'Tình trạng ticket lần 2',\n",
              "       'Tình trạng ticket lần 3', 'Tình trạng ticket final',\n",
              "       'Trạng thái ĐH Giao Lần 1', 'Trạng thái ĐH Giao Lần 2',\n",
              "       'Trạng thái ĐH Giao Lần 3', 'Trạng thái ĐH Giao Lần 4', 'month'],\n",
              "      dtype='object')"
            ]
          },
          "metadata": {},
          "execution_count": 422
        }
      ],
      "source": [
        "data_new.columns"
      ]
    },
    {
      "cell_type": "code",
      "source": [
        "data_2 = data_new"
      ],
      "metadata": {
        "id": "AJx85GR8G7AE"
      },
      "execution_count": null,
      "outputs": []
    },
    {
      "cell_type": "code",
      "source": [
        "data_2['Calling Date'].fillna(method='ffill', inplace=True)"
      ],
      "metadata": {
        "id": "ml8IAnrkdXt6"
      },
      "execution_count": null,
      "outputs": []
    },
    {
      "cell_type": "code",
      "source": [
        "data_2['Calling Date'].unique()"
      ],
      "metadata": {
        "colab": {
          "base_uri": "https://localhost:8080/"
        },
        "id": "I-NgdQ4KsK90",
        "outputId": "b2253eb8-e83f-486e-dda8-8ec07c97f0fc"
      },
      "execution_count": null,
      "outputs": [
        {
          "output_type": "execute_result",
          "data": {
            "text/plain": [
              "array(['02/10/2022', '03/10/2022', '04/10/2022', '05/10/2022',\n",
              "       '06/10/2022', '07/10/2022', '08/10/2022', '09/10/2022',\n",
              "       '10/10/2022', '11/10/2022', '12/10/2022', '13/10/2022',\n",
              "       '14/10/2022', '15/10/2022', '16/10/2022', '17/10/2022',\n",
              "       '18/10/2022', '19/10/2022', '20/10/2022', '21/10/2022',\n",
              "       '22/10/2022', '23/10/2022', '24/10/2022', '06/09/2022',\n",
              "       '07/09/2022', '08/09/2022', '09/09/2022', '10/09/2022',\n",
              "       '11/09/2022', '12/09/2022', '13/09/2022', '14/09/2022',\n",
              "       '15/09/2022', '16/09/2022', '17/09/2022', '18/09/2022',\n",
              "       '19/09/2022', '20/09/2022', '21/09/2022', '22/09/2022',\n",
              "       '23/09/2022', '25/09/2022', '24/09/2022', '28/09/2022',\n",
              "       '29/09/2022', '30/09/2022', '01/10/2022', '01/08/2022',\n",
              "       '02/08/2022', '3/8/2022', '03/08/2022', '04/08/2022', '05/08/2022',\n",
              "       '06/08/2022', '07/08/2022', '08/08/2022', '09/08/2022',\n",
              "       '10/08/2022', '11/08/2022', '12/08/2022', '13/08/2022',\n",
              "       '14/08/2022', '15/08/2022', '16/08/2022', '17/08/2022',\n",
              "       '18/08/2022', '19/08/2022', '20/08/2022', '21/08/2022',\n",
              "       '22/08/2022', '23/08/2022', '24/08/2022', '25/08/2022',\n",
              "       '26/08/2022', '27/08/2022', '28/08/2022', '29/08/2022',\n",
              "       '30/08/2022', '31/08/2022', '28/06/2022', '29/06/2022',\n",
              "       '30/06/2022', '01/07/2022', '02/07/2022', '03/07/2022',\n",
              "       '04/07/2022', '05/07/2022', '06/07/2022', '07/07/2022',\n",
              "       '08/07/2022', '09/07/2022', '11/07/2022', '12/07/2022',\n",
              "       '13/07/2022', '14/07/2022', '15/07/2022', '16/07/2022',\n",
              "       '17/07/2022', '19/07/2022', '20/07/2022', '18/07/2022',\n",
              "       '19/07/22022', '21/07/2022', '22/07/2022', '23/07/2022',\n",
              "       '24/07/2022', '25/07/2022', '26/07/2022', '27/07/2022',\n",
              "       '28/07/2022', '29/07/2022', '30/07/2022', '31/07/2022'],\n",
              "      dtype=object)"
            ]
          },
          "metadata": {},
          "execution_count": 425
        }
      ]
    },
    {
      "cell_type": "code",
      "execution_count": null,
      "metadata": {
        "id": "SLLjXoYwkdG3"
      },
      "outputs": [],
      "source": [
        "data_2['Calling Date'].fillna(method='ffill', inplace=True)"
      ]
    },
    {
      "cell_type": "code",
      "execution_count": null,
      "metadata": {
        "id": "boCmNaMO5nCz",
        "colab": {
          "base_uri": "https://localhost:8080/",
          "height": 907
        },
        "outputId": "cd9ca017-7e58-4c84-e3b9-6a5e5265b389"
      },
      "outputs": [
        {
          "output_type": "execute_result",
          "data": {
            "text/plain": [
              "    FirstDeliveredTime           OrderCode CustomerName CustomerPhone  \\\n",
              "0  2022-10-01 10:18:19            GAWKUHKM    Xuân Tiến    0987631229   \n",
              "1  2022-10-01 10:19:11            GAWKNXAY     Tâm Thii   84793418825   \n",
              "2  2022-10-01 10:19:41  GHNMP0022860673VNA   tuyết hồng    0814655601   \n",
              "3  2022-10-01 10:55:38            GAWK9LU4  Phuong Linh    0888675543   \n",
              "4  2022-10-01 11:03:44            GAWWBCYQ   Chị Quang     0342700310   \n",
              "\n",
              "  ClientID             ClientContactName  \\\n",
              "0  3347095                    đỗ phương    \n",
              "1    18692  Công ty Huy Tuấn (Chuyên sỉ)   \n",
              "2     9794                          none   \n",
              "3    13745  Boxme Tan Binh - Ho Chi Minh   \n",
              "4  2649381                     Ngọc Minh   \n",
              "\n",
              "                                             Content CurrentStatus ReturnInfo  \\\n",
              "0                 điện thoạii 110i- [đt110i] [1 cái]       storing        NaN   \n",
              "1  Túi thơm thảo mộc treo phòng, treo tủ quần áo ...       storing        NaN   \n",
              "2  Áo Thun Nam Nữ Form Rộng Hàn Quốc In Hình Thiê...       storing        NaN   \n",
              "3  Kem Dưỡng Làm Mờ Vết Thâm Nám AHC Peony Bright...       storing        NaN   \n",
              "4                     Combo 3 món kone thái  [1 cái]       storing        NaN   \n",
              "\n",
              "  DeliveryWarehouseID  ... Link vé Tình trạng ticket lần 1  \\\n",
              "0            20648000  ...     NaN                     NaN   \n",
              "1            20648000  ...     NaN                     NaN   \n",
              "2            20648000  ...     NaN                     NaN   \n",
              "3            20648000  ...     NaN                     NaN   \n",
              "4                2393  ...     NaN                     NaN   \n",
              "\n",
              "  Tình trạng ticket lần 2 Tình trạng ticket lần 3 Tình trạng ticket final  \\\n",
              "0                     NaN                     NaN                     NaN   \n",
              "1                     NaN                     NaN                     NaN   \n",
              "2                     NaN                     NaN                     NaN   \n",
              "3                     NaN                     NaN                     NaN   \n",
              "4                     NaN                     NaN                     NaN   \n",
              "\n",
              "  Trạng thái ĐH Giao Lần 1 Trạng thái ĐH Giao Lần 2 Trạng thái ĐH Giao Lần 3  \\\n",
              "0                      NaN                      NaN                      NaN   \n",
              "1                      NaN                      NaN                      NaN   \n",
              "2                      NaN                      NaN                      NaN   \n",
              "3                      NaN                      NaN                      NaN   \n",
              "4                      NaN                      NaN                      NaN   \n",
              "\n",
              "  Trạng thái ĐH Giao Lần 4       month  \n",
              "0                      NaN  2022-10-01  \n",
              "1                      NaN  2022-10-01  \n",
              "2                      NaN  2022-10-01  \n",
              "3                      NaN  2022-10-01  \n",
              "4                      NaN  2022-10-01  \n",
              "\n",
              "[5 rows x 44 columns]"
            ],
            "text/html": [
              "\n",
              "  <div id=\"df-118def8e-60bf-4077-9575-d8e149d5d2b0\">\n",
              "    <div class=\"colab-df-container\">\n",
              "      <div>\n",
              "<style scoped>\n",
              "    .dataframe tbody tr th:only-of-type {\n",
              "        vertical-align: middle;\n",
              "    }\n",
              "\n",
              "    .dataframe tbody tr th {\n",
              "        vertical-align: top;\n",
              "    }\n",
              "\n",
              "    .dataframe thead th {\n",
              "        text-align: right;\n",
              "    }\n",
              "</style>\n",
              "<table border=\"1\" class=\"dataframe\">\n",
              "  <thead>\n",
              "    <tr style=\"text-align: right;\">\n",
              "      <th></th>\n",
              "      <th>FirstDeliveredTime</th>\n",
              "      <th>OrderCode</th>\n",
              "      <th>CustomerName</th>\n",
              "      <th>CustomerPhone</th>\n",
              "      <th>ClientID</th>\n",
              "      <th>ClientContactName</th>\n",
              "      <th>Content</th>\n",
              "      <th>CurrentStatus</th>\n",
              "      <th>ReturnInfo</th>\n",
              "      <th>DeliveryWarehouseID</th>\n",
              "      <th>...</th>\n",
              "      <th>Link vé</th>\n",
              "      <th>Tình trạng ticket lần 1</th>\n",
              "      <th>Tình trạng ticket lần 2</th>\n",
              "      <th>Tình trạng ticket lần 3</th>\n",
              "      <th>Tình trạng ticket final</th>\n",
              "      <th>Trạng thái ĐH Giao Lần 1</th>\n",
              "      <th>Trạng thái ĐH Giao Lần 2</th>\n",
              "      <th>Trạng thái ĐH Giao Lần 3</th>\n",
              "      <th>Trạng thái ĐH Giao Lần 4</th>\n",
              "      <th>month</th>\n",
              "    </tr>\n",
              "  </thead>\n",
              "  <tbody>\n",
              "    <tr>\n",
              "      <th>0</th>\n",
              "      <td>2022-10-01 10:18:19</td>\n",
              "      <td>GAWKUHKM</td>\n",
              "      <td>Xuân Tiến</td>\n",
              "      <td>0987631229</td>\n",
              "      <td>3347095</td>\n",
              "      <td>đỗ phương</td>\n",
              "      <td>điện thoạii 110i- [đt110i] [1 cái]</td>\n",
              "      <td>storing</td>\n",
              "      <td>NaN</td>\n",
              "      <td>20648000</td>\n",
              "      <td>...</td>\n",
              "      <td>NaN</td>\n",
              "      <td>NaN</td>\n",
              "      <td>NaN</td>\n",
              "      <td>NaN</td>\n",
              "      <td>NaN</td>\n",
              "      <td>NaN</td>\n",
              "      <td>NaN</td>\n",
              "      <td>NaN</td>\n",
              "      <td>NaN</td>\n",
              "      <td>2022-10-01</td>\n",
              "    </tr>\n",
              "    <tr>\n",
              "      <th>1</th>\n",
              "      <td>2022-10-01 10:19:11</td>\n",
              "      <td>GAWKNXAY</td>\n",
              "      <td>Tâm Thii</td>\n",
              "      <td>84793418825</td>\n",
              "      <td>18692</td>\n",
              "      <td>Công ty Huy Tuấn (Chuyên sỉ)</td>\n",
              "      <td>Túi thơm thảo mộc treo phòng, treo tủ quần áo ...</td>\n",
              "      <td>storing</td>\n",
              "      <td>NaN</td>\n",
              "      <td>20648000</td>\n",
              "      <td>...</td>\n",
              "      <td>NaN</td>\n",
              "      <td>NaN</td>\n",
              "      <td>NaN</td>\n",
              "      <td>NaN</td>\n",
              "      <td>NaN</td>\n",
              "      <td>NaN</td>\n",
              "      <td>NaN</td>\n",
              "      <td>NaN</td>\n",
              "      <td>NaN</td>\n",
              "      <td>2022-10-01</td>\n",
              "    </tr>\n",
              "    <tr>\n",
              "      <th>2</th>\n",
              "      <td>2022-10-01 10:19:41</td>\n",
              "      <td>GHNMP0022860673VNA</td>\n",
              "      <td>tuyết hồng</td>\n",
              "      <td>0814655601</td>\n",
              "      <td>9794</td>\n",
              "      <td>none</td>\n",
              "      <td>Áo Thun Nam Nữ Form Rộng Hàn Quốc In Hình Thiê...</td>\n",
              "      <td>storing</td>\n",
              "      <td>NaN</td>\n",
              "      <td>20648000</td>\n",
              "      <td>...</td>\n",
              "      <td>NaN</td>\n",
              "      <td>NaN</td>\n",
              "      <td>NaN</td>\n",
              "      <td>NaN</td>\n",
              "      <td>NaN</td>\n",
              "      <td>NaN</td>\n",
              "      <td>NaN</td>\n",
              "      <td>NaN</td>\n",
              "      <td>NaN</td>\n",
              "      <td>2022-10-01</td>\n",
              "    </tr>\n",
              "    <tr>\n",
              "      <th>3</th>\n",
              "      <td>2022-10-01 10:55:38</td>\n",
              "      <td>GAWK9LU4</td>\n",
              "      <td>Phuong Linh</td>\n",
              "      <td>0888675543</td>\n",
              "      <td>13745</td>\n",
              "      <td>Boxme Tan Binh - Ho Chi Minh</td>\n",
              "      <td>Kem Dưỡng Làm Mờ Vết Thâm Nám AHC Peony Bright...</td>\n",
              "      <td>storing</td>\n",
              "      <td>NaN</td>\n",
              "      <td>20648000</td>\n",
              "      <td>...</td>\n",
              "      <td>NaN</td>\n",
              "      <td>NaN</td>\n",
              "      <td>NaN</td>\n",
              "      <td>NaN</td>\n",
              "      <td>NaN</td>\n",
              "      <td>NaN</td>\n",
              "      <td>NaN</td>\n",
              "      <td>NaN</td>\n",
              "      <td>NaN</td>\n",
              "      <td>2022-10-01</td>\n",
              "    </tr>\n",
              "    <tr>\n",
              "      <th>4</th>\n",
              "      <td>2022-10-01 11:03:44</td>\n",
              "      <td>GAWWBCYQ</td>\n",
              "      <td>Chị Quang</td>\n",
              "      <td>0342700310</td>\n",
              "      <td>2649381</td>\n",
              "      <td>Ngọc Minh</td>\n",
              "      <td>Combo 3 món kone thái  [1 cái]</td>\n",
              "      <td>storing</td>\n",
              "      <td>NaN</td>\n",
              "      <td>2393</td>\n",
              "      <td>...</td>\n",
              "      <td>NaN</td>\n",
              "      <td>NaN</td>\n",
              "      <td>NaN</td>\n",
              "      <td>NaN</td>\n",
              "      <td>NaN</td>\n",
              "      <td>NaN</td>\n",
              "      <td>NaN</td>\n",
              "      <td>NaN</td>\n",
              "      <td>NaN</td>\n",
              "      <td>2022-10-01</td>\n",
              "    </tr>\n",
              "  </tbody>\n",
              "</table>\n",
              "<p>5 rows × 44 columns</p>\n",
              "</div>\n",
              "      <button class=\"colab-df-convert\" onclick=\"convertToInteractive('df-118def8e-60bf-4077-9575-d8e149d5d2b0')\"\n",
              "              title=\"Convert this dataframe to an interactive table.\"\n",
              "              style=\"display:none;\">\n",
              "        \n",
              "  <svg xmlns=\"http://www.w3.org/2000/svg\" height=\"24px\"viewBox=\"0 0 24 24\"\n",
              "       width=\"24px\">\n",
              "    <path d=\"M0 0h24v24H0V0z\" fill=\"none\"/>\n",
              "    <path d=\"M18.56 5.44l.94 2.06.94-2.06 2.06-.94-2.06-.94-.94-2.06-.94 2.06-2.06.94zm-11 1L8.5 8.5l.94-2.06 2.06-.94-2.06-.94L8.5 2.5l-.94 2.06-2.06.94zm10 10l.94 2.06.94-2.06 2.06-.94-2.06-.94-.94-2.06-.94 2.06-2.06.94z\"/><path d=\"M17.41 7.96l-1.37-1.37c-.4-.4-.92-.59-1.43-.59-.52 0-1.04.2-1.43.59L10.3 9.45l-7.72 7.72c-.78.78-.78 2.05 0 2.83L4 21.41c.39.39.9.59 1.41.59.51 0 1.02-.2 1.41-.59l7.78-7.78 2.81-2.81c.8-.78.8-2.07 0-2.86zM5.41 20L4 18.59l7.72-7.72 1.47 1.35L5.41 20z\"/>\n",
              "  </svg>\n",
              "      </button>\n",
              "      \n",
              "  <style>\n",
              "    .colab-df-container {\n",
              "      display:flex;\n",
              "      flex-wrap:wrap;\n",
              "      gap: 12px;\n",
              "    }\n",
              "\n",
              "    .colab-df-convert {\n",
              "      background-color: #E8F0FE;\n",
              "      border: none;\n",
              "      border-radius: 50%;\n",
              "      cursor: pointer;\n",
              "      display: none;\n",
              "      fill: #1967D2;\n",
              "      height: 32px;\n",
              "      padding: 0 0 0 0;\n",
              "      width: 32px;\n",
              "    }\n",
              "\n",
              "    .colab-df-convert:hover {\n",
              "      background-color: #E2EBFA;\n",
              "      box-shadow: 0px 1px 2px rgba(60, 64, 67, 0.3), 0px 1px 3px 1px rgba(60, 64, 67, 0.15);\n",
              "      fill: #174EA6;\n",
              "    }\n",
              "\n",
              "    [theme=dark] .colab-df-convert {\n",
              "      background-color: #3B4455;\n",
              "      fill: #D2E3FC;\n",
              "    }\n",
              "\n",
              "    [theme=dark] .colab-df-convert:hover {\n",
              "      background-color: #434B5C;\n",
              "      box-shadow: 0px 1px 3px 1px rgba(0, 0, 0, 0.15);\n",
              "      filter: drop-shadow(0px 1px 2px rgba(0, 0, 0, 0.3));\n",
              "      fill: #FFFFFF;\n",
              "    }\n",
              "  </style>\n",
              "\n",
              "      <script>\n",
              "        const buttonEl =\n",
              "          document.querySelector('#df-118def8e-60bf-4077-9575-d8e149d5d2b0 button.colab-df-convert');\n",
              "        buttonEl.style.display =\n",
              "          google.colab.kernel.accessAllowed ? 'block' : 'none';\n",
              "\n",
              "        async function convertToInteractive(key) {\n",
              "          const element = document.querySelector('#df-118def8e-60bf-4077-9575-d8e149d5d2b0');\n",
              "          const dataTable =\n",
              "            await google.colab.kernel.invokeFunction('convertToInteractive',\n",
              "                                                     [key], {});\n",
              "          if (!dataTable) return;\n",
              "\n",
              "          const docLinkHtml = 'Like what you see? Visit the ' +\n",
              "            '<a target=\"_blank\" href=https://colab.research.google.com/notebooks/data_table.ipynb>data table notebook</a>'\n",
              "            + ' to learn more about interactive tables.';\n",
              "          element.innerHTML = '';\n",
              "          dataTable['output_type'] = 'display_data';\n",
              "          await google.colab.output.renderOutput(dataTable, element);\n",
              "          const docLink = document.createElement('div');\n",
              "          docLink.innerHTML = docLinkHtml;\n",
              "          element.appendChild(docLink);\n",
              "        }\n",
              "      </script>\n",
              "    </div>\n",
              "  </div>\n",
              "  "
            ]
          },
          "metadata": {},
          "execution_count": 427
        }
      ],
      "source": [
        "data_2.head()"
      ]
    },
    {
      "cell_type": "code",
      "execution_count": null,
      "metadata": {
        "colab": {
          "base_uri": "https://localhost:8080/"
        },
        "id": "_LzSOrgRHZnB",
        "outputId": "12bb9c17-9d6b-4085-b544-dd583f22c41c"
      },
      "outputs": [
        {
          "output_type": "execute_result",
          "data": {
            "text/plain": [
              "Index(['FirstDeliveredTime', 'OrderCode', 'CustomerName', 'CustomerPhone',\n",
              "       'ClientID', 'ClientContactName', 'Content', 'CurrentStatus',\n",
              "       'ReturnInfo', 'DeliveryWarehouseID', 'DeliveryWarehouse', 'NumDeliver',\n",
              "       'DriverID', 'DriverName', 'FirstFailDeliveryNote', 'TripCode',\n",
              "       'TimeLog', 'Calling Date', 'PIC', 'Thành công',\n",
              "       'Lý do cuộc gọi thất bại',\n",
              "       'Q1. Đối với sản phẩm này, Anh/chị cho em hỏi là NV giao hàng của bên em có gọi điện thoại cho mình trước khi giao không ạ? (Có thể cung cấp thời gian giao hàng)\\n',\n",
              "       'Q1a. Anh chị có nhận được tin nhắn từ nhân viên giao hàng không?',\n",
              "       'Q2: Anh/chị vui lòng cho em hỏi lý do đơn hàng giao không thành công là gì vậy ạ?',\n",
              "       'Lí do đơn hàng thất bại chi tiết 1', 'Lí do đơn hàng thất bại 1',\n",
              "       'Q3: Bên em xác nhận sẽ giao lại cho anh/chị đơn hàng này.  Anh/chị muốn nhận đơn hàng vào thời gian nào để NV giao hàng gọi đến cho bên Mình ạ?',\n",
              "       'Kiểm tra lí do Shipper', 'Call Center Note',\n",
              "       'Lí do đơn hàng thất bại chi tiết 2', 'Lí do đơn hàng thất bại 2',\n",
              "       'CX Note (Past)', 'Hướng xử lý Bưu cục', 'Tình trạng ĐH ', 'Link vé',\n",
              "       'Tình trạng ticket lần 1', 'Tình trạng ticket lần 2',\n",
              "       'Tình trạng ticket lần 3', 'Tình trạng ticket final',\n",
              "       'Trạng thái ĐH Giao Lần 1', 'Trạng thái ĐH Giao Lần 2',\n",
              "       'Trạng thái ĐH Giao Lần 3', 'Trạng thái ĐH Giao Lần 4', 'month'],\n",
              "      dtype='object')"
            ]
          },
          "metadata": {},
          "execution_count": 428
        }
      ],
      "source": [
        "data_2.columns"
      ]
    },
    {
      "cell_type": "code",
      "execution_count": null,
      "metadata": {
        "id": "3Dyd7vlqwGn-"
      },
      "outputs": [],
      "source": [
        "complex_data=data_2.replace(np.nan,\"\")"
      ]
    },
    {
      "cell_type": "code",
      "source": [
        "#complex_data['Calling Date'] = convert_short_date(complex_data['Calling Date'])"
      ],
      "metadata": {
        "id": "t0FuvNsI0gQS"
      },
      "execution_count": null,
      "outputs": []
    },
    {
      "cell_type": "code",
      "source": [
        "complex_data = complex_data[complex_data['OrderCode'].notna()]"
      ],
      "metadata": {
        "id": "AQTh5Oor8elI"
      },
      "execution_count": null,
      "outputs": []
    },
    {
      "cell_type": "code",
      "source": [
        "complex_data = complex_data[complex_data['OrderCode']!='']"
      ],
      "metadata": {
        "id": "lDacVxxy9T4y"
      },
      "execution_count": null,
      "outputs": []
    },
    {
      "cell_type": "code",
      "source": [
        "complex_data = complex_data[complex_data['Calling Date'].notna()]\n",
        "complex_data = complex_data[complex_data['Calling Date']!='']"
      ],
      "metadata": {
        "id": "JsJA8h4UEtMD"
      },
      "execution_count": null,
      "outputs": []
    },
    {
      "cell_type": "code",
      "source": [
        "complex_data[complex_data['OrderCode']=='']"
      ],
      "metadata": {
        "colab": {
          "base_uri": "https://localhost:8080/",
          "height": 212
        },
        "id": "We-BZK0r92cX",
        "outputId": "c8a8d72f-cf7d-40a0-bba8-44fb68db0af5"
      },
      "execution_count": null,
      "outputs": [
        {
          "output_type": "execute_result",
          "data": {
            "text/plain": [
              "Empty DataFrame\n",
              "Columns: [FirstDeliveredTime, OrderCode, CustomerName, CustomerPhone, ClientID, ClientContactName, Content, CurrentStatus, ReturnInfo, DeliveryWarehouseID, DeliveryWarehouse, NumDeliver, DriverID, DriverName, FirstFailDeliveryNote, TripCode, TimeLog, Calling Date, PIC, Thành công, Lý do cuộc gọi thất bại, Q1. Đối với sản phẩm này, Anh/chị cho em hỏi là NV giao hàng của bên em có gọi điện thoại cho mình trước khi giao không ạ? (Có thể cung cấp thời gian giao hàng)\n",
              ", Q1a. Anh chị có nhận được tin nhắn từ nhân viên giao hàng không?, Q2: Anh/chị vui lòng cho em hỏi lý do đơn hàng giao không thành công là gì vậy ạ?, Lí do đơn hàng thất bại chi tiết 1, Lí do đơn hàng thất bại 1, Q3: Bên em xác nhận sẽ giao lại cho anh/chị đơn hàng này.  Anh/chị muốn nhận đơn hàng vào thời gian nào để NV giao hàng gọi đến cho bên Mình ạ?, Kiểm tra lí do Shipper, Call Center Note, Lí do đơn hàng thất bại chi tiết 2, Lí do đơn hàng thất bại 2, CX Note (Past), Hướng xử lý Bưu cục, Tình trạng ĐH , Link vé, Tình trạng ticket lần 1, Tình trạng ticket lần 2, Tình trạng ticket lần 3, Tình trạng ticket final, Trạng thái ĐH Giao Lần 1, Trạng thái ĐH Giao Lần 2, Trạng thái ĐH Giao Lần 3, Trạng thái ĐH Giao Lần 4, month]\n",
              "Index: []\n",
              "\n",
              "[0 rows x 44 columns]"
            ],
            "text/html": [
              "\n",
              "  <div id=\"df-2c66c37e-6ee5-420a-b381-1d4ab20e4518\">\n",
              "    <div class=\"colab-df-container\">\n",
              "      <div>\n",
              "<style scoped>\n",
              "    .dataframe tbody tr th:only-of-type {\n",
              "        vertical-align: middle;\n",
              "    }\n",
              "\n",
              "    .dataframe tbody tr th {\n",
              "        vertical-align: top;\n",
              "    }\n",
              "\n",
              "    .dataframe thead th {\n",
              "        text-align: right;\n",
              "    }\n",
              "</style>\n",
              "<table border=\"1\" class=\"dataframe\">\n",
              "  <thead>\n",
              "    <tr style=\"text-align: right;\">\n",
              "      <th></th>\n",
              "      <th>FirstDeliveredTime</th>\n",
              "      <th>OrderCode</th>\n",
              "      <th>CustomerName</th>\n",
              "      <th>CustomerPhone</th>\n",
              "      <th>ClientID</th>\n",
              "      <th>ClientContactName</th>\n",
              "      <th>Content</th>\n",
              "      <th>CurrentStatus</th>\n",
              "      <th>ReturnInfo</th>\n",
              "      <th>DeliveryWarehouseID</th>\n",
              "      <th>...</th>\n",
              "      <th>Link vé</th>\n",
              "      <th>Tình trạng ticket lần 1</th>\n",
              "      <th>Tình trạng ticket lần 2</th>\n",
              "      <th>Tình trạng ticket lần 3</th>\n",
              "      <th>Tình trạng ticket final</th>\n",
              "      <th>Trạng thái ĐH Giao Lần 1</th>\n",
              "      <th>Trạng thái ĐH Giao Lần 2</th>\n",
              "      <th>Trạng thái ĐH Giao Lần 3</th>\n",
              "      <th>Trạng thái ĐH Giao Lần 4</th>\n",
              "      <th>month</th>\n",
              "    </tr>\n",
              "  </thead>\n",
              "  <tbody>\n",
              "  </tbody>\n",
              "</table>\n",
              "<p>0 rows × 44 columns</p>\n",
              "</div>\n",
              "      <button class=\"colab-df-convert\" onclick=\"convertToInteractive('df-2c66c37e-6ee5-420a-b381-1d4ab20e4518')\"\n",
              "              title=\"Convert this dataframe to an interactive table.\"\n",
              "              style=\"display:none;\">\n",
              "        \n",
              "  <svg xmlns=\"http://www.w3.org/2000/svg\" height=\"24px\"viewBox=\"0 0 24 24\"\n",
              "       width=\"24px\">\n",
              "    <path d=\"M0 0h24v24H0V0z\" fill=\"none\"/>\n",
              "    <path d=\"M18.56 5.44l.94 2.06.94-2.06 2.06-.94-2.06-.94-.94-2.06-.94 2.06-2.06.94zm-11 1L8.5 8.5l.94-2.06 2.06-.94-2.06-.94L8.5 2.5l-.94 2.06-2.06.94zm10 10l.94 2.06.94-2.06 2.06-.94-2.06-.94-.94-2.06-.94 2.06-2.06.94z\"/><path d=\"M17.41 7.96l-1.37-1.37c-.4-.4-.92-.59-1.43-.59-.52 0-1.04.2-1.43.59L10.3 9.45l-7.72 7.72c-.78.78-.78 2.05 0 2.83L4 21.41c.39.39.9.59 1.41.59.51 0 1.02-.2 1.41-.59l7.78-7.78 2.81-2.81c.8-.78.8-2.07 0-2.86zM5.41 20L4 18.59l7.72-7.72 1.47 1.35L5.41 20z\"/>\n",
              "  </svg>\n",
              "      </button>\n",
              "      \n",
              "  <style>\n",
              "    .colab-df-container {\n",
              "      display:flex;\n",
              "      flex-wrap:wrap;\n",
              "      gap: 12px;\n",
              "    }\n",
              "\n",
              "    .colab-df-convert {\n",
              "      background-color: #E8F0FE;\n",
              "      border: none;\n",
              "      border-radius: 50%;\n",
              "      cursor: pointer;\n",
              "      display: none;\n",
              "      fill: #1967D2;\n",
              "      height: 32px;\n",
              "      padding: 0 0 0 0;\n",
              "      width: 32px;\n",
              "    }\n",
              "\n",
              "    .colab-df-convert:hover {\n",
              "      background-color: #E2EBFA;\n",
              "      box-shadow: 0px 1px 2px rgba(60, 64, 67, 0.3), 0px 1px 3px 1px rgba(60, 64, 67, 0.15);\n",
              "      fill: #174EA6;\n",
              "    }\n",
              "\n",
              "    [theme=dark] .colab-df-convert {\n",
              "      background-color: #3B4455;\n",
              "      fill: #D2E3FC;\n",
              "    }\n",
              "\n",
              "    [theme=dark] .colab-df-convert:hover {\n",
              "      background-color: #434B5C;\n",
              "      box-shadow: 0px 1px 3px 1px rgba(0, 0, 0, 0.15);\n",
              "      filter: drop-shadow(0px 1px 2px rgba(0, 0, 0, 0.3));\n",
              "      fill: #FFFFFF;\n",
              "    }\n",
              "  </style>\n",
              "\n",
              "      <script>\n",
              "        const buttonEl =\n",
              "          document.querySelector('#df-2c66c37e-6ee5-420a-b381-1d4ab20e4518 button.colab-df-convert');\n",
              "        buttonEl.style.display =\n",
              "          google.colab.kernel.accessAllowed ? 'block' : 'none';\n",
              "\n",
              "        async function convertToInteractive(key) {\n",
              "          const element = document.querySelector('#df-2c66c37e-6ee5-420a-b381-1d4ab20e4518');\n",
              "          const dataTable =\n",
              "            await google.colab.kernel.invokeFunction('convertToInteractive',\n",
              "                                                     [key], {});\n",
              "          if (!dataTable) return;\n",
              "\n",
              "          const docLinkHtml = 'Like what you see? Visit the ' +\n",
              "            '<a target=\"_blank\" href=https://colab.research.google.com/notebooks/data_table.ipynb>data table notebook</a>'\n",
              "            + ' to learn more about interactive tables.';\n",
              "          element.innerHTML = '';\n",
              "          dataTable['output_type'] = 'display_data';\n",
              "          await google.colab.output.renderOutput(dataTable, element);\n",
              "          const docLink = document.createElement('div');\n",
              "          docLink.innerHTML = docLinkHtml;\n",
              "          element.appendChild(docLink);\n",
              "        }\n",
              "      </script>\n",
              "    </div>\n",
              "  </div>\n",
              "  "
            ]
          },
          "metadata": {},
          "execution_count": 434
        }
      ]
    },
    {
      "cell_type": "code",
      "execution_count": null,
      "metadata": {
        "id": "wfbJdSrigGqj"
      },
      "outputs": [],
      "source": [
        "#from google.colab import drive\n",
        "\n",
        "#drive.mount('/content/drive')\n",
        "#path = '/content/drive/MyDrive/QC/FD/Call_Check/Call_Check.csv'\n",
        "\n",
        "#with open(path, 'w', encoding = 'utf-8-sig') as f:\n",
        "#    complex_data.to_csv(f)"
      ]
    },
    {
      "cell_type": "code",
      "source": [
        "#range1 = []\n",
        "#i=0\n",
        "#for c in complex_data['Calling Date']:\n",
        "#  for fmt in [\"%Y-%m-%d\",\"%m/%d/%Y\"]:\n",
        "#    try:\n",
        "#      a = datetime.strptime(c, fmt)\n",
        "#      b = datetime.strftime(a, '%Y-%m-%d') \n",
        "#      range1.append(b)\n",
        "#      break\n",
        "#    except ValueError:\n",
        "#      if fmt == \"%Y-%m-%d\": range1.append(c)\n",
        "#      continue\n",
        "#    range1.append('')"
      ],
      "metadata": {
        "id": "7S3jDSQSRNwf"
      },
      "execution_count": null,
      "outputs": []
    },
    {
      "cell_type": "code",
      "source": [
        "#range1 = []\n",
        "#i=0\n",
        "#for c in complex_data['Calling Date']:\n",
        "#    for fmt in [\"%d/%m/%Y\",\"%m/%d/%Y\"]:\n",
        "#      try:\n",
        "#        a = datetime.strptime(c, fmt)\n",
        "#        b = datetime.strftime(a, '%Y-%m-%d') \n",
        "#        range1.append(b)\n",
        "#        break\n",
        "#      except ValueError:\n",
        "#        range1.append(c)"
      ],
      "metadata": {
        "id": "vFtkSsgbkT3p"
      },
      "execution_count": null,
      "outputs": []
    },
    {
      "cell_type": "code",
      "source": [
        "#complex_data.drop_duplicates(subset=None,keep='first', inplace=True, ignore_index=False)"
      ],
      "metadata": {
        "id": "Yzgnqi7XOgCY"
      },
      "execution_count": null,
      "outputs": []
    },
    {
      "cell_type": "code",
      "source": [
        "complex_data['Calling Date'].unique()"
      ],
      "metadata": {
        "colab": {
          "base_uri": "https://localhost:8080/"
        },
        "id": "_TDjJkNFQX_b",
        "outputId": "4e2af707-48eb-4761-eabd-67bf3823d019"
      },
      "execution_count": null,
      "outputs": [
        {
          "output_type": "execute_result",
          "data": {
            "text/plain": [
              "array(['02/10/2022', '03/10/2022', '04/10/2022', '05/10/2022',\n",
              "       '06/10/2022', '07/10/2022', '08/10/2022', '09/10/2022',\n",
              "       '10/10/2022', '11/10/2022', '12/10/2022', '13/10/2022',\n",
              "       '14/10/2022', '15/10/2022', '16/10/2022', '17/10/2022',\n",
              "       '18/10/2022', '19/10/2022', '20/10/2022', '21/10/2022',\n",
              "       '22/10/2022', '23/10/2022', '24/10/2022', '06/09/2022',\n",
              "       '07/09/2022', '08/09/2022', '09/09/2022', '10/09/2022',\n",
              "       '11/09/2022', '12/09/2022', '13/09/2022', '14/09/2022',\n",
              "       '15/09/2022', '16/09/2022', '17/09/2022', '18/09/2022',\n",
              "       '19/09/2022', '20/09/2022', '21/09/2022', '22/09/2022',\n",
              "       '23/09/2022', '25/09/2022', '24/09/2022', '28/09/2022',\n",
              "       '29/09/2022', '30/09/2022', '01/10/2022', '01/08/2022',\n",
              "       '02/08/2022', '3/8/2022', '03/08/2022', '04/08/2022', '05/08/2022',\n",
              "       '06/08/2022', '07/08/2022', '08/08/2022', '09/08/2022',\n",
              "       '10/08/2022', '11/08/2022', '12/08/2022', '13/08/2022',\n",
              "       '14/08/2022', '15/08/2022', '16/08/2022', '17/08/2022',\n",
              "       '18/08/2022', '19/08/2022', '20/08/2022', '21/08/2022',\n",
              "       '22/08/2022', '23/08/2022', '24/08/2022', '25/08/2022',\n",
              "       '26/08/2022', '27/08/2022', '28/08/2022', '29/08/2022',\n",
              "       '30/08/2022', '31/08/2022', '28/06/2022', '29/06/2022',\n",
              "       '30/06/2022', '01/07/2022', '02/07/2022', '03/07/2022',\n",
              "       '04/07/2022', '05/07/2022', '06/07/2022', '07/07/2022',\n",
              "       '08/07/2022', '09/07/2022', '11/07/2022', '12/07/2022',\n",
              "       '13/07/2022', '14/07/2022', '15/07/2022', '16/07/2022',\n",
              "       '17/07/2022', '19/07/2022', '20/07/2022', '18/07/2022',\n",
              "       '19/07/22022', '21/07/2022', '22/07/2022', '23/07/2022',\n",
              "       '24/07/2022', '25/07/2022', '26/07/2022', '27/07/2022',\n",
              "       '28/07/2022', '29/07/2022', '30/07/2022', '31/07/2022'],\n",
              "      dtype=object)"
            ]
          },
          "metadata": {},
          "execution_count": 439
        }
      ]
    },
    {
      "cell_type": "code",
      "source": [
        "complex_data['Calling Date'] = pd.to_datetime(complex_data['Calling Date'], errors='coerce',dayfirst=True)"
      ],
      "metadata": {
        "id": "tuG1CX4_qaGt"
      },
      "execution_count": null,
      "outputs": []
    },
    {
      "cell_type": "code",
      "source": [
        "#from datetime import datetime"
      ],
      "metadata": {
        "id": "BSa7uAGXO-Uq"
      },
      "execution_count": null,
      "outputs": []
    },
    {
      "cell_type": "code",
      "source": [
        "#def convert_date_from_flt(col):\n",
        "#    new_col = []\n",
        "#    for i in col:\n",
        "#        if pd.isnull(i):\n",
        "#            new_col.append(np.NaN)\n",
        "#        else:\n",
        "#            count = 0\n",
        "#            fmt_date=[\"%m/%d/%Y\",\"%d/%m/%Y\"]\n",
        "#            for fmt in fmt_date:\n",
        "#                try:\n",
        "#                    count += 1\n",
        "#                    a = datetime.strptime(datetime.strftime(datetime.strptime(i,fmt),\"%d/%m/%Y\"),\"%Y/%m/%d\")\n",
        "#                    new_col.append(a)\n",
        "#                    break\n",
        "#                except ValueError:\n",
        "#                    continue\n",
        "#            if count == len(fmt_date):\n",
        "#                new_col.append(np.NaN) \n",
        "#    return new_col"
      ],
      "metadata": {
        "id": "UVemq26AoNVN"
      },
      "execution_count": null,
      "outputs": []
    },
    {
      "cell_type": "code",
      "source": [
        "len(complex_data['Calling Date'])"
      ],
      "metadata": {
        "colab": {
          "base_uri": "https://localhost:8080/"
        },
        "id": "U7InUs8eQB80",
        "outputId": "b0894bf2-85a7-4158-e098-509cdf92fe1c"
      },
      "execution_count": null,
      "outputs": [
        {
          "output_type": "execute_result",
          "data": {
            "text/plain": [
              "178633"
            ]
          },
          "metadata": {},
          "execution_count": 443
        }
      ]
    },
    {
      "cell_type": "code",
      "source": [
        "complex_data['Calling Date'].unique()"
      ],
      "metadata": {
        "id": "lhqGO_iJQWNh",
        "colab": {
          "base_uri": "https://localhost:8080/"
        },
        "outputId": "5d1fb565-0734-4a9d-bba4-9fd390cf3355"
      },
      "execution_count": null,
      "outputs": [
        {
          "output_type": "execute_result",
          "data": {
            "text/plain": [
              "array(['2022-10-02T00:00:00.000000000', '2022-10-03T00:00:00.000000000',\n",
              "       '2022-10-04T00:00:00.000000000', '2022-10-05T00:00:00.000000000',\n",
              "       '2022-10-06T00:00:00.000000000', '2022-10-07T00:00:00.000000000',\n",
              "       '2022-10-08T00:00:00.000000000', '2022-10-09T00:00:00.000000000',\n",
              "       '2022-10-10T00:00:00.000000000', '2022-10-11T00:00:00.000000000',\n",
              "       '2022-10-12T00:00:00.000000000', '2022-10-13T00:00:00.000000000',\n",
              "       '2022-10-14T00:00:00.000000000', '2022-10-15T00:00:00.000000000',\n",
              "       '2022-10-16T00:00:00.000000000', '2022-10-17T00:00:00.000000000',\n",
              "       '2022-10-18T00:00:00.000000000', '2022-10-19T00:00:00.000000000',\n",
              "       '2022-10-20T00:00:00.000000000', '2022-10-21T00:00:00.000000000',\n",
              "       '2022-10-22T00:00:00.000000000', '2022-10-23T00:00:00.000000000',\n",
              "       '2022-10-24T00:00:00.000000000', '2022-09-06T00:00:00.000000000',\n",
              "       '2022-09-07T00:00:00.000000000', '2022-09-08T00:00:00.000000000',\n",
              "       '2022-09-09T00:00:00.000000000', '2022-09-10T00:00:00.000000000',\n",
              "       '2022-09-11T00:00:00.000000000', '2022-09-12T00:00:00.000000000',\n",
              "       '2022-09-13T00:00:00.000000000', '2022-09-14T00:00:00.000000000',\n",
              "       '2022-09-15T00:00:00.000000000', '2022-09-16T00:00:00.000000000',\n",
              "       '2022-09-17T00:00:00.000000000', '2022-09-18T00:00:00.000000000',\n",
              "       '2022-09-19T00:00:00.000000000', '2022-09-20T00:00:00.000000000',\n",
              "       '2022-09-21T00:00:00.000000000', '2022-09-22T00:00:00.000000000',\n",
              "       '2022-09-23T00:00:00.000000000', '2022-09-25T00:00:00.000000000',\n",
              "       '2022-09-24T00:00:00.000000000', '2022-09-28T00:00:00.000000000',\n",
              "       '2022-09-29T00:00:00.000000000', '2022-09-30T00:00:00.000000000',\n",
              "       '2022-10-01T00:00:00.000000000', '2022-08-01T00:00:00.000000000',\n",
              "       '2022-08-02T00:00:00.000000000', '2022-08-03T00:00:00.000000000',\n",
              "       '2022-08-04T00:00:00.000000000', '2022-08-05T00:00:00.000000000',\n",
              "       '2022-08-06T00:00:00.000000000', '2022-08-07T00:00:00.000000000',\n",
              "       '2022-08-08T00:00:00.000000000', '2022-08-09T00:00:00.000000000',\n",
              "       '2022-08-10T00:00:00.000000000', '2022-08-11T00:00:00.000000000',\n",
              "       '2022-08-12T00:00:00.000000000', '2022-08-13T00:00:00.000000000',\n",
              "       '2022-08-14T00:00:00.000000000', '2022-08-15T00:00:00.000000000',\n",
              "       '2022-08-16T00:00:00.000000000', '2022-08-17T00:00:00.000000000',\n",
              "       '2022-08-18T00:00:00.000000000', '2022-08-19T00:00:00.000000000',\n",
              "       '2022-08-20T00:00:00.000000000', '2022-08-21T00:00:00.000000000',\n",
              "       '2022-08-22T00:00:00.000000000', '2022-08-23T00:00:00.000000000',\n",
              "       '2022-08-24T00:00:00.000000000', '2022-08-25T00:00:00.000000000',\n",
              "       '2022-08-26T00:00:00.000000000', '2022-08-27T00:00:00.000000000',\n",
              "       '2022-08-28T00:00:00.000000000', '2022-08-29T00:00:00.000000000',\n",
              "       '2022-08-30T00:00:00.000000000', '2022-08-31T00:00:00.000000000',\n",
              "       '2022-06-28T00:00:00.000000000', '2022-06-29T00:00:00.000000000',\n",
              "       '2022-06-30T00:00:00.000000000', '2022-07-01T00:00:00.000000000',\n",
              "       '2022-07-02T00:00:00.000000000', '2022-07-03T00:00:00.000000000',\n",
              "       '2022-07-04T00:00:00.000000000', '2022-07-05T00:00:00.000000000',\n",
              "       '2022-07-06T00:00:00.000000000', '2022-07-07T00:00:00.000000000',\n",
              "       '2022-07-08T00:00:00.000000000', '2022-07-09T00:00:00.000000000',\n",
              "       '2022-07-11T00:00:00.000000000', '2022-07-12T00:00:00.000000000',\n",
              "       '2022-07-13T00:00:00.000000000', '2022-07-14T00:00:00.000000000',\n",
              "       '2022-07-15T00:00:00.000000000', '2022-07-16T00:00:00.000000000',\n",
              "       '2022-07-17T00:00:00.000000000', '2022-07-19T00:00:00.000000000',\n",
              "       '2022-07-20T00:00:00.000000000', '2022-07-18T00:00:00.000000000',\n",
              "                                 'NaT', '2022-07-21T00:00:00.000000000',\n",
              "       '2022-07-22T00:00:00.000000000', '2022-07-23T00:00:00.000000000',\n",
              "       '2022-07-24T00:00:00.000000000', '2022-07-25T00:00:00.000000000',\n",
              "       '2022-07-26T00:00:00.000000000', '2022-07-27T00:00:00.000000000',\n",
              "       '2022-07-28T00:00:00.000000000', '2022-07-29T00:00:00.000000000',\n",
              "       '2022-07-30T00:00:00.000000000', '2022-07-31T00:00:00.000000000'],\n",
              "      dtype='datetime64[ns]')"
            ]
          },
          "metadata": {},
          "execution_count": 444
        }
      ]
    },
    {
      "cell_type": "code",
      "source": [
        "#complex_data['Calling Date'] = convert_date_from_flt(complex_data['Calling Date'])"
      ],
      "metadata": {
        "id": "uI-APVlIo0h-"
      },
      "execution_count": null,
      "outputs": []
    },
    {
      "cell_type": "code",
      "source": [],
      "metadata": {
        "id": "m26-P8FxNF6u"
      },
      "execution_count": null,
      "outputs": []
    },
    {
      "cell_type": "code",
      "source": [
        "print(i)"
      ],
      "metadata": {
        "colab": {
          "base_uri": "https://localhost:8080/"
        },
        "id": "HayslA3vm0Hv",
        "outputId": "38d6ccfe-be51-427e-ccea-955301374be3"
      },
      "execution_count": null,
      "outputs": [
        {
          "output_type": "stream",
          "name": "stdout",
          "text": [
            "33\n"
          ]
        }
      ]
    },
    {
      "cell_type": "code",
      "source": [
        "complex_data['Calling Date'].unique()"
      ],
      "metadata": {
        "id": "HyMX5aCYlaY3",
        "colab": {
          "base_uri": "https://localhost:8080/"
        },
        "outputId": "0b47f860-b847-4772-adfd-1f0bddd27b43"
      },
      "execution_count": null,
      "outputs": [
        {
          "output_type": "execute_result",
          "data": {
            "text/plain": [
              "array(['2022-10-02T00:00:00.000000000', '2022-10-03T00:00:00.000000000',\n",
              "       '2022-10-04T00:00:00.000000000', '2022-10-05T00:00:00.000000000',\n",
              "       '2022-10-06T00:00:00.000000000', '2022-10-07T00:00:00.000000000',\n",
              "       '2022-10-08T00:00:00.000000000', '2022-10-09T00:00:00.000000000',\n",
              "       '2022-10-10T00:00:00.000000000', '2022-10-11T00:00:00.000000000',\n",
              "       '2022-10-12T00:00:00.000000000', '2022-10-13T00:00:00.000000000',\n",
              "       '2022-10-14T00:00:00.000000000', '2022-10-15T00:00:00.000000000',\n",
              "       '2022-10-16T00:00:00.000000000', '2022-10-17T00:00:00.000000000',\n",
              "       '2022-10-18T00:00:00.000000000', '2022-10-19T00:00:00.000000000',\n",
              "       '2022-10-20T00:00:00.000000000', '2022-10-21T00:00:00.000000000',\n",
              "       '2022-10-22T00:00:00.000000000', '2022-10-23T00:00:00.000000000',\n",
              "       '2022-10-24T00:00:00.000000000', '2022-09-06T00:00:00.000000000',\n",
              "       '2022-09-07T00:00:00.000000000', '2022-09-08T00:00:00.000000000',\n",
              "       '2022-09-09T00:00:00.000000000', '2022-09-10T00:00:00.000000000',\n",
              "       '2022-09-11T00:00:00.000000000', '2022-09-12T00:00:00.000000000',\n",
              "       '2022-09-13T00:00:00.000000000', '2022-09-14T00:00:00.000000000',\n",
              "       '2022-09-15T00:00:00.000000000', '2022-09-16T00:00:00.000000000',\n",
              "       '2022-09-17T00:00:00.000000000', '2022-09-18T00:00:00.000000000',\n",
              "       '2022-09-19T00:00:00.000000000', '2022-09-20T00:00:00.000000000',\n",
              "       '2022-09-21T00:00:00.000000000', '2022-09-22T00:00:00.000000000',\n",
              "       '2022-09-23T00:00:00.000000000', '2022-09-25T00:00:00.000000000',\n",
              "       '2022-09-24T00:00:00.000000000', '2022-09-28T00:00:00.000000000',\n",
              "       '2022-09-29T00:00:00.000000000', '2022-09-30T00:00:00.000000000',\n",
              "       '2022-10-01T00:00:00.000000000', '2022-08-01T00:00:00.000000000',\n",
              "       '2022-08-02T00:00:00.000000000', '2022-08-03T00:00:00.000000000',\n",
              "       '2022-08-04T00:00:00.000000000', '2022-08-05T00:00:00.000000000',\n",
              "       '2022-08-06T00:00:00.000000000', '2022-08-07T00:00:00.000000000',\n",
              "       '2022-08-08T00:00:00.000000000', '2022-08-09T00:00:00.000000000',\n",
              "       '2022-08-10T00:00:00.000000000', '2022-08-11T00:00:00.000000000',\n",
              "       '2022-08-12T00:00:00.000000000', '2022-08-13T00:00:00.000000000',\n",
              "       '2022-08-14T00:00:00.000000000', '2022-08-15T00:00:00.000000000',\n",
              "       '2022-08-16T00:00:00.000000000', '2022-08-17T00:00:00.000000000',\n",
              "       '2022-08-18T00:00:00.000000000', '2022-08-19T00:00:00.000000000',\n",
              "       '2022-08-20T00:00:00.000000000', '2022-08-21T00:00:00.000000000',\n",
              "       '2022-08-22T00:00:00.000000000', '2022-08-23T00:00:00.000000000',\n",
              "       '2022-08-24T00:00:00.000000000', '2022-08-25T00:00:00.000000000',\n",
              "       '2022-08-26T00:00:00.000000000', '2022-08-27T00:00:00.000000000',\n",
              "       '2022-08-28T00:00:00.000000000', '2022-08-29T00:00:00.000000000',\n",
              "       '2022-08-30T00:00:00.000000000', '2022-08-31T00:00:00.000000000',\n",
              "       '2022-06-28T00:00:00.000000000', '2022-06-29T00:00:00.000000000',\n",
              "       '2022-06-30T00:00:00.000000000', '2022-07-01T00:00:00.000000000',\n",
              "       '2022-07-02T00:00:00.000000000', '2022-07-03T00:00:00.000000000',\n",
              "       '2022-07-04T00:00:00.000000000', '2022-07-05T00:00:00.000000000',\n",
              "       '2022-07-06T00:00:00.000000000', '2022-07-07T00:00:00.000000000',\n",
              "       '2022-07-08T00:00:00.000000000', '2022-07-09T00:00:00.000000000',\n",
              "       '2022-07-11T00:00:00.000000000', '2022-07-12T00:00:00.000000000',\n",
              "       '2022-07-13T00:00:00.000000000', '2022-07-14T00:00:00.000000000',\n",
              "       '2022-07-15T00:00:00.000000000', '2022-07-16T00:00:00.000000000',\n",
              "       '2022-07-17T00:00:00.000000000', '2022-07-19T00:00:00.000000000',\n",
              "       '2022-07-20T00:00:00.000000000', '2022-07-18T00:00:00.000000000',\n",
              "                                 'NaT', '2022-07-21T00:00:00.000000000',\n",
              "       '2022-07-22T00:00:00.000000000', '2022-07-23T00:00:00.000000000',\n",
              "       '2022-07-24T00:00:00.000000000', '2022-07-25T00:00:00.000000000',\n",
              "       '2022-07-26T00:00:00.000000000', '2022-07-27T00:00:00.000000000',\n",
              "       '2022-07-28T00:00:00.000000000', '2022-07-29T00:00:00.000000000',\n",
              "       '2022-07-30T00:00:00.000000000', '2022-07-31T00:00:00.000000000'],\n",
              "      dtype='datetime64[ns]')"
            ]
          },
          "metadata": {},
          "execution_count": 447
        }
      ]
    },
    {
      "cell_type": "code",
      "source": [
        "#complex_data[complex_data['Calling Date'] == 'NaT']"
      ],
      "metadata": {
        "id": "IRoY0xOSp_t2"
      },
      "execution_count": null,
      "outputs": []
    },
    {
      "cell_type": "code",
      "source": [
        "len(complex_data['Calling Date'])"
      ],
      "metadata": {
        "colab": {
          "base_uri": "https://localhost:8080/"
        },
        "id": "w233-MqfpNNm",
        "outputId": "d5d749a2-9169-4836-bcdc-61a59edfeb3e"
      },
      "execution_count": null,
      "outputs": [
        {
          "output_type": "execute_result",
          "data": {
            "text/plain": [
              "178633"
            ]
          },
          "metadata": {},
          "execution_count": 449
        }
      ]
    },
    {
      "cell_type": "code",
      "source": [
        "#complex_data['Calling Date'] = convert_short_date(complex_data['Calling Date'])"
      ],
      "metadata": {
        "id": "hN7lGgTxXASs"
      },
      "execution_count": null,
      "outputs": []
    },
    {
      "cell_type": "code",
      "source": [
        "complex_data['Calling Date'].unique()"
      ],
      "metadata": {
        "colab": {
          "base_uri": "https://localhost:8080/"
        },
        "id": "nnzL-xCjuM8W",
        "outputId": "26fd88c0-e1b6-432a-baee-78c0c0469d14"
      },
      "execution_count": null,
      "outputs": [
        {
          "output_type": "execute_result",
          "data": {
            "text/plain": [
              "array(['2022-10-02T00:00:00.000000000', '2022-10-03T00:00:00.000000000',\n",
              "       '2022-10-04T00:00:00.000000000', '2022-10-05T00:00:00.000000000',\n",
              "       '2022-10-06T00:00:00.000000000', '2022-10-07T00:00:00.000000000',\n",
              "       '2022-10-08T00:00:00.000000000', '2022-10-09T00:00:00.000000000',\n",
              "       '2022-10-10T00:00:00.000000000', '2022-10-11T00:00:00.000000000',\n",
              "       '2022-10-12T00:00:00.000000000', '2022-10-13T00:00:00.000000000',\n",
              "       '2022-10-14T00:00:00.000000000', '2022-10-15T00:00:00.000000000',\n",
              "       '2022-10-16T00:00:00.000000000', '2022-10-17T00:00:00.000000000',\n",
              "       '2022-10-18T00:00:00.000000000', '2022-10-19T00:00:00.000000000',\n",
              "       '2022-10-20T00:00:00.000000000', '2022-10-21T00:00:00.000000000',\n",
              "       '2022-10-22T00:00:00.000000000', '2022-10-23T00:00:00.000000000',\n",
              "       '2022-10-24T00:00:00.000000000', '2022-09-06T00:00:00.000000000',\n",
              "       '2022-09-07T00:00:00.000000000', '2022-09-08T00:00:00.000000000',\n",
              "       '2022-09-09T00:00:00.000000000', '2022-09-10T00:00:00.000000000',\n",
              "       '2022-09-11T00:00:00.000000000', '2022-09-12T00:00:00.000000000',\n",
              "       '2022-09-13T00:00:00.000000000', '2022-09-14T00:00:00.000000000',\n",
              "       '2022-09-15T00:00:00.000000000', '2022-09-16T00:00:00.000000000',\n",
              "       '2022-09-17T00:00:00.000000000', '2022-09-18T00:00:00.000000000',\n",
              "       '2022-09-19T00:00:00.000000000', '2022-09-20T00:00:00.000000000',\n",
              "       '2022-09-21T00:00:00.000000000', '2022-09-22T00:00:00.000000000',\n",
              "       '2022-09-23T00:00:00.000000000', '2022-09-25T00:00:00.000000000',\n",
              "       '2022-09-24T00:00:00.000000000', '2022-09-28T00:00:00.000000000',\n",
              "       '2022-09-29T00:00:00.000000000', '2022-09-30T00:00:00.000000000',\n",
              "       '2022-10-01T00:00:00.000000000', '2022-08-01T00:00:00.000000000',\n",
              "       '2022-08-02T00:00:00.000000000', '2022-08-03T00:00:00.000000000',\n",
              "       '2022-08-04T00:00:00.000000000', '2022-08-05T00:00:00.000000000',\n",
              "       '2022-08-06T00:00:00.000000000', '2022-08-07T00:00:00.000000000',\n",
              "       '2022-08-08T00:00:00.000000000', '2022-08-09T00:00:00.000000000',\n",
              "       '2022-08-10T00:00:00.000000000', '2022-08-11T00:00:00.000000000',\n",
              "       '2022-08-12T00:00:00.000000000', '2022-08-13T00:00:00.000000000',\n",
              "       '2022-08-14T00:00:00.000000000', '2022-08-15T00:00:00.000000000',\n",
              "       '2022-08-16T00:00:00.000000000', '2022-08-17T00:00:00.000000000',\n",
              "       '2022-08-18T00:00:00.000000000', '2022-08-19T00:00:00.000000000',\n",
              "       '2022-08-20T00:00:00.000000000', '2022-08-21T00:00:00.000000000',\n",
              "       '2022-08-22T00:00:00.000000000', '2022-08-23T00:00:00.000000000',\n",
              "       '2022-08-24T00:00:00.000000000', '2022-08-25T00:00:00.000000000',\n",
              "       '2022-08-26T00:00:00.000000000', '2022-08-27T00:00:00.000000000',\n",
              "       '2022-08-28T00:00:00.000000000', '2022-08-29T00:00:00.000000000',\n",
              "       '2022-08-30T00:00:00.000000000', '2022-08-31T00:00:00.000000000',\n",
              "       '2022-06-28T00:00:00.000000000', '2022-06-29T00:00:00.000000000',\n",
              "       '2022-06-30T00:00:00.000000000', '2022-07-01T00:00:00.000000000',\n",
              "       '2022-07-02T00:00:00.000000000', '2022-07-03T00:00:00.000000000',\n",
              "       '2022-07-04T00:00:00.000000000', '2022-07-05T00:00:00.000000000',\n",
              "       '2022-07-06T00:00:00.000000000', '2022-07-07T00:00:00.000000000',\n",
              "       '2022-07-08T00:00:00.000000000', '2022-07-09T00:00:00.000000000',\n",
              "       '2022-07-11T00:00:00.000000000', '2022-07-12T00:00:00.000000000',\n",
              "       '2022-07-13T00:00:00.000000000', '2022-07-14T00:00:00.000000000',\n",
              "       '2022-07-15T00:00:00.000000000', '2022-07-16T00:00:00.000000000',\n",
              "       '2022-07-17T00:00:00.000000000', '2022-07-19T00:00:00.000000000',\n",
              "       '2022-07-20T00:00:00.000000000', '2022-07-18T00:00:00.000000000',\n",
              "                                 'NaT', '2022-07-21T00:00:00.000000000',\n",
              "       '2022-07-22T00:00:00.000000000', '2022-07-23T00:00:00.000000000',\n",
              "       '2022-07-24T00:00:00.000000000', '2022-07-25T00:00:00.000000000',\n",
              "       '2022-07-26T00:00:00.000000000', '2022-07-27T00:00:00.000000000',\n",
              "       '2022-07-28T00:00:00.000000000', '2022-07-29T00:00:00.000000000',\n",
              "       '2022-07-30T00:00:00.000000000', '2022-07-31T00:00:00.000000000'],\n",
              "      dtype='datetime64[ns]')"
            ]
          },
          "metadata": {},
          "execution_count": 451
        }
      ]
    },
    {
      "cell_type": "code",
      "source": [
        "# range1 = []\n",
        "# for c in complex_data['Calling Date']:\n",
        "#   if (c != ' ')&(c != ''):\n",
        "#      for fmt in [\"%d/%m/%Y\",\"%m/%d/%Y\"]:\n",
        "#        try:\n",
        "#          a = datetime.strptime(c, fmt)\n",
        "#          b = datetime.strftime(a, '%Y-%m-%d') \n",
        "#          range1.append(b)\n",
        "#          break\n",
        "#        except ValueError:\n",
        "#          if fmt == \"%Y-%m-%d\": range1.append(c)\n",
        "#          continue\n",
        "#        else: range1.append('')"
      ],
      "metadata": {
        "id": "i9dxlghIk1CY"
      },
      "execution_count": null,
      "outputs": []
    },
    {
      "cell_type": "code",
      "source": [
        "complex_data.dtypes"
      ],
      "metadata": {
        "id": "llYVcP91vGQN",
        "colab": {
          "base_uri": "https://localhost:8080/"
        },
        "outputId": "1b5570ce-14c4-486b-fe73-5132bfe8915e"
      },
      "execution_count": null,
      "outputs": [
        {
          "output_type": "execute_result",
          "data": {
            "text/plain": [
              "FirstDeliveredTime                                                                                                                                                            object\n",
              "OrderCode                                                                                                                                                                     object\n",
              "CustomerName                                                                                                                                                                  object\n",
              "CustomerPhone                                                                                                                                                                 object\n",
              "ClientID                                                                                                                                                                      object\n",
              "ClientContactName                                                                                                                                                             object\n",
              "Content                                                                                                                                                                       object\n",
              "CurrentStatus                                                                                                                                                                 object\n",
              "ReturnInfo                                                                                                                                                                    object\n",
              "DeliveryWarehouseID                                                                                                                                                           object\n",
              "DeliveryWarehouse                                                                                                                                                             object\n",
              "NumDeliver                                                                                                                                                                    object\n",
              "DriverID                                                                                                                                                                      object\n",
              "DriverName                                                                                                                                                                    object\n",
              "FirstFailDeliveryNote                                                                                                                                                         object\n",
              "TripCode                                                                                                                                                                      object\n",
              "TimeLog                                                                                                                                                                       object\n",
              "Calling Date                                                                                                                                                          datetime64[ns]\n",
              "PIC                                                                                                                                                                           object\n",
              "Thành công                                                                                                                                                                    object\n",
              "Lý do cuộc gọi thất bại                                                                                                                                                       object\n",
              "Q1. Đối với sản phẩm này, Anh/chị cho em hỏi là NV giao hàng của bên em có gọi điện thoại cho mình trước khi giao không ạ? (Có thể cung cấp thời gian giao hàng)\\n            object\n",
              "Q1a. Anh chị có nhận được tin nhắn từ nhân viên giao hàng không?                                                                                                              object\n",
              "Q2: Anh/chị vui lòng cho em hỏi lý do đơn hàng giao không thành công là gì vậy ạ?                                                                                             object\n",
              "Lí do đơn hàng thất bại chi tiết 1                                                                                                                                            object\n",
              "Lí do đơn hàng thất bại 1                                                                                                                                                     object\n",
              "Q3: Bên em xác nhận sẽ giao lại cho anh/chị đơn hàng này.  Anh/chị muốn nhận đơn hàng vào thời gian nào để NV giao hàng gọi đến cho bên Mình ạ?                               object\n",
              "Kiểm tra lí do Shipper                                                                                                                                                        object\n",
              "Call Center Note                                                                                                                                                              object\n",
              "Lí do đơn hàng thất bại chi tiết 2                                                                                                                                            object\n",
              "Lí do đơn hàng thất bại 2                                                                                                                                                     object\n",
              "CX Note (Past)                                                                                                                                                                object\n",
              "Hướng xử lý Bưu cục                                                                                                                                                           object\n",
              "Tình trạng ĐH                                                                                                                                                                 object\n",
              "Link vé                                                                                                                                                                       object\n",
              "Tình trạng ticket lần 1                                                                                                                                                       object\n",
              "Tình trạng ticket lần 2                                                                                                                                                       object\n",
              "Tình trạng ticket lần 3                                                                                                                                                       object\n",
              "Tình trạng ticket final                                                                                                                                                       object\n",
              "Trạng thái ĐH Giao Lần 1                                                                                                                                                      object\n",
              "Trạng thái ĐH Giao Lần 2                                                                                                                                                      object\n",
              "Trạng thái ĐH Giao Lần 3                                                                                                                                                      object\n",
              "Trạng thái ĐH Giao Lần 4                                                                                                                                                      object\n",
              "month                                                                                                                                                                         object\n",
              "dtype: object"
            ]
          },
          "metadata": {},
          "execution_count": 453
        }
      ]
    },
    {
      "cell_type": "code",
      "source": [],
      "metadata": {
        "id": "OtVitC6kwG58"
      },
      "execution_count": null,
      "outputs": []
    },
    {
      "cell_type": "code",
      "source": [
        "complex_data[['OrderCode','Calling Date']][35939:35949]"
      ],
      "metadata": {
        "colab": {
          "base_uri": "https://localhost:8080/",
          "height": 363
        },
        "id": "f96AwJEaxyjL",
        "outputId": "59998149-7a9a-4889-f15e-f6389bec860e"
      },
      "execution_count": null,
      "outputs": [
        {
          "output_type": "execute_result",
          "data": {
            "text/plain": [
              "                OrderCode Calling Date\n",
              "35939            GAWFEA3D   2022-09-16\n",
              "35940            GAKMKMLR   2022-09-16\n",
              "35941            GAKRPD4B   2022-09-16\n",
              "35942            GAWFYAB3   2022-09-16\n",
              "35943            GAWFA7L6   2022-09-16\n",
              "35944            GAKEN8A6   2022-09-16\n",
              "35945            GAWLKXTL   2022-09-16\n",
              "35946  GHNMP0022225550VNA   2022-09-16\n",
              "35947  GHNMP0022214162VNA   2022-09-16\n",
              "35948            GAKE6UNC   2022-09-16"
            ],
            "text/html": [
              "\n",
              "  <div id=\"df-ee47ec58-13c5-4c77-8af6-2047049111ea\">\n",
              "    <div class=\"colab-df-container\">\n",
              "      <div>\n",
              "<style scoped>\n",
              "    .dataframe tbody tr th:only-of-type {\n",
              "        vertical-align: middle;\n",
              "    }\n",
              "\n",
              "    .dataframe tbody tr th {\n",
              "        vertical-align: top;\n",
              "    }\n",
              "\n",
              "    .dataframe thead th {\n",
              "        text-align: right;\n",
              "    }\n",
              "</style>\n",
              "<table border=\"1\" class=\"dataframe\">\n",
              "  <thead>\n",
              "    <tr style=\"text-align: right;\">\n",
              "      <th></th>\n",
              "      <th>OrderCode</th>\n",
              "      <th>Calling Date</th>\n",
              "    </tr>\n",
              "  </thead>\n",
              "  <tbody>\n",
              "    <tr>\n",
              "      <th>35939</th>\n",
              "      <td>GAWFEA3D</td>\n",
              "      <td>2022-09-16</td>\n",
              "    </tr>\n",
              "    <tr>\n",
              "      <th>35940</th>\n",
              "      <td>GAKMKMLR</td>\n",
              "      <td>2022-09-16</td>\n",
              "    </tr>\n",
              "    <tr>\n",
              "      <th>35941</th>\n",
              "      <td>GAKRPD4B</td>\n",
              "      <td>2022-09-16</td>\n",
              "    </tr>\n",
              "    <tr>\n",
              "      <th>35942</th>\n",
              "      <td>GAWFYAB3</td>\n",
              "      <td>2022-09-16</td>\n",
              "    </tr>\n",
              "    <tr>\n",
              "      <th>35943</th>\n",
              "      <td>GAWFA7L6</td>\n",
              "      <td>2022-09-16</td>\n",
              "    </tr>\n",
              "    <tr>\n",
              "      <th>35944</th>\n",
              "      <td>GAKEN8A6</td>\n",
              "      <td>2022-09-16</td>\n",
              "    </tr>\n",
              "    <tr>\n",
              "      <th>35945</th>\n",
              "      <td>GAWLKXTL</td>\n",
              "      <td>2022-09-16</td>\n",
              "    </tr>\n",
              "    <tr>\n",
              "      <th>35946</th>\n",
              "      <td>GHNMP0022225550VNA</td>\n",
              "      <td>2022-09-16</td>\n",
              "    </tr>\n",
              "    <tr>\n",
              "      <th>35947</th>\n",
              "      <td>GHNMP0022214162VNA</td>\n",
              "      <td>2022-09-16</td>\n",
              "    </tr>\n",
              "    <tr>\n",
              "      <th>35948</th>\n",
              "      <td>GAKE6UNC</td>\n",
              "      <td>2022-09-16</td>\n",
              "    </tr>\n",
              "  </tbody>\n",
              "</table>\n",
              "</div>\n",
              "      <button class=\"colab-df-convert\" onclick=\"convertToInteractive('df-ee47ec58-13c5-4c77-8af6-2047049111ea')\"\n",
              "              title=\"Convert this dataframe to an interactive table.\"\n",
              "              style=\"display:none;\">\n",
              "        \n",
              "  <svg xmlns=\"http://www.w3.org/2000/svg\" height=\"24px\"viewBox=\"0 0 24 24\"\n",
              "       width=\"24px\">\n",
              "    <path d=\"M0 0h24v24H0V0z\" fill=\"none\"/>\n",
              "    <path d=\"M18.56 5.44l.94 2.06.94-2.06 2.06-.94-2.06-.94-.94-2.06-.94 2.06-2.06.94zm-11 1L8.5 8.5l.94-2.06 2.06-.94-2.06-.94L8.5 2.5l-.94 2.06-2.06.94zm10 10l.94 2.06.94-2.06 2.06-.94-2.06-.94-.94-2.06-.94 2.06-2.06.94z\"/><path d=\"M17.41 7.96l-1.37-1.37c-.4-.4-.92-.59-1.43-.59-.52 0-1.04.2-1.43.59L10.3 9.45l-7.72 7.72c-.78.78-.78 2.05 0 2.83L4 21.41c.39.39.9.59 1.41.59.51 0 1.02-.2 1.41-.59l7.78-7.78 2.81-2.81c.8-.78.8-2.07 0-2.86zM5.41 20L4 18.59l7.72-7.72 1.47 1.35L5.41 20z\"/>\n",
              "  </svg>\n",
              "      </button>\n",
              "      \n",
              "  <style>\n",
              "    .colab-df-container {\n",
              "      display:flex;\n",
              "      flex-wrap:wrap;\n",
              "      gap: 12px;\n",
              "    }\n",
              "\n",
              "    .colab-df-convert {\n",
              "      background-color: #E8F0FE;\n",
              "      border: none;\n",
              "      border-radius: 50%;\n",
              "      cursor: pointer;\n",
              "      display: none;\n",
              "      fill: #1967D2;\n",
              "      height: 32px;\n",
              "      padding: 0 0 0 0;\n",
              "      width: 32px;\n",
              "    }\n",
              "\n",
              "    .colab-df-convert:hover {\n",
              "      background-color: #E2EBFA;\n",
              "      box-shadow: 0px 1px 2px rgba(60, 64, 67, 0.3), 0px 1px 3px 1px rgba(60, 64, 67, 0.15);\n",
              "      fill: #174EA6;\n",
              "    }\n",
              "\n",
              "    [theme=dark] .colab-df-convert {\n",
              "      background-color: #3B4455;\n",
              "      fill: #D2E3FC;\n",
              "    }\n",
              "\n",
              "    [theme=dark] .colab-df-convert:hover {\n",
              "      background-color: #434B5C;\n",
              "      box-shadow: 0px 1px 3px 1px rgba(0, 0, 0, 0.15);\n",
              "      filter: drop-shadow(0px 1px 2px rgba(0, 0, 0, 0.3));\n",
              "      fill: #FFFFFF;\n",
              "    }\n",
              "  </style>\n",
              "\n",
              "      <script>\n",
              "        const buttonEl =\n",
              "          document.querySelector('#df-ee47ec58-13c5-4c77-8af6-2047049111ea button.colab-df-convert');\n",
              "        buttonEl.style.display =\n",
              "          google.colab.kernel.accessAllowed ? 'block' : 'none';\n",
              "\n",
              "        async function convertToInteractive(key) {\n",
              "          const element = document.querySelector('#df-ee47ec58-13c5-4c77-8af6-2047049111ea');\n",
              "          const dataTable =\n",
              "            await google.colab.kernel.invokeFunction('convertToInteractive',\n",
              "                                                     [key], {});\n",
              "          if (!dataTable) return;\n",
              "\n",
              "          const docLinkHtml = 'Like what you see? Visit the ' +\n",
              "            '<a target=\"_blank\" href=https://colab.research.google.com/notebooks/data_table.ipynb>data table notebook</a>'\n",
              "            + ' to learn more about interactive tables.';\n",
              "          element.innerHTML = '';\n",
              "          dataTable['output_type'] = 'display_data';\n",
              "          await google.colab.output.renderOutput(dataTable, element);\n",
              "          const docLink = document.createElement('div');\n",
              "          docLink.innerHTML = docLinkHtml;\n",
              "          element.appendChild(docLink);\n",
              "        }\n",
              "      </script>\n",
              "    </div>\n",
              "  </div>\n",
              "  "
            ]
          },
          "metadata": {},
          "execution_count": 454
        }
      ]
    },
    {
      "cell_type": "code",
      "source": [
        "complex_data[['OrderCode','Calling Date']].head()"
      ],
      "metadata": {
        "colab": {
          "base_uri": "https://localhost:8080/",
          "height": 206
        },
        "id": "drKQPdU1AfmA",
        "outputId": "8307bd68-ffc4-4cb6-f847-56e5b1f1546d"
      },
      "execution_count": null,
      "outputs": [
        {
          "output_type": "execute_result",
          "data": {
            "text/plain": [
              "            OrderCode Calling Date\n",
              "0            GAWKUHKM   2022-10-02\n",
              "1            GAWKNXAY   2022-10-02\n",
              "2  GHNMP0022860673VNA   2022-10-02\n",
              "3            GAWK9LU4   2022-10-02\n",
              "4            GAWWBCYQ   2022-10-02"
            ],
            "text/html": [
              "\n",
              "  <div id=\"df-f98fd240-b41c-4ac6-9cbf-3ce5410886af\">\n",
              "    <div class=\"colab-df-container\">\n",
              "      <div>\n",
              "<style scoped>\n",
              "    .dataframe tbody tr th:only-of-type {\n",
              "        vertical-align: middle;\n",
              "    }\n",
              "\n",
              "    .dataframe tbody tr th {\n",
              "        vertical-align: top;\n",
              "    }\n",
              "\n",
              "    .dataframe thead th {\n",
              "        text-align: right;\n",
              "    }\n",
              "</style>\n",
              "<table border=\"1\" class=\"dataframe\">\n",
              "  <thead>\n",
              "    <tr style=\"text-align: right;\">\n",
              "      <th></th>\n",
              "      <th>OrderCode</th>\n",
              "      <th>Calling Date</th>\n",
              "    </tr>\n",
              "  </thead>\n",
              "  <tbody>\n",
              "    <tr>\n",
              "      <th>0</th>\n",
              "      <td>GAWKUHKM</td>\n",
              "      <td>2022-10-02</td>\n",
              "    </tr>\n",
              "    <tr>\n",
              "      <th>1</th>\n",
              "      <td>GAWKNXAY</td>\n",
              "      <td>2022-10-02</td>\n",
              "    </tr>\n",
              "    <tr>\n",
              "      <th>2</th>\n",
              "      <td>GHNMP0022860673VNA</td>\n",
              "      <td>2022-10-02</td>\n",
              "    </tr>\n",
              "    <tr>\n",
              "      <th>3</th>\n",
              "      <td>GAWK9LU4</td>\n",
              "      <td>2022-10-02</td>\n",
              "    </tr>\n",
              "    <tr>\n",
              "      <th>4</th>\n",
              "      <td>GAWWBCYQ</td>\n",
              "      <td>2022-10-02</td>\n",
              "    </tr>\n",
              "  </tbody>\n",
              "</table>\n",
              "</div>\n",
              "      <button class=\"colab-df-convert\" onclick=\"convertToInteractive('df-f98fd240-b41c-4ac6-9cbf-3ce5410886af')\"\n",
              "              title=\"Convert this dataframe to an interactive table.\"\n",
              "              style=\"display:none;\">\n",
              "        \n",
              "  <svg xmlns=\"http://www.w3.org/2000/svg\" height=\"24px\"viewBox=\"0 0 24 24\"\n",
              "       width=\"24px\">\n",
              "    <path d=\"M0 0h24v24H0V0z\" fill=\"none\"/>\n",
              "    <path d=\"M18.56 5.44l.94 2.06.94-2.06 2.06-.94-2.06-.94-.94-2.06-.94 2.06-2.06.94zm-11 1L8.5 8.5l.94-2.06 2.06-.94-2.06-.94L8.5 2.5l-.94 2.06-2.06.94zm10 10l.94 2.06.94-2.06 2.06-.94-2.06-.94-.94-2.06-.94 2.06-2.06.94z\"/><path d=\"M17.41 7.96l-1.37-1.37c-.4-.4-.92-.59-1.43-.59-.52 0-1.04.2-1.43.59L10.3 9.45l-7.72 7.72c-.78.78-.78 2.05 0 2.83L4 21.41c.39.39.9.59 1.41.59.51 0 1.02-.2 1.41-.59l7.78-7.78 2.81-2.81c.8-.78.8-2.07 0-2.86zM5.41 20L4 18.59l7.72-7.72 1.47 1.35L5.41 20z\"/>\n",
              "  </svg>\n",
              "      </button>\n",
              "      \n",
              "  <style>\n",
              "    .colab-df-container {\n",
              "      display:flex;\n",
              "      flex-wrap:wrap;\n",
              "      gap: 12px;\n",
              "    }\n",
              "\n",
              "    .colab-df-convert {\n",
              "      background-color: #E8F0FE;\n",
              "      border: none;\n",
              "      border-radius: 50%;\n",
              "      cursor: pointer;\n",
              "      display: none;\n",
              "      fill: #1967D2;\n",
              "      height: 32px;\n",
              "      padding: 0 0 0 0;\n",
              "      width: 32px;\n",
              "    }\n",
              "\n",
              "    .colab-df-convert:hover {\n",
              "      background-color: #E2EBFA;\n",
              "      box-shadow: 0px 1px 2px rgba(60, 64, 67, 0.3), 0px 1px 3px 1px rgba(60, 64, 67, 0.15);\n",
              "      fill: #174EA6;\n",
              "    }\n",
              "\n",
              "    [theme=dark] .colab-df-convert {\n",
              "      background-color: #3B4455;\n",
              "      fill: #D2E3FC;\n",
              "    }\n",
              "\n",
              "    [theme=dark] .colab-df-convert:hover {\n",
              "      background-color: #434B5C;\n",
              "      box-shadow: 0px 1px 3px 1px rgba(0, 0, 0, 0.15);\n",
              "      filter: drop-shadow(0px 1px 2px rgba(0, 0, 0, 0.3));\n",
              "      fill: #FFFFFF;\n",
              "    }\n",
              "  </style>\n",
              "\n",
              "      <script>\n",
              "        const buttonEl =\n",
              "          document.querySelector('#df-f98fd240-b41c-4ac6-9cbf-3ce5410886af button.colab-df-convert');\n",
              "        buttonEl.style.display =\n",
              "          google.colab.kernel.accessAllowed ? 'block' : 'none';\n",
              "\n",
              "        async function convertToInteractive(key) {\n",
              "          const element = document.querySelector('#df-f98fd240-b41c-4ac6-9cbf-3ce5410886af');\n",
              "          const dataTable =\n",
              "            await google.colab.kernel.invokeFunction('convertToInteractive',\n",
              "                                                     [key], {});\n",
              "          if (!dataTable) return;\n",
              "\n",
              "          const docLinkHtml = 'Like what you see? Visit the ' +\n",
              "            '<a target=\"_blank\" href=https://colab.research.google.com/notebooks/data_table.ipynb>data table notebook</a>'\n",
              "            + ' to learn more about interactive tables.';\n",
              "          element.innerHTML = '';\n",
              "          dataTable['output_type'] = 'display_data';\n",
              "          await google.colab.output.renderOutput(dataTable, element);\n",
              "          const docLink = document.createElement('div');\n",
              "          docLink.innerHTML = docLinkHtml;\n",
              "          element.appendChild(docLink);\n",
              "        }\n",
              "      </script>\n",
              "    </div>\n",
              "  </div>\n",
              "  "
            ]
          },
          "metadata": {},
          "execution_count": 455
        }
      ]
    },
    {
      "cell_type": "code",
      "source": [
        "complex_data[['OrderCode','Calling Date']].tail()"
      ],
      "metadata": {
        "colab": {
          "base_uri": "https://localhost:8080/",
          "height": 206
        },
        "id": "s0-2QXyDAiZ_",
        "outputId": "821eb9bc-1dd7-4f11-e888-9510bb70178b"
      },
      "execution_count": null,
      "outputs": [
        {
          "output_type": "execute_result",
          "data": {
            "text/plain": [
              "       OrderCode Calling Date\n",
              "178628  GA437H9E   2022-08-01\n",
              "178629  GA44R86G   2022-08-01\n",
              "178630  GA4KGW9G   2022-08-01\n",
              "178631  GA43XWG7   2022-08-01\n",
              "178632  GA44TBTU   2022-08-01"
            ],
            "text/html": [
              "\n",
              "  <div id=\"df-71d375ce-1fd9-4ae4-b899-59c61b369dc7\">\n",
              "    <div class=\"colab-df-container\">\n",
              "      <div>\n",
              "<style scoped>\n",
              "    .dataframe tbody tr th:only-of-type {\n",
              "        vertical-align: middle;\n",
              "    }\n",
              "\n",
              "    .dataframe tbody tr th {\n",
              "        vertical-align: top;\n",
              "    }\n",
              "\n",
              "    .dataframe thead th {\n",
              "        text-align: right;\n",
              "    }\n",
              "</style>\n",
              "<table border=\"1\" class=\"dataframe\">\n",
              "  <thead>\n",
              "    <tr style=\"text-align: right;\">\n",
              "      <th></th>\n",
              "      <th>OrderCode</th>\n",
              "      <th>Calling Date</th>\n",
              "    </tr>\n",
              "  </thead>\n",
              "  <tbody>\n",
              "    <tr>\n",
              "      <th>178628</th>\n",
              "      <td>GA437H9E</td>\n",
              "      <td>2022-08-01</td>\n",
              "    </tr>\n",
              "    <tr>\n",
              "      <th>178629</th>\n",
              "      <td>GA44R86G</td>\n",
              "      <td>2022-08-01</td>\n",
              "    </tr>\n",
              "    <tr>\n",
              "      <th>178630</th>\n",
              "      <td>GA4KGW9G</td>\n",
              "      <td>2022-08-01</td>\n",
              "    </tr>\n",
              "    <tr>\n",
              "      <th>178631</th>\n",
              "      <td>GA43XWG7</td>\n",
              "      <td>2022-08-01</td>\n",
              "    </tr>\n",
              "    <tr>\n",
              "      <th>178632</th>\n",
              "      <td>GA44TBTU</td>\n",
              "      <td>2022-08-01</td>\n",
              "    </tr>\n",
              "  </tbody>\n",
              "</table>\n",
              "</div>\n",
              "      <button class=\"colab-df-convert\" onclick=\"convertToInteractive('df-71d375ce-1fd9-4ae4-b899-59c61b369dc7')\"\n",
              "              title=\"Convert this dataframe to an interactive table.\"\n",
              "              style=\"display:none;\">\n",
              "        \n",
              "  <svg xmlns=\"http://www.w3.org/2000/svg\" height=\"24px\"viewBox=\"0 0 24 24\"\n",
              "       width=\"24px\">\n",
              "    <path d=\"M0 0h24v24H0V0z\" fill=\"none\"/>\n",
              "    <path d=\"M18.56 5.44l.94 2.06.94-2.06 2.06-.94-2.06-.94-.94-2.06-.94 2.06-2.06.94zm-11 1L8.5 8.5l.94-2.06 2.06-.94-2.06-.94L8.5 2.5l-.94 2.06-2.06.94zm10 10l.94 2.06.94-2.06 2.06-.94-2.06-.94-.94-2.06-.94 2.06-2.06.94z\"/><path d=\"M17.41 7.96l-1.37-1.37c-.4-.4-.92-.59-1.43-.59-.52 0-1.04.2-1.43.59L10.3 9.45l-7.72 7.72c-.78.78-.78 2.05 0 2.83L4 21.41c.39.39.9.59 1.41.59.51 0 1.02-.2 1.41-.59l7.78-7.78 2.81-2.81c.8-.78.8-2.07 0-2.86zM5.41 20L4 18.59l7.72-7.72 1.47 1.35L5.41 20z\"/>\n",
              "  </svg>\n",
              "      </button>\n",
              "      \n",
              "  <style>\n",
              "    .colab-df-container {\n",
              "      display:flex;\n",
              "      flex-wrap:wrap;\n",
              "      gap: 12px;\n",
              "    }\n",
              "\n",
              "    .colab-df-convert {\n",
              "      background-color: #E8F0FE;\n",
              "      border: none;\n",
              "      border-radius: 50%;\n",
              "      cursor: pointer;\n",
              "      display: none;\n",
              "      fill: #1967D2;\n",
              "      height: 32px;\n",
              "      padding: 0 0 0 0;\n",
              "      width: 32px;\n",
              "    }\n",
              "\n",
              "    .colab-df-convert:hover {\n",
              "      background-color: #E2EBFA;\n",
              "      box-shadow: 0px 1px 2px rgba(60, 64, 67, 0.3), 0px 1px 3px 1px rgba(60, 64, 67, 0.15);\n",
              "      fill: #174EA6;\n",
              "    }\n",
              "\n",
              "    [theme=dark] .colab-df-convert {\n",
              "      background-color: #3B4455;\n",
              "      fill: #D2E3FC;\n",
              "    }\n",
              "\n",
              "    [theme=dark] .colab-df-convert:hover {\n",
              "      background-color: #434B5C;\n",
              "      box-shadow: 0px 1px 3px 1px rgba(0, 0, 0, 0.15);\n",
              "      filter: drop-shadow(0px 1px 2px rgba(0, 0, 0, 0.3));\n",
              "      fill: #FFFFFF;\n",
              "    }\n",
              "  </style>\n",
              "\n",
              "      <script>\n",
              "        const buttonEl =\n",
              "          document.querySelector('#df-71d375ce-1fd9-4ae4-b899-59c61b369dc7 button.colab-df-convert');\n",
              "        buttonEl.style.display =\n",
              "          google.colab.kernel.accessAllowed ? 'block' : 'none';\n",
              "\n",
              "        async function convertToInteractive(key) {\n",
              "          const element = document.querySelector('#df-71d375ce-1fd9-4ae4-b899-59c61b369dc7');\n",
              "          const dataTable =\n",
              "            await google.colab.kernel.invokeFunction('convertToInteractive',\n",
              "                                                     [key], {});\n",
              "          if (!dataTable) return;\n",
              "\n",
              "          const docLinkHtml = 'Like what you see? Visit the ' +\n",
              "            '<a target=\"_blank\" href=https://colab.research.google.com/notebooks/data_table.ipynb>data table notebook</a>'\n",
              "            + ' to learn more about interactive tables.';\n",
              "          element.innerHTML = '';\n",
              "          dataTable['output_type'] = 'display_data';\n",
              "          await google.colab.output.renderOutput(dataTable, element);\n",
              "          const docLink = document.createElement('div');\n",
              "          docLink.innerHTML = docLinkHtml;\n",
              "          element.appendChild(docLink);\n",
              "        }\n",
              "      </script>\n",
              "    </div>\n",
              "  </div>\n",
              "  "
            ]
          },
          "metadata": {},
          "execution_count": 456
        }
      ]
    },
    {
      "cell_type": "code",
      "source": [
        "complex_data[complex_data['OrderCode']=='GAWTQRLF']"
      ],
      "metadata": {
        "colab": {
          "base_uri": "https://localhost:8080/",
          "height": 344
        },
        "id": "j-nyGEU477Yn",
        "outputId": "86692562-27c5-47b3-cee6-491e75a08928"
      },
      "execution_count": null,
      "outputs": [
        {
          "output_type": "execute_result",
          "data": {
            "text/plain": [
              "        FirstDeliveredTime OrderCode CustomerName CustomerPhone ClientID  \\\n",
              "1561   2022-10-03 18:44:47  GAWTQRLF     Minh Anh    0337852900   518873   \n",
              "52633  2022-09-29 19:56:04  GAWTQRLF     Minh Anh    0337852900   518873   \n",
              "\n",
              "      ClientContactName       Content CurrentStatus  \\\n",
              "1561            tminion  VĐ01 [1 cái]        return   \n",
              "52633           tminion  VĐ01 [1 cái]       storing   \n",
              "\n",
              "                                    ReturnInfo DeliveryWarehouseID  ...  \\\n",
              "1561   Người nhận từ chối nhận do sai sản phẩm                2413  ...   \n",
              "52633                                                         2413  ...   \n",
              "\n",
              "      Link vé Tình trạng ticket lần 1 Tình trạng ticket lần 2  \\\n",
              "1561                                                            \n",
              "52633                                                           \n",
              "\n",
              "      Tình trạng ticket lần 3 Tình trạng ticket final  \\\n",
              "1561                                                    \n",
              "52633                                                   \n",
              "\n",
              "      Trạng thái ĐH Giao Lần 1 Trạng thái ĐH Giao Lần 2  \\\n",
              "1561                                                      \n",
              "52633                                                     \n",
              "\n",
              "      Trạng thái ĐH Giao Lần 3 Trạng thái ĐH Giao Lần 4       month  \n",
              "1561                                                     2022-10-01  \n",
              "52633                                                    2022-09-01  \n",
              "\n",
              "[2 rows x 44 columns]"
            ],
            "text/html": [
              "\n",
              "  <div id=\"df-b6be7f6e-9db7-440e-9045-b635c66c45e0\">\n",
              "    <div class=\"colab-df-container\">\n",
              "      <div>\n",
              "<style scoped>\n",
              "    .dataframe tbody tr th:only-of-type {\n",
              "        vertical-align: middle;\n",
              "    }\n",
              "\n",
              "    .dataframe tbody tr th {\n",
              "        vertical-align: top;\n",
              "    }\n",
              "\n",
              "    .dataframe thead th {\n",
              "        text-align: right;\n",
              "    }\n",
              "</style>\n",
              "<table border=\"1\" class=\"dataframe\">\n",
              "  <thead>\n",
              "    <tr style=\"text-align: right;\">\n",
              "      <th></th>\n",
              "      <th>FirstDeliveredTime</th>\n",
              "      <th>OrderCode</th>\n",
              "      <th>CustomerName</th>\n",
              "      <th>CustomerPhone</th>\n",
              "      <th>ClientID</th>\n",
              "      <th>ClientContactName</th>\n",
              "      <th>Content</th>\n",
              "      <th>CurrentStatus</th>\n",
              "      <th>ReturnInfo</th>\n",
              "      <th>DeliveryWarehouseID</th>\n",
              "      <th>...</th>\n",
              "      <th>Link vé</th>\n",
              "      <th>Tình trạng ticket lần 1</th>\n",
              "      <th>Tình trạng ticket lần 2</th>\n",
              "      <th>Tình trạng ticket lần 3</th>\n",
              "      <th>Tình trạng ticket final</th>\n",
              "      <th>Trạng thái ĐH Giao Lần 1</th>\n",
              "      <th>Trạng thái ĐH Giao Lần 2</th>\n",
              "      <th>Trạng thái ĐH Giao Lần 3</th>\n",
              "      <th>Trạng thái ĐH Giao Lần 4</th>\n",
              "      <th>month</th>\n",
              "    </tr>\n",
              "  </thead>\n",
              "  <tbody>\n",
              "    <tr>\n",
              "      <th>1561</th>\n",
              "      <td>2022-10-03 18:44:47</td>\n",
              "      <td>GAWTQRLF</td>\n",
              "      <td>Minh Anh</td>\n",
              "      <td>0337852900</td>\n",
              "      <td>518873</td>\n",
              "      <td>tminion</td>\n",
              "      <td>VĐ01 [1 cái]</td>\n",
              "      <td>return</td>\n",
              "      <td>Người nhận từ chối nhận do sai sản phẩm</td>\n",
              "      <td>2413</td>\n",
              "      <td>...</td>\n",
              "      <td></td>\n",
              "      <td></td>\n",
              "      <td></td>\n",
              "      <td></td>\n",
              "      <td></td>\n",
              "      <td></td>\n",
              "      <td></td>\n",
              "      <td></td>\n",
              "      <td></td>\n",
              "      <td>2022-10-01</td>\n",
              "    </tr>\n",
              "    <tr>\n",
              "      <th>52633</th>\n",
              "      <td>2022-09-29 19:56:04</td>\n",
              "      <td>GAWTQRLF</td>\n",
              "      <td>Minh Anh</td>\n",
              "      <td>0337852900</td>\n",
              "      <td>518873</td>\n",
              "      <td>tminion</td>\n",
              "      <td>VĐ01 [1 cái]</td>\n",
              "      <td>storing</td>\n",
              "      <td></td>\n",
              "      <td>2413</td>\n",
              "      <td>...</td>\n",
              "      <td></td>\n",
              "      <td></td>\n",
              "      <td></td>\n",
              "      <td></td>\n",
              "      <td></td>\n",
              "      <td></td>\n",
              "      <td></td>\n",
              "      <td></td>\n",
              "      <td></td>\n",
              "      <td>2022-09-01</td>\n",
              "    </tr>\n",
              "  </tbody>\n",
              "</table>\n",
              "<p>2 rows × 44 columns</p>\n",
              "</div>\n",
              "      <button class=\"colab-df-convert\" onclick=\"convertToInteractive('df-b6be7f6e-9db7-440e-9045-b635c66c45e0')\"\n",
              "              title=\"Convert this dataframe to an interactive table.\"\n",
              "              style=\"display:none;\">\n",
              "        \n",
              "  <svg xmlns=\"http://www.w3.org/2000/svg\" height=\"24px\"viewBox=\"0 0 24 24\"\n",
              "       width=\"24px\">\n",
              "    <path d=\"M0 0h24v24H0V0z\" fill=\"none\"/>\n",
              "    <path d=\"M18.56 5.44l.94 2.06.94-2.06 2.06-.94-2.06-.94-.94-2.06-.94 2.06-2.06.94zm-11 1L8.5 8.5l.94-2.06 2.06-.94-2.06-.94L8.5 2.5l-.94 2.06-2.06.94zm10 10l.94 2.06.94-2.06 2.06-.94-2.06-.94-.94-2.06-.94 2.06-2.06.94z\"/><path d=\"M17.41 7.96l-1.37-1.37c-.4-.4-.92-.59-1.43-.59-.52 0-1.04.2-1.43.59L10.3 9.45l-7.72 7.72c-.78.78-.78 2.05 0 2.83L4 21.41c.39.39.9.59 1.41.59.51 0 1.02-.2 1.41-.59l7.78-7.78 2.81-2.81c.8-.78.8-2.07 0-2.86zM5.41 20L4 18.59l7.72-7.72 1.47 1.35L5.41 20z\"/>\n",
              "  </svg>\n",
              "      </button>\n",
              "      \n",
              "  <style>\n",
              "    .colab-df-container {\n",
              "      display:flex;\n",
              "      flex-wrap:wrap;\n",
              "      gap: 12px;\n",
              "    }\n",
              "\n",
              "    .colab-df-convert {\n",
              "      background-color: #E8F0FE;\n",
              "      border: none;\n",
              "      border-radius: 50%;\n",
              "      cursor: pointer;\n",
              "      display: none;\n",
              "      fill: #1967D2;\n",
              "      height: 32px;\n",
              "      padding: 0 0 0 0;\n",
              "      width: 32px;\n",
              "    }\n",
              "\n",
              "    .colab-df-convert:hover {\n",
              "      background-color: #E2EBFA;\n",
              "      box-shadow: 0px 1px 2px rgba(60, 64, 67, 0.3), 0px 1px 3px 1px rgba(60, 64, 67, 0.15);\n",
              "      fill: #174EA6;\n",
              "    }\n",
              "\n",
              "    [theme=dark] .colab-df-convert {\n",
              "      background-color: #3B4455;\n",
              "      fill: #D2E3FC;\n",
              "    }\n",
              "\n",
              "    [theme=dark] .colab-df-convert:hover {\n",
              "      background-color: #434B5C;\n",
              "      box-shadow: 0px 1px 3px 1px rgba(0, 0, 0, 0.15);\n",
              "      filter: drop-shadow(0px 1px 2px rgba(0, 0, 0, 0.3));\n",
              "      fill: #FFFFFF;\n",
              "    }\n",
              "  </style>\n",
              "\n",
              "      <script>\n",
              "        const buttonEl =\n",
              "          document.querySelector('#df-b6be7f6e-9db7-440e-9045-b635c66c45e0 button.colab-df-convert');\n",
              "        buttonEl.style.display =\n",
              "          google.colab.kernel.accessAllowed ? 'block' : 'none';\n",
              "\n",
              "        async function convertToInteractive(key) {\n",
              "          const element = document.querySelector('#df-b6be7f6e-9db7-440e-9045-b635c66c45e0');\n",
              "          const dataTable =\n",
              "            await google.colab.kernel.invokeFunction('convertToInteractive',\n",
              "                                                     [key], {});\n",
              "          if (!dataTable) return;\n",
              "\n",
              "          const docLinkHtml = 'Like what you see? Visit the ' +\n",
              "            '<a target=\"_blank\" href=https://colab.research.google.com/notebooks/data_table.ipynb>data table notebook</a>'\n",
              "            + ' to learn more about interactive tables.';\n",
              "          element.innerHTML = '';\n",
              "          dataTable['output_type'] = 'display_data';\n",
              "          await google.colab.output.renderOutput(dataTable, element);\n",
              "          const docLink = document.createElement('div');\n",
              "          docLink.innerHTML = docLinkHtml;\n",
              "          element.appendChild(docLink);\n",
              "        }\n",
              "      </script>\n",
              "    </div>\n",
              "  </div>\n",
              "  "
            ]
          },
          "metadata": {},
          "execution_count": 457
        }
      ]
    },
    {
      "cell_type": "code",
      "source": [
        "complex_data = complex_data[complex_data['Calling Date'].notna()]\n",
        "complex_data = complex_data[complex_data['Calling Date']!='']\n",
        "complex_data = complex_data[complex_data['Calling Date']!='#N/A']"
      ],
      "metadata": {
        "id": "s7PEg0t-3fMZ"
      },
      "execution_count": null,
      "outputs": []
    },
    {
      "cell_type": "code",
      "source": [],
      "metadata": {
        "id": "V0iluPk45f7S"
      },
      "execution_count": null,
      "outputs": []
    },
    {
      "cell_type": "code",
      "source": [
        "complex_data.reset_index(drop=True,inplace=True)"
      ],
      "metadata": {
        "id": "AmaBIdC53nvq"
      },
      "execution_count": null,
      "outputs": []
    },
    {
      "cell_type": "code",
      "source": [
        "#a= []\n",
        "#b= []\n",
        "\n",
        "#for i in range(0,len(complex_data['Calling Date'])):\n",
        "  #print(complex_data[['OrderCode','Calling Date']][i:i+1])\n",
        "#  print(i)\n",
        "#  trans = complex_data['Calling Date'][i]\n",
        "#  mon = int(complex_data['month'][i][:2])\n",
        "#  yea = 2022\n",
        "#  try:\n",
        "#    if trans.month == mon: a.append(trans)\n",
        "#    elif trans.day == mon: \n",
        "#      trans_re = datetime.datetime(trans.year,trans.day,trans.month)\n",
        "#      a.append(trans_re)    \n",
        "#  except:\n",
        "#    try:\n",
        "#      trans_rev = datetime.datetime(int(trans[-4:]),mon,int(trans[:2]))\n",
        "#      a.append(trans_rev)\n",
        "#    except:\n",
        "#      eom = datetime.datetime(yea,mon,calendar.monthrange(yea,mon)[1])\n",
        "#      a.append(eom)\n",
        "#      b.append(trans)"
      ],
      "metadata": {
        "id": "In7E6K1Yp_5o"
      },
      "execution_count": null,
      "outputs": []
    },
    {
      "cell_type": "code",
      "source": [
        "#complex_data['Calling Date']= a"
      ],
      "metadata": {
        "id": "dFbjjCVqQe8_"
      },
      "execution_count": null,
      "outputs": []
    },
    {
      "cell_type": "code",
      "execution_count": null,
      "metadata": {
        "id": "EOzEaRh5wKOm"
      },
      "outputs": [],
      "source": [
        "#data_category_range = complex_data['Calling Date'].unique()\n",
        "#data_category_range = data_category_range.tolist()"
      ]
    },
    {
      "cell_type": "code",
      "source": [
        "project_id = 'ghn-cxcscc'\n",
        "!gcloud config set project {project_id}\n",
        "!gsutil ls"
      ],
      "metadata": {
        "id": "vtF_8K-aWPZ1",
        "colab": {
          "base_uri": "https://localhost:8080/"
        },
        "outputId": "54c553ca-62d7-4ee6-9ab0-828b616f8e7a"
      },
      "execution_count": null,
      "outputs": [
        {
          "output_type": "stream",
          "name": "stdout",
          "text": [
            "Updated property [core/project].\n",
            "gs://cs_compensation/\n",
            "gs://cs_fine/\n",
            "gs://cs_qc/\n",
            "gs://cx_gtb_data/\n",
            "gs://cx_gtc_data/\n",
            "gs://cx_juno/\n",
            "gs://cx_lazada/\n",
            "gs://cx_sme_ng_dgdv/\n",
            "gs://cx_vvip_data/\n"
          ]
        }
      ]
    },
    {
      "cell_type": "code",
      "execution_count": null,
      "metadata": {
        "id": "DQF8E7ds-_9e"
      },
      "outputs": [],
      "source": [
        "bucket_name = 'cs_qc/qc_zns'"
      ]
    },
    {
      "cell_type": "code",
      "source": [
        "complex_data.head()"
      ],
      "metadata": {
        "id": "jAU8X7iyRSAz",
        "colab": {
          "base_uri": "https://localhost:8080/",
          "height": 907
        },
        "outputId": "a2d4ea5a-e889-493d-80f5-d18e562cbc70"
      },
      "execution_count": null,
      "outputs": [
        {
          "output_type": "execute_result",
          "data": {
            "text/plain": [
              "    FirstDeliveredTime           OrderCode CustomerName CustomerPhone  \\\n",
              "0  2022-10-01 10:18:19            GAWKUHKM    Xuân Tiến    0987631229   \n",
              "1  2022-10-01 10:19:11            GAWKNXAY     Tâm Thii   84793418825   \n",
              "2  2022-10-01 10:19:41  GHNMP0022860673VNA   tuyết hồng    0814655601   \n",
              "3  2022-10-01 10:55:38            GAWK9LU4  Phuong Linh    0888675543   \n",
              "4  2022-10-01 11:03:44            GAWWBCYQ   Chị Quang     0342700310   \n",
              "\n",
              "  ClientID             ClientContactName  \\\n",
              "0  3347095                    đỗ phương    \n",
              "1    18692  Công ty Huy Tuấn (Chuyên sỉ)   \n",
              "2     9794                          none   \n",
              "3    13745  Boxme Tan Binh - Ho Chi Minh   \n",
              "4  2649381                     Ngọc Minh   \n",
              "\n",
              "                                             Content CurrentStatus ReturnInfo  \\\n",
              "0                 điện thoạii 110i- [đt110i] [1 cái]       storing              \n",
              "1  Túi thơm thảo mộc treo phòng, treo tủ quần áo ...       storing              \n",
              "2  Áo Thun Nam Nữ Form Rộng Hàn Quốc In Hình Thiê...       storing              \n",
              "3  Kem Dưỡng Làm Mờ Vết Thâm Nám AHC Peony Bright...       storing              \n",
              "4                     Combo 3 món kone thái  [1 cái]       storing              \n",
              "\n",
              "  DeliveryWarehouseID  ... Link vé Tình trạng ticket lần 1  \\\n",
              "0            20648000  ...                                   \n",
              "1            20648000  ...                                   \n",
              "2            20648000  ...                                   \n",
              "3            20648000  ...                                   \n",
              "4                2393  ...                                   \n",
              "\n",
              "  Tình trạng ticket lần 2 Tình trạng ticket lần 3 Tình trạng ticket final  \\\n",
              "0                                                                           \n",
              "1                                                                           \n",
              "2                                                                           \n",
              "3                                                                           \n",
              "4                                                                           \n",
              "\n",
              "  Trạng thái ĐH Giao Lần 1 Trạng thái ĐH Giao Lần 2 Trạng thái ĐH Giao Lần 3  \\\n",
              "0                                                                              \n",
              "1                                                                              \n",
              "2                                                                              \n",
              "3                                                                              \n",
              "4                                                                              \n",
              "\n",
              "  Trạng thái ĐH Giao Lần 4       month  \n",
              "0                           2022-10-01  \n",
              "1                           2022-10-01  \n",
              "2                           2022-10-01  \n",
              "3                           2022-10-01  \n",
              "4                           2022-10-01  \n",
              "\n",
              "[5 rows x 44 columns]"
            ],
            "text/html": [
              "\n",
              "  <div id=\"df-68c54736-990c-4f91-981f-cf268a8d356c\">\n",
              "    <div class=\"colab-df-container\">\n",
              "      <div>\n",
              "<style scoped>\n",
              "    .dataframe tbody tr th:only-of-type {\n",
              "        vertical-align: middle;\n",
              "    }\n",
              "\n",
              "    .dataframe tbody tr th {\n",
              "        vertical-align: top;\n",
              "    }\n",
              "\n",
              "    .dataframe thead th {\n",
              "        text-align: right;\n",
              "    }\n",
              "</style>\n",
              "<table border=\"1\" class=\"dataframe\">\n",
              "  <thead>\n",
              "    <tr style=\"text-align: right;\">\n",
              "      <th></th>\n",
              "      <th>FirstDeliveredTime</th>\n",
              "      <th>OrderCode</th>\n",
              "      <th>CustomerName</th>\n",
              "      <th>CustomerPhone</th>\n",
              "      <th>ClientID</th>\n",
              "      <th>ClientContactName</th>\n",
              "      <th>Content</th>\n",
              "      <th>CurrentStatus</th>\n",
              "      <th>ReturnInfo</th>\n",
              "      <th>DeliveryWarehouseID</th>\n",
              "      <th>...</th>\n",
              "      <th>Link vé</th>\n",
              "      <th>Tình trạng ticket lần 1</th>\n",
              "      <th>Tình trạng ticket lần 2</th>\n",
              "      <th>Tình trạng ticket lần 3</th>\n",
              "      <th>Tình trạng ticket final</th>\n",
              "      <th>Trạng thái ĐH Giao Lần 1</th>\n",
              "      <th>Trạng thái ĐH Giao Lần 2</th>\n",
              "      <th>Trạng thái ĐH Giao Lần 3</th>\n",
              "      <th>Trạng thái ĐH Giao Lần 4</th>\n",
              "      <th>month</th>\n",
              "    </tr>\n",
              "  </thead>\n",
              "  <tbody>\n",
              "    <tr>\n",
              "      <th>0</th>\n",
              "      <td>2022-10-01 10:18:19</td>\n",
              "      <td>GAWKUHKM</td>\n",
              "      <td>Xuân Tiến</td>\n",
              "      <td>0987631229</td>\n",
              "      <td>3347095</td>\n",
              "      <td>đỗ phương</td>\n",
              "      <td>điện thoạii 110i- [đt110i] [1 cái]</td>\n",
              "      <td>storing</td>\n",
              "      <td></td>\n",
              "      <td>20648000</td>\n",
              "      <td>...</td>\n",
              "      <td></td>\n",
              "      <td></td>\n",
              "      <td></td>\n",
              "      <td></td>\n",
              "      <td></td>\n",
              "      <td></td>\n",
              "      <td></td>\n",
              "      <td></td>\n",
              "      <td></td>\n",
              "      <td>2022-10-01</td>\n",
              "    </tr>\n",
              "    <tr>\n",
              "      <th>1</th>\n",
              "      <td>2022-10-01 10:19:11</td>\n",
              "      <td>GAWKNXAY</td>\n",
              "      <td>Tâm Thii</td>\n",
              "      <td>84793418825</td>\n",
              "      <td>18692</td>\n",
              "      <td>Công ty Huy Tuấn (Chuyên sỉ)</td>\n",
              "      <td>Túi thơm thảo mộc treo phòng, treo tủ quần áo ...</td>\n",
              "      <td>storing</td>\n",
              "      <td></td>\n",
              "      <td>20648000</td>\n",
              "      <td>...</td>\n",
              "      <td></td>\n",
              "      <td></td>\n",
              "      <td></td>\n",
              "      <td></td>\n",
              "      <td></td>\n",
              "      <td></td>\n",
              "      <td></td>\n",
              "      <td></td>\n",
              "      <td></td>\n",
              "      <td>2022-10-01</td>\n",
              "    </tr>\n",
              "    <tr>\n",
              "      <th>2</th>\n",
              "      <td>2022-10-01 10:19:41</td>\n",
              "      <td>GHNMP0022860673VNA</td>\n",
              "      <td>tuyết hồng</td>\n",
              "      <td>0814655601</td>\n",
              "      <td>9794</td>\n",
              "      <td>none</td>\n",
              "      <td>Áo Thun Nam Nữ Form Rộng Hàn Quốc In Hình Thiê...</td>\n",
              "      <td>storing</td>\n",
              "      <td></td>\n",
              "      <td>20648000</td>\n",
              "      <td>...</td>\n",
              "      <td></td>\n",
              "      <td></td>\n",
              "      <td></td>\n",
              "      <td></td>\n",
              "      <td></td>\n",
              "      <td></td>\n",
              "      <td></td>\n",
              "      <td></td>\n",
              "      <td></td>\n",
              "      <td>2022-10-01</td>\n",
              "    </tr>\n",
              "    <tr>\n",
              "      <th>3</th>\n",
              "      <td>2022-10-01 10:55:38</td>\n",
              "      <td>GAWK9LU4</td>\n",
              "      <td>Phuong Linh</td>\n",
              "      <td>0888675543</td>\n",
              "      <td>13745</td>\n",
              "      <td>Boxme Tan Binh - Ho Chi Minh</td>\n",
              "      <td>Kem Dưỡng Làm Mờ Vết Thâm Nám AHC Peony Bright...</td>\n",
              "      <td>storing</td>\n",
              "      <td></td>\n",
              "      <td>20648000</td>\n",
              "      <td>...</td>\n",
              "      <td></td>\n",
              "      <td></td>\n",
              "      <td></td>\n",
              "      <td></td>\n",
              "      <td></td>\n",
              "      <td></td>\n",
              "      <td></td>\n",
              "      <td></td>\n",
              "      <td></td>\n",
              "      <td>2022-10-01</td>\n",
              "    </tr>\n",
              "    <tr>\n",
              "      <th>4</th>\n",
              "      <td>2022-10-01 11:03:44</td>\n",
              "      <td>GAWWBCYQ</td>\n",
              "      <td>Chị Quang</td>\n",
              "      <td>0342700310</td>\n",
              "      <td>2649381</td>\n",
              "      <td>Ngọc Minh</td>\n",
              "      <td>Combo 3 món kone thái  [1 cái]</td>\n",
              "      <td>storing</td>\n",
              "      <td></td>\n",
              "      <td>2393</td>\n",
              "      <td>...</td>\n",
              "      <td></td>\n",
              "      <td></td>\n",
              "      <td></td>\n",
              "      <td></td>\n",
              "      <td></td>\n",
              "      <td></td>\n",
              "      <td></td>\n",
              "      <td></td>\n",
              "      <td></td>\n",
              "      <td>2022-10-01</td>\n",
              "    </tr>\n",
              "  </tbody>\n",
              "</table>\n",
              "<p>5 rows × 44 columns</p>\n",
              "</div>\n",
              "      <button class=\"colab-df-convert\" onclick=\"convertToInteractive('df-68c54736-990c-4f91-981f-cf268a8d356c')\"\n",
              "              title=\"Convert this dataframe to an interactive table.\"\n",
              "              style=\"display:none;\">\n",
              "        \n",
              "  <svg xmlns=\"http://www.w3.org/2000/svg\" height=\"24px\"viewBox=\"0 0 24 24\"\n",
              "       width=\"24px\">\n",
              "    <path d=\"M0 0h24v24H0V0z\" fill=\"none\"/>\n",
              "    <path d=\"M18.56 5.44l.94 2.06.94-2.06 2.06-.94-2.06-.94-.94-2.06-.94 2.06-2.06.94zm-11 1L8.5 8.5l.94-2.06 2.06-.94-2.06-.94L8.5 2.5l-.94 2.06-2.06.94zm10 10l.94 2.06.94-2.06 2.06-.94-2.06-.94-.94-2.06-.94 2.06-2.06.94z\"/><path d=\"M17.41 7.96l-1.37-1.37c-.4-.4-.92-.59-1.43-.59-.52 0-1.04.2-1.43.59L10.3 9.45l-7.72 7.72c-.78.78-.78 2.05 0 2.83L4 21.41c.39.39.9.59 1.41.59.51 0 1.02-.2 1.41-.59l7.78-7.78 2.81-2.81c.8-.78.8-2.07 0-2.86zM5.41 20L4 18.59l7.72-7.72 1.47 1.35L5.41 20z\"/>\n",
              "  </svg>\n",
              "      </button>\n",
              "      \n",
              "  <style>\n",
              "    .colab-df-container {\n",
              "      display:flex;\n",
              "      flex-wrap:wrap;\n",
              "      gap: 12px;\n",
              "    }\n",
              "\n",
              "    .colab-df-convert {\n",
              "      background-color: #E8F0FE;\n",
              "      border: none;\n",
              "      border-radius: 50%;\n",
              "      cursor: pointer;\n",
              "      display: none;\n",
              "      fill: #1967D2;\n",
              "      height: 32px;\n",
              "      padding: 0 0 0 0;\n",
              "      width: 32px;\n",
              "    }\n",
              "\n",
              "    .colab-df-convert:hover {\n",
              "      background-color: #E2EBFA;\n",
              "      box-shadow: 0px 1px 2px rgba(60, 64, 67, 0.3), 0px 1px 3px 1px rgba(60, 64, 67, 0.15);\n",
              "      fill: #174EA6;\n",
              "    }\n",
              "\n",
              "    [theme=dark] .colab-df-convert {\n",
              "      background-color: #3B4455;\n",
              "      fill: #D2E3FC;\n",
              "    }\n",
              "\n",
              "    [theme=dark] .colab-df-convert:hover {\n",
              "      background-color: #434B5C;\n",
              "      box-shadow: 0px 1px 3px 1px rgba(0, 0, 0, 0.15);\n",
              "      filter: drop-shadow(0px 1px 2px rgba(0, 0, 0, 0.3));\n",
              "      fill: #FFFFFF;\n",
              "    }\n",
              "  </style>\n",
              "\n",
              "      <script>\n",
              "        const buttonEl =\n",
              "          document.querySelector('#df-68c54736-990c-4f91-981f-cf268a8d356c button.colab-df-convert');\n",
              "        buttonEl.style.display =\n",
              "          google.colab.kernel.accessAllowed ? 'block' : 'none';\n",
              "\n",
              "        async function convertToInteractive(key) {\n",
              "          const element = document.querySelector('#df-68c54736-990c-4f91-981f-cf268a8d356c');\n",
              "          const dataTable =\n",
              "            await google.colab.kernel.invokeFunction('convertToInteractive',\n",
              "                                                     [key], {});\n",
              "          if (!dataTable) return;\n",
              "\n",
              "          const docLinkHtml = 'Like what you see? Visit the ' +\n",
              "            '<a target=\"_blank\" href=https://colab.research.google.com/notebooks/data_table.ipynb>data table notebook</a>'\n",
              "            + ' to learn more about interactive tables.';\n",
              "          element.innerHTML = '';\n",
              "          dataTable['output_type'] = 'display_data';\n",
              "          await google.colab.output.renderOutput(dataTable, element);\n",
              "          const docLink = document.createElement('div');\n",
              "          docLink.innerHTML = docLinkHtml;\n",
              "          element.appendChild(docLink);\n",
              "        }\n",
              "      </script>\n",
              "    </div>\n",
              "  </div>\n",
              "  "
            ]
          },
          "metadata": {},
          "execution_count": 465
        }
      ]
    },
    {
      "cell_type": "code",
      "source": [
        "complex_data.tail()"
      ],
      "metadata": {
        "id": "JIc4tFyARVky",
        "colab": {
          "base_uri": "https://localhost:8080/",
          "height": 612
        },
        "outputId": "a61b7a4d-3a34-4121-cef2-47c38250d3ec"
      },
      "execution_count": null,
      "outputs": [
        {
          "output_type": "execute_result",
          "data": {
            "text/plain": [
              "         FirstDeliveredTime OrderCode  CustomerName CustomerPhone ClientID  \\\n",
              "178559  2022-07-31 17:15:23  GA437H9E         Tinna    0797439105  1137202   \n",
              "178560  2022-07-31 17:15:23  GA44R86G   252Thuý Cần    0862887326  3050381   \n",
              "178561  2022-07-31 17:15:24  GA4KGW9G     Mèo cocca    0343294748  1224219   \n",
              "178562  2022-07-31 17:15:24  GA43XWG7     Nguyễn Vy    0383035252  1072079   \n",
              "178563  2022-07-31 17:15:25  GA44TBTU  Betty Nguyen    0906965377  2854605   \n",
              "\n",
              "              ClientContactName                                       Content  \\\n",
              "178559                Ngọc bích                                     5 [1 cái]   \n",
              "178560         shop Thu Hương 4  Áo Đá Cao 1,53m nặng 56kg2 cái mã 12 [1 cái]   \n",
              "178561                 Cuc kin                             200L nini  [1 cái]   \n",
              "178562         Ăn Vặt Toàn Quốc               Rong Sụn Biển [PVN1746] [1 cái]   \n",
              "178563  MÁI EM - FASHION BIG VN                     S6107 [S6107-XXL] [1 cái]   \n",
              "\n",
              "       CurrentStatus ReturnInfo DeliveryWarehouseID  ... Link vé  \\\n",
              "178559       storing                       20476000  ...           \n",
              "178560    delivering                       20343000  ...           \n",
              "178561    delivering                       20393000  ...           \n",
              "178562    delivering                       20143000  ...           \n",
              "178563    delivering                       20005000  ...           \n",
              "\n",
              "       Tình trạng ticket lần 1 Tình trạng ticket lần 2  \\\n",
              "178559                                                   \n",
              "178560                                                   \n",
              "178561                                                   \n",
              "178562                                                   \n",
              "178563                                                   \n",
              "\n",
              "       Tình trạng ticket lần 3 Tình trạng ticket final  \\\n",
              "178559                                                   \n",
              "178560                                                   \n",
              "178561                                                   \n",
              "178562                                                   \n",
              "178563                                                   \n",
              "\n",
              "       Trạng thái ĐH Giao Lần 1 Trạng thái ĐH Giao Lần 2  \\\n",
              "178559                                                     \n",
              "178560                                                     \n",
              "178561                                                     \n",
              "178562                                                     \n",
              "178563                                                     \n",
              "\n",
              "       Trạng thái ĐH Giao Lần 3 Trạng thái ĐH Giao Lần 4       month  \n",
              "178559                                                    2022-07-01  \n",
              "178560                                                    2022-07-01  \n",
              "178561                                                    2022-07-01  \n",
              "178562                                                    2022-07-01  \n",
              "178563                                                    2022-07-01  \n",
              "\n",
              "[5 rows x 44 columns]"
            ],
            "text/html": [
              "\n",
              "  <div id=\"df-e3c4fecc-4344-4d89-b180-79aa36e7d41d\">\n",
              "    <div class=\"colab-df-container\">\n",
              "      <div>\n",
              "<style scoped>\n",
              "    .dataframe tbody tr th:only-of-type {\n",
              "        vertical-align: middle;\n",
              "    }\n",
              "\n",
              "    .dataframe tbody tr th {\n",
              "        vertical-align: top;\n",
              "    }\n",
              "\n",
              "    .dataframe thead th {\n",
              "        text-align: right;\n",
              "    }\n",
              "</style>\n",
              "<table border=\"1\" class=\"dataframe\">\n",
              "  <thead>\n",
              "    <tr style=\"text-align: right;\">\n",
              "      <th></th>\n",
              "      <th>FirstDeliveredTime</th>\n",
              "      <th>OrderCode</th>\n",
              "      <th>CustomerName</th>\n",
              "      <th>CustomerPhone</th>\n",
              "      <th>ClientID</th>\n",
              "      <th>ClientContactName</th>\n",
              "      <th>Content</th>\n",
              "      <th>CurrentStatus</th>\n",
              "      <th>ReturnInfo</th>\n",
              "      <th>DeliveryWarehouseID</th>\n",
              "      <th>...</th>\n",
              "      <th>Link vé</th>\n",
              "      <th>Tình trạng ticket lần 1</th>\n",
              "      <th>Tình trạng ticket lần 2</th>\n",
              "      <th>Tình trạng ticket lần 3</th>\n",
              "      <th>Tình trạng ticket final</th>\n",
              "      <th>Trạng thái ĐH Giao Lần 1</th>\n",
              "      <th>Trạng thái ĐH Giao Lần 2</th>\n",
              "      <th>Trạng thái ĐH Giao Lần 3</th>\n",
              "      <th>Trạng thái ĐH Giao Lần 4</th>\n",
              "      <th>month</th>\n",
              "    </tr>\n",
              "  </thead>\n",
              "  <tbody>\n",
              "    <tr>\n",
              "      <th>178559</th>\n",
              "      <td>2022-07-31 17:15:23</td>\n",
              "      <td>GA437H9E</td>\n",
              "      <td>Tinna</td>\n",
              "      <td>0797439105</td>\n",
              "      <td>1137202</td>\n",
              "      <td>Ngọc bích</td>\n",
              "      <td>5 [1 cái]</td>\n",
              "      <td>storing</td>\n",
              "      <td></td>\n",
              "      <td>20476000</td>\n",
              "      <td>...</td>\n",
              "      <td></td>\n",
              "      <td></td>\n",
              "      <td></td>\n",
              "      <td></td>\n",
              "      <td></td>\n",
              "      <td></td>\n",
              "      <td></td>\n",
              "      <td></td>\n",
              "      <td></td>\n",
              "      <td>2022-07-01</td>\n",
              "    </tr>\n",
              "    <tr>\n",
              "      <th>178560</th>\n",
              "      <td>2022-07-31 17:15:23</td>\n",
              "      <td>GA44R86G</td>\n",
              "      <td>252Thuý Cần</td>\n",
              "      <td>0862887326</td>\n",
              "      <td>3050381</td>\n",
              "      <td>shop Thu Hương 4</td>\n",
              "      <td>Áo Đá Cao 1,53m nặng 56kg2 cái mã 12 [1 cái]</td>\n",
              "      <td>delivering</td>\n",
              "      <td></td>\n",
              "      <td>20343000</td>\n",
              "      <td>...</td>\n",
              "      <td></td>\n",
              "      <td></td>\n",
              "      <td></td>\n",
              "      <td></td>\n",
              "      <td></td>\n",
              "      <td></td>\n",
              "      <td></td>\n",
              "      <td></td>\n",
              "      <td></td>\n",
              "      <td>2022-07-01</td>\n",
              "    </tr>\n",
              "    <tr>\n",
              "      <th>178561</th>\n",
              "      <td>2022-07-31 17:15:24</td>\n",
              "      <td>GA4KGW9G</td>\n",
              "      <td>Mèo cocca</td>\n",
              "      <td>0343294748</td>\n",
              "      <td>1224219</td>\n",
              "      <td>Cuc kin</td>\n",
              "      <td>200L nini  [1 cái]</td>\n",
              "      <td>delivering</td>\n",
              "      <td></td>\n",
              "      <td>20393000</td>\n",
              "      <td>...</td>\n",
              "      <td></td>\n",
              "      <td></td>\n",
              "      <td></td>\n",
              "      <td></td>\n",
              "      <td></td>\n",
              "      <td></td>\n",
              "      <td></td>\n",
              "      <td></td>\n",
              "      <td></td>\n",
              "      <td>2022-07-01</td>\n",
              "    </tr>\n",
              "    <tr>\n",
              "      <th>178562</th>\n",
              "      <td>2022-07-31 17:15:24</td>\n",
              "      <td>GA43XWG7</td>\n",
              "      <td>Nguyễn Vy</td>\n",
              "      <td>0383035252</td>\n",
              "      <td>1072079</td>\n",
              "      <td>Ăn Vặt Toàn Quốc</td>\n",
              "      <td>Rong Sụn Biển [PVN1746] [1 cái]</td>\n",
              "      <td>delivering</td>\n",
              "      <td></td>\n",
              "      <td>20143000</td>\n",
              "      <td>...</td>\n",
              "      <td></td>\n",
              "      <td></td>\n",
              "      <td></td>\n",
              "      <td></td>\n",
              "      <td></td>\n",
              "      <td></td>\n",
              "      <td></td>\n",
              "      <td></td>\n",
              "      <td></td>\n",
              "      <td>2022-07-01</td>\n",
              "    </tr>\n",
              "    <tr>\n",
              "      <th>178563</th>\n",
              "      <td>2022-07-31 17:15:25</td>\n",
              "      <td>GA44TBTU</td>\n",
              "      <td>Betty Nguyen</td>\n",
              "      <td>0906965377</td>\n",
              "      <td>2854605</td>\n",
              "      <td>MÁI EM - FASHION BIG VN</td>\n",
              "      <td>S6107 [S6107-XXL] [1 cái]</td>\n",
              "      <td>delivering</td>\n",
              "      <td></td>\n",
              "      <td>20005000</td>\n",
              "      <td>...</td>\n",
              "      <td></td>\n",
              "      <td></td>\n",
              "      <td></td>\n",
              "      <td></td>\n",
              "      <td></td>\n",
              "      <td></td>\n",
              "      <td></td>\n",
              "      <td></td>\n",
              "      <td></td>\n",
              "      <td>2022-07-01</td>\n",
              "    </tr>\n",
              "  </tbody>\n",
              "</table>\n",
              "<p>5 rows × 44 columns</p>\n",
              "</div>\n",
              "      <button class=\"colab-df-convert\" onclick=\"convertToInteractive('df-e3c4fecc-4344-4d89-b180-79aa36e7d41d')\"\n",
              "              title=\"Convert this dataframe to an interactive table.\"\n",
              "              style=\"display:none;\">\n",
              "        \n",
              "  <svg xmlns=\"http://www.w3.org/2000/svg\" height=\"24px\"viewBox=\"0 0 24 24\"\n",
              "       width=\"24px\">\n",
              "    <path d=\"M0 0h24v24H0V0z\" fill=\"none\"/>\n",
              "    <path d=\"M18.56 5.44l.94 2.06.94-2.06 2.06-.94-2.06-.94-.94-2.06-.94 2.06-2.06.94zm-11 1L8.5 8.5l.94-2.06 2.06-.94-2.06-.94L8.5 2.5l-.94 2.06-2.06.94zm10 10l.94 2.06.94-2.06 2.06-.94-2.06-.94-.94-2.06-.94 2.06-2.06.94z\"/><path d=\"M17.41 7.96l-1.37-1.37c-.4-.4-.92-.59-1.43-.59-.52 0-1.04.2-1.43.59L10.3 9.45l-7.72 7.72c-.78.78-.78 2.05 0 2.83L4 21.41c.39.39.9.59 1.41.59.51 0 1.02-.2 1.41-.59l7.78-7.78 2.81-2.81c.8-.78.8-2.07 0-2.86zM5.41 20L4 18.59l7.72-7.72 1.47 1.35L5.41 20z\"/>\n",
              "  </svg>\n",
              "      </button>\n",
              "      \n",
              "  <style>\n",
              "    .colab-df-container {\n",
              "      display:flex;\n",
              "      flex-wrap:wrap;\n",
              "      gap: 12px;\n",
              "    }\n",
              "\n",
              "    .colab-df-convert {\n",
              "      background-color: #E8F0FE;\n",
              "      border: none;\n",
              "      border-radius: 50%;\n",
              "      cursor: pointer;\n",
              "      display: none;\n",
              "      fill: #1967D2;\n",
              "      height: 32px;\n",
              "      padding: 0 0 0 0;\n",
              "      width: 32px;\n",
              "    }\n",
              "\n",
              "    .colab-df-convert:hover {\n",
              "      background-color: #E2EBFA;\n",
              "      box-shadow: 0px 1px 2px rgba(60, 64, 67, 0.3), 0px 1px 3px 1px rgba(60, 64, 67, 0.15);\n",
              "      fill: #174EA6;\n",
              "    }\n",
              "\n",
              "    [theme=dark] .colab-df-convert {\n",
              "      background-color: #3B4455;\n",
              "      fill: #D2E3FC;\n",
              "    }\n",
              "\n",
              "    [theme=dark] .colab-df-convert:hover {\n",
              "      background-color: #434B5C;\n",
              "      box-shadow: 0px 1px 3px 1px rgba(0, 0, 0, 0.15);\n",
              "      filter: drop-shadow(0px 1px 2px rgba(0, 0, 0, 0.3));\n",
              "      fill: #FFFFFF;\n",
              "    }\n",
              "  </style>\n",
              "\n",
              "      <script>\n",
              "        const buttonEl =\n",
              "          document.querySelector('#df-e3c4fecc-4344-4d89-b180-79aa36e7d41d button.colab-df-convert');\n",
              "        buttonEl.style.display =\n",
              "          google.colab.kernel.accessAllowed ? 'block' : 'none';\n",
              "\n",
              "        async function convertToInteractive(key) {\n",
              "          const element = document.querySelector('#df-e3c4fecc-4344-4d89-b180-79aa36e7d41d');\n",
              "          const dataTable =\n",
              "            await google.colab.kernel.invokeFunction('convertToInteractive',\n",
              "                                                     [key], {});\n",
              "          if (!dataTable) return;\n",
              "\n",
              "          const docLinkHtml = 'Like what you see? Visit the ' +\n",
              "            '<a target=\"_blank\" href=https://colab.research.google.com/notebooks/data_table.ipynb>data table notebook</a>'\n",
              "            + ' to learn more about interactive tables.';\n",
              "          element.innerHTML = '';\n",
              "          dataTable['output_type'] = 'display_data';\n",
              "          await google.colab.output.renderOutput(dataTable, element);\n",
              "          const docLink = document.createElement('div');\n",
              "          docLink.innerHTML = docLinkHtml;\n",
              "          element.appendChild(docLink);\n",
              "        }\n",
              "      </script>\n",
              "    </div>\n",
              "  </div>\n",
              "  "
            ]
          },
          "metadata": {},
          "execution_count": 466
        }
      ]
    },
    {
      "cell_type": "code",
      "source": [
        "complex_data.columns"
      ],
      "metadata": {
        "colab": {
          "base_uri": "https://localhost:8080/"
        },
        "id": "XJKBTVthLbcC",
        "outputId": "881a82c9-cb94-466c-f1b9-671dccb34a75"
      },
      "execution_count": null,
      "outputs": [
        {
          "output_type": "execute_result",
          "data": {
            "text/plain": [
              "Index(['FirstDeliveredTime', 'OrderCode', 'CustomerName', 'CustomerPhone',\n",
              "       'ClientID', 'ClientContactName', 'Content', 'CurrentStatus',\n",
              "       'ReturnInfo', 'DeliveryWarehouseID', 'DeliveryWarehouse', 'NumDeliver',\n",
              "       'DriverID', 'DriverName', 'FirstFailDeliveryNote', 'TripCode',\n",
              "       'TimeLog', 'Calling Date', 'PIC', 'Thành công',\n",
              "       'Lý do cuộc gọi thất bại',\n",
              "       'Q1. Đối với sản phẩm này, Anh/chị cho em hỏi là NV giao hàng của bên em có gọi điện thoại cho mình trước khi giao không ạ? (Có thể cung cấp thời gian giao hàng)\\n',\n",
              "       'Q1a. Anh chị có nhận được tin nhắn từ nhân viên giao hàng không?',\n",
              "       'Q2: Anh/chị vui lòng cho em hỏi lý do đơn hàng giao không thành công là gì vậy ạ?',\n",
              "       'Lí do đơn hàng thất bại chi tiết 1', 'Lí do đơn hàng thất bại 1',\n",
              "       'Q3: Bên em xác nhận sẽ giao lại cho anh/chị đơn hàng này.  Anh/chị muốn nhận đơn hàng vào thời gian nào để NV giao hàng gọi đến cho bên Mình ạ?',\n",
              "       'Kiểm tra lí do Shipper', 'Call Center Note',\n",
              "       'Lí do đơn hàng thất bại chi tiết 2', 'Lí do đơn hàng thất bại 2',\n",
              "       'CX Note (Past)', 'Hướng xử lý Bưu cục', 'Tình trạng ĐH ', 'Link vé',\n",
              "       'Tình trạng ticket lần 1', 'Tình trạng ticket lần 2',\n",
              "       'Tình trạng ticket lần 3', 'Tình trạng ticket final',\n",
              "       'Trạng thái ĐH Giao Lần 1', 'Trạng thái ĐH Giao Lần 2',\n",
              "       'Trạng thái ĐH Giao Lần 3', 'Trạng thái ĐH Giao Lần 4', 'month'],\n",
              "      dtype='object')"
            ]
          },
          "metadata": {},
          "execution_count": 467
        }
      ]
    },
    {
      "cell_type": "code",
      "source": [
        "#dict = {'FirstDeliveredTime':'thoi_gian_giao_lan_01', 'OrderCode':'ma_dh', 'CustomerName':'ten_nguoi_nhan', 'CustomerPhone':'sdt_kh',\n",
        "#       'ClientID':'ma_kh', 'ClientContactName':'ten_kh', 'Content':'noi_dung', 'CurrentStatus':'trang_thai',\n",
        "#       'ReturnInfo':'ly_do_tra_hang', 'DeliveryWarehouseID':'ma_kho_giao', 'DeliveryWarehouse':'ten_kho_giao', 'NumDeliver':'so_lan_giao',\n",
        "#       'DriverID':'id_nv', 'DriverName':'ten_nv', 'FirstFailDeliveryNote':'ly_do_gtb_lan_01', 'TripCode':'ma_chuyen_di',\n",
        "#       'TimeLog':'timelog', 'Calling Date':'CallingDate', 'PIC':'pic', 'Thành công':'ket_qua_goi',\n",
        "#       'Lý do cuộc gọi thất bại':'ly_do_cuoc_goi_that_bai',\n",
        "#       'Q1. Đối với sản phẩm này, Anh/chị cho em hỏi là NV giao hàng của bên em có gọi điện thoại cho mình trước khi giao không ạ? (Có thể cung cấp thời gian giao hàng)\\n':'nv_giao_co_goi_dien',\n",
        "#       'Q1a. Anh chị có nhận được tin nhắn từ nhân viên giao hàng không?':'nv_giao_co_nhan_tin',\n",
        "#       'Q2: Anh/chị vui lòng cho em hỏi lý do đơn hàng giao không thành công là gì vậy ạ?':'kh_phan_hoi_ly_do_gtb',\n",
        "#       'Lí do đơn hàng thất bại chi tiết 1':'ly_do_gtb_chi_tiet_01', 'Lí do đơn hàng thất bại 1':'ly_do_gtb_01',\n",
        "#       'Q3: Bên em xác nhận sẽ giao lại cho anh/chị đơn hàng này.  Anh/chị muốn nhận đơn hàng vào thời gian nào để NV giao hàng gọi đến cho bên Mình ạ?':'thoi_gian_kh_nhan_hang',\n",
        "#       'Kiểm tra lí do Shipper':'kiem_tra_ly_do_shipper', 'Call Center Note':'nv_goi_ghi_chu',\n",
        "#       'Lí do đơn hàng thất bại chi tiết 2':'ly_do_gtb_chi_tiet_02', 'Lí do đơn hàng thất bại 2':'ly_do_gtb_02',\n",
        "#       'CX Note (Past)':'cx_ghi_chu', 'Hướng xử lý Bưu cục':'buu_cuc_xu_ly', 'Tình trạng ĐH ':'tinh_trang_dh', 'Link vé':'link_ve',\n",
        "#       'Tình trạng ticket lần 1':'tinh_trang_ticket_01', 'Tình trạng ticket lần 2':'tinh_trang_ticket_02',\n",
        "#       'Tình trạng ticket lần 3':'tinh_trang_ticket_03', 'Tình trạng ticket final':'tinh_trang_ticket_final',\n",
        "#       'Trạng thái ĐH Giao Lần 1':'trang_thai_dh_01', 'Trạng thái ĐH Giao Lần 2':'trang_thai_dh_02',\n",
        "#       'Trạng thái ĐH Giao Lần 3':'trang_thai_dh_03', 'Trạng thái ĐH Giao Lần 4':'trang_thai_dh_04', 'month':'month'}"
      ],
      "metadata": {
        "id": "YhoKw_VhLgFR"
      },
      "execution_count": null,
      "outputs": []
    },
    {
      "cell_type": "code",
      "source": [
        "dict = {'Calling Date':'CallingDate', 'Thành công':'TrangThaiCuocGoi',\n",
        "       'Lý do cuộc gọi thất bại':'LyDoCuocGoiThatBai',\n",
        "       'Q1. Đối với sản phẩm này, Anh/chị cho em hỏi là NV giao hàng của bên em có gọi điện thoại cho mình trước khi giao không ạ? (Có thể cung cấp thời gian giao hàng)\\n':'nv_giao_co_goi_dien',\n",
        "       'Q1a. Anh chị có nhận được tin nhắn từ nhân viên giao hàng không?':'nv_giao_co_nhan_tin',\n",
        "       'Q2: Anh/chị vui lòng cho em hỏi lý do đơn hàng giao không thành công là gì vậy ạ?':'LyDoDonHangThatBaiTheoNN',\n",
        "       'Lí do đơn hàng thất bại chi tiết 1':'LyDoDonHangThatBaiChiTiet', 'Lí do đơn hàng thất bại 1':'LyDoDonHangThatBai',\n",
        "       'Q3: Bên em xác nhận sẽ giao lại cho anh/chị đơn hàng này.  Anh/chị muốn nhận đơn hàng vào thời gian nào để NV giao hàng gọi đến cho bên Mình ạ?':'thoi_gian_kh_nhan_hang',\n",
        "       'Kiểm tra lí do Shipper':'KiemTraLyDo', 'Call Center Note':'nv_goi_ghi_chu',\n",
        "       'Lí do đơn hàng thất bại chi tiết 2':'LyDoDonHangThatBaiChiTiet_02', 'Lí do đơn hàng thất bại 2':'LyDoDonHangThatBai_02',\n",
        "       'CX Note (Past)':'cx_ghi_chu', 'Hướng xử lý Bưu cục':'buu_cuc_xu_ly', 'Tình trạng ĐH ':'tinh_trang_dh', 'Link vé':'link_ve',\n",
        "       'Tình trạng ticket lần 1':'tinh_trang_ticket_01', 'Tình trạng ticket lần 2':'tinh_trang_ticket_02',\n",
        "       'Tình trạng ticket lần 3':'tinh_trang_ticket_03', 'Tình trạng ticket final':'tinh_trang_ticket_final',\n",
        "       'Trạng thái ĐH Giao Lần 1':'trang_thai_dh_01', 'Trạng thái ĐH Giao Lần 2':'trang_thai_dh_02',\n",
        "       'Trạng thái ĐH Giao Lần 3':'trang_thai_dh_03', 'Trạng thái ĐH Giao Lần 4':'trang_thai_dh_04', 'month':'month'}"
      ],
      "metadata": {
        "id": "44ObOmWPSd2O"
      },
      "execution_count": null,
      "outputs": []
    },
    {
      "cell_type": "code",
      "source": [
        "complex_data.rename(columns=dict,inplace=True)"
      ],
      "metadata": {
        "id": "M4Q33PVQOIL9"
      },
      "execution_count": null,
      "outputs": []
    },
    {
      "cell_type": "code",
      "source": [
        "dict2 = {'ten_kh':'ten_nguoi_nhan'}"
      ],
      "metadata": {
        "id": "FAmIOlRxRllv"
      },
      "execution_count": null,
      "outputs": []
    },
    {
      "cell_type": "code",
      "source": [
        "#complex_data.rename(columns=dict2,inplace=True)"
      ],
      "metadata": {
        "id": "qNHgrxwvRt8g"
      },
      "execution_count": null,
      "outputs": []
    },
    {
      "cell_type": "code",
      "source": [
        "complex_data.columns"
      ],
      "metadata": {
        "colab": {
          "base_uri": "https://localhost:8080/"
        },
        "id": "xBBqDtsIORhg",
        "outputId": "12c3c7e1-f38b-4d35-e62b-5d93d13c0626"
      },
      "execution_count": null,
      "outputs": [
        {
          "output_type": "execute_result",
          "data": {
            "text/plain": [
              "Index(['FirstDeliveredTime', 'OrderCode', 'CustomerName', 'CustomerPhone',\n",
              "       'ClientID', 'ClientContactName', 'Content', 'CurrentStatus',\n",
              "       'ReturnInfo', 'DeliveryWarehouseID', 'DeliveryWarehouse', 'NumDeliver',\n",
              "       'DriverID', 'DriverName', 'FirstFailDeliveryNote', 'TripCode',\n",
              "       'TimeLog', 'CallingDate', 'PIC', 'TrangThaiCuocGoi',\n",
              "       'LyDoCuocGoiThatBai', 'nv_giao_co_goi_dien', 'nv_giao_co_nhan_tin',\n",
              "       'LyDoDonHangThatBaiTheoNN', 'LyDoDonHangThatBaiChiTiet',\n",
              "       'LyDoDonHangThatBai', 'thoi_gian_kh_nhan_hang', 'KiemTraLyDo',\n",
              "       'nv_goi_ghi_chu', 'LyDoDonHangThatBaiChiTiet_02',\n",
              "       'LyDoDonHangThatBai_02', 'cx_ghi_chu', 'buu_cuc_xu_ly', 'tinh_trang_dh',\n",
              "       'link_ve', 'tinh_trang_ticket_01', 'tinh_trang_ticket_02',\n",
              "       'tinh_trang_ticket_03', 'tinh_trang_ticket_final', 'trang_thai_dh_01',\n",
              "       'trang_thai_dh_02', 'trang_thai_dh_03', 'trang_thai_dh_04', 'month'],\n",
              "      dtype='object')"
            ]
          },
          "metadata": {},
          "execution_count": 473
        }
      ]
    },
    {
      "cell_type": "code",
      "source": [
        "#data = complex_data[['FirstDeliveredTime', 'OrderCode', 'CustomerPhone','Content','sdt_kh', 'ma_kh',\n",
        "#       'ten_kh', 'trang_thai', 'ly_do_tra_hang', 'ma_kho_giao',\n",
        "#       'ten_kho_giao', 'so_lan_giao', 'id_nv', 'ten_nv', 'ly_do_gtb_lan_01',\n",
        "#       'ma_chuyen_di', 'timelog', 'calling_date', 'pic', 'ket_qua_goi',\n",
        "#       'ly_do_cuoc_goi_that_bai', 'nv_giao_co_goi_dien', 'nv_giao_co_nhan_tin',\n",
        "#       'kh_phan_hoi_ly_do_gtb', 'ly_do_gtb_chi_tiet_01', 'ly_do_gtb_01',\n",
        "#       'thoi_gian_kh_nhan_hang', 'kiem_tra_ly_do_shipper', 'nv_goi_ghi_chu',\n",
        "#       'ly_do_gtb_chi_tiet_02', 'ly_do_gtb_02', 'cx_ghi_chu', 'buu_cuc_xu_ly',\n",
        "#       'tinh_trang_dh', 'link_ve','month']]"
      ],
      "metadata": {
        "id": "u43B0harYoco"
      },
      "execution_count": null,
      "outputs": []
    },
    {
      "cell_type": "markdown",
      "source": [
        "# Final Data Clean"
      ],
      "metadata": {
        "id": "5skmAkBpEAp3"
      }
    },
    {
      "cell_type": "code",
      "source": [
        "data = complex_data[['FirstDeliveredTime', 'OrderCode', 'CustomerName', 'CustomerPhone',\n",
        "       'ClientID', 'ClientContactName', 'Content', 'CurrentStatus',\n",
        "       'ReturnInfo', 'DeliveryWarehouseID', 'DeliveryWarehouse', 'NumDeliver',\n",
        "       'DriverID', 'DriverName', 'FirstFailDeliveryNote', 'TripCode',\n",
        "       'TimeLog', 'CallingDate', 'PIC', 'TrangThaiCuocGoi',\n",
        "       'LyDoCuocGoiThatBai', 'nv_giao_co_goi_dien', 'nv_giao_co_nhan_tin',\n",
        "       'LyDoDonHangThatBaiTheoNN', 'LyDoDonHangThatBaiChiTiet',\n",
        "       'LyDoDonHangThatBai', 'thoi_gian_kh_nhan_hang', 'KiemTraLyDo',\n",
        "       'nv_goi_ghi_chu', 'LyDoDonHangThatBaiChiTiet_02',\n",
        "       'LyDoDonHangThatBai_02', 'cx_ghi_chu', 'buu_cuc_xu_ly','tinh_trang_dh','link_ve','month']]"
      ],
      "metadata": {
        "id": "nAaftmnAJoWn"
      },
      "execution_count": null,
      "outputs": []
    },
    {
      "cell_type": "code",
      "source": [
        "data = data.drop('month',axis=1)"
      ],
      "metadata": {
        "id": "1zTw1Q-LMGsX"
      },
      "execution_count": null,
      "outputs": []
    },
    {
      "cell_type": "code",
      "source": [
        "data[['CustomerName','ClientContactName','LyDoDonHangThatBaiTheoNN']] = data[['CustomerName','ClientContactName','LyDoDonHangThatBaiTheoNN']].apply(lambda x: x.str.strip())"
      ],
      "metadata": {
        "id": "TMzxvVg0yKmi"
      },
      "execution_count": null,
      "outputs": []
    },
    {
      "cell_type": "code",
      "source": [
        "#data[['ten_nguoi_nhan','ten_kh','kh_phan_hoi_ly_do_gtb']] = complex_data.apply(lambda x: x.str.strip())"
      ],
      "metadata": {
        "id": "xvgujY8SzoaK"
      },
      "execution_count": null,
      "outputs": []
    },
    {
      "cell_type": "code",
      "source": [
        "#data[['ma_dh','calling_date','pic']][data['ma_dh']=='GAKX38LT']"
      ],
      "metadata": {
        "id": "uuvmTrRpZHJF"
      },
      "execution_count": null,
      "outputs": []
    },
    {
      "cell_type": "code",
      "source": [
        "#data['CallingDate']=pd.to_datetime(data['CallingDate'].astype(str), format='%Y-%m-%d')"
      ],
      "metadata": {
        "id": "aJ08wyaCazaE"
      },
      "execution_count": null,
      "outputs": []
    },
    {
      "cell_type": "code",
      "source": [
        "data['FirstDeliveredTime'] = pd.to_datetime(complex_data['FirstDeliveredTime'], errors='coerce',yearfirst=True)"
      ],
      "metadata": {
        "id": "0znxdvdo-2xB"
      },
      "execution_count": null,
      "outputs": []
    },
    {
      "cell_type": "code",
      "source": [
        "data['FirstDeliveredTime'] = data['FirstDeliveredTime'].dt.strftime('%Y-%m-%d %H:%M:%S')"
      ],
      "metadata": {
        "id": "RkqLvSeh-vZ3"
      },
      "execution_count": null,
      "outputs": []
    },
    {
      "cell_type": "code",
      "source": [
        "data['FirstDeliveredTime'].fillna(method='ffill', inplace=True)"
      ],
      "metadata": {
        "id": "yBrXflU6FdPJ"
      },
      "execution_count": null,
      "outputs": []
    },
    {
      "cell_type": "code",
      "source": [
        "data['CallingDate'] = data['CallingDate'].dt.strftime('%Y-%m-%d')"
      ],
      "metadata": {
        "id": "9AIm1Brrd5oL"
      },
      "execution_count": null,
      "outputs": []
    },
    {
      "cell_type": "code",
      "source": [
        "data.dtypes\n",
        "data.columns"
      ],
      "metadata": {
        "colab": {
          "base_uri": "https://localhost:8080/"
        },
        "id": "xWfyY0WqjE4Y",
        "outputId": "793a4adf-36aa-4130-b913-fecafc8a9727"
      },
      "execution_count": null,
      "outputs": [
        {
          "output_type": "execute_result",
          "data": {
            "text/plain": [
              "Index(['FirstDeliveredTime', 'OrderCode', 'CustomerName', 'CustomerPhone',\n",
              "       'ClientID', 'ClientContactName', 'Content', 'CurrentStatus',\n",
              "       'ReturnInfo', 'DeliveryWarehouseID', 'DeliveryWarehouse', 'NumDeliver',\n",
              "       'DriverID', 'DriverName', 'FirstFailDeliveryNote', 'TripCode',\n",
              "       'TimeLog', 'CallingDate', 'PIC', 'TrangThaiCuocGoi',\n",
              "       'LyDoCuocGoiThatBai', 'nv_giao_co_goi_dien', 'nv_giao_co_nhan_tin',\n",
              "       'LyDoDonHangThatBaiTheoNN', 'LyDoDonHangThatBaiChiTiet',\n",
              "       'LyDoDonHangThatBai', 'thoi_gian_kh_nhan_hang', 'KiemTraLyDo',\n",
              "       'nv_goi_ghi_chu', 'LyDoDonHangThatBaiChiTiet_02',\n",
              "       'LyDoDonHangThatBai_02', 'cx_ghi_chu', 'buu_cuc_xu_ly', 'tinh_trang_dh',\n",
              "       'link_ve'],\n",
              "      dtype='object')"
            ]
          },
          "metadata": {},
          "execution_count": 485
        }
      ]
    },
    {
      "cell_type": "code",
      "source": [
        "data['CallingDate'].unique()"
      ],
      "metadata": {
        "colab": {
          "base_uri": "https://localhost:8080/"
        },
        "id": "C4qWe6oBjTKL",
        "outputId": "318b28f2-c885-4f1a-a9db-c48b65b07b7b"
      },
      "execution_count": null,
      "outputs": [
        {
          "output_type": "execute_result",
          "data": {
            "text/plain": [
              "array(['2022-10-02', '2022-10-03', '2022-10-04', '2022-10-05',\n",
              "       '2022-10-06', '2022-10-07', '2022-10-08', '2022-10-09',\n",
              "       '2022-10-10', '2022-10-11', '2022-10-12', '2022-10-13',\n",
              "       '2022-10-14', '2022-10-15', '2022-10-16', '2022-10-17',\n",
              "       '2022-10-18', '2022-10-19', '2022-10-20', '2022-10-21',\n",
              "       '2022-10-22', '2022-10-23', '2022-10-24', '2022-09-06',\n",
              "       '2022-09-07', '2022-09-08', '2022-09-09', '2022-09-10',\n",
              "       '2022-09-11', '2022-09-12', '2022-09-13', '2022-09-14',\n",
              "       '2022-09-15', '2022-09-16', '2022-09-17', '2022-09-18',\n",
              "       '2022-09-19', '2022-09-20', '2022-09-21', '2022-09-22',\n",
              "       '2022-09-23', '2022-09-25', '2022-09-24', '2022-09-28',\n",
              "       '2022-09-29', '2022-09-30', '2022-10-01', '2022-08-01',\n",
              "       '2022-08-02', '2022-08-03', '2022-08-04', '2022-08-05',\n",
              "       '2022-08-06', '2022-08-07', '2022-08-08', '2022-08-09',\n",
              "       '2022-08-10', '2022-08-11', '2022-08-12', '2022-08-13',\n",
              "       '2022-08-14', '2022-08-15', '2022-08-16', '2022-08-17',\n",
              "       '2022-08-18', '2022-08-19', '2022-08-20', '2022-08-21',\n",
              "       '2022-08-22', '2022-08-23', '2022-08-24', '2022-08-25',\n",
              "       '2022-08-26', '2022-08-27', '2022-08-28', '2022-08-29',\n",
              "       '2022-08-30', '2022-08-31', '2022-06-28', '2022-06-29',\n",
              "       '2022-06-30', '2022-07-01', '2022-07-02', '2022-07-03',\n",
              "       '2022-07-04', '2022-07-05', '2022-07-06', '2022-07-07',\n",
              "       '2022-07-08', '2022-07-09', '2022-07-11', '2022-07-12',\n",
              "       '2022-07-13', '2022-07-14', '2022-07-15', '2022-07-16',\n",
              "       '2022-07-17', '2022-07-19', '2022-07-20', '2022-07-18',\n",
              "       '2022-07-21', '2022-07-22', '2022-07-23', '2022-07-24',\n",
              "       '2022-07-25', '2022-07-26', '2022-07-27', '2022-07-28',\n",
              "       '2022-07-29', '2022-07-30', '2022-07-31'], dtype=object)"
            ]
          },
          "metadata": {},
          "execution_count": 486
        }
      ]
    },
    {
      "cell_type": "code",
      "source": [
        "data_category_range = data['CallingDate'].unique()"
      ],
      "metadata": {
        "id": "wTeXEHakPJyD"
      },
      "execution_count": null,
      "outputs": []
    },
    {
      "cell_type": "code",
      "source": [
        "data_category_range"
      ],
      "metadata": {
        "colab": {
          "base_uri": "https://localhost:8080/"
        },
        "id": "aYnJEN-1bLTS",
        "outputId": "c2f0234a-3888-469a-9714-2033e3bacf89"
      },
      "execution_count": null,
      "outputs": [
        {
          "output_type": "execute_result",
          "data": {
            "text/plain": [
              "array(['2022-10-02', '2022-10-03', '2022-10-04', '2022-10-05',\n",
              "       '2022-10-06', '2022-10-07', '2022-10-08', '2022-10-09',\n",
              "       '2022-10-10', '2022-10-11', '2022-10-12', '2022-10-13',\n",
              "       '2022-10-14', '2022-10-15', '2022-10-16', '2022-10-17',\n",
              "       '2022-10-18', '2022-10-19', '2022-10-20', '2022-10-21',\n",
              "       '2022-10-22', '2022-10-23', '2022-10-24', '2022-09-06',\n",
              "       '2022-09-07', '2022-09-08', '2022-09-09', '2022-09-10',\n",
              "       '2022-09-11', '2022-09-12', '2022-09-13', '2022-09-14',\n",
              "       '2022-09-15', '2022-09-16', '2022-09-17', '2022-09-18',\n",
              "       '2022-09-19', '2022-09-20', '2022-09-21', '2022-09-22',\n",
              "       '2022-09-23', '2022-09-25', '2022-09-24', '2022-09-28',\n",
              "       '2022-09-29', '2022-09-30', '2022-10-01', '2022-08-01',\n",
              "       '2022-08-02', '2022-08-03', '2022-08-04', '2022-08-05',\n",
              "       '2022-08-06', '2022-08-07', '2022-08-08', '2022-08-09',\n",
              "       '2022-08-10', '2022-08-11', '2022-08-12', '2022-08-13',\n",
              "       '2022-08-14', '2022-08-15', '2022-08-16', '2022-08-17',\n",
              "       '2022-08-18', '2022-08-19', '2022-08-20', '2022-08-21',\n",
              "       '2022-08-22', '2022-08-23', '2022-08-24', '2022-08-25',\n",
              "       '2022-08-26', '2022-08-27', '2022-08-28', '2022-08-29',\n",
              "       '2022-08-30', '2022-08-31', '2022-06-28', '2022-06-29',\n",
              "       '2022-06-30', '2022-07-01', '2022-07-02', '2022-07-03',\n",
              "       '2022-07-04', '2022-07-05', '2022-07-06', '2022-07-07',\n",
              "       '2022-07-08', '2022-07-09', '2022-07-11', '2022-07-12',\n",
              "       '2022-07-13', '2022-07-14', '2022-07-15', '2022-07-16',\n",
              "       '2022-07-17', '2022-07-19', '2022-07-20', '2022-07-18',\n",
              "       '2022-07-21', '2022-07-22', '2022-07-23', '2022-07-24',\n",
              "       '2022-07-25', '2022-07-26', '2022-07-27', '2022-07-28',\n",
              "       '2022-07-29', '2022-07-30', '2022-07-31'], dtype=object)"
            ]
          },
          "metadata": {},
          "execution_count": 488
        }
      ]
    },
    {
      "cell_type": "code",
      "source": [
        "data_category_range = data_category_range.tolist()"
      ],
      "metadata": {
        "id": "ItETvfwQaBbD"
      },
      "execution_count": null,
      "outputs": []
    },
    {
      "cell_type": "code",
      "source": [
        "data_cols = data.columns.tolist()\n",
        "data_cols"
      ],
      "metadata": {
        "colab": {
          "base_uri": "https://localhost:8080/"
        },
        "id": "bik-RmM4NCb_",
        "outputId": "d294e859-6930-4472-b5c3-9014e4fee915"
      },
      "execution_count": null,
      "outputs": [
        {
          "output_type": "execute_result",
          "data": {
            "text/plain": [
              "['FirstDeliveredTime',\n",
              " 'OrderCode',\n",
              " 'CustomerName',\n",
              " 'CustomerPhone',\n",
              " 'ClientID',\n",
              " 'ClientContactName',\n",
              " 'Content',\n",
              " 'CurrentStatus',\n",
              " 'ReturnInfo',\n",
              " 'DeliveryWarehouseID',\n",
              " 'DeliveryWarehouse',\n",
              " 'NumDeliver',\n",
              " 'DriverID',\n",
              " 'DriverName',\n",
              " 'FirstFailDeliveryNote',\n",
              " 'TripCode',\n",
              " 'TimeLog',\n",
              " 'CallingDate',\n",
              " 'PIC',\n",
              " 'TrangThaiCuocGoi',\n",
              " 'LyDoCuocGoiThatBai',\n",
              " 'nv_giao_co_goi_dien',\n",
              " 'nv_giao_co_nhan_tin',\n",
              " 'LyDoDonHangThatBaiTheoNN',\n",
              " 'LyDoDonHangThatBaiChiTiet',\n",
              " 'LyDoDonHangThatBai',\n",
              " 'thoi_gian_kh_nhan_hang',\n",
              " 'KiemTraLyDo',\n",
              " 'nv_goi_ghi_chu',\n",
              " 'LyDoDonHangThatBaiChiTiet_02',\n",
              " 'LyDoDonHangThatBai_02',\n",
              " 'cx_ghi_chu',\n",
              " 'buu_cuc_xu_ly',\n",
              " 'tinh_trang_dh',\n",
              " 'link_ve']"
            ]
          },
          "metadata": {},
          "execution_count": 490
        }
      ]
    },
    {
      "cell_type": "code",
      "source": [
        "data_category_range"
      ],
      "metadata": {
        "id": "d84W73nUaZiS",
        "colab": {
          "base_uri": "https://localhost:8080/"
        },
        "outputId": "8045ceea-9394-4dc1-9c0a-f99c4f272dba"
      },
      "execution_count": null,
      "outputs": [
        {
          "output_type": "execute_result",
          "data": {
            "text/plain": [
              "['2022-10-02',\n",
              " '2022-10-03',\n",
              " '2022-10-04',\n",
              " '2022-10-05',\n",
              " '2022-10-06',\n",
              " '2022-10-07',\n",
              " '2022-10-08',\n",
              " '2022-10-09',\n",
              " '2022-10-10',\n",
              " '2022-10-11',\n",
              " '2022-10-12',\n",
              " '2022-10-13',\n",
              " '2022-10-14',\n",
              " '2022-10-15',\n",
              " '2022-10-16',\n",
              " '2022-10-17',\n",
              " '2022-10-18',\n",
              " '2022-10-19',\n",
              " '2022-10-20',\n",
              " '2022-10-21',\n",
              " '2022-10-22',\n",
              " '2022-10-23',\n",
              " '2022-10-24',\n",
              " '2022-09-06',\n",
              " '2022-09-07',\n",
              " '2022-09-08',\n",
              " '2022-09-09',\n",
              " '2022-09-10',\n",
              " '2022-09-11',\n",
              " '2022-09-12',\n",
              " '2022-09-13',\n",
              " '2022-09-14',\n",
              " '2022-09-15',\n",
              " '2022-09-16',\n",
              " '2022-09-17',\n",
              " '2022-09-18',\n",
              " '2022-09-19',\n",
              " '2022-09-20',\n",
              " '2022-09-21',\n",
              " '2022-09-22',\n",
              " '2022-09-23',\n",
              " '2022-09-25',\n",
              " '2022-09-24',\n",
              " '2022-09-28',\n",
              " '2022-09-29',\n",
              " '2022-09-30',\n",
              " '2022-10-01',\n",
              " '2022-08-01',\n",
              " '2022-08-02',\n",
              " '2022-08-03',\n",
              " '2022-08-04',\n",
              " '2022-08-05',\n",
              " '2022-08-06',\n",
              " '2022-08-07',\n",
              " '2022-08-08',\n",
              " '2022-08-09',\n",
              " '2022-08-10',\n",
              " '2022-08-11',\n",
              " '2022-08-12',\n",
              " '2022-08-13',\n",
              " '2022-08-14',\n",
              " '2022-08-15',\n",
              " '2022-08-16',\n",
              " '2022-08-17',\n",
              " '2022-08-18',\n",
              " '2022-08-19',\n",
              " '2022-08-20',\n",
              " '2022-08-21',\n",
              " '2022-08-22',\n",
              " '2022-08-23',\n",
              " '2022-08-24',\n",
              " '2022-08-25',\n",
              " '2022-08-26',\n",
              " '2022-08-27',\n",
              " '2022-08-28',\n",
              " '2022-08-29',\n",
              " '2022-08-30',\n",
              " '2022-08-31',\n",
              " '2022-06-28',\n",
              " '2022-06-29',\n",
              " '2022-06-30',\n",
              " '2022-07-01',\n",
              " '2022-07-02',\n",
              " '2022-07-03',\n",
              " '2022-07-04',\n",
              " '2022-07-05',\n",
              " '2022-07-06',\n",
              " '2022-07-07',\n",
              " '2022-07-08',\n",
              " '2022-07-09',\n",
              " '2022-07-11',\n",
              " '2022-07-12',\n",
              " '2022-07-13',\n",
              " '2022-07-14',\n",
              " '2022-07-15',\n",
              " '2022-07-16',\n",
              " '2022-07-17',\n",
              " '2022-07-19',\n",
              " '2022-07-20',\n",
              " '2022-07-18',\n",
              " '2022-07-21',\n",
              " '2022-07-22',\n",
              " '2022-07-23',\n",
              " '2022-07-24',\n",
              " '2022-07-25',\n",
              " '2022-07-26',\n",
              " '2022-07-27',\n",
              " '2022-07-28',\n",
              " '2022-07-29',\n",
              " '2022-07-30',\n",
              " '2022-07-31']"
            ]
          },
          "metadata": {},
          "execution_count": 491
        }
      ]
    },
    {
      "cell_type": "code",
      "source": [
        "data[\"CustomerName\"] = data[\"CustomerName\"].apply(lambda x: x.replace(\"   \", \"\"))\n",
        "data[\"CustomerName\"] = data[\"CustomerName\"].apply(lambda x: x.replace(\"    \", \"\"))\n",
        "data[\"CustomerName\"] = data[\"CustomerName\"].apply(lambda x: x.replace(\"     \", \"\"))"
      ],
      "metadata": {
        "id": "KadiZlQAf0US"
      },
      "execution_count": null,
      "outputs": []
    },
    {
      "cell_type": "code",
      "source": [
        "data[\"ClientContactName\"] = data[\"ClientContactName\"].apply(lambda x: x.replace(\"   \", \"\"))\n",
        "data[\"ClientContactName\"] = data[\"ClientContactName\"].apply(lambda x: x.replace(\"    \", \"\"))\n",
        "data[\"ClientContactName\"] = data[\"ClientContactName\"].apply(lambda x: x.replace(\"     \", \"\"))\n"
      ],
      "metadata": {
        "id": "EVY3dyPr1SaI"
      },
      "execution_count": null,
      "outputs": []
    },
    {
      "cell_type": "code",
      "source": [
        "data[\"TrangThaiCuocGoi\"] = data[\"TrangThaiCuocGoi\"].apply(lambda x: x.replace(\"Thành công\",\"SUCCESS\"))\n",
        "data[\"TrangThaiCuocGoi\"] = data[\"TrangThaiCuocGoi\"].apply(lambda x: x.replace(\"Thất bại\",\"FAILURE\"))"
      ],
      "metadata": {
        "id": "02gk38a1mflk"
      },
      "execution_count": null,
      "outputs": []
    },
    {
      "cell_type": "code",
      "source": [
        "data[['tinh_trang_dh',\"CustomerName\",'Content','LyDoDonHangThatBaiTheoNN','thoi_gian_kh_nhan_hang','nv_goi_ghi_chu','ClientContactName']] = data[['tinh_trang_dh',\"CustomerName\",'Content','LyDoDonHangThatBaiTheoNN','thoi_gian_kh_nhan_hang','nv_goi_ghi_chu','ClientContactName']].replace('\\n', '_', regex=True)\n",
        "data[['tinh_trang_dh',\"CustomerName\",'Content','LyDoDonHangThatBaiTheoNN','thoi_gian_kh_nhan_hang','nv_goi_ghi_chu','ClientContactName']] = data[['tinh_trang_dh',\"CustomerName\",'Content','LyDoDonHangThatBaiTheoNN','thoi_gian_kh_nhan_hang','nv_goi_ghi_chu','ClientContactName']].replace('\\r','_', regex=True)"
      ],
      "metadata": {
        "id": "Jo5lJJHME9Ne"
      },
      "execution_count": null,
      "outputs": []
    },
    {
      "cell_type": "code",
      "source": [
        "data.head(5)"
      ],
      "metadata": {
        "colab": {
          "base_uri": "https://localhost:8080/",
          "height": 838
        },
        "id": "zh2HZpQFC6IP",
        "outputId": "1de8e794-31e4-4319-f10e-1b5ee563ca60"
      },
      "execution_count": null,
      "outputs": [
        {
          "output_type": "execute_result",
          "data": {
            "text/plain": [
              "    FirstDeliveredTime           OrderCode CustomerName CustomerPhone  \\\n",
              "0  2022-10-01 10:18:19            GAWKUHKM    Xuân Tiến    0987631229   \n",
              "1  2022-10-01 10:19:11            GAWKNXAY     Tâm Thii   84793418825   \n",
              "2  2022-10-01 10:19:41  GHNMP0022860673VNA   tuyết hồng    0814655601   \n",
              "3  2022-10-01 10:55:38            GAWK9LU4  Phuong Linh    0888675543   \n",
              "4  2022-10-01 11:03:44            GAWWBCYQ    Chị Quang    0342700310   \n",
              "\n",
              "  ClientID             ClientContactName  \\\n",
              "0  3347095                     đỗ phương   \n",
              "1    18692  Công ty Huy Tuấn (Chuyên sỉ)   \n",
              "2     9794                          none   \n",
              "3    13745  Boxme Tan Binh - Ho Chi Minh   \n",
              "4  2649381                     Ngọc Minh   \n",
              "\n",
              "                                             Content CurrentStatus ReturnInfo  \\\n",
              "0                 điện thoạii 110i- [đt110i] [1 cái]       storing              \n",
              "1  Túi thơm thảo mộc treo phòng, treo tủ quần áo ...       storing              \n",
              "2  Áo Thun Nam Nữ Form Rộng Hàn Quốc In Hình Thiê...       storing              \n",
              "3  Kem Dưỡng Làm Mờ Vết Thâm Nám AHC Peony Bright...       storing              \n",
              "4                     Combo 3 món kone thái  [1 cái]       storing              \n",
              "\n",
              "  DeliveryWarehouseID  ... LyDoDonHangThatBai thoi_gian_kh_nhan_hang  \\\n",
              "0            20648000  ...      3. Khách hàng                          \n",
              "1            20648000  ...                                             \n",
              "2            20648000  ...                                             \n",
              "3            20648000  ...                                             \n",
              "4                2393  ...                                             \n",
              "\n",
              "  KiemTraLyDo                         nv_goi_ghi_chu  \\\n",
              "0        Đúng  Khách từ chối nhận hàng/ hủy đơn hàng   \n",
              "1                                                      \n",
              "2                                                      \n",
              "3                                                      \n",
              "4                                                      \n",
              "\n",
              "  LyDoDonHangThatBaiChiTiet_02 LyDoDonHangThatBai_02        cx_ghi_chu  \\\n",
              "0                                                     Không cần tạo vé   \n",
              "1                                                                        \n",
              "2                                                                        \n",
              "3                                                                        \n",
              "4                                                                        \n",
              "\n",
              "  buu_cuc_xu_ly tinh_trang_dh link_ve  \n",
              "0                                      \n",
              "1                                      \n",
              "2                                      \n",
              "3                                      \n",
              "4                                      \n",
              "\n",
              "[5 rows x 35 columns]"
            ],
            "text/html": [
              "\n",
              "  <div id=\"df-f26cf59a-ae8d-4ae8-94c3-4df0afb2577f\">\n",
              "    <div class=\"colab-df-container\">\n",
              "      <div>\n",
              "<style scoped>\n",
              "    .dataframe tbody tr th:only-of-type {\n",
              "        vertical-align: middle;\n",
              "    }\n",
              "\n",
              "    .dataframe tbody tr th {\n",
              "        vertical-align: top;\n",
              "    }\n",
              "\n",
              "    .dataframe thead th {\n",
              "        text-align: right;\n",
              "    }\n",
              "</style>\n",
              "<table border=\"1\" class=\"dataframe\">\n",
              "  <thead>\n",
              "    <tr style=\"text-align: right;\">\n",
              "      <th></th>\n",
              "      <th>FirstDeliveredTime</th>\n",
              "      <th>OrderCode</th>\n",
              "      <th>CustomerName</th>\n",
              "      <th>CustomerPhone</th>\n",
              "      <th>ClientID</th>\n",
              "      <th>ClientContactName</th>\n",
              "      <th>Content</th>\n",
              "      <th>CurrentStatus</th>\n",
              "      <th>ReturnInfo</th>\n",
              "      <th>DeliveryWarehouseID</th>\n",
              "      <th>...</th>\n",
              "      <th>LyDoDonHangThatBai</th>\n",
              "      <th>thoi_gian_kh_nhan_hang</th>\n",
              "      <th>KiemTraLyDo</th>\n",
              "      <th>nv_goi_ghi_chu</th>\n",
              "      <th>LyDoDonHangThatBaiChiTiet_02</th>\n",
              "      <th>LyDoDonHangThatBai_02</th>\n",
              "      <th>cx_ghi_chu</th>\n",
              "      <th>buu_cuc_xu_ly</th>\n",
              "      <th>tinh_trang_dh</th>\n",
              "      <th>link_ve</th>\n",
              "    </tr>\n",
              "  </thead>\n",
              "  <tbody>\n",
              "    <tr>\n",
              "      <th>0</th>\n",
              "      <td>2022-10-01 10:18:19</td>\n",
              "      <td>GAWKUHKM</td>\n",
              "      <td>Xuân Tiến</td>\n",
              "      <td>0987631229</td>\n",
              "      <td>3347095</td>\n",
              "      <td>đỗ phương</td>\n",
              "      <td>điện thoạii 110i- [đt110i] [1 cái]</td>\n",
              "      <td>storing</td>\n",
              "      <td></td>\n",
              "      <td>20648000</td>\n",
              "      <td>...</td>\n",
              "      <td>3. Khách hàng</td>\n",
              "      <td></td>\n",
              "      <td>Đúng</td>\n",
              "      <td>Khách từ chối nhận hàng/ hủy đơn hàng</td>\n",
              "      <td></td>\n",
              "      <td></td>\n",
              "      <td>Không cần tạo vé</td>\n",
              "      <td></td>\n",
              "      <td></td>\n",
              "      <td></td>\n",
              "    </tr>\n",
              "    <tr>\n",
              "      <th>1</th>\n",
              "      <td>2022-10-01 10:19:11</td>\n",
              "      <td>GAWKNXAY</td>\n",
              "      <td>Tâm Thii</td>\n",
              "      <td>84793418825</td>\n",
              "      <td>18692</td>\n",
              "      <td>Công ty Huy Tuấn (Chuyên sỉ)</td>\n",
              "      <td>Túi thơm thảo mộc treo phòng, treo tủ quần áo ...</td>\n",
              "      <td>storing</td>\n",
              "      <td></td>\n",
              "      <td>20648000</td>\n",
              "      <td>...</td>\n",
              "      <td></td>\n",
              "      <td></td>\n",
              "      <td></td>\n",
              "      <td></td>\n",
              "      <td></td>\n",
              "      <td></td>\n",
              "      <td></td>\n",
              "      <td></td>\n",
              "      <td></td>\n",
              "      <td></td>\n",
              "    </tr>\n",
              "    <tr>\n",
              "      <th>2</th>\n",
              "      <td>2022-10-01 10:19:41</td>\n",
              "      <td>GHNMP0022860673VNA</td>\n",
              "      <td>tuyết hồng</td>\n",
              "      <td>0814655601</td>\n",
              "      <td>9794</td>\n",
              "      <td>none</td>\n",
              "      <td>Áo Thun Nam Nữ Form Rộng Hàn Quốc In Hình Thiê...</td>\n",
              "      <td>storing</td>\n",
              "      <td></td>\n",
              "      <td>20648000</td>\n",
              "      <td>...</td>\n",
              "      <td></td>\n",
              "      <td></td>\n",
              "      <td></td>\n",
              "      <td></td>\n",
              "      <td></td>\n",
              "      <td></td>\n",
              "      <td></td>\n",
              "      <td></td>\n",
              "      <td></td>\n",
              "      <td></td>\n",
              "    </tr>\n",
              "    <tr>\n",
              "      <th>3</th>\n",
              "      <td>2022-10-01 10:55:38</td>\n",
              "      <td>GAWK9LU4</td>\n",
              "      <td>Phuong Linh</td>\n",
              "      <td>0888675543</td>\n",
              "      <td>13745</td>\n",
              "      <td>Boxme Tan Binh - Ho Chi Minh</td>\n",
              "      <td>Kem Dưỡng Làm Mờ Vết Thâm Nám AHC Peony Bright...</td>\n",
              "      <td>storing</td>\n",
              "      <td></td>\n",
              "      <td>20648000</td>\n",
              "      <td>...</td>\n",
              "      <td></td>\n",
              "      <td></td>\n",
              "      <td></td>\n",
              "      <td></td>\n",
              "      <td></td>\n",
              "      <td></td>\n",
              "      <td></td>\n",
              "      <td></td>\n",
              "      <td></td>\n",
              "      <td></td>\n",
              "    </tr>\n",
              "    <tr>\n",
              "      <th>4</th>\n",
              "      <td>2022-10-01 11:03:44</td>\n",
              "      <td>GAWWBCYQ</td>\n",
              "      <td>Chị Quang</td>\n",
              "      <td>0342700310</td>\n",
              "      <td>2649381</td>\n",
              "      <td>Ngọc Minh</td>\n",
              "      <td>Combo 3 món kone thái  [1 cái]</td>\n",
              "      <td>storing</td>\n",
              "      <td></td>\n",
              "      <td>2393</td>\n",
              "      <td>...</td>\n",
              "      <td></td>\n",
              "      <td></td>\n",
              "      <td></td>\n",
              "      <td></td>\n",
              "      <td></td>\n",
              "      <td></td>\n",
              "      <td></td>\n",
              "      <td></td>\n",
              "      <td></td>\n",
              "      <td></td>\n",
              "    </tr>\n",
              "  </tbody>\n",
              "</table>\n",
              "<p>5 rows × 35 columns</p>\n",
              "</div>\n",
              "      <button class=\"colab-df-convert\" onclick=\"convertToInteractive('df-f26cf59a-ae8d-4ae8-94c3-4df0afb2577f')\"\n",
              "              title=\"Convert this dataframe to an interactive table.\"\n",
              "              style=\"display:none;\">\n",
              "        \n",
              "  <svg xmlns=\"http://www.w3.org/2000/svg\" height=\"24px\"viewBox=\"0 0 24 24\"\n",
              "       width=\"24px\">\n",
              "    <path d=\"M0 0h24v24H0V0z\" fill=\"none\"/>\n",
              "    <path d=\"M18.56 5.44l.94 2.06.94-2.06 2.06-.94-2.06-.94-.94-2.06-.94 2.06-2.06.94zm-11 1L8.5 8.5l.94-2.06 2.06-.94-2.06-.94L8.5 2.5l-.94 2.06-2.06.94zm10 10l.94 2.06.94-2.06 2.06-.94-2.06-.94-.94-2.06-.94 2.06-2.06.94z\"/><path d=\"M17.41 7.96l-1.37-1.37c-.4-.4-.92-.59-1.43-.59-.52 0-1.04.2-1.43.59L10.3 9.45l-7.72 7.72c-.78.78-.78 2.05 0 2.83L4 21.41c.39.39.9.59 1.41.59.51 0 1.02-.2 1.41-.59l7.78-7.78 2.81-2.81c.8-.78.8-2.07 0-2.86zM5.41 20L4 18.59l7.72-7.72 1.47 1.35L5.41 20z\"/>\n",
              "  </svg>\n",
              "      </button>\n",
              "      \n",
              "  <style>\n",
              "    .colab-df-container {\n",
              "      display:flex;\n",
              "      flex-wrap:wrap;\n",
              "      gap: 12px;\n",
              "    }\n",
              "\n",
              "    .colab-df-convert {\n",
              "      background-color: #E8F0FE;\n",
              "      border: none;\n",
              "      border-radius: 50%;\n",
              "      cursor: pointer;\n",
              "      display: none;\n",
              "      fill: #1967D2;\n",
              "      height: 32px;\n",
              "      padding: 0 0 0 0;\n",
              "      width: 32px;\n",
              "    }\n",
              "\n",
              "    .colab-df-convert:hover {\n",
              "      background-color: #E2EBFA;\n",
              "      box-shadow: 0px 1px 2px rgba(60, 64, 67, 0.3), 0px 1px 3px 1px rgba(60, 64, 67, 0.15);\n",
              "      fill: #174EA6;\n",
              "    }\n",
              "\n",
              "    [theme=dark] .colab-df-convert {\n",
              "      background-color: #3B4455;\n",
              "      fill: #D2E3FC;\n",
              "    }\n",
              "\n",
              "    [theme=dark] .colab-df-convert:hover {\n",
              "      background-color: #434B5C;\n",
              "      box-shadow: 0px 1px 3px 1px rgba(0, 0, 0, 0.15);\n",
              "      filter: drop-shadow(0px 1px 2px rgba(0, 0, 0, 0.3));\n",
              "      fill: #FFFFFF;\n",
              "    }\n",
              "  </style>\n",
              "\n",
              "      <script>\n",
              "        const buttonEl =\n",
              "          document.querySelector('#df-f26cf59a-ae8d-4ae8-94c3-4df0afb2577f button.colab-df-convert');\n",
              "        buttonEl.style.display =\n",
              "          google.colab.kernel.accessAllowed ? 'block' : 'none';\n",
              "\n",
              "        async function convertToInteractive(key) {\n",
              "          const element = document.querySelector('#df-f26cf59a-ae8d-4ae8-94c3-4df0afb2577f');\n",
              "          const dataTable =\n",
              "            await google.colab.kernel.invokeFunction('convertToInteractive',\n",
              "                                                     [key], {});\n",
              "          if (!dataTable) return;\n",
              "\n",
              "          const docLinkHtml = 'Like what you see? Visit the ' +\n",
              "            '<a target=\"_blank\" href=https://colab.research.google.com/notebooks/data_table.ipynb>data table notebook</a>'\n",
              "            + ' to learn more about interactive tables.';\n",
              "          element.innerHTML = '';\n",
              "          dataTable['output_type'] = 'display_data';\n",
              "          await google.colab.output.renderOutput(dataTable, element);\n",
              "          const docLink = document.createElement('div');\n",
              "          docLink.innerHTML = docLinkHtml;\n",
              "          element.appendChild(docLink);\n",
              "        }\n",
              "      </script>\n",
              "    </div>\n",
              "  </div>\n",
              "  "
            ]
          },
          "metadata": {},
          "execution_count": 496
        }
      ]
    },
    {
      "cell_type": "code",
      "source": [
        "data['FirstDeliveredTime'].unique()"
      ],
      "metadata": {
        "colab": {
          "base_uri": "https://localhost:8080/"
        },
        "id": "NupMp4edEIoo",
        "outputId": "515fdef3-0389-4d10-e893-43567c786c7c"
      },
      "execution_count": null,
      "outputs": [
        {
          "output_type": "execute_result",
          "data": {
            "text/plain": [
              "array(['2022-10-01 10:18:19', '2022-10-01 10:19:11',\n",
              "       '2022-10-01 10:19:41', ..., '2022-07-31 17:15:23',\n",
              "       '2022-07-31 17:15:24', '2022-07-31 17:15:25'], dtype=object)"
            ]
          },
          "metadata": {},
          "execution_count": 497
        }
      ]
    },
    {
      "cell_type": "code",
      "source": [
        "#for i,value in enumerate(data_category_range):\n",
        "#  print(value)"
      ],
      "metadata": {
        "id": "5tVDrLeOfMxX"
      },
      "execution_count": null,
      "outputs": []
    },
    {
      "cell_type": "code",
      "execution_count": null,
      "metadata": {
        "id": "7M8O60NbwRF7",
        "colab": {
          "base_uri": "https://localhost:8080/"
        },
        "outputId": "07d329aa-dc00-4735-b6ed-6b136e1e0b2b"
      },
      "outputs": [
        {
          "output_type": "stream",
          "name": "stdout",
          "text": [
            "Copying file:///content/drive/MyDrive/Buckets/call_check/FD_2/CallingDate=2022-10-02/data-00.csv [Content-Type=text/csv]...\n",
            "-\n",
            "Operation completed over 1 objects/548.9 KiB.                                    \n",
            "Copying file:///content/drive/MyDrive/Buckets/call_check/FD_2/CallingDate=2022-10-03/data-00.csv [Content-Type=text/csv]...\n",
            "-\n",
            "Operation completed over 1 objects/353.5 KiB.                                    \n",
            "Copying file:///content/drive/MyDrive/Buckets/call_check/FD_2/CallingDate=2022-10-04/data-00.csv [Content-Type=text/csv]...\n",
            "-\n",
            "Operation completed over 1 objects/136.2 KiB.                                    \n",
            "Copying file:///content/drive/MyDrive/Buckets/call_check/FD_2/CallingDate=2022-10-05/data-00.csv [Content-Type=text/csv]...\n",
            "\\\n",
            "Operation completed over 1 objects/461.6 KiB.                                    \n",
            "Copying file:///content/drive/MyDrive/Buckets/call_check/FD_2/CallingDate=2022-10-06/data-00.csv [Content-Type=text/csv]...\n",
            "- [1/1 files][ 72.5 KiB/ 72.5 KiB] 100% Done                                    \n",
            "Operation completed over 1 objects/72.5 KiB.                                     \n",
            "Copying file:///content/drive/MyDrive/Buckets/call_check/FD_2/CallingDate=2022-10-07/data-00.csv [Content-Type=text/csv]...\n",
            "\\\n",
            "Operation completed over 1 objects/441.2 KiB.                                    \n",
            "Copying file:///content/drive/MyDrive/Buckets/call_check/FD_2/CallingDate=2022-10-08/data-00.csv [Content-Type=text/csv]...\n",
            "\\\n",
            "Operation completed over 1 objects/208.6 KiB.                                    \n",
            "Copying file:///content/drive/MyDrive/Buckets/call_check/FD_2/CallingDate=2022-10-09/data-00.csv [Content-Type=text/csv]...\n",
            "-\n",
            "Operation completed over 1 objects/137.5 KiB.                                    \n",
            "Copying file:///content/drive/MyDrive/Buckets/call_check/FD_2/CallingDate=2022-10-10/data-00.csv [Content-Type=text/csv]...\n",
            "-\n",
            "Operation completed over 1 objects/231.7 KiB.                                    \n",
            "Copying file:///content/drive/MyDrive/Buckets/call_check/FD_2/CallingDate=2022-10-11/data-00.csv [Content-Type=text/csv]...\n",
            "-\n",
            "Operation completed over 1 objects/477.3 KiB.                                    \n",
            "Copying file:///content/drive/MyDrive/Buckets/call_check/FD_2/CallingDate=2022-10-12/data-00.csv [Content-Type=text/csv]...\n",
            "\\\n",
            "Operation completed over 1 objects/541.1 KiB.                                    \n",
            "Copying file:///content/drive/MyDrive/Buckets/call_check/FD_2/CallingDate=2022-10-13/data-00.csv [Content-Type=text/csv]...\n",
            "-\n",
            "Operation completed over 1 objects/60.4 KiB.                                     \n",
            "Copying file:///content/drive/MyDrive/Buckets/call_check/FD_2/CallingDate=2022-10-14/data-00.csv [Content-Type=text/csv]...\n",
            "-\n",
            "Operation completed over 1 objects/262.9 KiB.                                    \n",
            "Copying file:///content/drive/MyDrive/Buckets/call_check/FD_2/CallingDate=2022-10-15/data-00.csv [Content-Type=text/csv]...\n",
            "-\n",
            "Operation completed over 1 objects/102.6 KiB.                                    \n",
            "Copying file:///content/drive/MyDrive/Buckets/call_check/FD_2/CallingDate=2022-10-16/data-00.csv [Content-Type=text/csv]...\n",
            "-\n",
            "Operation completed over 1 objects/136.8 KiB.                                    \n",
            "Copying file:///content/drive/MyDrive/Buckets/call_check/FD_2/CallingDate=2022-10-17/data-00.csv [Content-Type=text/csv]...\n",
            "\\\n",
            "Operation completed over 1 objects/130.7 KiB.                                    \n",
            "Copying file:///content/drive/MyDrive/Buckets/call_check/FD_2/CallingDate=2022-10-18/data-00.csv [Content-Type=text/csv]...\n",
            "\\\n",
            "Operation completed over 1 objects/464.5 KiB.                                    \n",
            "Copying file:///content/drive/MyDrive/Buckets/call_check/FD_2/CallingDate=2022-10-19/data-00.csv [Content-Type=text/csv]...\n",
            "\\\n",
            "Operation completed over 1 objects/379.8 KiB.                                    \n",
            "Copying file:///content/drive/MyDrive/Buckets/call_check/FD_2/CallingDate=2022-10-20/data-00.csv [Content-Type=text/csv]...\n",
            "-\n",
            "Operation completed over 1 objects/246.5 KiB.                                    \n",
            "Copying file:///content/drive/MyDrive/Buckets/call_check/FD_2/CallingDate=2022-10-21/data-00.csv [Content-Type=text/csv]...\n",
            "-\n",
            "Operation completed over 1 objects/300.8 KiB.                                    \n",
            "Copying file:///content/drive/MyDrive/Buckets/call_check/FD_2/CallingDate=2022-10-22/data-00.csv [Content-Type=text/csv]...\n",
            "-\n",
            "Operation completed over 1 objects/130.5 KiB.                                    \n",
            "Copying file:///content/drive/MyDrive/Buckets/call_check/FD_2/CallingDate=2022-10-23/data-00.csv [Content-Type=text/csv]...\n",
            "-\n",
            "Operation completed over 1 objects/171.4 KiB.                                    \n",
            "Copying file:///content/drive/MyDrive/Buckets/call_check/FD_2/CallingDate=2022-10-24/data-00.csv [Content-Type=text/csv]...\n",
            "\\\n",
            "Operation completed over 1 objects/679.0 KiB.                                    \n",
            "Copying file:///content/drive/MyDrive/Buckets/call_check/FD_2/CallingDate=2022-09-06/data-00.csv [Content-Type=text/csv]...\n",
            "-\n",
            "Operation completed over 1 objects/317.4 KiB.                                    \n",
            "Copying file:///content/drive/MyDrive/Buckets/call_check/FD_2/CallingDate=2022-09-07/data-00.csv [Content-Type=text/csv]...\n",
            "\\\n",
            "Operation completed over 1 objects/864.9 KiB.                                    \n",
            "Copying file:///content/drive/MyDrive/Buckets/call_check/FD_2/CallingDate=2022-09-08/data-00.csv [Content-Type=text/csv]...\n",
            "\\\n",
            "Operation completed over 1 objects/694.7 KiB.                                    \n",
            "Copying file:///content/drive/MyDrive/Buckets/call_check/FD_2/CallingDate=2022-09-09/data-00.csv [Content-Type=text/csv]...\n",
            "-\n",
            "Operation completed over 1 objects/632.3 KiB.                                    \n",
            "Copying file:///content/drive/MyDrive/Buckets/call_check/FD_2/CallingDate=2022-09-10/data-00.csv [Content-Type=text/csv]...\n",
            "\\\n",
            "Operation completed over 1 objects/756.8 KiB.                                    \n",
            "Copying file:///content/drive/MyDrive/Buckets/call_check/FD_2/CallingDate=2022-09-11/data-00.csv [Content-Type=text/csv]...\n",
            "-\n",
            "Operation completed over 1 objects/122.6 KiB.                                    \n",
            "Copying file:///content/drive/MyDrive/Buckets/call_check/FD_2/CallingDate=2022-09-12/data-00.csv [Content-Type=text/csv]...\n",
            "|\n",
            "Operation completed over 1 objects/1.5 MiB.                                      \n",
            "Copying file:///content/drive/MyDrive/Buckets/call_check/FD_2/CallingDate=2022-09-13/data-00.csv [Content-Type=text/csv]...\n",
            "-\n",
            "Operation completed over 1 objects/749.6 KiB.                                    \n",
            "Copying file:///content/drive/MyDrive/Buckets/call_check/FD_2/CallingDate=2022-09-14/data-00.csv [Content-Type=text/csv]...\n",
            "\\\n",
            "Operation completed over 1 objects/1.0 MiB.                                      \n",
            "Copying file:///content/drive/MyDrive/Buckets/call_check/FD_2/CallingDate=2022-09-15/data-00.csv [Content-Type=text/csv]...\n",
            "|\n",
            "Operation completed over 1 objects/751.0 KiB.                                    \n",
            "Copying file:///content/drive/MyDrive/Buckets/call_check/FD_2/CallingDate=2022-09-16/data-00.csv [Content-Type=text/csv]...\n",
            "\\\n",
            "Operation completed over 1 objects/683.4 KiB.                                    \n",
            "Copying file:///content/drive/MyDrive/Buckets/call_check/FD_2/CallingDate=2022-09-17/data-00.csv [Content-Type=text/csv]...\n",
            "-\n",
            "Operation completed over 1 objects/140.6 KiB.                                    \n",
            "Copying file:///content/drive/MyDrive/Buckets/call_check/FD_2/CallingDate=2022-09-18/data-00.csv [Content-Type=text/csv]...\n",
            "|\n",
            "Operation completed over 1 objects/757.7 KiB.                                    \n",
            "Copying file:///content/drive/MyDrive/Buckets/call_check/FD_2/CallingDate=2022-09-19/data-00.csv [Content-Type=text/csv]...\n",
            "\\\n",
            "Operation completed over 1 objects/874.3 KiB.                                    \n",
            "Copying file:///content/drive/MyDrive/Buckets/call_check/FD_2/CallingDate=2022-09-20/data-00.csv [Content-Type=text/csv]...\n",
            "-\n",
            "Operation completed over 1 objects/378.8 KiB.                                    \n",
            "Copying file:///content/drive/MyDrive/Buckets/call_check/FD_2/CallingDate=2022-09-21/data-00.csv [Content-Type=text/csv]...\n",
            "|\n",
            "Operation completed over 1 objects/1.1 MiB.                                      \n",
            "Copying file:///content/drive/MyDrive/Buckets/call_check/FD_2/CallingDate=2022-09-22/data-00.csv [Content-Type=text/csv]...\n",
            "- [1/1 files][115.6 KiB/115.6 KiB] 100% Done                                    \n",
            "Operation completed over 1 objects/115.6 KiB.                                    \n",
            "Copying file:///content/drive/MyDrive/Buckets/call_check/FD_2/CallingDate=2022-09-23/data-00.csv [Content-Type=text/csv]...\n",
            "-\n",
            "Operation completed over 1 objects/435.9 KiB.                                    \n",
            "Copying file:///content/drive/MyDrive/Buckets/call_check/FD_2/CallingDate=2022-09-25/data-00.csv [Content-Type=text/csv]...\n",
            "-\n",
            "Operation completed over 1 objects/278.0 KiB.                                    \n",
            "Copying file:///content/drive/MyDrive/Buckets/call_check/FD_2/CallingDate=2022-09-24/data-00.csv [Content-Type=text/csv]...\n",
            "-\n",
            "Operation completed over 1 objects/362.5 KiB.                                    \n",
            "Copying file:///content/drive/MyDrive/Buckets/call_check/FD_2/CallingDate=2022-09-28/data-00.csv [Content-Type=text/csv]...\n",
            "\\\n",
            "Operation completed over 1 objects/593.4 KiB.                                    \n",
            "Copying file:///content/drive/MyDrive/Buckets/call_check/FD_2/CallingDate=2022-09-29/data-00.csv [Content-Type=text/csv]...\n",
            "\\\n",
            "Operation completed over 1 objects/246.0 KiB.                                    \n",
            "Copying file:///content/drive/MyDrive/Buckets/call_check/FD_2/CallingDate=2022-09-30/data-00.csv [Content-Type=text/csv]...\n",
            "\\\n",
            "Operation completed over 1 objects/623.0 KiB.                                    \n",
            "Copying file:///content/drive/MyDrive/Buckets/call_check/FD_2/CallingDate=2022-10-01/data-00.csv [Content-Type=text/csv]...\n",
            "-\n",
            "Operation completed over 1 objects/234.8 KiB.                                    \n",
            "Copying file:///content/drive/MyDrive/Buckets/call_check/FD_2/CallingDate=2022-08-01/data-00.csv [Content-Type=text/csv]...\n",
            "|\n",
            "Operation completed over 1 objects/801.2 KiB.                                    \n",
            "Copying file:///content/drive/MyDrive/Buckets/call_check/FD_2/CallingDate=2022-08-02/data-00.csv [Content-Type=text/csv]...\n",
            "\\\n",
            "Operation completed over 1 objects/724.4 KiB.                                    \n",
            "Copying file:///content/drive/MyDrive/Buckets/call_check/FD_2/CallingDate=2022-08-03/data-00.csv [Content-Type=text/csv]...\n",
            "-\n",
            "Operation completed over 1 objects/208.6 KiB.                                    \n",
            "Copying file:///content/drive/MyDrive/Buckets/call_check/FD_2/CallingDate=2022-08-04/data-00.csv [Content-Type=text/csv]...\n",
            "\\\n",
            "Operation completed over 1 objects/867.6 KiB.                                    \n",
            "Copying file:///content/drive/MyDrive/Buckets/call_check/FD_2/CallingDate=2022-08-05/data-00.csv [Content-Type=text/csv]...\n",
            "-\n",
            "Operation completed over 1 objects/388.3 KiB.                                    \n",
            "Copying file:///content/drive/MyDrive/Buckets/call_check/FD_2/CallingDate=2022-08-06/data-00.csv [Content-Type=text/csv]...\n",
            "\\\n",
            "Operation completed over 1 objects/267.1 KiB.                                    \n",
            "Copying file:///content/drive/MyDrive/Buckets/call_check/FD_2/CallingDate=2022-08-07/data-00.csv [Content-Type=text/csv]...\n",
            "-\n",
            "Operation completed over 1 objects/201.6 KiB.                                    \n",
            "Copying file:///content/drive/MyDrive/Buckets/call_check/FD_2/CallingDate=2022-08-08/data-00.csv [Content-Type=text/csv]...\n",
            "\\\n",
            "Operation completed over 1 objects/524.8 KiB.                                    \n",
            "Copying file:///content/drive/MyDrive/Buckets/call_check/FD_2/CallingDate=2022-08-09/data-00.csv [Content-Type=text/csv]...\n",
            "-\n",
            "Operation completed over 1 objects/706.0 KiB.                                    \n",
            "Copying file:///content/drive/MyDrive/Buckets/call_check/FD_2/CallingDate=2022-08-10/data-00.csv [Content-Type=text/csv]...\n",
            "\\\n",
            "Operation completed over 1 objects/1.9 MiB.                                      \n",
            "Copying file:///content/drive/MyDrive/Buckets/call_check/FD_2/CallingDate=2022-08-11/data-00.csv [Content-Type=text/csv]...\n",
            "/\n",
            "Operation completed over 1 objects/1.3 MiB.                                      \n",
            "Copying file:///content/drive/MyDrive/Buckets/call_check/FD_2/CallingDate=2022-08-12/data-00.csv [Content-Type=text/csv]...\n",
            "\\\n",
            "Operation completed over 1 objects/753.2 KiB.                                    \n",
            "Copying file:///content/drive/MyDrive/Buckets/call_check/FD_2/CallingDate=2022-08-13/data-00.csv [Content-Type=text/csv]...\n",
            "-\n",
            "Operation completed over 1 objects/105.1 KiB.                                    \n",
            "Copying file:///content/drive/MyDrive/Buckets/call_check/FD_2/CallingDate=2022-08-14/data-00.csv [Content-Type=text/csv]...\n",
            "\\\n",
            "Operation completed over 1 objects/1.3 MiB.                                      \n",
            "Copying file:///content/drive/MyDrive/Buckets/call_check/FD_2/CallingDate=2022-08-15/data-00.csv [Content-Type=text/csv]...\n",
            "-\n",
            "Operation completed over 1 objects/581.9 KiB.                                    \n",
            "Copying file:///content/drive/MyDrive/Buckets/call_check/FD_2/CallingDate=2022-08-16/data-00.csv [Content-Type=text/csv]...\n",
            "|\n",
            "Operation completed over 1 objects/933.5 KiB.                                    \n",
            "Copying file:///content/drive/MyDrive/Buckets/call_check/FD_2/CallingDate=2022-08-17/data-00.csv [Content-Type=text/csv]...\n",
            "\\\n",
            "Operation completed over 1 objects/635.7 KiB.                                    \n",
            "Copying file:///content/drive/MyDrive/Buckets/call_check/FD_2/CallingDate=2022-08-18/data-00.csv [Content-Type=text/csv]...\n",
            "\\\n",
            "Operation completed over 1 objects/817.5 KiB.                                    \n",
            "Copying file:///content/drive/MyDrive/Buckets/call_check/FD_2/CallingDate=2022-08-19/data-00.csv [Content-Type=text/csv]...\n",
            "\\\n",
            "Operation completed over 1 objects/752.2 KiB.                                    \n",
            "Copying file:///content/drive/MyDrive/Buckets/call_check/FD_2/CallingDate=2022-08-20/data-00.csv [Content-Type=text/csv]...\n",
            "-\n",
            "Operation completed over 1 objects/256.2 KiB.                                    \n",
            "Copying file:///content/drive/MyDrive/Buckets/call_check/FD_2/CallingDate=2022-08-21/data-00.csv [Content-Type=text/csv]...\n",
            "\\\n",
            "Operation completed over 1 objects/701.5 KiB.                                    \n",
            "Copying file:///content/drive/MyDrive/Buckets/call_check/FD_2/CallingDate=2022-08-22/data-00.csv [Content-Type=text/csv]...\n",
            "|\n",
            "Operation completed over 1 objects/962.4 KiB.                                    \n",
            "Copying file:///content/drive/MyDrive/Buckets/call_check/FD_2/CallingDate=2022-08-23/data-00.csv [Content-Type=text/csv]...\n",
            "\\\n",
            "Operation completed over 1 objects/769.5 KiB.                                    \n",
            "Copying file:///content/drive/MyDrive/Buckets/call_check/FD_2/CallingDate=2022-08-24/data-00.csv [Content-Type=text/csv]...\n",
            "\\\n",
            "Operation completed over 1 objects/538.5 KiB.                                    \n",
            "Copying file:///content/drive/MyDrive/Buckets/call_check/FD_2/CallingDate=2022-08-25/data-00.csv [Content-Type=text/csv]...\n",
            "\\\n",
            "Operation completed over 1 objects/802.3 KiB.                                    \n",
            "Copying file:///content/drive/MyDrive/Buckets/call_check/FD_2/CallingDate=2022-08-26/data-00.csv [Content-Type=text/csv]...\n",
            "\\\n",
            "Operation completed over 1 objects/893.0 KiB.                                    \n",
            "Copying file:///content/drive/MyDrive/Buckets/call_check/FD_2/CallingDate=2022-08-27/data-00.csv [Content-Type=text/csv]...\n",
            "\\\n",
            "Operation completed over 1 objects/429.3 KiB.                                    \n",
            "Copying file:///content/drive/MyDrive/Buckets/call_check/FD_2/CallingDate=2022-08-28/data-00.csv [Content-Type=text/csv]...\n",
            "-\n",
            "Operation completed over 1 objects/768.1 KiB.                                    \n",
            "Copying file:///content/drive/MyDrive/Buckets/call_check/FD_2/CallingDate=2022-08-29/data-00.csv [Content-Type=text/csv]...\n",
            "\\\n",
            "Operation completed over 1 objects/1.1 MiB.                                      \n",
            "Copying file:///content/drive/MyDrive/Buckets/call_check/FD_2/CallingDate=2022-08-30/data-00.csv [Content-Type=text/csv]...\n",
            "\\\n",
            "Operation completed over 1 objects/804.6 KiB.                                    \n",
            "Copying file:///content/drive/MyDrive/Buckets/call_check/FD_2/CallingDate=2022-08-31/data-00.csv [Content-Type=text/csv]...\n",
            "|\n",
            "Operation completed over 1 objects/1.2 MiB.                                      \n",
            "Copying file:///content/drive/MyDrive/Buckets/call_check/FD_2/CallingDate=2022-06-28/data-00.csv [Content-Type=text/csv]...\n",
            "-\n",
            "Operation completed over 1 objects/44.6 KiB.                                     \n",
            "Copying file:///content/drive/MyDrive/Buckets/call_check/FD_2/CallingDate=2022-06-29/data-00.csv [Content-Type=text/csv]...\n",
            "\\\n",
            "Operation completed over 1 objects/674.2 KiB.                                    \n",
            "Copying file:///content/drive/MyDrive/Buckets/call_check/FD_2/CallingDate=2022-06-30/data-00.csv [Content-Type=text/csv]...\n",
            "-\n",
            "Operation completed over 1 objects/186.4 KiB.                                    \n",
            "Copying file:///content/drive/MyDrive/Buckets/call_check/FD_2/CallingDate=2022-07-01/data-00.csv [Content-Type=text/csv]...\n",
            "\\\n",
            "Operation completed over 1 objects/221.0 KiB.                                    \n",
            "Copying file:///content/drive/MyDrive/Buckets/call_check/FD_2/CallingDate=2022-07-02/data-00.csv [Content-Type=text/csv]...\n",
            "-\n",
            "Operation completed over 1 objects/284.6 KiB.                                    \n",
            "Copying file:///content/drive/MyDrive/Buckets/call_check/FD_2/CallingDate=2022-07-03/data-00.csv [Content-Type=text/csv]...\n",
            "-\n",
            "Operation completed over 1 objects/216.6 KiB.                                    \n",
            "Copying file:///content/drive/MyDrive/Buckets/call_check/FD_2/CallingDate=2022-07-04/data-00.csv [Content-Type=text/csv]...\n",
            "-\n",
            "Operation completed over 1 objects/156.8 KiB.                                    \n",
            "Copying file:///content/drive/MyDrive/Buckets/call_check/FD_2/CallingDate=2022-07-05/data-00.csv [Content-Type=text/csv]...\n",
            "-\n",
            "Operation completed over 1 objects/780.5 KiB.                                    \n",
            "Copying file:///content/drive/MyDrive/Buckets/call_check/FD_2/CallingDate=2022-07-06/data-00.csv [Content-Type=text/csv]...\n",
            "-\n",
            "Operation completed over 1 objects/507.2 KiB.                                    \n",
            "Copying file:///content/drive/MyDrive/Buckets/call_check/FD_2/CallingDate=2022-07-07/data-00.csv [Content-Type=text/csv]...\n",
            "-\n",
            "Operation completed over 1 objects/789.7 KiB.                                    \n",
            "Copying file:///content/drive/MyDrive/Buckets/call_check/FD_2/CallingDate=2022-07-08/data-00.csv [Content-Type=text/csv]...\n",
            "\\\n",
            "Operation completed over 1 objects/659.0 KiB.                                    \n",
            "Copying file:///content/drive/MyDrive/Buckets/call_check/FD_2/CallingDate=2022-07-09/data-00.csv [Content-Type=text/csv]...\n",
            "-\n",
            "Operation completed over 1 objects/462.6 KiB.                                    \n",
            "Copying file:///content/drive/MyDrive/Buckets/call_check/FD_2/CallingDate=2022-07-11/data-00.csv [Content-Type=text/csv]...\n",
            "\\\n",
            "Operation completed over 1 objects/1.0 MiB.                                      \n",
            "Copying file:///content/drive/MyDrive/Buckets/call_check/FD_2/CallingDate=2022-07-12/data-00.csv [Content-Type=text/csv]...\n",
            "-\n",
            "Operation completed over 1 objects/117.7 KiB.                                    \n",
            "Copying file:///content/drive/MyDrive/Buckets/call_check/FD_2/CallingDate=2022-07-13/data-00.csv [Content-Type=text/csv]...\n",
            "\\\n",
            "Operation completed over 1 objects/756.5 KiB.                                    \n",
            "Copying file:///content/drive/MyDrive/Buckets/call_check/FD_2/CallingDate=2022-07-14/data-00.csv [Content-Type=text/csv]...\n",
            "-\n",
            "Operation completed over 1 objects/722.0 KiB.                                    \n",
            "Copying file:///content/drive/MyDrive/Buckets/call_check/FD_2/CallingDate=2022-07-15/data-00.csv [Content-Type=text/csv]...\n",
            "\\\n",
            "Operation completed over 1 objects/778.4 KiB.                                    \n",
            "Copying file:///content/drive/MyDrive/Buckets/call_check/FD_2/CallingDate=2022-07-16/data-00.csv [Content-Type=text/csv]...\n",
            "-\n",
            "Operation completed over 1 objects/657.3 KiB.                                    \n",
            "Copying file:///content/drive/MyDrive/Buckets/call_check/FD_2/CallingDate=2022-07-17/data-00.csv [Content-Type=text/csv]...\n",
            "\\\n",
            "Operation completed over 1 objects/842.8 KiB.                                    \n",
            "Copying file:///content/drive/MyDrive/Buckets/call_check/FD_2/CallingDate=2022-07-19/data-00.csv [Content-Type=text/csv]...\n",
            "\\\n",
            "Operation completed over 1 objects/879.8 KiB.                                    \n",
            "Copying file:///content/drive/MyDrive/Buckets/call_check/FD_2/CallingDate=2022-07-20/data-00.csv [Content-Type=text/csv]...\n",
            "\\\n",
            "Operation completed over 1 objects/717.2 KiB.                                    \n",
            "Copying file:///content/drive/MyDrive/Buckets/call_check/FD_2/CallingDate=2022-07-18/data-00.csv [Content-Type=text/csv]...\n",
            "\\\n",
            "Operation completed over 1 objects/600.0 KiB.                                    \n",
            "Copying file:///content/drive/MyDrive/Buckets/call_check/FD_2/CallingDate=2022-07-21/data-00.csv [Content-Type=text/csv]...\n",
            "\\\n",
            "Operation completed over 1 objects/1016.0 KiB.                                   \n",
            "Copying file:///content/drive/MyDrive/Buckets/call_check/FD_2/CallingDate=2022-07-22/data-00.csv [Content-Type=text/csv]...\n",
            "|\n",
            "Operation completed over 1 objects/1.7 MiB.                                      \n",
            "Copying file:///content/drive/MyDrive/Buckets/call_check/FD_2/CallingDate=2022-07-23/data-00.csv [Content-Type=text/csv]...\n",
            "|\n",
            "Operation completed over 1 objects/3.6 MiB.                                      \n",
            "Copying file:///content/drive/MyDrive/Buckets/call_check/FD_2/CallingDate=2022-07-24/data-00.csv [Content-Type=text/csv]...\n",
            "/\n",
            "Operation completed over 1 objects/2.5 MiB.                                      \n",
            "Copying file:///content/drive/MyDrive/Buckets/call_check/FD_2/CallingDate=2022-07-25/data-00.csv [Content-Type=text/csv]...\n",
            "\\\n",
            "Operation completed over 1 objects/449.6 KiB.                                    \n",
            "Copying file:///content/drive/MyDrive/Buckets/call_check/FD_2/CallingDate=2022-07-26/data-00.csv [Content-Type=text/csv]...\n",
            "\\\n",
            "Operation completed over 1 objects/846.0 KiB.                                    \n",
            "Copying file:///content/drive/MyDrive/Buckets/call_check/FD_2/CallingDate=2022-07-27/data-00.csv [Content-Type=text/csv]...\n",
            "\\\n",
            "Operation completed over 1 objects/652.3 KiB.                                    \n",
            "Copying file:///content/drive/MyDrive/Buckets/call_check/FD_2/CallingDate=2022-07-28/data-00.csv [Content-Type=text/csv]...\n",
            "-\n",
            "Operation completed over 1 objects/804.2 KiB.                                    \n",
            "Copying file:///content/drive/MyDrive/Buckets/call_check/FD_2/CallingDate=2022-07-29/data-00.csv [Content-Type=text/csv]...\n",
            "\\\n",
            "Operation completed over 1 objects/723.2 KiB.                                    \n",
            "Copying file:///content/drive/MyDrive/Buckets/call_check/FD_2/CallingDate=2022-07-30/data-00.csv [Content-Type=text/csv]...\n",
            "-\n",
            "Operation completed over 1 objects/494.3 KiB.                                    \n",
            "Copying file:///content/drive/MyDrive/Buckets/call_check/FD_2/CallingDate=2022-07-31/data-00.csv [Content-Type=text/csv]...\n",
            "\\\n",
            "Operation completed over 1 objects/669.6 KiB.                                    \n"
          ]
        }
      ],
      "source": [
        "for i,value in enumerate(data_category_range):\n",
        "    path=\"/content/drive/MyDrive/Buckets/call_check/FD_2/\"+'CallingDate='+str(value)\n",
        "    try:\n",
        "      os.mkdir(path)\n",
        "    except:\n",
        "      pass\n",
        "    data[data['CallingDate'] == value].drop('CallingDate',axis=1).to_csv(path+'/'+'data-00'+r'.csv',index=False,na_rep='N/A')\n",
        "    !gsutil -m cp -r {path}* gs://{bucket_name}/"
      ]
    }
  ],
  "metadata": {
    "colab": {
      "collapsed_sections": [],
      "provenance": [],
      "toc_visible": true,
      "include_colab_link": true
    },
    "kernelspec": {
      "display_name": "Python 3",
      "name": "python3"
    },
    "language_info": {
      "name": "python"
    }
  },
  "nbformat": 4,
  "nbformat_minor": 0
}